{
 "cells": [
  {
   "metadata": {},
   "cell_type": "markdown",
   "source": [
    "# 🔁 Python Iterators\n",
    "\n",
    "An **iterator** is an object that allows you to **loop through** a sequence of values, one at a time.\n",
    "\n",
    "In Python, all iterable objects (like lists, tuples, strings) can return an **iterator** using the `iter()` function.\n",
    "\n",
    "---\n",
    "\n",
    "### 1️⃣ Basic Iterator Example\n"
   ],
   "id": "7f60e3bf71d67ba2"
  },
  {
   "metadata": {
    "ExecuteTime": {
     "end_time": "2025-06-30T10:01:34.943801Z",
     "start_time": "2025-06-30T10:01:34.906430Z"
    }
   },
   "cell_type": "code",
   "source": [
    "fruits = ['apple', 'banana', 'orange', 'strawberry']\n",
    "\n",
    "my_iter = iter(fruits)\n",
    "\n",
    "print(next(my_iter)) # apple\n",
    "print(next(my_iter)) # banana\n",
    "print(next(my_iter)) # orange\n",
    "print(next(my_iter)) # strawberry\n",
    "print(next(my_iter)) # error"
   ],
   "id": "22b159a326ea6c8f",
   "outputs": [
    {
     "name": "stdout",
     "output_type": "stream",
     "text": [
      "apple\n",
      "banana\n",
      "orange\n",
      "strawberry\n"
     ]
    },
    {
     "ename": "StopIteration",
     "evalue": "",
     "output_type": "error",
     "traceback": [
      "\u001B[1;31m---------------------------------------------------------------------------\u001B[0m",
      "\u001B[1;31mStopIteration\u001B[0m                             Traceback (most recent call last)",
      "Cell \u001B[1;32mIn[11], line 9\u001B[0m\n\u001B[0;32m      7\u001B[0m \u001B[38;5;28mprint\u001B[39m(\u001B[38;5;28mnext\u001B[39m(my_iter)) \u001B[38;5;66;03m# orange\u001B[39;00m\n\u001B[0;32m      8\u001B[0m \u001B[38;5;28mprint\u001B[39m(\u001B[38;5;28mnext\u001B[39m(my_iter)) \u001B[38;5;66;03m# strawberry\u001B[39;00m\n\u001B[1;32m----> 9\u001B[0m \u001B[38;5;28mprint\u001B[39m(\u001B[38;5;28;43mnext\u001B[39;49m\u001B[43m(\u001B[49m\u001B[43mmy_iter\u001B[49m\u001B[43m)\u001B[49m) \u001B[38;5;66;03m# error\u001B[39;00m\n",
      "\u001B[1;31mStopIteration\u001B[0m: "
     ]
    }
   ],
   "execution_count": 11
  },
  {
   "metadata": {},
   "cell_type": "markdown",
   "source": [
    "- 🧠 `iter()` creates an iterator\n",
    "- ➡️ `next()` gets the next item\n",
    "- ⛔ Raises `StopIteration` when no items left\n",
    "---\n",
    "### 2️⃣ Looping Through an Iterator\n"
   ],
   "id": "ac20cbfe43b8c331"
  },
  {
   "metadata": {
    "ExecuteTime": {
     "end_time": "2025-06-30T09:58:26.807348Z",
     "start_time": "2025-06-30T09:58:26.798265Z"
    }
   },
   "cell_type": "code",
   "source": "for fruit in iter(fruits): print(fruit)",
   "id": "d9d83730ac71f437",
   "outputs": [
    {
     "name": "stdout",
     "output_type": "stream",
     "text": [
      "apple\n",
      "banana\n",
      "orange\n",
      "strawberry\n"
     ]
    }
   ],
   "execution_count": 9
  },
  {
   "metadata": {},
   "cell_type": "markdown",
   "source": [
    "✅ Works like a regular loop — internally uses `iter()` and `next()`\n",
    "\n",
    "---\n",
    "### 3️⃣ Custom Iterator with `__iter__()` and `__next__()`"
   ],
   "id": "916b65b29a496864"
  },
  {
   "metadata": {
    "ExecuteTime": {
     "end_time": "2025-06-30T10:05:47.168653Z",
     "start_time": "2025-06-30T10:05:47.162177Z"
    }
   },
   "cell_type": "code",
   "source": [
    "class CountUpTo:\n",
    "    def __init__(self, max):\n",
    "        self.max = max\n",
    "        self.num = 1\n",
    "    def __iter__(self):\n",
    "        return self\n",
    "    def __next__(self):\n",
    "        if self.num <= self.max:\n",
    "            result = self.num\n",
    "            self.num += 1\n",
    "            return result\n",
    "        else:\n",
    "            raise StopIteration"
   ],
   "id": "a8e4faa8655bd22c",
   "outputs": [],
   "execution_count": 4
  },
  {
   "metadata": {
    "ExecuteTime": {
     "end_time": "2025-06-30T10:05:48.359308Z",
     "start_time": "2025-06-30T10:05:48.352452Z"
    }
   },
   "cell_type": "code",
   "source": [
    "counter = CountUpTo(10)\n",
    "for num in counter:\n",
    "    print(num)"
   ],
   "id": "a610a382e97e2c52",
   "outputs": [
    {
     "name": "stdout",
     "output_type": "stream",
     "text": [
      "1\n",
      "2\n",
      "3\n",
      "4\n",
      "5\n",
      "6\n",
      "7\n",
      "8\n",
      "9\n",
      "10\n"
     ]
    }
   ],
   "execution_count": 5
  },
  {
   "metadata": {},
   "cell_type": "markdown",
   "source": [
    "### 🔄 Summary\n",
    "\n",
    "| Concept     | Method          | Purpose                        |\n",
    "| ----------- | --------------- | ------------------------------ |\n",
    "| Iterator    | `__iter__()`    | Returns the iterator object    |\n",
    "| Iterable    | `iter(obj)`     | Gets iterator from iterable    |\n",
    "| Next Value  | `__next__()`    | Returns next value in sequence |\n",
    "| Stop Signal | `StopIteration` | Tells when iteration ends      |\n",
    "\n",
    "### 💡 Tip:\n",
    "- All loops (`for`, `while`) use iterators under the hood\n",
    "- You can build custom data structures with custom iteration logic\n",
    "---\n",
    "## 🔁 Iterator vs Iterable in Python\n",
    "\n",
    "### 📦 What is an Iterable?\n",
    "\n",
    "An **Iterable** is any Python object capable of **returning its members one at a time**, using an `__iter__()` method.\n",
    "\n",
    "✅ Examples: `list`, `tuple`, `string`, `set`, `dict`, etc."
   ],
   "id": "4d7939b637edaab8"
  },
  {
   "metadata": {
    "ExecuteTime": {
     "end_time": "2025-06-30T10:08:00.727313Z",
     "start_time": "2025-06-30T10:08:00.719814Z"
    }
   },
   "cell_type": "code",
   "source": [
    "fruits = [\"apple\", \"banana\", \"cherry\"]\n",
    "\n",
    "# This is an iterable\n",
    "for fruit in fruits:\n",
    "    print(fruit)"
   ],
   "id": "25332729bbe3414a",
   "outputs": [
    {
     "name": "stdout",
     "output_type": "stream",
     "text": [
      "apple\n",
      "banana\n",
      "cherry\n"
     ]
    }
   ],
   "execution_count": 6
  },
  {
   "metadata": {},
   "cell_type": "markdown",
   "source": [
    "### 🔁 What is an Iterator?\n",
    "An **Iterator** is an object that keeps track of its position and returns the next value when you call `next()`.\n",
    "\n",
    "➡️ An iterator **implements** both:\n",
    "\n",
    "- `__iter__()` → returns the iterator object itself\n",
    "- `__next__()` → returns the next item"
   ],
   "id": "b7ea7c121af029d3"
  },
  {
   "metadata": {
    "ExecuteTime": {
     "end_time": "2025-06-30T10:09:53.039769Z",
     "start_time": "2025-06-30T10:09:53.031711Z"
    }
   },
   "cell_type": "code",
   "source": [
    "fruits = [\"apple\", \"banana\", \"cherry\"]\n",
    "it = iter(fruits)   # get iterator from iterable\n",
    "\n",
    "print(next(it))     # apple\n",
    "print(next(it))     # banana\n"
   ],
   "id": "3a73c19c748ad389",
   "outputs": [
    {
     "name": "stdout",
     "output_type": "stream",
     "text": [
      "apple\n",
      "banana\n"
     ]
    }
   ],
   "execution_count": 7
  },
  {
   "metadata": {},
   "cell_type": "markdown",
   "source": [
    "### 🧾 Summary Table\n",
    "| Feature    | Iterable                            | Iterator                                |\n",
    "| ---------- | ----------------------------------- | --------------------------------------- |\n",
    "| Definition | Can return an iterator              | Produces next value on demand           |\n",
    "| Method     | Must have `__iter__()`              | Must have `__iter__()` and `__next__()` |\n",
    "| Usage      | Used in `for` loops, comprehensions | Used with `next()` function             |\n",
    "| Examples   | `list`, `tuple`, `dict`, `str`      | `iter(list)`, generators                |\n",
    "| Ends With  | N/A                                 | `StopIteration` exception               |\n",
    "\n",
    "### 💡 Tip:\n",
    "All iterators are iterables, but not all iterables are iterators\n",
    "\n",
    "You can get an iterator from an iterable using:\n",
    "\n",
    "---"
   ],
   "id": "43e16d5b83abfb3"
  }
 ],
 "metadata": {
  "kernelspec": {
   "display_name": "Python 3",
   "language": "python",
   "name": "python3"
  },
  "language_info": {
   "codemirror_mode": {
    "name": "ipython",
    "version": 2
   },
   "file_extension": ".py",
   "mimetype": "text/x-python",
   "name": "python",
   "nbconvert_exporter": "python",
   "pygments_lexer": "ipython2",
   "version": "2.7.6"
  }
 },
 "nbformat": 4,
 "nbformat_minor": 5
}

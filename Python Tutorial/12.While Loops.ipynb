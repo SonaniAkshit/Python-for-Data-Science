{
 "cells": [
  {
   "metadata": {},
   "cell_type": "markdown",
   "source": [
    "## 🔁 Python While Loops\n",
    "\n",
    "A `while` loop **repeats a block of code** as long as a condition is `True`.\n",
    "\n",
    "---\n",
    "\n",
    "### 1️⃣ Basic `while` Loop\n"
   ],
   "id": "d87fdd0411b00a85"
  },
  {
   "metadata": {
    "ExecuteTime": {
     "end_time": "2025-06-28T05:05:10.493471Z",
     "start_time": "2025-06-28T05:05:10.487270Z"
    }
   },
   "cell_type": "code",
   "source": [
    "i = 1\n",
    "while i <= 5:\n",
    "    print(i)\n",
    "    i = i + 1"
   ],
   "id": "a4232037305b0a51",
   "outputs": [
    {
     "name": "stdout",
     "output_type": "stream",
     "text": [
      "1\n",
      "2\n",
      "3\n",
      "4\n",
      "5\n"
     ]
    }
   ],
   "execution_count": 5
  },
  {
   "metadata": {},
   "cell_type": "markdown",
   "source": [
    "🔄 Prints numbers 1 to 5\n",
    "\n",
    "🛑 Loop stops when `i` becomes 6\n",
    "\n",
    "### 2️⃣ `while` Loop with `else`"
   ],
   "id": "3a17d78d54f921a5"
  },
  {
   "metadata": {
    "ExecuteTime": {
     "end_time": "2025-06-28T05:05:14.734108Z",
     "start_time": "2025-06-28T05:05:14.726094Z"
    }
   },
   "cell_type": "code",
   "source": [
    "i = 1\n",
    "while i <= 5:\n",
    "    print(i)\n",
    "    i += 1\n",
    "else:\n",
    "    print(\"Loop Finished\")"
   ],
   "id": "9a9ca4135436746c",
   "outputs": [
    {
     "name": "stdout",
     "output_type": "stream",
     "text": [
      "1\n",
      "2\n",
      "3\n",
      "4\n",
      "5\n",
      "Loop Finished\n"
     ]
    }
   ],
   "execution_count": 6
  },
  {
   "metadata": {},
   "cell_type": "markdown",
   "source": [
    "🧩 `else` **runs after the loop ends normally** (not by `break`)\n",
    "\n",
    "#### 3️⃣ Using `break` to Exit Early"
   ],
   "id": "b08a3cea9e4e35d3"
  },
  {
   "metadata": {
    "ExecuteTime": {
     "end_time": "2025-06-28T05:07:12.467096Z",
     "start_time": "2025-06-28T05:07:12.460485Z"
    }
   },
   "cell_type": "code",
   "source": [
    "i = 1\n",
    "while i <= 5:\n",
    "    if i == 3:\n",
    "        break\n",
    "    print(i)\n",
    "    i += 1"
   ],
   "id": "2eb9c732da9066bc",
   "outputs": [
    {
     "name": "stdout",
     "output_type": "stream",
     "text": [
      "1\n",
      "2\n"
     ]
    }
   ],
   "execution_count": 10
  },
  {
   "metadata": {},
   "cell_type": "markdown",
   "source": [
    "❌ `break` exits the loop immediately\n",
    "\n",
    "### 4️⃣ Using `continue` to Skip an Iteration"
   ],
   "id": "806e38b4785c096d"
  },
  {
   "metadata": {
    "ExecuteTime": {
     "end_time": "2025-06-28T05:08:45.236389Z",
     "start_time": "2025-06-28T05:08:45.228396Z"
    }
   },
   "cell_type": "code",
   "source": [
    "i = 0\n",
    "while i <= 5:\n",
    "    i += 1\n",
    "    if i == 3:\n",
    "        continue\n",
    "    print(i)"
   ],
   "id": "d4f1b51fd0dda62d",
   "outputs": [
    {
     "name": "stdout",
     "output_type": "stream",
     "text": [
      "1\n",
      "2\n",
      "4\n",
      "5\n",
      "6\n"
     ]
    }
   ],
   "execution_count": 12
  },
  {
   "metadata": {},
   "cell_type": "markdown",
   "source": [
    "⏭️ `continue` **skips printing** `3` and goes to next iteration\n",
    "\n",
    "### 5️⃣ Infinite Loop (Use with Caution ⚠️)"
   ],
   "id": "d412473b30c69c82"
  },
  {
   "metadata": {
    "ExecuteTime": {
     "end_time": "2025-06-28T05:10:36.027291Z",
     "start_time": "2025-06-28T05:10:36.019922Z"
    }
   },
   "cell_type": "code",
   "source": [
    "while True:\n",
    "    print(\"Running...\")\n",
    "    break"
   ],
   "id": "231609fba9ee3083",
   "outputs": [
    {
     "name": "stdout",
     "output_type": "stream",
     "text": [
      "Running...\n"
     ]
    }
   ],
   "execution_count": 14
  },
  {
   "metadata": {},
   "cell_type": "markdown",
   "source": [
    "♾️ Runs forever unless you use `break`\n",
    "\n",
    "### 💡 Tip:\n",
    "- Be sure to **update the loop variable** (`i += 1`) or you’ll create an **infinite loop**\n",
    "- Use `break` to **exit** and `continue` to **skip** steps\n",
    "---"
   ],
   "id": "6777477d342ac436"
  }
 ],
 "metadata": {
  "kernelspec": {
   "display_name": "Python 3",
   "language": "python",
   "name": "python3"
  },
  "language_info": {
   "codemirror_mode": {
    "name": "ipython",
    "version": 2
   },
   "file_extension": ".py",
   "mimetype": "text/x-python",
   "name": "python",
   "nbconvert_exporter": "python",
   "pygments_lexer": "ipython2",
   "version": "2.7.6"
  }
 },
 "nbformat": 4,
 "nbformat_minor": 5
}

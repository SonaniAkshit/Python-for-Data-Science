{
 "cells": [
  {
   "metadata": {},
   "cell_type": "markdown",
   "source": [
    "# 🧾 Python If...Else Statements\n",
    "\n",
    "Python uses `if`, `elif`, and `else` to perform conditional execution.\n",
    "\n",
    "Python supports the usual logical conditions from mathematics:\n",
    "\n",
    "- Equals: `a == b`\n",
    "- Not Equals: `a != b`\n",
    "- Less than: `a < b`\n",
    "- Less than or equal to: `a <= b`\n",
    "- Greater than: `a > b`\n",
    "- Greater than or equal to: `a >= b`\n",
    "\n",
    "These conditions can be used in several ways, most commonly in \"if statements\" and loops.\n",
    "\n",
    "\n",
    "### 1️⃣ Basic `if` Statement"
   ],
   "id": "1ce1abd3e94746f6"
  },
  {
   "metadata": {
    "ExecuteTime": {
     "end_time": "2025-06-27T16:05:41.259091Z",
     "start_time": "2025-06-27T16:05:41.241578Z"
    }
   },
   "cell_type": "code",
   "source": [
    "x = 10\n",
    "if x > 5:\n",
    "    print(\"x is greater than 5\")"
   ],
   "id": "47ba9c7af1e08af4",
   "outputs": [
    {
     "name": "stdout",
     "output_type": "stream",
     "text": [
      "x is greater than 5\n"
     ]
    }
   ],
   "execution_count": 1
  },
  {
   "metadata": {},
   "cell_type": "markdown",
   "source": [
    "✅ Executes only if the condition is True\n",
    "\n",
    "### 2️⃣ `if...else` Statement"
   ],
   "id": "cfe3a31b55f30e62"
  },
  {
   "metadata": {
    "ExecuteTime": {
     "end_time": "2025-06-27T16:10:16.525982Z",
     "start_time": "2025-06-27T16:10:16.516681Z"
    }
   },
   "cell_type": "code",
   "source": [
    "x = 3\n",
    "if x > 5:\n",
    "    print(\"x is greater than 5\")\n",
    "else:\n",
    "    print(\"x is less than 5\")"
   ],
   "id": "7b5cd4e3ea10f53e",
   "outputs": [
    {
     "name": "stdout",
     "output_type": "stream",
     "text": [
      "x is less than 5\n"
     ]
    }
   ],
   "execution_count": 2
  },
  {
   "metadata": {},
   "cell_type": "markdown",
   "source": [
    "🔁 `else` runs if the `if` condition is False\n",
    "\n",
    "### 3️⃣ `if...elif...else` Ladder"
   ],
   "id": "18fb23cc16c21829"
  },
  {
   "metadata": {
    "ExecuteTime": {
     "end_time": "2025-06-27T16:12:49.847108Z",
     "start_time": "2025-06-27T16:12:49.833551Z"
    }
   },
   "cell_type": "code",
   "source": [
    "x = 5\n",
    "if x > 5:\n",
    "    print(\"x is greater than 5\")\n",
    "elif x == 5:\n",
    "    print(\"x is equal to 5\")\n",
    "else:\n",
    "    print(\"x is less than 5\")"
   ],
   "id": "fdbbe57450297416",
   "outputs": [
    {
     "name": "stdout",
     "output_type": "stream",
     "text": [
      "x is equal to 5\n"
     ]
    }
   ],
   "execution_count": 3
  },
  {
   "metadata": {},
   "cell_type": "markdown",
   "source": [
    "📚 `elif` lets you check multiple conditions\n",
    "\n",
    "### 4️⃣ One-Line If Statement (Ternary Operator)"
   ],
   "id": "13537f27c0c6ec58"
  },
  {
   "metadata": {
    "ExecuteTime": {
     "end_time": "2025-06-27T16:16:56.362523Z",
     "start_time": "2025-06-27T16:16:56.354296Z"
    }
   },
   "cell_type": "code",
   "source": [
    "x = 20\n",
    "print(\"Even\")if x % 2 == 0 else print(\"Odd\")"
   ],
   "id": "7383bc2b21aeb5bb",
   "outputs": [
    {
     "name": "stdout",
     "output_type": "stream",
     "text": [
      "Even\n"
     ]
    }
   ],
   "execution_count": 4
  },
  {
   "metadata": {},
   "cell_type": "markdown",
   "source": [
    "✏️ Short syntax for simple conditionals\n",
    "\n",
    "### 5️⃣ Nested `if` Statements"
   ],
   "id": "e9a9e1c4ba385c2c"
  },
  {
   "metadata": {
    "ExecuteTime": {
     "end_time": "2025-06-27T16:18:36.435624Z",
     "start_time": "2025-06-27T16:18:36.423300Z"
    }
   },
   "cell_type": "code",
   "source": [
    "x = 10\n",
    "if x > 5:\n",
    "    if x < 20:\n",
    "        print(\"x is between 5 and 20\")"
   ],
   "id": "fce12e5ef5f2c42b",
   "outputs": [
    {
     "name": "stdout",
     "output_type": "stream",
     "text": [
      "x is between 5 and 20\n"
     ]
    }
   ],
   "execution_count": 5
  },
  {
   "metadata": {},
   "cell_type": "markdown",
   "source": [
    "🧩 You can place `if` inside another `if`\n",
    "\n",
    "### 6️⃣ pass in Empty Condition"
   ],
   "id": "21a1dd493da9e29b"
  },
  {
   "metadata": {
    "ExecuteTime": {
     "end_time": "2025-06-27T16:19:31.077128Z",
     "start_time": "2025-06-27T16:19:31.069769Z"
    }
   },
   "cell_type": "code",
   "source": [
    "x = 100\n",
    "if x > 50:\n",
    "    pass # To avoid syntax error for an empty block"
   ],
   "id": "56c8c462cb279497",
   "outputs": [],
   "execution_count": 6
  },
  {
   "metadata": {},
   "cell_type": "markdown",
   "source": [
    "⏭️ Use pass as a placeholder\n",
    "\n",
    "### 💡 Tip:\n",
    "- Use `:` to end each condition line\n",
    "- Always indent the block (usually 4 spaces)\n",
    "- You can use logical operators (`and`, `or`, `not`) with conditions"
   ],
   "id": "529667ddcd22d50e"
  }
 ],
 "metadata": {
  "kernelspec": {
   "display_name": "Python 3",
   "language": "python",
   "name": "python3"
  },
  "language_info": {
   "codemirror_mode": {
    "name": "ipython",
    "version": 2
   },
   "file_extension": ".py",
   "mimetype": "text/x-python",
   "name": "python",
   "nbconvert_exporter": "python",
   "pygments_lexer": "ipython2",
   "version": "2.7.6"
  }
 },
 "nbformat": 4,
 "nbformat_minor": 5
}

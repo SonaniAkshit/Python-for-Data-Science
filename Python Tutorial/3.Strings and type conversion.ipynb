{
 "cells": [
  {
   "metadata": {},
   "cell_type": "markdown",
   "source": [
    "<h1 style=\"color:red\"> How Strings work ❔ </h1>\n",
    "\n",
    "- You know what strings are, but you must also know string take more space than other data types like int, float etc.\n",
    "- This happens because String stores every character with their own Unicode.\n",
    "- Unicode is a `universal character encoding standard` that assigns a unique number (code point) to every character, regardless of language.\n",
    "-  Like \"A\" Unicode is 65 and \"😀\" this emoji Unicode is 128512, you can check them by using `ord()` function in python and convert them back using `chr()` function."
   ],
   "id": "c063ba8487a6efa8"
  },
  {
   "metadata": {
    "ExecuteTime": {
     "end_time": "2025-06-12T05:00:28.650405Z",
     "start_time": "2025-06-12T05:00:28.639639Z"
    }
   },
   "cell_type": "code",
   "source": [
    "char = 'A'\n",
    "print(ord(char))\n",
    "\n",
    "string = 'Akshit'\n",
    "# print(ord(string)) # show error because Unicode of string are not expected\n",
    "\n",
    "unicode = 65\n",
    "print(chr(unicode))\n",
    "\n",
    "emoji ='💻'\n",
    "print(ord(emoji))"
   ],
   "id": "d66c2cb674821fc6",
   "outputs": [
    {
     "name": "stdout",
     "output_type": "stream",
     "text": [
      "65\n",
      "A\n",
      "128187\n"
     ]
    }
   ],
   "execution_count": 14
  },
  {
   "metadata": {},
   "cell_type": "markdown",
   "source": [
    "<h1 style=\"color:red\">🔢 String Indexing </h1>\n",
    "\n",
    "- You must have thought there are so many characters in a string but can you access everyone.\n",
    "- Yes that's possible using indexing. Indexing starts from 0 and goes till the number of characters you have.\n",
    "    - eg. `a = \"Hello\"  print(a[0]) ==> output - \"H\"`\n",
    "- There is negative indexing as well, and it starts from -1, but the starting position is from the back of the string.\n",
    "    - eg. `a = \"Hello\"  print(a[-1]) ==> output - \"o\"`"
   ],
   "id": "167e32cd5b2ad8e1"
  },
  {
   "metadata": {
    "ExecuteTime": {
     "end_time": "2025-06-12T05:07:23.683934Z",
     "start_time": "2025-06-12T05:07:23.654325Z"
    }
   },
   "cell_type": "code",
   "source": [
    "str = 'hello'\n",
    "\n",
    "print(str[0])\n",
    "print(str[1])\n",
    "print(str[2])\n",
    "print(str[3])\n",
    "print(str[4])\n",
    "print(str[5]) # show an error out of range"
   ],
   "id": "1e321e996ddf9951",
   "outputs": [
    {
     "name": "stdout",
     "output_type": "stream",
     "text": [
      "h\n",
      "e\n",
      "l\n",
      "l\n",
      "o\n"
     ]
    },
    {
     "ename": "IndexError",
     "evalue": "string index out of range",
     "output_type": "error",
     "traceback": [
      "\u001B[1;31m---------------------------------------------------------------------------\u001B[0m",
      "\u001B[1;31mIndexError\u001B[0m                                Traceback (most recent call last)",
      "Cell \u001B[1;32mIn[18], line 8\u001B[0m\n\u001B[0;32m      6\u001B[0m \u001B[38;5;28mprint\u001B[39m(\u001B[38;5;28mstr\u001B[39m[\u001B[38;5;241m3\u001B[39m])\n\u001B[0;32m      7\u001B[0m \u001B[38;5;28mprint\u001B[39m(\u001B[38;5;28mstr\u001B[39m[\u001B[38;5;241m4\u001B[39m])\n\u001B[1;32m----> 8\u001B[0m \u001B[38;5;28mprint\u001B[39m(\u001B[38;5;28;43mstr\u001B[39;49m\u001B[43m[\u001B[49m\u001B[38;5;241;43m5\u001B[39;49m\u001B[43m]\u001B[49m) \u001B[38;5;66;03m# show an error out of range\u001B[39;00m\n",
      "\u001B[1;31mIndexError\u001B[0m: string index out of range"
     ]
    }
   ],
   "execution_count": 18
  },
  {
   "metadata": {
    "ExecuteTime": {
     "end_time": "2025-06-12T05:08:47.264705Z",
     "start_time": "2025-06-12T05:08:47.233339Z"
    }
   },
   "cell_type": "code",
   "source": [
    "print(str[-1])\n",
    "print(str[-2])\n",
    "print(str[-3])\n",
    "print(str[-4])\n",
    "print(str[-5])\n",
    "print(str[-6])"
   ],
   "id": "cc456e28e0c02678",
   "outputs": [
    {
     "name": "stdout",
     "output_type": "stream",
     "text": [
      "o\n",
      "l\n",
      "l\n",
      "e\n",
      "h\n"
     ]
    },
    {
     "ename": "IndexError",
     "evalue": "string index out of range",
     "output_type": "error",
     "traceback": [
      "\u001B[1;31m---------------------------------------------------------------------------\u001B[0m",
      "\u001B[1;31mIndexError\u001B[0m                                Traceback (most recent call last)",
      "Cell \u001B[1;32mIn[21], line 6\u001B[0m\n\u001B[0;32m      4\u001B[0m \u001B[38;5;28mprint\u001B[39m(\u001B[38;5;28mstr\u001B[39m[\u001B[38;5;241m-\u001B[39m\u001B[38;5;241m4\u001B[39m])\n\u001B[0;32m      5\u001B[0m \u001B[38;5;28mprint\u001B[39m(\u001B[38;5;28mstr\u001B[39m[\u001B[38;5;241m-\u001B[39m\u001B[38;5;241m5\u001B[39m])\n\u001B[1;32m----> 6\u001B[0m \u001B[38;5;28mprint\u001B[39m(\u001B[38;5;28;43mstr\u001B[39;49m\u001B[43m[\u001B[49m\u001B[38;5;241;43m-\u001B[39;49m\u001B[38;5;241;43m6\u001B[39;49m\u001B[43m]\u001B[49m)\n",
      "\u001B[1;31mIndexError\u001B[0m: string index out of range"
     ]
    }
   ],
   "execution_count": 21
  },
  {
   "metadata": {},
   "cell_type": "markdown",
   "source": [
    "<h1 style=\"color:red\">🅰️ String Slicing</h1>\n",
    "\n",
    "-  You know how to access characters in string. But there are slicing option as well\n",
    "-  Slicing means cutting out a slice from string and this is also done using index values.\n",
    "    - eg. `a = \"hello\"  a[1:4:1]  ==> output \"ell\"`\n",
    "- So here we have start , stop and steps position and keep a note if we use stop at 4 it will slice till 3 only."
   ],
   "id": "414b2424899fad07"
  },
  {
   "metadata": {
    "ExecuteTime": {
     "end_time": "2025-06-12T05:58:06.051756Z",
     "start_time": "2025-06-12T05:58:06.042260Z"
    }
   },
   "cell_type": "code",
   "source": [
    "str = \"Happy Coding\"\n",
    "\n",
    "print(str[0:5:1])\n",
    "print(str[6:12:1])\n",
    "print(str[6::1])\n",
    "print(str[6::-1])\n",
    "print(str[::1])\n",
    "print(str[::-1])"
   ],
   "id": "aff17d552920459",
   "outputs": [
    {
     "name": "stdout",
     "output_type": "stream",
     "text": [
      "Happy\n",
      "Coding\n",
      "Coding\n",
      "C yppaH\n",
      "Happy Coding\n",
      "gnidoC yppaH\n"
     ]
    }
   ],
   "execution_count": 52
  },
  {
   "metadata": {},
   "cell_type": "markdown",
   "source": "",
   "id": "67fd3ad51e3460ad"
  },
  {
   "metadata": {},
   "cell_type": "markdown",
   "source": [
    "<h1 style=\"color:red\">🅰️➡️1️⃣ Type conversion</h1>\n",
    "\n",
    "- For understanding type conversion you have to look at these 4 things\n",
    "\n",
    "`int()`,`float()`,`str()`,`bool()`\n",
    "\n",
    "- There are more functions like this but these are 4 main function, looking at these functions you can guess these are used to convert one data type to another\n",
    "- eg."
   ],
   "id": "205dee507a4bdcd6"
  },
  {
   "metadata": {
    "ExecuteTime": {
     "end_time": "2025-06-12T06:10:09.426362Z",
     "start_time": "2025-06-12T06:10:09.418363Z"
    }
   },
   "cell_type": "code",
   "source": [
    "a = '12' # there will be string\n",
    "a = int(a) # convert to integer\n",
    "print(a)\n",
    "\n",
    "a = 0\n",
    "\n",
    "print(bool(a)) # type conversion into boolean"
   ],
   "id": "6925d1339ea15adc",
   "outputs": [
    {
     "name": "stdout",
     "output_type": "stream",
     "text": [
      "12\n",
      "False\n"
     ]
    }
   ],
   "execution_count": 57
  },
  {
   "metadata": {},
   "cell_type": "markdown",
   "source": [
    "<h1 style=\"color:red\">📌 Type conversion types </h1>\n",
    "\n",
    "There are 2 types of conversion **Implicit** & **Explicit**.\n",
    "\n",
    "### 1. Implicit Conversion\n",
    "In implicit conversion, Python automatically converts one data type to another without user involvement.\n",
    "\n",
    "| Example | Code        | Output | Explanation                                                |\n",
    "|---------|-------------|--------|------------------------------------------------------------|\n",
    "| Implicit| `a = 12`<br>`print(a / 2)` | `6.0`   | `a` is an integer, but Python converts it to float after division. |\n",
    "\n",
    "### 2. Explicit Conversion\n",
    "In explicit conversion, the user manually converts one data type to another using built-in functions.\n",
    "\n",
    "| Function      | Converts To         |\n",
    "|---------------|---------------------|\n",
    "| `int()`       | Integer             |\n",
    "| `float()`     | Float               |\n",
    "| `complex()`   | Complex             |\n",
    "| `str()`       | String              |\n",
    "| `list()`      | List                |\n",
    "| `tuple()`     | Tuple               |\n",
    "| `set()`       | Set                 |\n",
    "| `dict()`      | Dictionary          |\n",
    "| `bool()`      | Boolean             |\n"
   ],
   "id": "60b9ee6e00bf7671"
  },
  {
   "metadata": {},
   "cell_type": "markdown",
   "source": [
    "<h1 style=\"color:red\">🧠 Type conversion concepts</h1>\n",
    "\n",
    "- Some important concepts of type conversions are you cannot convert a character to a `int()`.\n",
    "- `bool()` converter turns everything to `True` and `False` but which thing will be converted to true and which false. Let's see.\n",
    "- There are truthy values and Falsy values, and there are only 7 falsy values that means only 7 things will be converted to false rest True.\n",
    "\n",
    "| **❌ Falsy values** |\n",
    "|--------------------|\n",
    "| 0                  |\n",
    "| 0.0                |\n",
    "| False              |\n",
    "| \"\"                 |\n",
    "| []                 |\n",
    "| {}                 |\n",
    "| ()                 |\n",
    "\n",
    "- All these values are falsy remaining will be converted to True."
   ],
   "id": "ff45547e8058fc28"
  },
  {
   "metadata": {
    "ExecuteTime": {
     "end_time": "2025-06-12T06:30:13.540943Z",
     "start_time": "2025-06-12T06:30:13.494142Z"
    }
   },
   "cell_type": "code",
   "source": [
    "fal = 0\n",
    "print(bool(fal))"
   ],
   "id": "36af39e91af4e399",
   "outputs": [
    {
     "name": "stdout",
     "output_type": "stream",
     "text": [
      "False\n"
     ]
    }
   ],
   "execution_count": 58
  },
  {
   "metadata": {
    "ExecuteTime": {
     "end_time": "2025-06-12T06:30:47.960350Z",
     "start_time": "2025-06-12T06:30:47.953351Z"
    }
   },
   "cell_type": "code",
   "source": [
    "fal = 0.0\n",
    "print(bool(fal))"
   ],
   "id": "21ec256d1cf7701b",
   "outputs": [
    {
     "name": "stdout",
     "output_type": "stream",
     "text": [
      "False\n"
     ]
    }
   ],
   "execution_count": 64
  },
  {
   "metadata": {
    "ExecuteTime": {
     "end_time": "2025-06-12T06:30:49.615738Z",
     "start_time": "2025-06-12T06:30:49.602686Z"
    }
   },
   "cell_type": "code",
   "source": [
    "fal = False\n",
    "print(bool(fal))"
   ],
   "id": "7ae18cd10367fc9e",
   "outputs": [
    {
     "name": "stdout",
     "output_type": "stream",
     "text": [
      "False\n"
     ]
    }
   ],
   "execution_count": 65
  },
  {
   "metadata": {
    "ExecuteTime": {
     "end_time": "2025-06-12T06:30:56.325451Z",
     "start_time": "2025-06-12T06:30:56.318485Z"
    }
   },
   "cell_type": "code",
   "source": "fal = \"\"",
   "id": "73eefbe58966bfe5",
   "outputs": [],
   "execution_count": 66
  },
  {
   "metadata": {
    "ExecuteTime": {
     "end_time": "2025-06-12T06:30:58.465374Z",
     "start_time": "2025-06-12T06:30:58.458312Z"
    }
   },
   "cell_type": "code",
   "source": "print(bool(fal))",
   "id": "b1686bf3ff76b5e9",
   "outputs": [
    {
     "name": "stdout",
     "output_type": "stream",
     "text": [
      "False\n"
     ]
    }
   ],
   "execution_count": 67
  },
  {
   "metadata": {
    "ExecuteTime": {
     "end_time": "2025-06-12T06:31:13.502152Z",
     "start_time": "2025-06-12T06:31:13.492725Z"
    }
   },
   "cell_type": "code",
   "source": [
    "fal = []\n",
    "print(bool(fal))"
   ],
   "id": "71b76d44146585e9",
   "outputs": [
    {
     "name": "stdout",
     "output_type": "stream",
     "text": [
      "False\n"
     ]
    }
   ],
   "execution_count": 69
  },
  {
   "metadata": {
    "ExecuteTime": {
     "end_time": "2025-06-12T06:31:23.219002Z",
     "start_time": "2025-06-12T06:31:23.210965Z"
    }
   },
   "cell_type": "code",
   "source": [
    "fal = {}\n",
    "print(bool(fal))"
   ],
   "id": "5bc9916a97188d1b",
   "outputs": [
    {
     "name": "stdout",
     "output_type": "stream",
     "text": [
      "False\n"
     ]
    }
   ],
   "execution_count": 70
  },
  {
   "metadata": {
    "ExecuteTime": {
     "end_time": "2025-06-12T06:31:31.757373Z",
     "start_time": "2025-06-12T06:31:31.750265Z"
    }
   },
   "cell_type": "code",
   "source": [
    "fal =()\n",
    "print(bool(fal))"
   ],
   "id": "2a0f935bd34b023b",
   "outputs": [
    {
     "name": "stdout",
     "output_type": "stream",
     "text": [
      "False\n"
     ]
    }
   ],
   "execution_count": 71
  },
  {
   "metadata": {
    "ExecuteTime": {
     "end_time": "2025-06-12T06:32:02.313901Z",
     "start_time": "2025-06-12T06:32:02.307511Z"
    }
   },
   "cell_type": "code",
   "source": [
    "tru = 'hello'\n",
    "print(bool(tru))"
   ],
   "id": "aefb6128b1765136",
   "outputs": [
    {
     "name": "stdout",
     "output_type": "stream",
     "text": [
      "True\n"
     ]
    }
   ],
   "execution_count": 73
  },
  {
   "metadata": {
    "ExecuteTime": {
     "end_time": "2025-06-12T06:32:16.684334Z",
     "start_time": "2025-06-12T06:32:16.668542Z"
    }
   },
   "cell_type": "code",
   "source": [
    "tru = 1\n",
    "print(bool(tru))"
   ],
   "id": "5311c86a0f7ffa32",
   "outputs": [
    {
     "name": "stdout",
     "output_type": "stream",
     "text": [
      "True\n"
     ]
    }
   ],
   "execution_count": 74
  }
 ],
 "metadata": {
  "kernelspec": {
   "display_name": "Python 3",
   "language": "python",
   "name": "python3"
  },
  "language_info": {
   "codemirror_mode": {
    "name": "ipython",
    "version": 2
   },
   "file_extension": ".py",
   "mimetype": "text/x-python",
   "name": "python",
   "nbconvert_exporter": "python",
   "pygments_lexer": "ipython2",
   "version": "2.7.6"
  }
 },
 "nbformat": 4,
 "nbformat_minor": 5
}

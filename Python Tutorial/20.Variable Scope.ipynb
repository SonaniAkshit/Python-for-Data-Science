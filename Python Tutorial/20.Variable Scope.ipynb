{
 "cells": [
  {
   "metadata": {},
   "cell_type": "markdown",
   "source": [
    "# 🎯 Python Scope\n",
    "\n",
    "**Scope** refers to the region where a variable is recognized and accessible.\n",
    "\n",
    "Python has **four types of variable scopes**, known as **LEGB Rule**:\n",
    "\n",
    "---\n",
    "\n",
    "## 🔁 LEGB Rule (Scope Resolution Order)\n",
    "\n",
    "| Level    | Description                                 |\n",
    "|----------|---------------------------------------------|\n",
    "| **L**    | **Local** – Inside a function               |\n",
    "| **E**    | **Enclosing** – Inside nested functions     |\n",
    "| **G**    | **Global** – Defined at top-level           |\n",
    "| **B**    | **Built-in** – Reserved names in Python     |\n",
    "\n",
    "---\n",
    "\n",
    "### 1️⃣ Local Scope\n",
    "\n",
    "Declared inside a function.\n"
   ],
   "id": "a9f8b761ec87f83"
  },
  {
   "metadata": {
    "ExecuteTime": {
     "end_time": "2025-06-30T10:29:44.562240Z",
     "start_time": "2025-06-30T10:29:44.555938Z"
    }
   },
   "cell_type": "code",
   "source": [
    "def my_func():\n",
    "    x = 10 # local\n",
    "    print(x)"
   ],
   "id": "8415b214212c5071",
   "outputs": [],
   "execution_count": 4
  },
  {
   "metadata": {
    "ExecuteTime": {
     "end_time": "2025-06-30T10:29:45.689729Z",
     "start_time": "2025-06-30T10:29:45.683646Z"
    }
   },
   "cell_type": "code",
   "source": "my_func()",
   "id": "8a2faa8f3b8878e4",
   "outputs": [
    {
     "name": "stdout",
     "output_type": "stream",
     "text": [
      "10\n"
     ]
    }
   ],
   "execution_count": 5
  },
  {
   "metadata": {
    "ExecuteTime": {
     "end_time": "2025-06-30T10:29:46.500607Z",
     "start_time": "2025-06-30T10:29:46.463131Z"
    }
   },
   "cell_type": "code",
   "source": "print(x) # ❌ Error: x is not defined outside",
   "id": "7d51b12aa6d1a7a6",
   "outputs": [
    {
     "ename": "NameError",
     "evalue": "name 'x' is not defined",
     "output_type": "error",
     "traceback": [
      "\u001B[1;31m---------------------------------------------------------------------------\u001B[0m",
      "\u001B[1;31mNameError\u001B[0m                                 Traceback (most recent call last)",
      "Cell \u001B[1;32mIn[6], line 1\u001B[0m\n\u001B[1;32m----> 1\u001B[0m \u001B[38;5;28mprint\u001B[39m(\u001B[43mx\u001B[49m) \u001B[38;5;66;03m# ❌ Error: x is not defined outside\u001B[39;00m\n",
      "\u001B[1;31mNameError\u001B[0m: name 'x' is not defined"
     ]
    }
   ],
   "execution_count": 6
  },
  {
   "metadata": {},
   "cell_type": "markdown",
   "source": [
    "### 2️⃣ Global Scope\n",
    "Accessible everywhere in the file."
   ],
   "id": "26d0b1002d401842"
  },
  {
   "metadata": {
    "ExecuteTime": {
     "end_time": "2025-06-30T10:30:44.010410Z",
     "start_time": "2025-06-30T10:30:44.002476Z"
    }
   },
   "cell_type": "code",
   "source": [
    "x = 100 # global\n",
    "\n",
    "def my_func():\n",
    "    print(x)"
   ],
   "id": "f6ed6222e3732c90",
   "outputs": [],
   "execution_count": 8
  },
  {
   "metadata": {
    "ExecuteTime": {
     "end_time": "2025-06-30T10:30:57.067458Z",
     "start_time": "2025-06-30T10:30:57.059591Z"
    }
   },
   "cell_type": "code",
   "source": "my_func()",
   "id": "4d735ea4eaf56f08",
   "outputs": [
    {
     "name": "stdout",
     "output_type": "stream",
     "text": [
      "100\n"
     ]
    }
   ],
   "execution_count": 10
  },
  {
   "metadata": {
    "ExecuteTime": {
     "end_time": "2025-06-30T10:30:59.926054Z",
     "start_time": "2025-06-30T10:30:59.919375Z"
    }
   },
   "cell_type": "code",
   "source": "print(x)",
   "id": "106999e396a30fa9",
   "outputs": [
    {
     "name": "stdout",
     "output_type": "stream",
     "text": [
      "100\n"
     ]
    }
   ],
   "execution_count": 11
  },
  {
   "metadata": {},
   "cell_type": "markdown",
   "source": [
    "### 3️⃣ Enclosing Scope (Nonlocal)\n",
    "Nested function accessing the outer function's variable."
   ],
   "id": "b198ecf27f1ac485"
  },
  {
   "metadata": {
    "ExecuteTime": {
     "end_time": "2025-06-30T10:32:52.690198Z",
     "start_time": "2025-06-30T10:32:52.681297Z"
    }
   },
   "cell_type": "code",
   "source": [
    "def outer():\n",
    "    x = 'outer'\n",
    "    def inner():\n",
    "        print(x)  # enclosing\n",
    "    inner()\n",
    "outer()"
   ],
   "id": "4f5cb9c9540b2e60",
   "outputs": [
    {
     "name": "stdout",
     "output_type": "stream",
     "text": [
      "outer\n"
     ]
    }
   ],
   "execution_count": 15
  },
  {
   "metadata": {},
   "cell_type": "markdown",
   "source": [
    "### 4️⃣ Built-in Scope\n",
    "Functions like `len()`, `print()`, etc."
   ],
   "id": "11b22393d8b04b1f"
  },
  {
   "metadata": {
    "ExecuteTime": {
     "end_time": "2025-06-30T10:33:36.520254Z",
     "start_time": "2025-06-30T10:33:36.513129Z"
    }
   },
   "cell_type": "code",
   "source": "print(len('hello'))",
   "id": "50668ecf75f9483a",
   "outputs": [
    {
     "name": "stdout",
     "output_type": "stream",
     "text": [
      "5\n"
     ]
    }
   ],
   "execution_count": 16
  },
  {
   "metadata": {},
   "cell_type": "markdown",
   "source": [
    "### 🔧 `global` Keyword\n",
    "Used to modify global variables inside a function."
   ],
   "id": "6853a1c0de7fb80d"
  },
  {
   "metadata": {
    "ExecuteTime": {
     "end_time": "2025-06-30T10:35:16.945020Z",
     "start_time": "2025-06-30T10:35:16.937526Z"
    }
   },
   "cell_type": "code",
   "source": [
    "x = 5\n",
    "\n",
    "def update():\n",
    "    global x\n",
    "    x = 10"
   ],
   "id": "91c67a515379433a",
   "outputs": [],
   "execution_count": 26
  },
  {
   "metadata": {
    "ExecuteTime": {
     "end_time": "2025-06-30T10:35:17.444166Z",
     "start_time": "2025-06-30T10:35:17.437666Z"
    }
   },
   "cell_type": "code",
   "source": "update()",
   "id": "f0f882130a777411",
   "outputs": [],
   "execution_count": 27
  },
  {
   "metadata": {
    "ExecuteTime": {
     "end_time": "2025-06-30T10:35:17.935577Z",
     "start_time": "2025-06-30T10:35:17.927572Z"
    }
   },
   "cell_type": "code",
   "source": "print(x)",
   "id": "5c8236d9231f16b7",
   "outputs": [
    {
     "name": "stdout",
     "output_type": "stream",
     "text": [
      "10\n"
     ]
    }
   ],
   "execution_count": 28
  },
  {
   "metadata": {},
   "cell_type": "markdown",
   "source": [
    "### 🔒 `nonlocal` Keyword\n",
    "Used to modify enclosing (non-global) variables inside nested functions."
   ],
   "id": "36479341f86acf27"
  },
  {
   "metadata": {
    "ExecuteTime": {
     "end_time": "2025-06-30T10:37:06.267829Z",
     "start_time": "2025-06-30T10:37:06.259050Z"
    }
   },
   "cell_type": "code",
   "source": [
    "def outer():\n",
    "    x = 'outer'\n",
    "    def inner():\n",
    "        nonlocal x\n",
    "        x = 'changed'\n",
    "    inner()\n",
    "    print(x)\n",
    "outer()"
   ],
   "id": "cad55a3e42201185",
   "outputs": [
    {
     "name": "stdout",
     "output_type": "stream",
     "text": [
      "changed\n"
     ]
    }
   ],
   "execution_count": 33
  },
  {
   "metadata": {},
   "cell_type": "markdown",
   "source": [
    "### 🧾 Scope Summary Table\n",
    "\n",
    "| Scope     | Keyword    | Accessible Where?        |\n",
    "| --------- | ---------- | ------------------------ |\n",
    "| Local     | —          | Inside the function only |\n",
    "| Enclosing | `nonlocal` | Inside nested functions  |\n",
    "| Global    | `global`   | Entire module/file       |\n",
    "| Built-in  | —          | Everywhere               |\n",
    "\n",
    "### 💡 Tip:\n",
    "- **Avoid global** unless necessary (can cause bugs)\n",
    "- Use `nonlocal` when dealing with closures or nested functions\n",
    "---"
   ],
   "id": "d75b1c5a2493af57"
  }
 ],
 "metadata": {
  "kernelspec": {
   "display_name": "Python 3",
   "language": "python",
   "name": "python3"
  },
  "language_info": {
   "codemirror_mode": {
    "name": "ipython",
    "version": 2
   },
   "file_extension": ".py",
   "mimetype": "text/x-python",
   "name": "python",
   "nbconvert_exporter": "python",
   "pygments_lexer": "ipython2",
   "version": "2.7.6"
  }
 },
 "nbformat": 4,
 "nbformat_minor": 5
}

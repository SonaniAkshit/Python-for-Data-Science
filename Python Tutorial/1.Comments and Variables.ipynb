{
 "cells": [
  {
   "metadata": {},
   "cell_type": "markdown",
   "source": [
    "<h1 style=\"color:red;\">#️⃣ Comments in python</h1>\n",
    "\n",
    "- Comments are something that are ignored by the python interpreter\n",
    "- We have to use `#` for writing a comment in python\n",
    "- Multiline comments are not available in python but we can achieve it by using Doc String `\"\"\" Multiline \"\"\"`\n",
    "\n",
    "### 1️⃣ Single line comment"
   ],
   "id": "b9489678a55b2a1"
  },
  {
   "metadata": {
    "ExecuteTime": {
     "end_time": "2025-06-12T03:23:03.997590Z",
     "start_time": "2025-06-12T03:23:03.984704Z"
    }
   },
   "cell_type": "code",
   "source": [
    "# hello i am akshit\n",
    "hello i am akshit #show an error"
   ],
   "id": "bb979957dceff7d9",
   "outputs": [
    {
     "ename": "SyntaxError",
     "evalue": "invalid syntax (852059544.py, line 2)",
     "output_type": "error",
     "traceback": [
      "\u001B[1;36m  Cell \u001B[1;32mIn[2], line 2\u001B[1;36m\u001B[0m\n\u001B[1;33m    hello i am akshit #show an error\u001B[0m\n\u001B[1;37m          ^\u001B[0m\n\u001B[1;31mSyntaxError\u001B[0m\u001B[1;31m:\u001B[0m invalid syntax\n"
     ]
    }
   ],
   "execution_count": 2
  },
  {
   "metadata": {},
   "cell_type": "markdown",
   "source": "### 2️⃣ Multi-Line Comment(Doc String)",
   "id": "b58ab1a0874d2c06"
  },
  {
   "metadata": {
    "ExecuteTime": {
     "end_time": "2025-06-12T03:23:34.111898Z",
     "start_time": "2025-06-12T03:23:34.102155Z"
    }
   },
   "cell_type": "code",
   "source": [
    "'''Hello i am akshit\n",
    "i m doing mca.'''\n",
    "\n",
    "\"\"\"Hello i am akshit\n",
    "i m doing mca.\"\"\"\n",
    "\n",
    "# both are multi line commnet or doc strings"
   ],
   "id": "9ff8f12f576fed57",
   "outputs": [
    {
     "data": {
      "text/plain": [
       "'Hello i am akshit\\ni m doing mca.'"
      ]
     },
     "execution_count": 5,
     "metadata": {},
     "output_type": "execute_result"
    }
   ],
   "execution_count": 5
  },
  {
   "metadata": {},
   "cell_type": "markdown",
   "source": [
    "<h1 style=\"color:red\">🅰️ Variables in python </h1>\n",
    "\n",
    "-  In python Variables are used as a storage to store things in python.\n",
    "- You can write anything as a variable name.\n",
    "\n",
    "Eg. Name='Akshit'\n",
    "\n",
    "age = 21\n",
    "\n",
    "> ### 🚫 Don’t Use These\n",
    "> - You cannot start a variable name with a number.\n",
    "> - You cannot use spaces in variable names.\n",
    "> - You should not use special characters (like @, #, %, etc.) in variable names."
   ],
   "id": "73487cc3d782118"
  },
  {
   "metadata": {
    "ExecuteTime": {
     "end_time": "2025-06-12T03:55:04.995673Z",
     "start_time": "2025-06-12T03:55:04.986011Z"
    }
   },
   "cell_type": "code",
   "source": [
    "name = 'akshit' # string variable\n",
    "age = 21 # integer variable\n",
    "sex_male = True # boolean variable\n",
    "val =1.2 # float variable\n",
    "\n",
    "print(name)\n",
    "print(age)\n",
    "print(sex_male)\n",
    "print(val)\n",
    "\n",
    "print(type(name))\n",
    "print(type(age))\n",
    "print(type(sex_male))\n",
    "print(type(val))"
   ],
   "id": "bd522e0a717d477",
   "outputs": [
    {
     "name": "stdout",
     "output_type": "stream",
     "text": [
      "akshit\n",
      "21\n",
      "True\n",
      "1.2\n",
      "<class 'str'>\n",
      "<class 'int'>\n",
      "<class 'bool'>\n",
      "<class 'float'>\n"
     ]
    }
   ],
   "execution_count": 12
  },
  {
   "metadata": {},
   "cell_type": "raw",
   "source": "",
   "id": "46371494c20fef5b"
  },
  {
   "metadata": {},
   "cell_type": "markdown",
   "source": [
    "<h1 style=\"color:red\">🔠 Naming Conventions</h1>\n",
    "\n",
    "- You can write variables in python using 3 ways.\n",
    "    - <h4 style=\"color:red\"> Camel case </h4> happyCoding\n",
    "    - <h4 style=\"color:red\"> Pascal case </h4> HappyCoding\n",
    "    - <h4 style=\"color:red\"> Snake case </h4> happy_coding\n"
   ],
   "id": "8b674a40ff406b02"
  },
  {
   "metadata": {
    "ExecuteTime": {
     "end_time": "2025-06-12T04:03:13.892338Z",
     "start_time": "2025-06-12T04:03:13.883840Z"
    }
   },
   "cell_type": "code",
   "source": [
    "happyCoding = 'helloWorld'\n",
    "HappyCoding = 'HelloWorld'\n",
    "happy_coding = 'happy_coding'\n",
    "\n",
    "print(happyCoding)\n",
    "print(HappyCoding)\n",
    "print(happy_coding)"
   ],
   "id": "a60bcd7fb984421d",
   "outputs": [
    {
     "name": "stdout",
     "output_type": "stream",
     "text": [
      "helloWorld\n",
      "HelloWorld\n",
      "happy_coding\n"
     ]
    }
   ],
   "execution_count": 13
  }
 ],
 "metadata": {
  "kernelspec": {
   "display_name": "Python 3",
   "language": "python",
   "name": "python3"
  },
  "language_info": {
   "codemirror_mode": {
    "name": "ipython",
    "version": 2
   },
   "file_extension": ".py",
   "mimetype": "text/x-python",
   "name": "python",
   "nbconvert_exporter": "python",
   "pygments_lexer": "ipython2",
   "version": "2.7.6"
  }
 },
 "nbformat": 4,
 "nbformat_minor": 5
}

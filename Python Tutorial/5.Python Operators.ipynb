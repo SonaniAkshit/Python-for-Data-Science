{
 "cells": [
  {
   "metadata": {},
   "cell_type": "markdown",
   "source": [
    "# 🐍 Python Operators\n",
    "\n",
    "Operators are symbols that perform operations on variables and values,\n",
    "Python divides the operators into the following groups:\n",
    "\n",
    "- ➕ Arithmetic operators\n",
    "- 📝 Assignment operators\n",
    "- 🧮 Comparison operators\n",
    "- 🔗 Logical operators\n",
    "- 🆔 Identity operators\n",
    "- 🔍 Membership operators\n",
    "- 🧠 Bitwise operators\n",
    "\n",
    "---\n",
    "\n",
    "## ➕ Arithmetic Operators\n",
    "\n",
    "Arithmetic operators are used with numeric values to perform common mathematical operations:\n",
    "\n",
    "| Operator | Name            | Example   |\n",
    "|----------|-----------------|-----------|\n",
    "| `+`      | ➕ Addition        | `x + y`   |\n",
    "| `-`      | ➖ Subtraction     | `x - y`   |\n",
    "| `*`      | ✖️ Multiplication  | `x * y`   |\n",
    "| `/`      | ➗ Division        | `x / y`   |\n",
    "| `%`      | 🧮 Modulus         | `x % y`   |\n",
    "| `**`     | 🧠 Exponentiation  | `x ** y`  |\n",
    "| `//`     | 🔽 Floor Division  | `x // y`  |\n",
    "\n",
    "<img src=\"https://media2.giphy.com/media/QssGEmpkyEOhBCb7e1/giphy.gif?cid=ecf05e47a0n3gi1bfqntqmob8g9aid1oyj2wr3ds3mg700bl&rid=giphy.gif\" width=\"22px\" align=\"top\"/> **Code**\n",
    "\n"
   ],
   "id": "30391cfd47a5a31f"
  },
  {
   "metadata": {
    "ExecuteTime": {
     "end_time": "2025-06-25T07:12:51.432495Z",
     "start_time": "2025-06-25T07:12:51.418197Z"
    }
   },
   "cell_type": "code",
   "source": [
    "x = 10\n",
    "y = 20\n",
    "\n",
    "print(f\"Addition of {x}+{y}={x+y}\")\n",
    "print(f\"Subtraction of {x}-{y}={x-y}\")\n",
    "print(f\"Multiplication of {x}*{y}={x*y}\")\n",
    "print(f\"division of {x}/{y}={x/y}\")\n",
    "print(f\"Modulus of {x}%{y}={x%y}\")\n",
    "print(f\"Exponentiation of {x}**{y}={x**y}\")\n",
    "print(f\"Floor Division of {x}//{y}={x//y}\")"
   ],
   "id": "308cb49d3c6c5d0a",
   "outputs": [
    {
     "name": "stdout",
     "output_type": "stream",
     "text": [
      "Addition of 10+20=30\n",
      "Subtraction of 10-20=-10\n",
      "Multiplication of 10*20=200\n",
      "division of 10/20=0.5\n",
      "Modulus of 10%20=10\n",
      "Exponentiation of 10**20=100000000000000000000\n",
      "Floor Division of 10//20=0\n"
     ]
    }
   ],
   "execution_count": 8
  },
  {
   "metadata": {},
   "cell_type": "markdown",
   "source": [
    "---\n",
    "\n",
    "## 🧮 Comparison Operators\n",
    "\n",
    "Comparison operators are used to compare two values:\n",
    "\n",
    "| Operator | Name                        | Example    |\n",
    "|----------|-----------------------------|------------|\n",
    "| `==`     | ✅ Equal                       | `x == y`   |\n",
    "| `!=`     | ❌ Not equal                   | `x != y`   |\n",
    "| `>`      | ➕ Greater than                | `x > y`    |\n",
    "| `<`      | ➖ Less than                   | `x < y`    |\n",
    "| `>=`     | 🔼 Greater than or equal to    | `x >= y`   |\n",
    "| `<=`     | 🔽 Less than or equal to       | `x <= y`   |\n",
    "\n",
    "<img src=\"https://media2.giphy.com/media/QssGEmpkyEOhBCb7e1/giphy.gif?cid=ecf05e47a0n3gi1bfqntqmob8g9aid1oyj2wr3ds3mg700bl&rid=giphy.gif\" width=\"22px\" align=\"top\"/> **Code**"
   ],
   "id": "2ee0a499e5a1504d"
  },
  {
   "metadata": {
    "ExecuteTime": {
     "end_time": "2025-06-25T07:57:04.911129Z",
     "start_time": "2025-06-25T07:57:04.896822Z"
    }
   },
   "cell_type": "code",
   "source": [
    "x = 10\n",
    "y = 10\n",
    "\n",
    "print(f\"x = {x}\")\n",
    "print(f\"y = {y}\")\n",
    "print()\n",
    "\n",
    "# Comparison operations\n",
    "print(f\"x == y : {x == y}   # Equal\")\n",
    "print(f\"x != y : {x != y}   # Not equal\")\n",
    "print(f\"x >  y : {x > y}    # Greater than\")\n",
    "print(f\"x <  y : {x < y}    # Less than\")\n",
    "print(f\"x >= y : {x >= y}   # Greater than or equal to\")\n",
    "print(f\"x <= y : {x <= y}   # Less than or equal to\")\n"
   ],
   "id": "12012dd52cb7a",
   "outputs": [
    {
     "name": "stdout",
     "output_type": "stream",
     "text": [
      "x = 10\n",
      "y = 10\n",
      "\n",
      "x == y : True   # Equal\n",
      "x != y : False   # Not equal\n",
      "x >  y : False    # Greater than\n",
      "x <  y : False    # Less than\n",
      "x >= y : True   # Greater than or equal to\n",
      "x <= y : True   # Less than or equal to\n"
     ]
    }
   ],
   "execution_count": 40
  },
  {
   "metadata": {},
   "cell_type": "markdown",
   "source": [
    "---\n",
    "## 📝 Assignment Operators\n",
    "\n",
    "Assignment operators are used to assign values to variables:\n",
    "\n",
    "| Operator | Example         | Same As         |\n",
    "|----------|-----------------|-----------------|\n",
    "| `=`      | `x = 5`         | `x = 5`         |\n",
    "| `+=`     | `x += 3`        | `x = x + 3`     |\n",
    "| `-=`     | `x -= 3`        | `x = x - 3`     |\n",
    "| `*=`     | `x *= 3`        | `x = x * 3`     |\n",
    "| `/=`     | `x /= 3`        | `x = x / 3`     |\n",
    "| `%=`     | `x %= 3`        | `x = x % 3`     |\n",
    "| `//=`    | `x //= 3`       | `x = x // 3`    |\n",
    "| `**=`    | `x **= 3`       | `x = x ** 3`    |\n",
    "| `&=`     | `x &= 3`        | `x = x & 3`     |\n",
    "| `^=`     | `x ^= 3`        | `x = x ^ 3`     |\n",
    "| `>>=`    | `x >>= 3`       | `x = x >> 3`    |\n",
    "| `<<=`    | `x <<= 3`       | `x = x << 3`    |\n",
    "| `:=`     | `print(x := 3)` | `x = 3; print(x)` |\n",
    "\n",
    "<img src=\"https://media2.giphy.com/media/QssGEmpkyEOhBCb7e1/giphy.gif?cid=ecf05e47a0n3gi1bfqntqmob8g9aid1oyj2wr3ds3mg700bl&rid=giphy.gif\" width=\"22px\" align=\"top\"/> **Code**"
   ],
   "id": "1c2d0e445bcb2f63"
  },
  {
   "metadata": {
    "ExecuteTime": {
     "end_time": "2025-06-25T07:56:22.351532Z",
     "start_time": "2025-06-25T07:56:22.308430Z"
    }
   },
   "cell_type": "code",
   "source": [
    "# Start with x = 10\n",
    "x = 10\n",
    "print(f\"Initial x = {x}\")\n",
    "\n",
    "# Basic assignment\n",
    "x = 5\n",
    "print(f\"x = 5 ➝ {x}\")\n",
    "\n",
    "# Add and assign\n",
    "x += 3\n",
    "print(f\"x += 3 ➝ {x}  (x = x + 3)\")\n",
    "\n",
    "# Subtract and assign\n",
    "x -= 2\n",
    "print(f\"x -= 2 ➝ {x}  (x = x - 2)\")\n",
    "\n",
    "# Multiply and assign\n",
    "x *= 4\n",
    "print(f\"x *= 4 ➝ {x}  (x = x * 4)\")\n",
    "\n",
    "# Divide and assign\n",
    "x /= 3\n",
    "print(f\"x /= 3 ➝ {x}  (x = x / 3)\")\n",
    "\n",
    "# Modulus and assign\n",
    "x %= 4\n",
    "print(f\"x %= 4 ➝ {x}  (x = x % 4)\")\n",
    "\n",
    "# Floor divide and assign\n",
    "x = 10\n",
    "x //= 3\n",
    "print(f\"x //= 3 ➝ {x}  (x = x // 3)\")\n",
    "\n",
    "# Exponent and assign\n",
    "x = 2\n",
    "x **= 3\n",
    "print(f\"x **= 3 ➝ {x}  (x = x ** 3)\")\n",
    "\n",
    "# Bitwise AND and assign\n",
    "x = 7\n",
    "x &= 3\n",
    "print(f\"x &= 3 ➝ {x}  (x = x & 3)\")\n",
    "\n",
    "# Bitwise XOR and assign\n",
    "x = 5\n",
    "x ^= 2\n",
    "print(f\"x ^= 2 ➝ {x}  (x = x ^ 2)\")\n",
    "\n",
    "# Bitwise Right Shift and assign\n",
    "x = 16\n",
    "x >>= 2\n",
    "print(f\"x >>= 2 ➝ {x}  (x = x >> 2)\")\n",
    "\n",
    "# Bitwise Left Shift and assign\n",
    "x = 4\n",
    "x <<= 2\n",
    "print(f\"x <<= 2 ➝ {x}  (x = x << 2)\")\n",
    "\n",
    "# Walrus operator (Python 3.8+)\n",
    "print(f\"(walrus) x := 3 ➝ {(x := 3)}  (x is now {x})\")\n"
   ],
   "id": "ad7494aed8acc049",
   "outputs": [
    {
     "name": "stdout",
     "output_type": "stream",
     "text": [
      "Initial x = 10\n",
      "x = 5 ➝ 5\n",
      "x += 3 ➝ 8  (x = x + 3)\n",
      "x -= 2 ➝ 6  (x = x - 2)\n",
      "x *= 4 ➝ 24  (x = x * 4)\n",
      "x /= 3 ➝ 8.0  (x = x / 3)\n",
      "x %= 4 ➝ 0.0  (x = x % 4)\n",
      "x //= 3 ➝ 3  (x = x // 3)\n",
      "x **= 3 ➝ 8  (x = x ** 3)\n",
      "x &= 3 ➝ 3  (x = x & 3)\n",
      "x ^= 2 ➝ 7  (x = x ^ 2)\n",
      "x >>= 2 ➝ 4  (x = x >> 2)\n",
      "x <<= 2 ➝ 16  (x = x << 2)\n",
      "(walrus) x := 3 ➝ 3  (x is now 3)\n"
     ]
    }
   ],
   "execution_count": 39
  },
  {
   "metadata": {},
   "cell_type": "markdown",
   "source": [
    "---\n",
    "\n",
    "## 🔗 Logical Operators\n",
    "\n",
    "Logical operators are used to combine conditional statements:\n",
    "\n",
    "| Operator | Description                                 | Example                 |\n",
    "|----------|---------------------------------------------|-------------------------|\n",
    "| `and`    | ✅ True if both statements are true          | `x < 5 and y < 10`      |\n",
    "| `or`     | ✅ True if at least one statement is true    | `x < 5 or y < 4`        |\n",
    "| `not`    | 🔄 Reverses the result                       | `not(x < 5 and y < 10)` |\n",
    "\n",
    "Here’s a clear and simple **truth table** for Python's three logical operators: `and`, `or`, and `not`.\n",
    "\n",
    "\n",
    "## 🔢 Truth Tables for Logical Operators\n",
    "\n",
    "### ✅ `and` Operator\n",
    "\n",
    "| A     | B     | A and B |\n",
    "| ----- | ----- | ------- |\n",
    "| True  | True  | True    |\n",
    "| True  | False | False   |\n",
    "| False | True  | False   |\n",
    "| False | False | False   |\n",
    "\n",
    "\n",
    "### ✅ `or` Operator\n",
    "\n",
    "| A     | B     | A or B |\n",
    "| ----- | ----- | ------ |\n",
    "| True  | True  | True   |\n",
    "| True  | False | True   |\n",
    "| False | True  | True   |\n",
    "| False | False | False  |\n",
    "\n",
    "\n",
    "### 🔄 `not` Operator\n",
    "\n",
    "| A     | not A |\n",
    "| ----- | ----- |\n",
    "| True  | False |\n",
    "| False | True  |\n",
    "\n",
    "<img src=\"https://media2.giphy.com/media/QssGEmpkyEOhBCb7e1/giphy.gif?cid=ecf05e47a0n3gi1bfqntqmob8g9aid1oyj2wr3ds3mg700bl&rid=giphy.gif\" width=\"22px\" align=\"top\"/> **Code**"
   ],
   "id": "d3495136ea25b3ff"
  },
  {
   "metadata": {
    "ExecuteTime": {
     "end_time": "2025-06-25T07:44:26.937727Z",
     "start_time": "2025-06-25T07:44:26.925446Z"
    }
   },
   "cell_type": "code",
   "source": [
    "x = 7\n",
    "y = 12\n",
    "\n",
    "print(f\"x = {x}, y = {y}\")\n",
    "print()\n",
    "# AND Operator ✅ (True if both are True)\n",
    "print(\"AND Example:\")\n",
    "print(f\"(x > 5 and y > 10): {x > 5 and y > 10}\")  # True and True = True\n",
    "print(f\"(x < 5 and y > 10): {x < 5 and y > 10}\")  # False and True = False\n",
    "print()\n",
    "\n",
    "# OR Operator ✅ (True if at least one is True)\n",
    "print(\"OR Example:\")\n",
    "print(f\"(x < 5 or y > 10): {x < 5 or y > 10}\")    # False or True = True\n",
    "print(f\"(x < 5 or y < 10): {x < 5 or y < 10}\")    # False or False = False\n",
    "print()\n",
    "\n",
    "# NOT Operator 🔄 (Reverses the result)\n",
    "print(\"NOT Example:\")\n",
    "print(f\"not(x > 5 and y > 10): {not(x > 5 and y > 10)}\")  # not(True) = False\n",
    "print(f\"not(x < 5 or y < 10): {not(x < 5 or y < 10)}\")    # not(False) =\" True\n"
   ],
   "id": "d25336269f3ab191",
   "outputs": [
    {
     "name": "stdout",
     "output_type": "stream",
     "text": [
      "x = 7, y = 12\n",
      "\n",
      "AND Example:\n",
      "(x > 5 and y > 10): True\n",
      "(x < 5 and y > 10): False\n",
      "\n",
      "OR Example:\n",
      "(x < 5 or y > 10): True\n",
      "(x < 5 or y < 10): False\n",
      "\n",
      "NOT Example:\n",
      "not(x > 5 and y > 10): False\n",
      "not(x < 5 or y < 10): True\n"
     ]
    }
   ],
   "execution_count": 36
  },
  {
   "metadata": {},
   "cell_type": "markdown",
   "source": [
    "---\n",
    "\n",
    "## 🆔 Identity Operators\n",
    "\n",
    "Identity operators compare memory locations of two objects:\n",
    "\n",
    "| Operator | Description                                             | Example        |\n",
    "|----------|---------------------------------------------------------|----------------|\n",
    "| `is`     | 🆔 True if both variables point to the same object       | `x is y`       |\n",
    "| `is not` | 🚫 True if they do **not** point to the same object     | `x is not y`   |\n",
    "\n",
    "<img src=\"https://media2.giphy.com/media/QssGEmpkyEOhBCb7e1/giphy.gif?cid=ecf05e47a0n3gi1bfqntqmob8g9aid1oyj2wr3ds3mg700bl&rid=giphy.gif\" width=\"22px\" align=\"top\"/> **Code**"
   ],
   "id": "c9a86d82e9082cb2"
  },
  {
   "metadata": {
    "ExecuteTime": {
     "end_time": "2025-06-25T07:53:33.735226Z",
     "start_time": "2025-06-25T07:53:33.709876Z"
    }
   },
   "cell_type": "code",
   "source": [
    "# Example 1: When x and y point to the same object\n",
    "x = [1, 2, 3]\n",
    "y = x  # y points to the same list object as x\n",
    "\n",
    "print(\"Example 1:\")\n",
    "print(f\"x is y: {x is y}\")        # True ✅\n",
    "print(f\"x is not y: {x is not y}\")  # False ❌\n",
    "print()\n",
    "\n",
    "# Example 2: When x and z point to different objects with same content\n",
    "z = [1, 2, 3]\n",
    "\n",
    "print(\"Example 2:\")\n",
    "print(f\"x == z: {x == z}\")        # True (contents are equal)\n",
    "print(f\"x is z: {x is z}\")        # False (different objects in memory)\n",
    "print(f\"x is not z: {x is not z}\")  # True\n"
   ],
   "id": "348e5e85e1b5fc0d",
   "outputs": [
    {
     "name": "stdout",
     "output_type": "stream",
     "text": [
      "Example 1:\n",
      "x is y: True\n",
      "x is not y: False\n",
      "\n",
      "Example 2:\n",
      "x == z: True\n",
      "x is z: False\n",
      "x is not z: True\n"
     ]
    }
   ],
   "execution_count": 37
  },
  {
   "metadata": {},
   "cell_type": "markdown",
   "source": [
    "---\n",
    "\n",
    "## 🔍 Membership Operators\n",
    "\n",
    "Membership operators test if a value is part of a sequence:\n",
    "\n",
    "| Operator | Description                              | Example             |\n",
    "|----------|------------------------------------------|---------------------|\n",
    "| `in`     | 🔍 True if value is found in the sequence | `\"a\" in \"apple\"`    |\n",
    "| `not in` | 🚫 True if value is **not** found         | `\"x\" not in \"apple\"`|\n",
    "\n",
    "<img src=\"https://media2.giphy.com/media/QssGEmpkyEOhBCb7e1/giphy.gif?cid=ecf05e47a0n3gi1bfqntqmob8g9aid1oyj2wr3ds3mg700bl&rid=giphy.gif\" width=\"22px\" align=\"top\"/> **Code**"
   ],
   "id": "3dc4ffbfb194e43a"
  },
  {
   "metadata": {
    "ExecuteTime": {
     "end_time": "2025-06-25T07:59:13.160434Z",
     "start_time": "2025-06-25T07:59:13.147864Z"
    }
   },
   "cell_type": "code",
   "source": [
    "text = \"apple\"\n",
    "letters = ['a', 'e', 'i', 'o', 'u']\n",
    "\n",
    "# Using `in`\n",
    "print(f\"'a' in text ➝ {'a' in text}\")           # True ✅\n",
    "print(f\"'x' in text ➝ {'x' in text}\")           # False ❌\n",
    "\n",
    "# Using `not in`\n",
    "print(f\"'x' not in text ➝ {'x' not in text}\")   # True ✅\n",
    "print(f\"'p' not in text ➝ {'p' not in text}\")   # False ❌\n",
    "\n",
    "# With a list\n",
    "print(f\"'e' in letters ➝ {'e' in letters}\")     # True ✅\n",
    "print(f\"'z' not in letters ➝ {'z' not in letters}\") # True ✅\n"
   ],
   "id": "a1d6eabb1efd7d5f",
   "outputs": [
    {
     "name": "stdout",
     "output_type": "stream",
     "text": [
      "'a' in text ➝ True\n",
      "'x' in text ➝ False\n",
      "'x' not in text ➝ True\n",
      "'p' not in text ➝ False\n",
      "'e' in letters ➝ True\n",
      "'z' not in letters ➝ True\n"
     ]
    }
   ],
   "execution_count": 41
  },
  {
   "metadata": {},
   "cell_type": "markdown",
   "source": [
    "---\n",
    "\n",
    "## 🧠 Bitwise Operators\n",
    "\n",
    "Bitwise operators work on binary representations of integers:\n",
    "\n",
    "| Operator | Name         | Example   |\n",
    "|-------|--------------|-----------|\n",
    "| `&`   | AND          | `x & y`   |\n",
    "|      | OR            |    |\n",
    "| `^`   | XOR          | `x ^ y`   |\n",
    "| `~`   | NOT          | `~x`      |\n",
    "| `<<`  | Left Shift   | `x << 2`  |\n",
    "| `>>`  | Right Shift  | `x >> 2`  |\n",
    "\n",
    "<img src=\"https://media2.giphy.com/media/QssGEmpkyEOhBCb7e1/giphy.gif?cid=ecf05e47a0n3gi1bfqntqmob8g9aid1oyj2wr3ds3mg700bl&rid=giphy.gif\" width=\"22px\" align=\"top\"/> **Code**"
   ],
   "id": "67ff6b1c0a8b9cba"
  },
  {
   "metadata": {
    "ExecuteTime": {
     "end_time": "2025-06-25T08:09:11.794032Z",
     "start_time": "2025-06-25T08:09:11.699199Z"
    }
   },
   "cell_type": "code",
   "source": [
    "x = 10  # binary: 1010\n",
    "y = 4   # binary: 0100\n",
    "\n",
    "print(f\"x = {x} ({bin(x)})\")\n",
    "print(f\"y = {y} ({bin(y)})\")\n",
    "print()\n",
    "\n",
    "# AND\n",
    "print(f\"x & y = {x & y} ({bin(x & y)})   # 1010 & 0100 = 0000 0100\")\n",
    "\n",
    "# OR\n",
    "print(f\"x | y = {x | y} ({bin(x | y)})   # 1010 | 0100 = 0000 1110\")\n",
    "\n",
    "# XOR\n",
    "print(f\"x ^ y = {x ^ y} ({bin(x ^ y)})   # 1010 ^ 0100 = 0000 1010\")\n",
    "\n",
    "# NOT (inverts all bits and returns 2's complement)\n",
    "print(f\"~x = {~x} ({bin(~x)})            # ~1010 = -(1011) = -11\")\n",
    "\n",
    "# Left Shift\n",
    "print(f\"x << 2 = {x << 2} ({bin(x << 2)})  # 1010 << 2 = 101000 = 40\")\n",
    "\n",
    "# Right Shift\n",
    "print(f\"x >> 2 = {x >> 2} ({bin(x >> 2)})  # 1010 >> 2 = 0010 = 2\")\n"
   ],
   "id": "58ccc7708394fb48",
   "outputs": [
    {
     "name": "stdout",
     "output_type": "stream",
     "text": [
      "x = 10 (0b1010)\n",
      "y = 4 (0b100)\n",
      "\n",
      "x & y = 0 (0b0)   # 1010 & 0100 = 0000 0100\n",
      "x | y = 14 (0b1110)   # 1010 | 0100 = 0000 1110\n",
      "x ^ y = 14 (0b1110)   # 1010 ^ 0100 = 0000 1010\n",
      "~x = -11 (-0b1011)            # ~1010 = -(1011) = -11\n",
      "x << 2 = 40 (0b101000)  # 1010 << 2 = 101000 = 40\n",
      "x >> 2 = 2 (0b10)  # 1010 >> 2 = 0010 = 2\n"
     ]
    }
   ],
   "execution_count": 42
  },
  {
   "metadata": {},
   "cell_type": "markdown",
   "source": "",
   "id": "5e7e19f219fcff45"
  }
 ],
 "metadata": {
  "kernelspec": {
   "display_name": "Python 3",
   "language": "python",
   "name": "python3"
  },
  "language_info": {
   "codemirror_mode": {
    "name": "ipython",
    "version": 2
   },
   "file_extension": ".py",
   "mimetype": "text/x-python",
   "name": "python",
   "nbconvert_exporter": "python",
   "pygments_lexer": "ipython2",
   "version": "2.7.6"
  }
 },
 "nbformat": 4,
 "nbformat_minor": 5
}

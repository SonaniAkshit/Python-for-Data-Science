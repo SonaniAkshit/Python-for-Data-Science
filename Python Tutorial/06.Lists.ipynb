{
 "cells": [
  {
   "metadata": {},
   "cell_type": "markdown",
   "source": [
    "# 📋 Python Lists\n",
    "---\n",
    "A **list** is a collection that is:\n",
    "- **Ordered** ✅\n",
    "- **Mutable** ✔️ (changed after creation)\n",
    "- Allows **duplicate values** ✅\n",
    "\n",
    "List are written with square brackets `[]`.\n",
    "\n",
    "<img src=\"https://media2.giphy.com/media/QssGEmpkyEOhBCb7e1/giphy.gif?cid=ecf05e47a0n3gi1bfqntqmob8g9aid1oyj2wr3ds3mg700bl&rid=giphy.gif\" width=\"22px\" align=\"top\"/> **Code**"
   ],
   "id": "eb6ea3d4c807afc1"
  },
  {
   "metadata": {
    "ExecuteTime": {
     "end_time": "2025-06-26T07:38:11.897545Z",
     "start_time": "2025-06-26T07:38:11.870380Z"
    }
   },
   "cell_type": "code",
   "source": [
    "mylist = ['apple','banana','orange']\n",
    "print(mylist)"
   ],
   "id": "507e5904e8f23f38",
   "outputs": [
    {
     "name": "stdout",
     "output_type": "stream",
     "text": [
      "['apple', 'banana', 'orange']\n"
     ]
    }
   ],
   "execution_count": 34
  },
  {
   "metadata": {},
   "cell_type": "markdown",
   "source": [
    "### List Items\n",
    "List items are ordered, changeable, and allow duplicate values.\n",
    "\n",
    "List items are indexed, the first item has index `[0]`, the second item has index `[1]` etc.\n",
    "\n",
    "### Ordered\n",
    "When we say that lists are ordered, it means that the items have a defined order, and that order will not change.\n",
    "\n",
    "If you add new items to a list, the new items will be placed at the end of the list.\n",
    "\n",
    "> **Note:** There are some list methods that will change the order, but in general: the order of the items will not change.\n",
    "\n",
    "### Changeable\n",
    "The list is changeable, meaning that we can change, add, and remove items in a list after it has been created.\n",
    "\n",
    "### Allow Duplicates\n",
    "Since lists are indexed, lists can have items with the same value:\n",
    "\n",
    "<img src=\"https://media2.giphy.com/media/QssGEmpkyEOhBCb7e1/giphy.gif?cid=ecf05e47a0n3gi1bfqntqmob8g9aid1oyj2wr3ds3mg700bl&rid=giphy.gif\" width=\"22px\" align=\"top\"/> **Code**"
   ],
   "id": "4f42b25b1e946bc8"
  },
  {
   "metadata": {
    "ExecuteTime": {
     "end_time": "2025-06-25T08:31:02.182586Z",
     "start_time": "2025-06-25T08:31:02.175490Z"
    }
   },
   "cell_type": "code",
   "source": [
    "list = [\"apple\", \"banana\", \"cherry\", \"apple\", \"cherry\"]\n",
    "print(list)"
   ],
   "id": "63b1e95628b9777c",
   "outputs": [
    {
     "name": "stdout",
     "output_type": "stream",
     "text": [
      "['apple', 'banana', 'cherry', 'apple', 'cherry']\n"
     ]
    }
   ],
   "execution_count": 11
  },
  {
   "metadata": {},
   "cell_type": "markdown",
   "source": [
    "### List Length\n",
    "To determine how many items a list has, use the len() function:\n",
    "\n",
    "<img src=\"https://media2.giphy.com/media/QssGEmpkyEOhBCb7e1/giphy.gif?cid=ecf05e47a0n3gi1bfqntqmob8g9aid1oyj2wr3ds3mg700bl&rid=giphy.gif\" width=\"22px\" align=\"top\"/> **Code**"
   ],
   "id": "d69f62b9bf491fdf"
  },
  {
   "metadata": {
    "ExecuteTime": {
     "end_time": "2025-06-25T08:33:33.834396Z",
     "start_time": "2025-06-25T08:33:33.818447Z"
    }
   },
   "cell_type": "code",
   "source": [
    "print(len(mylist))\n",
    "print(len(list))"
   ],
   "id": "442cbcaf62177ecf",
   "outputs": [
    {
     "name": "stdout",
     "output_type": "stream",
     "text": [
      "3\n",
      "5\n"
     ]
    }
   ],
   "execution_count": 12
  },
  {
   "metadata": {},
   "cell_type": "markdown",
   "source": [
    "### List Items - Data Types\n",
    "List items can be of any data type:\n",
    "\n",
    "<img src=\"https://media2.giphy.com/media/QssGEmpkyEOhBCb7e1/giphy.gif?cid=ecf05e47a0n3gi1bfqntqmob8g9aid1oyj2wr3ds3mg700bl&rid=giphy.gif\" width=\"22px\" align=\"top\"/> **Code**"
   ],
   "id": "cb435b6ff7d53664"
  },
  {
   "metadata": {
    "ExecuteTime": {
     "end_time": "2025-06-25T08:34:29.506977Z",
     "start_time": "2025-06-25T08:34:29.497519Z"
    }
   },
   "cell_type": "code",
   "source": [
    "list1 = [\"apple\", \"banana\", \"cherry\"]\n",
    "list2 = [1, 5, 7, 9, 3]\n",
    "list3 = [True, False, False]"
   ],
   "id": "6527e9e8e15e6bda",
   "outputs": [],
   "execution_count": 13
  },
  {
   "metadata": {},
   "cell_type": "markdown",
   "source": "A list can contain different data types:",
   "id": "4e489eb5798ade2"
  },
  {
   "metadata": {
    "ExecuteTime": {
     "end_time": "2025-06-25T08:34:55.053513Z",
     "start_time": "2025-06-25T08:34:55.045848Z"
    }
   },
   "cell_type": "code",
   "source": "list1 = [\"abc\", 34, True, 40, \"male\"]\n",
   "id": "47e0f49ab348ab57",
   "outputs": [],
   "execution_count": 14
  },
  {
   "metadata": {},
   "cell_type": "markdown",
   "source": [
    "### type()\n",
    "From Python's perspective, lists are defined as objects with the data type 'list':\n",
    "\n",
    "<img src=\"https://media2.giphy.com/media/QssGEmpkyEOhBCb7e1/giphy.gif?cid=ecf05e47a0n3gi1bfqntqmob8g9aid1oyj2wr3ds3mg700bl&rid=giphy.gif\" width=\"22px\" align=\"top\"/> **Code**"
   ],
   "id": "5b36bfbac3eca8ed"
  },
  {
   "metadata": {
    "ExecuteTime": {
     "end_time": "2025-06-25T08:35:47.031347Z",
     "start_time": "2025-06-25T08:35:47.016445Z"
    }
   },
   "cell_type": "code",
   "source": "type(list1)",
   "id": "2017fa88b9e70a5e",
   "outputs": [
    {
     "data": {
      "text/plain": [
       "list"
      ]
     },
     "execution_count": 15,
     "metadata": {},
     "output_type": "execute_result"
    }
   ],
   "execution_count": 15
  },
  {
   "metadata": {
    "ExecuteTime": {
     "end_time": "2025-06-25T08:36:09.090050Z",
     "start_time": "2025-06-25T08:36:09.079070Z"
    }
   },
   "cell_type": "code",
   "source": "print(type(list1))",
   "id": "4debc42e3c96cc69",
   "outputs": [
    {
     "name": "stdout",
     "output_type": "stream",
     "text": [
      "<class 'list'>\n"
     ]
    }
   ],
   "execution_count": 17
  },
  {
   "metadata": {},
   "cell_type": "markdown",
   "source": [
    "### Python Collections (Arrays)\n",
    "There are four collection data types in the Python programming language:\n",
    "\n",
    "- **List** is a collection which is ordered and changeable. Allows duplicate members.\n",
    "- **Tuple** is a collection which is ordered and unchangeable. Allows duplicate members.\n",
    "- **Set** is a collection which is unordered, unchangeable*, and unindexed. No duplicate members.\n",
    "- **Dictionary** is a collection which is ordered** and changeable. No duplicate members."
   ],
   "id": "fad938ecac7148ec"
  },
  {
   "metadata": {},
   "cell_type": "markdown",
   "source": [
    "---\n",
    "\n",
    "## 📚 Python - Access List Items\n",
    "---\n",
    "\n",
    "You can access items in a list by referring to their index number, enclosed in square brackets `[]`.\n",
    "\n",
    "### 🧠 Indexing Rules\n",
    "\n",
    "| Type          | Description                       | Example    |\n",
    "| ------------- | --------------------------------- | ---------- |\n",
    "| `my_list[0]`  | 📍 First item (index starts at 0) | `\"apple\"`  |\n",
    "| `my_list[1]`  | 📍 Second item                    | `\"banana\"` |\n",
    "| `my_list[-1]` | 🔚 Last item                      | `\"cherry\"` |\n",
    "| `my_list[-2]` | 🔙 Second last item               | `\"banana\"` |\n",
    "\n",
    "<img src=\"https://media2.giphy.com/media/QssGEmpkyEOhBCb7e1/giphy.gif?cid=ecf05e47a0n3gi1bfqntqmob8g9aid1oyj2wr3ds3mg700bl&rid=giphy.gif\" width=\"22px\" align=\"top\"/> **Code**\n"
   ],
   "id": "b57f0438baa27729"
  },
  {
   "metadata": {
    "ExecuteTime": {
     "end_time": "2025-06-25T09:23:56.114287Z",
     "start_time": "2025-06-25T09:23:56.104065Z"
    }
   },
   "cell_type": "code",
   "source": [
    "my_list=['apple','banana','cherry','banana']\n",
    "print(my_list)\n",
    "print()\n",
    "print(\"List positive indexing:\")\n",
    "print(my_list[0])\n",
    "print(my_list[1])\n",
    "print(my_list[2])\n",
    "print(my_list[3])\n",
    "print()\n",
    "print(\"List negative indexing:\")\n",
    "print(my_list[-1])\n",
    "print(my_list[-2])\n",
    "print(my_list[-3])\n",
    "print(my_list[-4])\n"
   ],
   "id": "4dd8782d944ee1ee",
   "outputs": [
    {
     "name": "stdout",
     "output_type": "stream",
     "text": [
      "['apple', 'banana', 'cherry', 'banana']\n",
      "\n",
      "List positive indexing:\n",
      "apple\n",
      "banana\n",
      "cherry\n",
      "banana\n",
      "\n",
      "List negative indexing:\n",
      "banana\n",
      "cherry\n",
      "banana\n",
      "apple\n"
     ]
    }
   ],
   "execution_count": 11
  },
  {
   "metadata": {},
   "cell_type": "markdown",
   "source": [
    "---\n",
    "\n",
    "## ✏️ Python - Change List Items\n",
    "---\n",
    "### 🔄 Modify a Single Item\n",
    "You can change the value of a specific item by referring to its **index number**.\n",
    "\n",
    "<img src=\"https://media2.giphy.com/media/QssGEmpkyEOhBCb7e1/giphy.gif?cid=ecf05e47a0n3gi1bfqntqmob8g9aid1oyj2wr3ds3mg700bl&rid=giphy.gif\" width=\"22px\" align=\"top\"/> **Code**"
   ],
   "id": "1fdc5fd9d5954ea4"
  },
  {
   "metadata": {
    "ExecuteTime": {
     "end_time": "2025-06-25T09:53:48.725447Z",
     "start_time": "2025-06-25T09:53:48.711450Z"
    }
   },
   "cell_type": "code",
   "source": [
    "fruits = ['apple','banana','orange']\n",
    "fruits[1] = \"mengo\"\n",
    "fruits # print"
   ],
   "id": "a11b99dd6fc5dc0c",
   "outputs": [
    {
     "data": {
      "text/plain": [
       "['apple', 'mengo', 'orange']"
      ]
     },
     "execution_count": 35,
     "metadata": {},
     "output_type": "execute_result"
    }
   ],
   "execution_count": 35
  },
  {
   "metadata": {},
   "cell_type": "markdown",
   "source": [
    "---\n",
    "\n",
    "### 🔁 Change a Range of Items\n",
    "You can also update multiple items at once by specifying a **range of indexes**:\n",
    "\n",
    "<img src=\"https://media2.giphy.com/media/QssGEmpkyEOhBCb7e1/giphy.gif?cid=ecf05e47a0n3gi1bfqntqmob8g9aid1oyj2wr3ds3mg700bl&rid=giphy.gif\" width=\"22px\" align=\"top\"/> **Code**"
   ],
   "id": "e41b62be4c4a9e7a"
  },
  {
   "metadata": {
    "ExecuteTime": {
     "end_time": "2025-06-25T09:34:04.075559Z",
     "start_time": "2025-06-25T09:34:04.065333Z"
    }
   },
   "cell_type": "code",
   "source": [
    "fruits = ['apple','banana','orange','cherry']\n",
    "fruits[1:3] = ['mengo','kiwi']\n",
    "fruits # print"
   ],
   "id": "8e95aee895b67825",
   "outputs": [
    {
     "data": {
      "text/plain": [
       "['apple', 'mengo', 'kiwi', 'cherry']"
      ]
     },
     "execution_count": 19,
     "metadata": {},
     "output_type": "execute_result"
    }
   ],
   "execution_count": 19
  },
  {
   "metadata": {},
   "cell_type": "markdown",
   "source": [
    "---\n",
    "\n",
    "### 🔄 Replace with More or Fewer Items\n",
    "You can even **replace a range** with a different number of items:\n",
    "\n",
    "<img src=\"https://media2.giphy.com/media/QssGEmpkyEOhBCb7e1/giphy.gif?cid=ecf05e47a0n3gi1bfqntqmob8g9aid1oyj2wr3ds3mg700bl&rid=giphy.gif\" width=\"22px\" align=\"top\"/> **Code**"
   ],
   "id": "bc6269e8f3cfd872"
  },
  {
   "metadata": {
    "ExecuteTime": {
     "end_time": "2025-06-25T09:36:22.813926Z",
     "start_time": "2025-06-25T09:36:22.804351Z"
    }
   },
   "cell_type": "code",
   "source": [
    "fruits = ['apple','banana','orange']\n",
    "fruits[1:2] = ['kiwi','pineapple']\n",
    "fruits # print"
   ],
   "id": "5d91209093bc3500",
   "outputs": [
    {
     "data": {
      "text/plain": [
       "['apple', 'kiwi', 'pineapple', 'orange']"
      ]
     },
     "execution_count": 21,
     "metadata": {},
     "output_type": "execute_result"
    }
   ],
   "execution_count": 21
  },
  {
   "metadata": {},
   "cell_type": "markdown",
   "source": [
    "---\n",
    "\n",
    "## ➕ Python - Add List Items\n",
    "\n",
    "You can add items to a list using different methods depending on your needs.\n",
    "\n",
    "---\n",
    "### 1️⃣ `append()` - Add Single Item to End\n",
    "\n",
    "<img src=\"https://media2.giphy.com/media/QssGEmpkyEOhBCb7e1/giphy.gif?cid=ecf05e47a0n3gi1bfqntqmob8g9aid1oyj2wr3ds3mg700bl&rid=giphy.gif\" width=\"22px\" align=\"top\"/> **Code**"
   ],
   "id": "7649497dad6aabe4"
  },
  {
   "metadata": {
    "ExecuteTime": {
     "end_time": "2025-06-25T09:43:21.000861Z",
     "start_time": "2025-06-25T09:43:20.985019Z"
    }
   },
   "cell_type": "code",
   "source": [
    "fruits = ['apple','kiwi']\n",
    "fruits.append('pineapple')\n",
    "fruits"
   ],
   "id": "719a6f641ff0d602",
   "outputs": [
    {
     "data": {
      "text/plain": [
       "['apple', 'kiwi', 'pineapple']"
      ]
     },
     "execution_count": 22,
     "metadata": {},
     "output_type": "execute_result"
    }
   ],
   "execution_count": 22
  },
  {
   "metadata": {},
   "cell_type": "markdown",
   "source": [
    "---\n",
    "\n",
    "### 2️⃣ `insert()` - Add Item at Specific Index\n",
    "\n",
    "<img src=\"https://media2.giphy.com/media/QssGEmpkyEOhBCb7e1/giphy.gif?cid=ecf05e47a0n3gi1bfqntqmob8g9aid1oyj2wr3ds3mg700bl&rid=giphy.gif\" width=\"22px\" align=\"top\"/> **Code**"
   ],
   "id": "88a0773ce25e8b52"
  },
  {
   "metadata": {
    "ExecuteTime": {
     "end_time": "2025-06-25T09:45:49.653865Z",
     "start_time": "2025-06-25T09:45:49.642231Z"
    }
   },
   "cell_type": "code",
   "source": [
    "fruits = ['apple','kiwi','pineapple']\n",
    "fruits.insert(0,'mengo')\n",
    "fruits"
   ],
   "id": "2842ed55408edcd9",
   "outputs": [
    {
     "data": {
      "text/plain": [
       "['mengo', 'apple', 'kiwi', 'pineapple']"
      ]
     },
     "execution_count": 25,
     "metadata": {},
     "output_type": "execute_result"
    }
   ],
   "execution_count": 25
  },
  {
   "metadata": {},
   "cell_type": "markdown",
   "source": [
    "---\n",
    "\n",
    "### 3️⃣ `extend()` - Add Items from Another List\n",
    "\n",
    "\n",
    "<img src=\"https://media2.giphy.com/media/QssGEmpkyEOhBCb7e1/giphy.gif?cid=ecf05e47a0n3gi1bfqntqmob8g9aid1oyj2wr3ds3mg700bl&rid=giphy.gif\" width=\"22px\" align=\"top\"/> **Code**"
   ],
   "id": "129024ea5c246096"
  },
  {
   "metadata": {
    "ExecuteTime": {
     "end_time": "2025-06-25T09:51:19.398285Z",
     "start_time": "2025-06-25T09:51:19.389745Z"
    }
   },
   "cell_type": "code",
   "source": [
    "fruits = ['apple','kiwi','pineapple']\n",
    "tropical = ['mengo','chery']\n",
    "fruits.extend(tropical)\n",
    "fruits"
   ],
   "id": "87ac6ef31f37e846",
   "outputs": [
    {
     "data": {
      "text/plain": [
       "['apple', 'kiwi', 'pineapple', 'mengo', 'chery']"
      ]
     },
     "execution_count": 32,
     "metadata": {},
     "output_type": "execute_result"
    }
   ],
   "execution_count": 32
  },
  {
   "metadata": {
    "ExecuteTime": {
     "end_time": "2025-06-25T09:51:21.651077Z",
     "start_time": "2025-06-25T09:51:21.641893Z"
    }
   },
   "cell_type": "code",
   "source": [
    "fruits = ['apple','kiwi','pineapple']\n",
    "tropical = ['mengo','chery']\n",
    "anothor = ['banana']\n",
    "fruits.extend(tropical)\n",
    "fruits.extend(anothor)\n",
    "fruits"
   ],
   "id": "d7353aef68fc9320",
   "outputs": [
    {
     "data": {
      "text/plain": [
       "['apple', 'kiwi', 'pineapple', 'mengo', 'chery', 'banana']"
      ]
     },
     "execution_count": 33,
     "metadata": {},
     "output_type": "execute_result"
    }
   ],
   "execution_count": 33
  },
  {
   "metadata": {
    "ExecuteTime": {
     "end_time": "2025-06-25T09:51:32.276530Z",
     "start_time": "2025-06-25T09:51:32.256776Z"
    }
   },
   "cell_type": "code",
   "source": [
    "fruits = ['apple','kiwi','pineapple']\n",
    "fruits.extend('pineapple')\n",
    "fruits"
   ],
   "id": "824f094b97b6ad1d",
   "outputs": [
    {
     "data": {
      "text/plain": [
       "['apple', 'kiwi', 'pineapple', 'p', 'i', 'n', 'e', 'a', 'p', 'p', 'l', 'e']"
      ]
     },
     "execution_count": 34,
     "metadata": {},
     "output_type": "execute_result"
    }
   ],
   "execution_count": 34
  },
  {
   "metadata": {},
   "cell_type": "markdown",
   "source": [
    "### 💡 Tip:\n",
    "- Use `append()` to add one item.\n",
    "- Use `insert()` to control where it's added.\n",
    "- Use `extend()` to merge multiple items at once.\n",
    "\n",
    "---"
   ],
   "id": "940cf3d7bfa6c34e"
  },
  {
   "metadata": {},
   "cell_type": "markdown",
   "source": [
    "## 🗑️ Python - Remove List Items\n",
    "\n",
    "You can remove items from a list using different methods depending on the use case.\n",
    "\n",
    "---\n",
    "\n",
    "### 1️⃣ `remove()` - Remove by Value\n",
    "\n",
    "<img src=\"https://media2.giphy.com/media/QssGEmpkyEOhBCb7e1/giphy.gif?cid=ecf05e47a0n3gi1bfqntqmob8g9aid1oyj2wr3ds3mg700bl&rid=giphy.gif\" width=\"22px\" align=\"top\"/> **Code**"
   ],
   "id": "e2de3197f49830bc"
  },
  {
   "metadata": {
    "ExecuteTime": {
     "end_time": "2025-06-25T10:08:30.104422Z",
     "start_time": "2025-06-25T10:08:30.089985Z"
    }
   },
   "cell_type": "code",
   "source": [
    "fruits = ['apple','kiwi','pineapple']\n",
    "fruits.remove('apple')\n",
    "fruits"
   ],
   "id": "9d30beee07db3595",
   "outputs": [
    {
     "data": {
      "text/plain": [
       "['kiwi', 'pineapple']"
      ]
     },
     "execution_count": 37,
     "metadata": {},
     "output_type": "execute_result"
    }
   ],
   "execution_count": 37
  },
  {
   "metadata": {},
   "cell_type": "markdown",
   "source": [
    "---\n",
    "\n",
    "### 2️⃣ `pop()` - Remove by Index (Default: Last Item)\n",
    "\n",
    "<img src=\"https://media2.giphy.com/media/QssGEmpkyEOhBCb7e1/giphy.gif?cid=ecf05e47a0n3gi1bfqntqmob8g9aid1oyj2wr3ds3mg700bl&rid=giphy.gif\" width=\"22px\" align=\"top\"/> **Code**"
   ],
   "id": "c11059e3383d014a"
  },
  {
   "metadata": {
    "ExecuteTime": {
     "end_time": "2025-06-25T10:09:55.948695Z",
     "start_time": "2025-06-25T10:09:55.938504Z"
    }
   },
   "cell_type": "code",
   "source": [
    "fruits = ['apple','kiwi','pineapple']\n",
    "fruits.pop()\n",
    "fruits"
   ],
   "id": "9f0cddcb65213a",
   "outputs": [
    {
     "data": {
      "text/plain": [
       "['apple', 'kiwi']"
      ]
     },
     "execution_count": 38,
     "metadata": {},
     "output_type": "execute_result"
    }
   ],
   "execution_count": 38
  },
  {
   "metadata": {
    "ExecuteTime": {
     "end_time": "2025-06-25T10:11:24.489108Z",
     "start_time": "2025-06-25T10:11:24.477771Z"
    }
   },
   "cell_type": "code",
   "source": [
    "fruits.pop(0)\n",
    "fruits"
   ],
   "id": "442ef97d31a050f2",
   "outputs": [
    {
     "data": {
      "text/plain": [
       "['kiwi']"
      ]
     },
     "execution_count": 39,
     "metadata": {},
     "output_type": "execute_result"
    }
   ],
   "execution_count": 39
  },
  {
   "metadata": {},
   "cell_type": "markdown",
   "source": [
    "---\n",
    "\n",
    "### 3️⃣ `del` - Delete by Index or Entire List\n",
    "\n",
    "<img src=\"https://media2.giphy.com/media/QssGEmpkyEOhBCb7e1/giphy.gif?cid=ecf05e47a0n3gi1bfqntqmob8g9aid1oyj2wr3ds3mg700bl&rid=giphy.gif\" width=\"22px\" align=\"top\"/> **Code**"
   ],
   "id": "e2713ff6692a0b38"
  },
  {
   "metadata": {
    "ExecuteTime": {
     "end_time": "2025-06-25T10:13:22.378848Z",
     "start_time": "2025-06-25T10:13:22.354162Z"
    }
   },
   "cell_type": "code",
   "source": [
    "fruits = ['apple','kiwi','pineapple']\n",
    "\n",
    "del fruits[0]\n",
    "fruits"
   ],
   "id": "43862a972abd7f3d",
   "outputs": [
    {
     "data": {
      "text/plain": [
       "['kiwi', 'pineapple']"
      ]
     },
     "execution_count": 41,
     "metadata": {},
     "output_type": "execute_result"
    }
   ],
   "execution_count": 41
  },
  {
   "metadata": {
    "ExecuteTime": {
     "end_time": "2025-06-25T10:14:13.806643Z",
     "start_time": "2025-06-25T10:14:13.726217Z"
    }
   },
   "cell_type": "code",
   "source": [
    "del fruits # 🗑️ Deleted the entire list (⚠️ can't access it after this)\n",
    "fruits"
   ],
   "id": "79cb2465fa2f06d8",
   "outputs": [
    {
     "ename": "NameError",
     "evalue": "name 'fruits' is not defined",
     "output_type": "error",
     "traceback": [
      "\u001B[1;31m---------------------------------------------------------------------------\u001B[0m",
      "\u001B[1;31mNameError\u001B[0m                                 Traceback (most recent call last)",
      "Cell \u001B[1;32mIn[44], line 1\u001B[0m\n\u001B[1;32m----> 1\u001B[0m \u001B[38;5;28;01mdel\u001B[39;00m \u001B[43mfruits\u001B[49m \u001B[38;5;66;03m# 🗑️ Deleted the entire list (⚠️ can't access it after this)\u001B[39;00m\n\u001B[0;32m      2\u001B[0m fruits\n",
      "\u001B[1;31mNameError\u001B[0m: name 'fruits' is not defined"
     ]
    }
   ],
   "execution_count": 44
  },
  {
   "metadata": {},
   "cell_type": "markdown",
   "source": [
    "---\n",
    "\n",
    "### 4️⃣ `clear()` - Empty the List\n",
    "\n",
    "<img src=\"https://media2.giphy.com/media/QssGEmpkyEOhBCb7e1/giphy.gif?cid=ecf05e47a0n3gi1bfqntqmob8g9aid1oyj2wr3ds3mg700bl&rid=giphy.gif\" width=\"22px\" align=\"top\"/> **Code**"
   ],
   "id": "d6b00df69f5d8f2e"
  },
  {
   "metadata": {
    "ExecuteTime": {
     "end_time": "2025-06-25T10:15:30.665741Z",
     "start_time": "2025-06-25T10:15:30.640844Z"
    }
   },
   "cell_type": "code",
   "source": [
    "fruits = ['apple','kiwi','pineapple']\n",
    "fruits.clear()\n",
    "fruits"
   ],
   "id": "8b973d6bda3d83ea",
   "outputs": [
    {
     "data": {
      "text/plain": [
       "[]"
      ]
     },
     "execution_count": 45,
     "metadata": {},
     "output_type": "execute_result"
    }
   ],
   "execution_count": 45
  },
  {
   "metadata": {},
   "cell_type": "markdown",
   "source": [
    "### 💡 Tip:\n",
    "- `remove()` deletes by value (first match only)\n",
    "- `pop()` deletes by index and returns the removed item\n",
    "- `del` removes by index or entire list\n",
    "- `clear()` wipes the list clean, keeping it defined\n",
    "\n",
    "---\n",
    "\n",
    "## 🔁 Python - Loop Through Lists\n",
    "\n",
    "You can loop through list items using different methods in Python.\n",
    "\n",
    "---\n",
    "### 1️⃣ `for` Loop\n",
    "<img src=\"https://media2.giphy.com/media/QssGEmpkyEOhBCb7e1/giphy.gif?cid=ecf05e47a0n3gi1bfqntqmob8g9aid1oyj2wr3ds3mg700bl&rid=giphy.gif\" width=\"22px\" align=\"top\"/> **Code**"
   ],
   "id": "7ba39631b4c0f975"
  },
  {
   "metadata": {
    "ExecuteTime": {
     "end_time": "2025-06-25T10:27:51.754394Z",
     "start_time": "2025-06-25T10:27:51.746238Z"
    }
   },
   "cell_type": "code",
   "source": [
    "fruits = ['🥝','🥥','🍇','🍉','🥭','🍎','🍑','🍒','🍓']\n",
    "\n",
    "for fruit in fruits:\n",
    "    print(fruit)"
   ],
   "id": "54d8c931f63cc83",
   "outputs": [
    {
     "name": "stdout",
     "output_type": "stream",
     "text": [
      "🥝\n",
      "🥥\n",
      "🍇\n",
      "🍉\n",
      "🥭\n",
      "🍎\n",
      "🍑\n",
      "🍒\n",
      "🍓\n"
     ]
    }
   ],
   "execution_count": 67
  },
  {
   "metadata": {
    "ExecuteTime": {
     "end_time": "2025-06-25T10:27:44.598101Z",
     "start_time": "2025-06-25T10:27:44.583288Z"
    }
   },
   "cell_type": "code",
   "source": [
    "fruits = ['🥝','🥥','🍇','🍉','🥭','🍎','🍑','🍒','🍓']\n",
    "\n",
    "for fruit in fruits:\n",
    "    print(fruits)"
   ],
   "id": "bfaf1b4ea82e441f",
   "outputs": [
    {
     "name": "stdout",
     "output_type": "stream",
     "text": [
      "['🥝', '🥥', '🍇', '🍉', '🥭', '🍎', '🍑', '🍒', '🍓']\n",
      "['🥝', '🥥', '🍇', '🍉', '🥭', '🍎', '🍑', '🍒', '🍓']\n",
      "['🥝', '🥥', '🍇', '🍉', '🥭', '🍎', '🍑', '🍒', '🍓']\n",
      "['🥝', '🥥', '🍇', '🍉', '🥭', '🍎', '🍑', '🍒', '🍓']\n",
      "['🥝', '🥥', '🍇', '🍉', '🥭', '🍎', '🍑', '🍒', '🍓']\n",
      "['🥝', '🥥', '🍇', '🍉', '🥭', '🍎', '🍑', '🍒', '🍓']\n",
      "['🥝', '🥥', '🍇', '🍉', '🥭', '🍎', '🍑', '🍒', '🍓']\n",
      "['🥝', '🥥', '🍇', '🍉', '🥭', '🍎', '🍑', '🍒', '🍓']\n",
      "['🥝', '🥥', '🍇', '🍉', '🥭', '🍎', '🍑', '🍒', '🍓']\n"
     ]
    }
   ],
   "execution_count": 66
  },
  {
   "metadata": {},
   "cell_type": "markdown",
   "source": [
    "---\n",
    "### 2️⃣ Loop Through Index Numbers with `range()` and `len()`\n",
    "<img src=\"https://media2.giphy.com/media/QssGEmpkyEOhBCb7e1/giphy.gif?cid=ecf05e47a0n3gi1bfqntqmob8g9aid1oyj2wr3ds3mg700bl&rid=giphy.gif\" width=\"22px\" align=\"top\"/> **Code**"
   ],
   "id": "cca2227b655a295b"
  },
  {
   "metadata": {
    "ExecuteTime": {
     "end_time": "2025-06-25T10:26:44.084886Z",
     "start_time": "2025-06-25T10:26:44.074442Z"
    }
   },
   "cell_type": "code",
   "source": [
    "fruits = ['apple','kiwi','banana','mengo']\n",
    "for i in range(len(fruits)):\n",
    "    print(fruits[i])"
   ],
   "id": "b0fc5096b90bbce7",
   "outputs": [
    {
     "name": "stdout",
     "output_type": "stream",
     "text": [
      "apple\n",
      "kiwi\n",
      "banana\n",
      "mengo\n"
     ]
    }
   ],
   "execution_count": 62
  },
  {
   "metadata": {
    "ExecuteTime": {
     "end_time": "2025-06-25T10:26:15.668356Z",
     "start_time": "2025-06-25T10:26:15.660784Z"
    }
   },
   "cell_type": "code",
   "source": [
    "fruits = ['apple','kiwi','banana','mengo']\n",
    "for i in range(len(fruits)):\n",
    "    print(i)"
   ],
   "id": "5a38bea3e3721e85",
   "outputs": [
    {
     "name": "stdout",
     "output_type": "stream",
     "text": [
      "0\n",
      "1\n",
      "2\n",
      "3\n"
     ]
    }
   ],
   "execution_count": 59
  },
  {
   "metadata": {
    "ExecuteTime": {
     "end_time": "2025-06-25T10:26:49.962164Z",
     "start_time": "2025-06-25T10:26:49.954523Z"
    }
   },
   "cell_type": "code",
   "source": [
    "fruits = ['apple','kiwi','banana','mengo']\n",
    "for i in range(len(fruits)):\n",
    "    print(i,end=': ')\n",
    "    print(fruits[i])"
   ],
   "id": "b2a96937cfadb452",
   "outputs": [
    {
     "name": "stdout",
     "output_type": "stream",
     "text": [
      "0: apple\n",
      "1: kiwi\n",
      "2: banana\n",
      "3: mengo\n"
     ]
    }
   ],
   "execution_count": 63
  },
  {
   "metadata": {},
   "cell_type": "markdown",
   "source": [
    "---\n",
    "### 3️⃣ Using `while` Loop\n",
    "<img src=\"https://media2.giphy.com/media/QssGEmpkyEOhBCb7e1/giphy.gif?cid=ecf05e47a0n3gi1bfqntqmob8g9aid1oyj2wr3ds3mg700bl&rid=giphy.gif\" width=\"22px\" align=\"top\"/> **Code**"
   ],
   "id": "9314b53526e0d67d"
  },
  {
   "metadata": {
    "ExecuteTime": {
     "end_time": "2025-06-25T10:30:43.249139Z",
     "start_time": "2025-06-25T10:30:43.241204Z"
    }
   },
   "cell_type": "code",
   "source": [
    "fruits = ['apple','kiwi','banana','mengo']\n",
    "i = 0\n",
    "while i < len(fruits):\n",
    "    print(fruits[i])\n",
    "    i += 1"
   ],
   "id": "214be891185fcd2b",
   "outputs": [
    {
     "name": "stdout",
     "output_type": "stream",
     "text": [
      "apple\n",
      "kiwi\n",
      "banana\n",
      "mengo\n"
     ]
    }
   ],
   "execution_count": 69
  },
  {
   "metadata": {
    "ExecuteTime": {
     "end_time": "2025-06-25T10:30:58.651185Z",
     "start_time": "2025-06-25T10:30:58.642012Z"
    }
   },
   "cell_type": "code",
   "source": [
    "fruits = ['apple','kiwi','banana','mengo']\n",
    "i = 0\n",
    "while i < len(fruits):\n",
    "    print(i)\n",
    "    i += 1"
   ],
   "id": "358d6d86ec0dbd7d",
   "outputs": [
    {
     "name": "stdout",
     "output_type": "stream",
     "text": [
      "0\n",
      "1\n",
      "2\n",
      "3\n"
     ]
    }
   ],
   "execution_count": 70
  },
  {
   "metadata": {
    "ExecuteTime": {
     "end_time": "2025-06-25T10:31:19.813523Z",
     "start_time": "2025-06-25T10:31:19.804739Z"
    }
   },
   "cell_type": "code",
   "source": [
    "fruits = ['apple','kiwi','banana','mengo']\n",
    "i = 0\n",
    "while i < len(fruits):\n",
    "    print(i,end=': ')\n",
    "    print(fruits[i])\n",
    "    i += 1"
   ],
   "id": "c480faa0d1318c9b",
   "outputs": [
    {
     "name": "stdout",
     "output_type": "stream",
     "text": [
      "0: apple\n",
      "1: kiwi\n",
      "2: banana\n",
      "3: mengo\n"
     ]
    }
   ],
   "execution_count": 71
  },
  {
   "metadata": {},
   "cell_type": "markdown",
   "source": [
    "---\n",
    "### 4️⃣ Loop with `enumerate()` — Get Index and Value\n",
    "\n",
    "<img src=\"https://media2.giphy.com/media/QssGEmpkyEOhBCb7e1/giphy.gif?cid=ecf05e47a0n3gi1bfqntqmob8g9aid1oyj2wr3ds3mg700bl&rid=giphy.gif\" width=\"22px\" align=\"top\"/> **Code**"
   ],
   "id": "d764e1e6950b467f"
  },
  {
   "metadata": {
    "ExecuteTime": {
     "end_time": "2025-06-25T10:33:54.733145Z",
     "start_time": "2025-06-25T10:33:54.723657Z"
    }
   },
   "cell_type": "code",
   "source": [
    "fruits = ['🥝','🥥','🍇','🍉','🥭','🍎','🍑','🍒','🍓']\n",
    "for index, fruit in enumerate(fruits):\n",
    "    print(index, fruit)"
   ],
   "id": "a8fe139db7fa7a91",
   "outputs": [
    {
     "name": "stdout",
     "output_type": "stream",
     "text": [
      "0 🥝\n",
      "1 🥥\n",
      "2 🍇\n",
      "3 🍉\n",
      "4 🥭\n",
      "5 🍎\n",
      "6 🍑\n",
      "7 🍒\n",
      "8 🍓\n"
     ]
    }
   ],
   "execution_count": 73
  },
  {
   "metadata": {},
   "cell_type": "markdown",
   "source": [
    "### 💡 Tip:\n",
    "- Use for `loop` for simple iteration ✅\n",
    "- Use `range()` when you need indexes 🔢\n",
    "- Use `enumerate()` to get both index and value 📌\n",
    "\n",
    "---"
   ],
   "id": "f79eab415f63bd09"
  },
  {
   "metadata": {},
   "cell_type": "markdown",
   "source": [
    "## 🧠 Python - List Comprehension\n",
    "\n",
    "List comprehension offers a **shorter and more readable** way to create new lists from existing iterables.\n",
    "\n",
    "---\n",
    "\n",
    "### ✅ Basic Syntax"
   ],
   "id": "1d66717b9e9607de"
  },
  {
   "metadata": {},
   "cell_type": "code",
   "source": "new_list = [expression for item in iterable if condition]",
   "id": "a86cb3ec44849dd3",
   "outputs": [],
   "execution_count": null
  },
  {
   "metadata": {},
   "cell_type": "markdown",
   "source": [
    "###### Example:\n",
    "\n",
    "Based on a list of fruits, you want a new list, containing only the fruits with the letter \"a\" in the name.\n",
    "\n",
    "Without list comprehension you will have to write a for statement with a conditional test inside:\n",
    "\n",
    "<img src=\"https://media2.giphy.com/media/QssGEmpkyEOhBCb7e1/giphy.gif?cid=ecf05e47a0n3gi1bfqntqmob8g9aid1oyj2wr3ds3mg700bl&rid=giphy.gif\" width=\"22px\" align=\"top\"/> **Code**"
   ],
   "id": "c45f931363bf3d22"
  },
  {
   "metadata": {
    "ExecuteTime": {
     "end_time": "2025-06-25T12:20:58.774419Z",
     "start_time": "2025-06-25T12:20:58.764088Z"
    }
   },
   "cell_type": "code",
   "source": [
    "fruits = ['apple','mango','kiwi','banana']\n",
    "newList=[]\n",
    "for x in fruits:\n",
    "    if \"a\" in x:\n",
    "        newList.append(x)\n",
    "newList"
   ],
   "id": "4ff9b3598d846c53",
   "outputs": [
    {
     "data": {
      "text/plain": [
       "['apple', 'mango', 'banana']"
      ]
     },
     "execution_count": 16,
     "metadata": {},
     "output_type": "execute_result"
    }
   ],
   "execution_count": 16
  },
  {
   "metadata": {},
   "cell_type": "markdown",
   "source": "With list comprehension you can do all that with only one line of code:",
   "id": "610391f849525c2b"
  },
  {
   "metadata": {
    "ExecuteTime": {
     "end_time": "2025-06-25T12:20:38.850372Z",
     "start_time": "2025-06-25T12:20:38.839067Z"
    }
   },
   "cell_type": "code",
   "source": [
    "fruits = ['apple','kiwi','banana','mango']\n",
    "\n",
    "newList=[x for x in fruits if \"a\" in x]\n",
    "newList"
   ],
   "id": "e0c5007f0b3c771c",
   "outputs": [
    {
     "data": {
      "text/plain": [
       "['apple', 'banana', 'mango']"
      ]
     },
     "execution_count": 15,
     "metadata": {},
     "output_type": "execute_result"
    }
   ],
   "execution_count": 15
  },
  {
   "metadata": {},
   "cell_type": "markdown",
   "source": [
    "---\n",
    "\n",
    "### 1️⃣ Create a Simple List\n",
    "<img src=\"https://media2.giphy.com/media/QssGEmpkyEOhBCb7e1/giphy.gif?cid=ecf05e47a0n3gi1bfqntqmob8g9aid1oyj2wr3ds3mg700bl&rid=giphy.gif\" width=\"22px\" align=\"top\"/> **Code**"
   ],
   "id": "ea027e92bfa92422"
  },
  {
   "metadata": {
    "ExecuteTime": {
     "end_time": "2025-06-25T12:27:13.445140Z",
     "start_time": "2025-06-25T12:27:13.434662Z"
    }
   },
   "cell_type": "code",
   "source": [
    "numbers = [x for x in range(1,11)]\n",
    "numbers"
   ],
   "id": "58ae151ea725541",
   "outputs": [
    {
     "data": {
      "text/plain": [
       "[1, 2, 3, 4, 5, 6, 7, 8, 9, 10]"
      ]
     },
     "execution_count": 21,
     "metadata": {},
     "output_type": "execute_result"
    }
   ],
   "execution_count": 21
  },
  {
   "metadata": {},
   "cell_type": "markdown",
   "source": [
    "---\n",
    "### 2️⃣ Add Condition\n",
    "<img src=\"https://media2.giphy.com/media/QssGEmpkyEOhBCb7e1/giphy.gif?cid=ecf05e47a0n3gi1bfqntqmob8g9aid1oyj2wr3ds3mg700bl&rid=giphy.gif\" width=\"22px\" align=\"top\"/> **Code**\n"
   ],
   "id": "6f8a257106cecc29"
  },
  {
   "metadata": {
    "ExecuteTime": {
     "end_time": "2025-06-25T12:27:59.611469Z",
     "start_time": "2025-06-25T12:27:59.602085Z"
    }
   },
   "cell_type": "code",
   "source": [
    "even_numbers = [x for x in range(1,11) if x % 2 == 0]\n",
    "even_numbers"
   ],
   "id": "5eccc7960d80a5b",
   "outputs": [
    {
     "data": {
      "text/plain": [
       "[2, 4, 6, 8, 10]"
      ]
     },
     "execution_count": 23,
     "metadata": {},
     "output_type": "execute_result"
    }
   ],
   "execution_count": 23
  },
  {
   "metadata": {},
   "cell_type": "markdown",
   "source": [
    "---\n",
    "### 3️⃣ Apply an Expression\n",
    "<img src=\"https://media2.giphy.com/media/QssGEmpkyEOhBCb7e1/giphy.gif?cid=ecf05e47a0n3gi1bfqntqmob8g9aid1oyj2wr3ds3mg700bl&rid=giphy.gif\" width=\"22px\" align=\"top\"/> **Code**"
   ],
   "id": "469be57614ec3597"
  },
  {
   "metadata": {
    "ExecuteTime": {
     "end_time": "2025-06-25T12:38:28.191766Z",
     "start_time": "2025-06-25T12:38:28.180253Z"
    }
   },
   "cell_type": "code",
   "source": [
    "squares = [x**2 for x in range(1,11)]\n",
    "squares"
   ],
   "id": "d1cebc6beb30b4ff",
   "outputs": [
    {
     "data": {
      "text/plain": [
       "[1, 4, 9, 16, 25, 36, 49, 64, 81, 100]"
      ]
     },
     "execution_count": 24,
     "metadata": {},
     "output_type": "execute_result"
    }
   ],
   "execution_count": 24
  },
  {
   "metadata": {},
   "cell_type": "markdown",
   "source": [
    "---\n",
    "### 4️⃣ Add if...else Condition\n",
    "<img src=\"https://media2.giphy.com/media/QssGEmpkyEOhBCb7e1/giphy.gif?cid=ecf05e47a0n3gi1bfqntqmob8g9aid1oyj2wr3ds3mg700bl&rid=giphy.gif\" width=\"22px\" align=\"top\"/> **Code**"
   ],
   "id": "20b0f15a0150195b"
  },
  {
   "metadata": {
    "ExecuteTime": {
     "end_time": "2025-06-25T12:41:37.797774Z",
     "start_time": "2025-06-25T12:41:37.777915Z"
    }
   },
   "cell_type": "code",
   "source": [
    "result = [\"even\" if x % 2 == 0 else \"odd\" for x in range(1,6)]\n",
    "result"
   ],
   "id": "6f982a2704c5a855",
   "outputs": [
    {
     "data": {
      "text/plain": [
       "['odd', 'even', 'odd', 'even', 'odd']"
      ]
     },
     "execution_count": 25,
     "metadata": {},
     "output_type": "execute_result"
    }
   ],
   "execution_count": 25
  },
  {
   "metadata": {},
   "cell_type": "markdown",
   "source": [
    "### 💡 Tip:\n",
    "- List comprehension is often **faster** and **cleaner** than traditional loops\n",
    "- Use it for filtering, mapping, or both 🔍➡️📦\n",
    "---\n"
   ],
   "id": "d759f49da054fa87"
  },
  {
   "metadata": {},
   "cell_type": "markdown",
   "source": [
    "## 📊 Python - Sort Lists\n",
    "\n",
    "Python has built-in methods to sort lists in ascending or descending order.\n",
    "\n",
    "---\n",
    "### 1️⃣ `sort()` - Sort the List (Ascending by Default)\n",
    "\n",
    "<img src=\"https://media2.giphy.com/media/QssGEmpkyEOhBCb7e1/giphy.gif?cid=ecf05e47a0n3gi1bfqntqmob8g9aid1oyj2wr3ds3mg700bl&rid=giphy.gif\" width=\"22px\" align=\"top\"/> **Code**"
   ],
   "id": "92e64a5b4923528d"
  },
  {
   "metadata": {
    "ExecuteTime": {
     "end_time": "2025-06-25T12:49:47.651343Z",
     "start_time": "2025-06-25T12:49:47.506900Z"
    }
   },
   "cell_type": "code",
   "source": [
    "fruits = ['mango','kiwi','banana','apple','chery']\n",
    "fruits.sort()\n",
    "fruits"
   ],
   "id": "1489a463d9df7dc3",
   "outputs": [
    {
     "data": {
      "text/plain": [
       "['apple', 'banana', 'chery', 'kiwi', 'mango']"
      ]
     },
     "execution_count": 26,
     "metadata": {},
     "output_type": "execute_result"
    }
   ],
   "execution_count": 26
  },
  {
   "metadata": {},
   "cell_type": "markdown",
   "source": [
    "🔼 Alphabetical order (A → Z)\n",
    "\n",
    "---\n",
    "\n",
    "### 2️⃣ `sort(reverse=True)` - Descending Order\n",
    "\n",
    "<img src=\"https://media2.giphy.com/media/QssGEmpkyEOhBCb7e1/giphy.gif?cid=ecf05e47a0n3gi1bfqntqmob8g9aid1oyj2wr3ds3mg700bl&rid=giphy.gif\" width=\"22px\" align=\"top\"/> **Code**"
   ],
   "id": "d8a734ddacd6349f"
  },
  {
   "metadata": {
    "ExecuteTime": {
     "end_time": "2025-06-25T12:53:17.292532Z",
     "start_time": "2025-06-25T12:53:17.270362Z"
    }
   },
   "cell_type": "code",
   "source": [
    "fruits = ['mango','kiwi','banana','apple','chery']\n",
    "fruits.sort(reverse=True)\n",
    "fruits"
   ],
   "id": "b41664f8e9901d32",
   "outputs": [
    {
     "data": {
      "text/plain": [
       "['mango', 'kiwi', 'chery', 'banana', 'apple']"
      ]
     },
     "execution_count": 27,
     "metadata": {},
     "output_type": "execute_result"
    }
   ],
   "execution_count": 27
  },
  {
   "metadata": {},
   "cell_type": "markdown",
   "source": [
    "🔽 Reverse alphabetical (Z → A)\n",
    "\n",
    "---\n",
    "\n",
    "### 3️⃣ `sort()` with Custom Key (Case Insensitive)\n",
    "<img src=\"https://media2.giphy.com/media/QssGEmpkyEOhBCb7e1/giphy.gif?cid=ecf05e47a0n3gi1bfqntqmob8g9aid1oyj2wr3ds3mg700bl&rid=giphy.gif\" width=\"22px\" align=\"top\"/> **Code**"
   ],
   "id": "ec6436b5abf52e47"
  },
  {
   "metadata": {
    "ExecuteTime": {
     "end_time": "2025-06-25T12:56:00.812056Z",
     "start_time": "2025-06-25T12:56:00.805017Z"
    }
   },
   "cell_type": "code",
   "source": [
    "fruits = ['Mango','kiwi','Banana','Apple','chery']\n",
    "fruits.sort(reverse=True)\n",
    "print(fruits)\n",
    "fruits.sort()\n",
    "print(fruits)"
   ],
   "id": "78bd5927f9f5c02e",
   "outputs": [
    {
     "name": "stdout",
     "output_type": "stream",
     "text": [
      "['kiwi', 'chery', 'Mango', 'Banana', 'Apple']\n",
      "['Apple', 'Banana', 'Mango', 'chery', 'kiwi']\n"
     ]
    }
   ],
   "execution_count": 30
  },
  {
   "metadata": {},
   "cell_type": "markdown",
   "source": "Both are Wrong Answer ❌",
   "id": "f1e3b19c83d9639c"
  },
  {
   "metadata": {
    "ExecuteTime": {
     "end_time": "2025-06-25T12:58:26.983412Z",
     "start_time": "2025-06-25T12:58:26.973073Z"
    }
   },
   "cell_type": "code",
   "source": [
    "fruits = ['Mango','kiwi','Banana','Apple','chery']\n",
    "fruits.sort(key=str.lower)\n",
    "fruits"
   ],
   "id": "cd0115a7766031cf",
   "outputs": [
    {
     "data": {
      "text/plain": [
       "['Apple', 'Banana', 'chery', 'kiwi', 'Mango']"
      ]
     },
     "execution_count": 31,
     "metadata": {},
     "output_type": "execute_result"
    }
   ],
   "execution_count": 31
  },
  {
   "metadata": {},
   "cell_type": "markdown",
   "source": [
    "🔤 Ignores case while sorting\n",
    "\n",
    "---\n",
    "\n",
    "### 4️⃣ `sorted()` - Return a New Sorted List\n",
    "<img src=\"https://media2.giphy.com/media/QssGEmpkyEOhBCb7e1/giphy.gif?cid=ecf05e47a0n3gi1bfqntqmob8g9aid1oyj2wr3ds3mg700bl&rid=giphy.gif\" width=\"22px\" align=\"top\"/> **Code**"
   ],
   "id": "cf278b156dbb79d1"
  },
  {
   "metadata": {
    "ExecuteTime": {
     "end_time": "2025-06-25T13:00:51.863019Z",
     "start_time": "2025-06-25T13:00:51.849739Z"
    }
   },
   "cell_type": "code",
   "source": [
    "numbers = [3,7,10,2,1,6,4,9,8,5]\n",
    "sorted_numbers = sorted(numbers)\n",
    "sorted_numbers"
   ],
   "id": "74855e5a05c5839",
   "outputs": [
    {
     "data": {
      "text/plain": [
       "[1, 2, 3, 4, 5, 6, 7, 8, 9, 10]"
      ]
     },
     "execution_count": 33,
     "metadata": {},
     "output_type": "execute_result"
    }
   ],
   "execution_count": 33
  },
  {
   "metadata": {},
   "cell_type": "markdown",
   "source": [
    "🆕 Original list remains unchanged\n",
    "\n",
    "### 💡 Tip:\n",
    "- Use `sort()` to modify the original list in place.\n",
    "- Use `sorted()` when you need a new sorted list without changing the original.\n",
    "- Use the `key` parameter to define custom sort logic (e.g., `key=str.lower`, `key=len`, etc.).\n",
    "\n",
    "---"
   ],
   "id": "2e9d0b4775b2f609"
  },
  {
   "metadata": {},
   "cell_type": "markdown",
   "source": [
    "## 📋 Python - Copy Lists\n",
    "\n",
    "In Python, copying a list creates a **new list** with the same items.\n",
    "\n",
    "---\n",
    "### 1️⃣ Using `copy()`\n",
    "<img src=\"https://media2.giphy.com/media/QssGEmpkyEOhBCb7e1/giphy.gif?cid=ecf05e47a0n3gi1bfqntqmob8g9aid1oyj2wr3ds3mg700bl&rid=giphy.gif\" width=\"22px\" align=\"top\"/> **Code**"
   ],
   "id": "61485822764146e0"
  },
  {
   "metadata": {
    "ExecuteTime": {
     "end_time": "2025-06-25T13:13:47.982460Z",
     "start_time": "2025-06-25T13:13:47.956684Z"
    }
   },
   "cell_type": "code",
   "source": [
    "fruits = ['apple','mango','banana','kiwi','chery']\n",
    "copy_fruits=fruits.copy()\n",
    "copy_fruits"
   ],
   "id": "d7e7f354a857450",
   "outputs": [
    {
     "data": {
      "text/plain": [
       "['apple', 'mango', 'banana', 'kiwi', 'chery']"
      ]
     },
     "execution_count": 35,
     "metadata": {},
     "output_type": "execute_result"
    }
   ],
   "execution_count": 35
  },
  {
   "metadata": {},
   "cell_type": "markdown",
   "source": [
    "📄 ➡️ 📄 (Creates a new list with same items)\n",
    "\n",
    "---\n",
    "### 2️⃣ Using `list()`\n",
    "<img src=\"https://media2.giphy.com/media/QssGEmpkyEOhBCb7e1/giphy.gif?cid=ecf05e47a0n3gi1bfqntqmob8g9aid1oyj2wr3ds3mg700bl&rid=giphy.gif\" width=\"22px\" align=\"top\"/> **Code**"
   ],
   "id": "fdfdd4b238e23900"
  },
  {
   "metadata": {
    "ExecuteTime": {
     "end_time": "2025-06-25T13:19:49.338909Z",
     "start_time": "2025-06-25T13:19:49.318948Z"
    }
   },
   "cell_type": "code",
   "source": [
    "fruits = ['apple','mango','banana','kiwi']\n",
    "copy_fruits = list(fruits)\n",
    "# fruits.append(\"orange\")\n",
    "copy_fruits"
   ],
   "id": "d63bd22d4c7d8997",
   "outputs": [
    {
     "data": {
      "text/plain": [
       "['apple', 'mango', 'banana', 'kiwi']"
      ]
     },
     "execution_count": 39,
     "metadata": {},
     "output_type": "execute_result"
    }
   ],
   "execution_count": 39
  },
  {
   "metadata": {},
   "cell_type": "markdown",
   "source": [
    "🆕 Built-in `list()` function to copy\n",
    "\n",
    "---\n",
    "### ⚠️ Don’t Use `=`"
   ],
   "id": "9ddc5737310b1e2b"
  },
  {
   "metadata": {
    "ExecuteTime": {
     "end_time": "2025-06-25T13:19:54.945256Z",
     "start_time": "2025-06-25T13:19:54.930825Z"
    }
   },
   "cell_type": "code",
   "source": [
    "fruits = ['apple','kiwi','banana','chery']\n",
    "copy_fruits = fruits\n",
    "fruits.append(\"orange\")\n",
    "copy_fruits"
   ],
   "id": "7d26b9632e499411",
   "outputs": [
    {
     "data": {
      "text/plain": [
       "['apple', 'kiwi', 'banana', 'chery', 'orange']"
      ]
     },
     "execution_count": 40,
     "metadata": {},
     "output_type": "execute_result"
    }
   ],
   "execution_count": 40
  },
  {
   "metadata": {},
   "cell_type": "markdown",
   "source": [
    "🚫 This doesn’t create a copy — both variables point to the same list in memory.\n",
    "\n",
    "### 💡 Tip:\n",
    "- Use `.copy()` or `list()` to create a true independent copy of a list.\n",
    "- Avoid using `=` if you want two separate lists.\n",
    "\n",
    "---"
   ],
   "id": "50cc07712c1f3119"
  },
  {
   "metadata": {},
   "cell_type": "markdown",
   "source": [
    "## 🔗 Python - Join Lists\n",
    "\n",
    "You can join two or more lists in Python using several different methods.\n",
    "\n",
    "---\n",
    "### 1️⃣ Using `+` Operator\n",
    "<img src=\"https://media2.giphy.com/media/QssGEmpkyEOhBCb7e1/giphy.gif?cid=ecf05e47a0n3gi1bfqntqmob8g9aid1oyj2wr3ds3mg700bl&rid=giphy.gif\" width=\"22px\" align=\"top\"/> **Code**\n"
   ],
   "id": "265666d3e00be9e3"
  },
  {
   "metadata": {
    "ExecuteTime": {
     "end_time": "2025-06-26T06:15:55.601381Z",
     "start_time": "2025-06-26T06:15:55.583457Z"
    }
   },
   "cell_type": "code",
   "source": [
    "list1 = ['apple','mango']\n",
    "list2 = ['banana','kiwi']\n",
    "joined = list1 + list2\n",
    "joined"
   ],
   "id": "f0eaef7d5db92f7f",
   "outputs": [
    {
     "data": {
      "text/plain": [
       "['apple', 'mango', 'banana', 'kiwi']"
      ]
     },
     "execution_count": 1,
     "metadata": {},
     "output_type": "execute_result"
    }
   ],
   "execution_count": 1
  },
  {
   "metadata": {
    "ExecuteTime": {
     "end_time": "2025-06-26T06:16:47.174546Z",
     "start_time": "2025-06-26T06:16:47.166238Z"
    }
   },
   "cell_type": "code",
   "source": [
    "list3 = [1,2,3,4,5]\n",
    "joined2 = joined + list3\n",
    "joined2"
   ],
   "id": "b690b3bf4a52c4e8",
   "outputs": [
    {
     "data": {
      "text/plain": [
       "['apple', 'mango', 'banana', 'kiwi', 1, 2, 3, 4, 5]"
      ]
     },
     "execution_count": 2,
     "metadata": {},
     "output_type": "execute_result"
    }
   ],
   "execution_count": 2
  },
  {
   "metadata": {},
   "cell_type": "markdown",
   "source": [
    "➕ Combines both lists into one 📃\n",
    "\n",
    "---\n",
    "### 2️⃣ Using `append()` in a Loop\n",
    "<img src=\"https://media2.giphy.com/media/QssGEmpkyEOhBCb7e1/giphy.gif?cid=ecf05e47a0n3gi1bfqntqmob8g9aid1oyj2wr3ds3mg700bl&rid=giphy.gif\" width=\"22px\" align=\"top\"/> **Code**\n"
   ],
   "id": "b053e3bafbb919f5"
  },
  {
   "metadata": {
    "ExecuteTime": {
     "end_time": "2025-06-26T06:19:35.692682Z",
     "start_time": "2025-06-26T06:19:35.682138Z"
    }
   },
   "cell_type": "code",
   "source": [
    "list1 = ['apple','mango']\n",
    "list2 = ['banana','kiwi']\n",
    "for item in list2:\n",
    "    list1.append(item)\n",
    "list1"
   ],
   "id": "cbe7dbc3ce2ff23c",
   "outputs": [
    {
     "data": {
      "text/plain": [
       "['apple', 'mango', 'banana', 'kiwi']"
      ]
     },
     "execution_count": 3,
     "metadata": {},
     "output_type": "execute_result"
    }
   ],
   "execution_count": 3
  },
  {
   "metadata": {},
   "cell_type": "markdown",
   "source": [
    "🔁 Add items one-by-one\n",
    "\n",
    "---\n",
    "### 3️⃣ Using `extend()`\n",
    "<img src=\"https://media2.giphy.com/media/QssGEmpkyEOhBCb7e1/giphy.gif?cid=ecf05e47a0n3gi1bfqntqmob8g9aid1oyj2wr3ds3mg700bl&rid=giphy.gif\" width=\"22px\" align=\"top\"/> **Code**"
   ],
   "id": "ff91de70d53d38fd"
  },
  {
   "metadata": {
    "ExecuteTime": {
     "end_time": "2025-06-26T06:23:56.040038Z",
     "start_time": "2025-06-26T06:23:56.024150Z"
    }
   },
   "cell_type": "code",
   "source": [
    "list1 = ['apple','banana']\n",
    "list2 = ['mango','kiwi']\n",
    "list1.extend(list2)\n",
    "list1"
   ],
   "id": "3dacfeb5e52bb4e6",
   "outputs": [
    {
     "data": {
      "text/plain": [
       "['apple', 'banana', 'mango', 'kiwi']"
      ]
     },
     "execution_count": 1,
     "metadata": {},
     "output_type": "execute_result"
    }
   ],
   "execution_count": 1
  },
  {
   "metadata": {},
   "cell_type": "markdown",
   "source": [
    "📦 Efficient way to merge lists\n",
    "\n",
    "---\n",
    "### 4️⃣ Using List Comprehension\n",
    "<img src=\"https://media2.giphy.com/media/QssGEmpkyEOhBCb7e1/giphy.gif?cid=ecf05e47a0n3gi1bfqntqmob8g9aid1oyj2wr3ds3mg700bl&rid=giphy.gif\" width=\"22px\" align=\"top\"/> **Code**"
   ],
   "id": "9045b530c8f0898d"
  },
  {
   "metadata": {
    "ExecuteTime": {
     "end_time": "2025-06-26T06:27:24.539619Z",
     "start_time": "2025-06-26T06:27:24.528268Z"
    }
   },
   "cell_type": "code",
   "source": [
    "list1 = ['apple','banana']\n",
    "list2 = ['mango','kiwi']\n",
    "joined = [item for item in list1 + list2]\n",
    "joined"
   ],
   "id": "f36a7b8eea1f832f",
   "outputs": [
    {
     "data": {
      "text/plain": [
       "['apple', 'banana', 'mango', 'kiwi']"
      ]
     },
     "execution_count": 3,
     "metadata": {},
     "output_type": "execute_result"
    }
   ],
   "execution_count": 3
  },
  {
   "metadata": {},
   "cell_type": "markdown",
   "source": [
    "🧠 Useful if you need to apply logic while merging\n",
    "\n",
    "### 💡 Tip:\n",
    "- Use `+` for simple merging.\n",
    "- Use `extend()` for modifying in-place.\n",
    "- Use `list comprehension` if filtering or modifying is needed during the join.\n",
    "\n",
    "---\n",
    "\n",
    "## 📦📦 Python - Nested Lists\n",
    "\n",
    "A **nested list** is a list that contains other lists as its elements. It’s useful for creating matrices, tables, or grouped data.\n",
    "\n",
    "---\n",
    "### 1️⃣ Creating a Nested List\n",
    "<img src=\"https://media2.giphy.com/media/QssGEmpkyEOhBCb7e1/giphy.gif?cid=ecf05e47a0n3gi1bfqntqmob8g9aid1oyj2wr3ds3mg700bl&rid=giphy.gif\" width=\"22px\" align=\"top\"/> **Code**"
   ],
   "id": "5d6b072af1f0649"
  },
  {
   "metadata": {
    "ExecuteTime": {
     "end_time": "2025-06-26T06:49:22.898347Z",
     "start_time": "2025-06-26T06:49:22.883744Z"
    }
   },
   "cell_type": "code",
   "source": [
    "nested = [\n",
    "    ['apple','banana'],\n",
    "    ['mango','kiwi'],\n",
    "    ['grap','orange']\n",
    "]\n",
    "nested"
   ],
   "id": "5b5097722d610fc5",
   "outputs": [
    {
     "data": {
      "text/plain": [
       "[['apple', 'banana'], ['mango', 'kiwi'], ['grap', 'orange']]"
      ]
     },
     "execution_count": 1,
     "metadata": {},
     "output_type": "execute_result"
    }
   ],
   "execution_count": 1
  },
  {
   "metadata": {},
   "cell_type": "markdown",
   "source": [
    "🧺 A list of fruit groups\n",
    "\n",
    "---\n",
    "### 2️⃣ Accessing Items in Nested Lists\n",
    "<img src=\"https://media2.giphy.com/media/QssGEmpkyEOhBCb7e1/giphy.gif?cid=ecf05e47a0n3gi1bfqntqmob8g9aid1oyj2wr3ds3mg700bl&rid=giphy.gif\" width=\"22px\" align=\"top\"/> **Code**"
   ],
   "id": "93e08e828c981909"
  },
  {
   "metadata": {
    "ExecuteTime": {
     "end_time": "2025-06-26T06:51:16.620090Z",
     "start_time": "2025-06-26T06:51:16.611930Z"
    }
   },
   "cell_type": "code",
   "source": [
    "print(nested[0])\n",
    "print(nested[1])\n",
    "print(nested[2])"
   ],
   "id": "d19641fd8c412a38",
   "outputs": [
    {
     "name": "stdout",
     "output_type": "stream",
     "text": [
      "['apple', 'banana']\n",
      "['mango', 'kiwi']\n",
      "['grap', 'orange']\n"
     ]
    }
   ],
   "execution_count": 6
  },
  {
   "metadata": {
    "ExecuteTime": {
     "end_time": "2025-06-26T06:52:04.011292Z",
     "start_time": "2025-06-26T06:52:04.001010Z"
    }
   },
   "cell_type": "code",
   "source": [
    "print(nested[0][0])\n",
    "print(nested[0][1])"
   ],
   "id": "b135e4f5cdf01ec6",
   "outputs": [
    {
     "name": "stdout",
     "output_type": "stream",
     "text": [
      "apple\n",
      "banana\n"
     ]
    }
   ],
   "execution_count": 10
  },
  {
   "metadata": {
    "ExecuteTime": {
     "end_time": "2025-06-26T06:52:56.133945Z",
     "start_time": "2025-06-26T06:52:56.127583Z"
    }
   },
   "cell_type": "code",
   "source": [
    "print(nested[1][0])\n",
    "print(nested[1][1])"
   ],
   "id": "2851ee12ff6106dc",
   "outputs": [
    {
     "name": "stdout",
     "output_type": "stream",
     "text": [
      "mango\n",
      "kiwi\n"
     ]
    }
   ],
   "execution_count": 13
  },
  {
   "metadata": {
    "ExecuteTime": {
     "end_time": "2025-06-26T06:53:31.925245Z",
     "start_time": "2025-06-26T06:53:31.918399Z"
    }
   },
   "cell_type": "code",
   "source": [
    "print(nested[2][0])\n",
    "print(nested[2][1])"
   ],
   "id": "8ecce816c7a3ab4",
   "outputs": [
    {
     "name": "stdout",
     "output_type": "stream",
     "text": [
      "grap\n",
      "orange\n"
     ]
    }
   ],
   "execution_count": 15
  },
  {
   "metadata": {},
   "cell_type": "markdown",
   "source": [
    "📍 nested[`n`][`n`] means: `n`th row, `n`th item\n",
    "\n",
    "---\n",
    "### 3️⃣ Loop Through Nested Lists\n",
    "<img src=\"https://media2.giphy.com/media/QssGEmpkyEOhBCb7e1/giphy.gif?cid=ecf05e47a0n3gi1bfqntqmob8g9aid1oyj2wr3ds3mg700bl&rid=giphy.gif\" width=\"22px\" align=\"top\"/> **Code**"
   ],
   "id": "fc8e973ed3314f1b"
  },
  {
   "metadata": {
    "ExecuteTime": {
     "end_time": "2025-06-26T06:57:08.904504Z",
     "start_time": "2025-06-26T06:57:08.898044Z"
    }
   },
   "cell_type": "code",
   "source": [
    "for sublist in nested:\n",
    "    for item in sublist:\n",
    "        print(item)"
   ],
   "id": "4db7d8a175d4d828",
   "outputs": [
    {
     "name": "stdout",
     "output_type": "stream",
     "text": [
      "apple\n",
      "banana\n",
      "mango\n",
      "kiwi\n",
      "grap\n",
      "orange\n"
     ]
    }
   ],
   "execution_count": 17
  },
  {
   "metadata": {},
   "cell_type": "markdown",
   "source": [
    "🔁 Loop through each sublist and item inside\n",
    "\n",
    "---\n",
    "\n",
    "### 4️⃣ Modify Items in Nested Lists\n",
    "<img src=\"https://media2.giphy.com/media/QssGEmpkyEOhBCb7e1/giphy.gif?cid=ecf05e47a0n3gi1bfqntqmob8g9aid1oyj2wr3ds3mg700bl&rid=giphy.gif\" width=\"22px\" align=\"top\"/> **Code**"
   ],
   "id": "79bd2b7c8c9966e3"
  },
  {
   "metadata": {
    "ExecuteTime": {
     "end_time": "2025-06-26T06:59:37.131462Z",
     "start_time": "2025-06-26T06:59:37.122950Z"
    }
   },
   "cell_type": "code",
   "source": [
    "nested[0][1] = 'blueberry'\n",
    "nested[0]"
   ],
   "id": "b94a758797473f6c",
   "outputs": [
    {
     "data": {
      "text/plain": [
       "['apple', 'blueberry']"
      ]
     },
     "execution_count": 19,
     "metadata": {},
     "output_type": "execute_result"
    }
   ],
   "execution_count": 19
  },
  {
   "metadata": {},
   "cell_type": "markdown",
   "source": [
    "✏️ Change \"banana\" to \"blueberry\"\n",
    "\n",
    "### 💡 Tip:\n",
    "- Think of nested lists like rows and columns in a table 🧮\n",
    "- Useful for 2D grids, game boards, matrices, etc.\n",
    "\n",
    "---\n",
    "## 🧠📦 2D List Comprehension in Python\n",
    "\n",
    "List comprehensions can also be used to create or modify **2D (nested) lists** — commonly used in grids, matrices, or tables.\n",
    "\n",
    "---\n",
    "### 1️⃣ Create a 2D Grid (Matrix)\n",
    "<img src=\"https://media2.giphy.com/media/QssGEmpkyEOhBCb7e1/giphy.gif?cid=ecf05e47a0n3gi1bfqntqmob8g9aid1oyj2wr3ds3mg700bl&rid=giphy.gif\" width=\"22px\" align=\"top\"/> **Code**"
   ],
   "id": "409e37c621eac79c"
  },
  {
   "metadata": {
    "ExecuteTime": {
     "end_time": "2025-06-26T07:10:10.492783Z",
     "start_time": "2025-06-26T07:10:10.484527Z"
    }
   },
   "cell_type": "code",
   "source": [
    "matrix = [[0 for x in range(3)] for y in range (3)]\n",
    "matrix"
   ],
   "id": "99fa0534ed68cf77",
   "outputs": [
    {
     "data": {
      "text/plain": [
       "[[0, 0, 0], [0, 0, 0], [0, 0, 0]]"
      ]
     },
     "execution_count": 24,
     "metadata": {},
     "output_type": "execute_result"
    }
   ],
   "execution_count": 24
  },
  {
   "metadata": {},
   "cell_type": "markdown",
   "source": [
    "🔢 Creates a 3x3 grid filled with `0`\n",
    "\n",
    "---\n",
    "### 2️⃣ Create a Multiplication Table\n",
    "<img src=\"https://media2.giphy.com/media/QssGEmpkyEOhBCb7e1/giphy.gif?cid=ecf05e47a0n3gi1bfqntqmob8g9aid1oyj2wr3ds3mg700bl&rid=giphy.gif\" width=\"22px\" align=\"top\"/> **Code**"
   ],
   "id": "8e65f2d77e55ad88"
  },
  {
   "metadata": {
    "ExecuteTime": {
     "end_time": "2025-06-26T07:13:33.856893Z",
     "start_time": "2025-06-26T07:13:33.848453Z"
    }
   },
   "cell_type": "code",
   "source": [
    "table = [[x*y for x in range(1,6)] for y in range(1,11)]\n",
    "for row in table:\n",
    "    print(row)"
   ],
   "id": "28a7a8d0e96c0ec8",
   "outputs": [
    {
     "name": "stdout",
     "output_type": "stream",
     "text": [
      "[1, 2, 3, 4, 5]\n",
      "[2, 4, 6, 8, 10]\n",
      "[3, 6, 9, 12, 15]\n",
      "[4, 8, 12, 16, 20]\n",
      "[5, 10, 15, 20, 25]\n",
      "[6, 12, 18, 24, 30]\n",
      "[7, 14, 21, 28, 35]\n",
      "[8, 16, 24, 32, 40]\n",
      "[9, 18, 27, 36, 45]\n",
      "[10, 20, 30, 40, 50]\n"
     ]
    }
   ],
   "execution_count": 29
  },
  {
   "metadata": {},
   "cell_type": "markdown",
   "source": [
    "✖️ 5×10 multiplication table\n",
    "\n",
    "---\n",
    "### 3️⃣ Flatten a 2D List into 1D\n",
    "<img src=\"https://media2.giphy.com/media/QssGEmpkyEOhBCb7e1/giphy.gif?cid=ecf05e47a0n3gi1bfqntqmob8g9aid1oyj2wr3ds3mg700bl&rid=giphy.gif\" width=\"22px\" align=\"top\"/> **Code**"
   ],
   "id": "a1237b70b3a2ba9d"
  },
  {
   "metadata": {
    "ExecuteTime": {
     "end_time": "2025-06-26T07:16:00.575366Z",
     "start_time": "2025-06-26T07:16:00.562858Z"
    }
   },
   "cell_type": "code",
   "source": [
    "matrix = [[1,2],[3,4],[5,6]]\n",
    "flat = [item for row in matrix for item in row]\n",
    "flat"
   ],
   "id": "68b733591e35c8e9",
   "outputs": [
    {
     "data": {
      "text/plain": [
       "[1, 2, 3, 4, 5, 6]"
      ]
     },
     "execution_count": 32,
     "metadata": {},
     "output_type": "execute_result"
    }
   ],
   "execution_count": 32
  },
  {
   "metadata": {},
   "cell_type": "markdown",
   "source": [
    "📉 Convert 2D list into 1D list\n",
    "\n",
    "### 💡 Tip:\n",
    "- Nested list comprehensions go from outer loop to inner: `for row in matrix` → `for item in row`\n",
    "- Great for working with 2D data like tables, grids, or pixel maps 🟦🟩🟥\n",
    "\n",
    "---"
   ],
   "id": "ca5d3a38296d4dad"
  },
  {
   "metadata": {},
   "cell_type": "markdown",
   "source": [
    "## 📚 Python List Methods Summary\n",
    "\n",
    "Python lists come with many useful built-in methods. Here's a quick reference summary:\n",
    "\n",
    "| Method         | Description                                      | Example                            |\n",
    "|----------------|--------------------------------------------------|------------------------------------|\n",
    "| `append()`     | ➕ Adds an item to the end of the list            | `fruits.append(\"kiwi\")`           |\n",
    "| `insert()`     | ➕ Inserts an item at a specified index           | `fruits.insert(1, \"orange\")`      |\n",
    "| `extend()`     | 🔗 Adds elements from another list                | `fruits.extend(more_fruits)`      |\n",
    "| `remove()`     | ❌ Removes the first matching item by value       | `fruits.remove(\"apple\")`          |\n",
    "| `pop()`        | 🧽 Removes item at a given index (default last)   | `fruits.pop()` / `fruits.pop(1)`  |\n",
    "| `clear()`      | 🚮 Removes all items from the list                | `fruits.clear()`                  |\n",
    "| `index()`      | 🔍 Returns index of first match                   | `fruits.index(\"banana\")`          |\n",
    "| `count()`      | 🔢 Returns count of how many times item appears   | `fruits.count(\"apple\")`           |\n",
    "| `sort()`       | 🔼 Sorts the list in ascending order              | `fruits.sort()`                   |\n",
    "| `reverse()`    | 🔁 Reverses the list order                        | `fruits.reverse()`                |\n",
    "| `copy()`       | 📋 Returns a copy of the list                     | `new_list = fruits.copy()`        |\n",
    "\n",
    "---\n",
    "\n",
    "### 💡 Tip:\n",
    "- Use `help(list)` in Python to get full documentation in the terminal.\n",
    "- Remember: some methods modify the list in place, while others return new results.\n",
    "\n"
   ],
   "id": "9d0a43c36cc125d6"
  }
 ],
 "metadata": {
  "kernelspec": {
   "display_name": "Python 3",
   "language": "python",
   "name": "python3"
  },
  "language_info": {
   "codemirror_mode": {
    "name": "ipython",
    "version": 2
   },
   "file_extension": ".py",
   "mimetype": "text/x-python",
   "name": "python",
   "nbconvert_exporter": "python",
   "pygments_lexer": "ipython2",
   "version": "2.7.6"
  }
 },
 "nbformat": 4,
 "nbformat_minor": 5
}

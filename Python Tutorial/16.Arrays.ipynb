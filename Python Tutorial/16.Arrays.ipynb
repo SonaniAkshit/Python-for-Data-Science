{
 "cells": [
  {
   "metadata": {},
   "cell_type": "markdown",
   "source": [
    "# 🧮 Python Arrays\n",
    "\n",
    "Python has a module called `array` for working with arrays (not lists).\n",
    "\n",
    "➡️ Use arrays when you want to store **multiple values of the same data type** efficiently.\n",
    "\n",
    "---\n",
    "### 1️⃣ Importing the `array` Module"
   ],
   "id": "9e324226d2d4226b"
  },
  {
   "metadata": {
    "ExecuteTime": {
     "end_time": "2025-06-28T13:07:55.613387Z",
     "start_time": "2025-06-28T13:07:55.608485Z"
    }
   },
   "cell_type": "code",
   "source": "import array",
   "id": "f0f7280f08f3c6fd",
   "outputs": [],
   "execution_count": 2
  },
  {
   "metadata": {},
   "cell_type": "markdown",
   "source": "You can also use:",
   "id": "e85eb8eae7ce1320"
  },
  {
   "metadata": {
    "ExecuteTime": {
     "end_time": "2025-06-28T13:07:55.599282Z",
     "start_time": "2025-06-28T13:07:55.590771Z"
    }
   },
   "cell_type": "code",
   "source": "from array import array",
   "id": "c167ee1ae35c9109",
   "outputs": [],
   "execution_count": 1
  },
  {
   "metadata": {},
   "cell_type": "markdown",
   "source": [
    "---\n",
    "### 2️⃣ Create an Array"
   ],
   "id": "be2a9bb5f634213a"
  },
  {
   "metadata": {
    "ExecuteTime": {
     "end_time": "2025-06-28T13:12:08.318239Z",
     "start_time": "2025-06-28T13:12:08.303645Z"
    }
   },
   "cell_type": "code",
   "source": [
    "from array import array\n",
    "\n",
    "numbers = array('i', [1, 2, 3, 4, 5])\n",
    "print(numbers)"
   ],
   "id": "9b93138ab1adb727",
   "outputs": [
    {
     "name": "stdout",
     "output_type": "stream",
     "text": [
      "array('i', [1, 2, 3, 4, 5])\n"
     ]
    }
   ],
   "execution_count": 7
  },
  {
   "metadata": {},
   "cell_type": "markdown",
   "source": [
    "---\n",
    "### 3️⃣ Common Type Codes\n",
    "| Type Code | C Type   | Python Type | Meaning                     |\n",
    "| --------- | -------- | ----------- | --------------------------- |\n",
    "| `'i'`     | int      | int         | Signed integer              |\n",
    "| `'f'`     | float    | float       | Floating point              |\n",
    "| `'u'`     | wchar\\_t | str         | Unicode char (Python < 3.3) |\n",
    "| `'d'`     | double   | float       | Double float                |\n",
    "\n",
    "✅ All elements must be of the same type!\n",
    "\n",
    "---\n",
    "### 4️⃣ Access Array Items"
   ],
   "id": "282cea7f8297eef9"
  },
  {
   "metadata": {
    "ExecuteTime": {
     "end_time": "2025-06-28T13:20:08.118267Z",
     "start_time": "2025-06-28T13:20:08.112136Z"
    }
   },
   "cell_type": "code",
   "source": [
    "from array import array\n",
    "numbers = array('i',[1, 2, 3, 4, 5])"
   ],
   "id": "4f1a94eac0a85caf",
   "outputs": [],
   "execution_count": 18
  },
  {
   "metadata": {
    "ExecuteTime": {
     "end_time": "2025-06-28T13:20:10.149916Z",
     "start_time": "2025-06-28T13:20:10.142937Z"
    }
   },
   "cell_type": "code",
   "source": "print(numbers[0])",
   "id": "d9a2384406549576",
   "outputs": [
    {
     "name": "stdout",
     "output_type": "stream",
     "text": [
      "1\n"
     ]
    }
   ],
   "execution_count": 19
  },
  {
   "metadata": {},
   "cell_type": "markdown",
   "source": [
    "📌 Arrays support indexing just like lists\n",
    "\n",
    "---\n",
    "### 5️⃣ Modify Array Items"
   ],
   "id": "fabe10e8d3563cb"
  },
  {
   "metadata": {
    "ExecuteTime": {
     "end_time": "2025-06-28T13:20:22.171635Z",
     "start_time": "2025-06-28T13:20:22.165563Z"
    }
   },
   "cell_type": "code",
   "source": [
    "from array import array\n",
    "numbers = array('i',[1, 2, 3, 4, 5])"
   ],
   "id": "82b1628bc51b5f8a",
   "outputs": [],
   "execution_count": 20
  },
  {
   "metadata": {
    "ExecuteTime": {
     "end_time": "2025-06-28T13:21:28.221898Z",
     "start_time": "2025-06-28T13:21:28.209475Z"
    }
   },
   "cell_type": "code",
   "source": "numbers[0] = 6",
   "id": "f261d0db986cec9c",
   "outputs": [],
   "execution_count": 21
  },
  {
   "metadata": {
    "ExecuteTime": {
     "end_time": "2025-06-28T13:21:32.424670Z",
     "start_time": "2025-06-28T13:21:32.419400Z"
    }
   },
   "cell_type": "code",
   "source": "print(numbers)",
   "id": "b81369dda9843eea",
   "outputs": [
    {
     "name": "stdout",
     "output_type": "stream",
     "text": [
      "array('i', [6, 2, 3, 4, 5])\n"
     ]
    }
   ],
   "execution_count": 22
  },
  {
   "metadata": {},
   "cell_type": "markdown",
   "source": [
    "🛠️ You can update values using indexes\n",
    "\n",
    "---\n",
    "### 6️⃣ Loop Through an Array"
   ],
   "id": "c76d61926268c3ec"
  },
  {
   "metadata": {
    "ExecuteTime": {
     "end_time": "2025-06-28T13:22:53.328944Z",
     "start_time": "2025-06-28T13:22:53.323726Z"
    }
   },
   "cell_type": "code",
   "source": [
    "from array import array\n",
    "numbers = array('i',[1, 2, 3, 4, 5])"
   ],
   "id": "7b31cc8a66f88aa0",
   "outputs": [],
   "execution_count": 25
  },
  {
   "metadata": {
    "ExecuteTime": {
     "end_time": "2025-06-28T13:23:20.503575Z",
     "start_time": "2025-06-28T13:23:20.496947Z"
    }
   },
   "cell_type": "code",
   "source": [
    "for number in numbers:\n",
    "    print(number)"
   ],
   "id": "a4fbda610d677ea7",
   "outputs": [
    {
     "name": "stdout",
     "output_type": "stream",
     "text": [
      "1\n",
      "2\n",
      "3\n",
      "4\n",
      "5\n"
     ]
    }
   ],
   "execution_count": 26
  },
  {
   "metadata": {},
   "cell_type": "markdown",
   "source": [
    "🔁 Loops work the same way as with lists\n",
    "\n",
    "---\n",
    "### 7️⃣ Add Elements"
   ],
   "id": "4c968fbc58040087"
  },
  {
   "metadata": {
    "ExecuteTime": {
     "end_time": "2025-06-28T13:26:11.389689Z",
     "start_time": "2025-06-28T13:26:11.381428Z"
    }
   },
   "cell_type": "code",
   "source": [
    "from array import array\n",
    "numbers = array('i',[1, 2, 3, 4, 5])\n",
    "print(numbers)"
   ],
   "id": "3c0f32da627fabd",
   "outputs": [
    {
     "name": "stdout",
     "output_type": "stream",
     "text": [
      "array('i', [1, 2, 3, 4, 5])\n"
     ]
    }
   ],
   "execution_count": 31
  },
  {
   "metadata": {
    "ExecuteTime": {
     "end_time": "2025-06-28T13:26:14.133729Z",
     "start_time": "2025-06-28T13:26:14.126983Z"
    }
   },
   "cell_type": "code",
   "source": [
    "numbers.append(6)\n",
    "print(numbers)"
   ],
   "id": "43efe36eb7c95db5",
   "outputs": [
    {
     "name": "stdout",
     "output_type": "stream",
     "text": [
      "array('i', [1, 2, 3, 4, 5, 6])\n"
     ]
    }
   ],
   "execution_count": 32
  },
  {
   "metadata": {
    "ExecuteTime": {
     "end_time": "2025-06-28T13:26:41.556655Z",
     "start_time": "2025-06-28T13:26:41.544452Z"
    }
   },
   "cell_type": "code",
   "source": [
    "numbers.insert(1,100)\n",
    "print(numbers)"
   ],
   "id": "2837be4e0d932714",
   "outputs": [
    {
     "name": "stdout",
     "output_type": "stream",
     "text": [
      "array('i', [1, 100, 2, 3, 4, 5, 6])\n"
     ]
    }
   ],
   "execution_count": 33
  },
  {
   "metadata": {},
   "cell_type": "markdown",
   "source": [
    "➕ Use `.append()` to add at end\n",
    "\n",
    "📍 Use `.insert(index, value)` to insert at position\n",
    "\n",
    "---\n",
    "### 8️⃣ Remove Elements"
   ],
   "id": "5292798bd908f504"
  },
  {
   "metadata": {
    "ExecuteTime": {
     "end_time": "2025-06-28T13:28:55.690327Z",
     "start_time": "2025-06-28T13:28:55.682340Z"
    }
   },
   "cell_type": "code",
   "source": [
    "from array import array\n",
    "numbers = array('i',[1, 2, 3, 4, 5])\n",
    "print(numbers)"
   ],
   "id": "6075f43a10c7860e",
   "outputs": [
    {
     "name": "stdout",
     "output_type": "stream",
     "text": [
      "array('i', [1, 2, 3, 4, 5])\n"
     ]
    }
   ],
   "execution_count": 39
  },
  {
   "metadata": {
    "ExecuteTime": {
     "end_time": "2025-06-28T13:28:57.514922Z",
     "start_time": "2025-06-28T13:28:57.500982Z"
    }
   },
   "cell_type": "code",
   "source": [
    "numbers.remove(3)\n",
    "print(numbers)"
   ],
   "id": "151f1833a6373207",
   "outputs": [
    {
     "name": "stdout",
     "output_type": "stream",
     "text": [
      "array('i', [1, 2, 4, 5])\n"
     ]
    }
   ],
   "execution_count": 40
  },
  {
   "metadata": {
    "ExecuteTime": {
     "end_time": "2025-06-28T13:28:59.596792Z",
     "start_time": "2025-06-28T13:28:59.589600Z"
    }
   },
   "cell_type": "code",
   "source": [
    "numbers.pop()\n",
    "print(numbers)"
   ],
   "id": "771dfaad9011d8f0",
   "outputs": [
    {
     "name": "stdout",
     "output_type": "stream",
     "text": [
      "array('i', [1, 2, 4])\n"
     ]
    }
   ],
   "execution_count": 41
  },
  {
   "metadata": {},
   "cell_type": "markdown",
   "source": [
    "🗑️ Use `.remove()` or `.pop()`\n",
    "\n",
    "---\n",
    "### 9️⃣ Array Length"
   ],
   "id": "f7785f4f012e5"
  },
  {
   "metadata": {
    "ExecuteTime": {
     "end_time": "2025-06-28T13:30:12.675623Z",
     "start_time": "2025-06-28T13:30:12.667279Z"
    }
   },
   "cell_type": "code",
   "source": [
    "from array import array\n",
    "numbers = array('i',[1, 2, 3, 4, 5])\n",
    "print(numbers)"
   ],
   "id": "99952c0e12bcd641",
   "outputs": [
    {
     "name": "stdout",
     "output_type": "stream",
     "text": [
      "array('i', [1, 2, 3, 4, 5])\n"
     ]
    }
   ],
   "execution_count": 42
  },
  {
   "metadata": {
    "ExecuteTime": {
     "end_time": "2025-06-28T13:30:21.200662Z",
     "start_time": "2025-06-28T13:30:21.193598Z"
    }
   },
   "cell_type": "code",
   "source": "print(len(numbers))",
   "id": "8144323273f1aab1",
   "outputs": [
    {
     "name": "stdout",
     "output_type": "stream",
     "text": [
      "5\n"
     ]
    }
   ],
   "execution_count": 43
  },
  {
   "metadata": {},
   "cell_type": "markdown",
   "source": [
    "📏 Returns number of elements\n",
    "\n",
    "---\n",
    "### 🔄 Convert Array to List"
   ],
   "id": "be51e4d207182746"
  },
  {
   "metadata": {
    "ExecuteTime": {
     "end_time": "2025-06-28T13:31:22.925396Z",
     "start_time": "2025-06-28T13:31:22.916447Z"
    }
   },
   "cell_type": "code",
   "source": [
    "from array import array\n",
    "numbers = array('i',[1, 2, 3, 4, 5])\n",
    "print(numbers)"
   ],
   "id": "9ad8c463835fa213",
   "outputs": [
    {
     "name": "stdout",
     "output_type": "stream",
     "text": [
      "array('i', [1, 2, 3, 4, 5])\n"
     ]
    }
   ],
   "execution_count": 44
  },
  {
   "metadata": {
    "ExecuteTime": {
     "end_time": "2025-06-28T13:31:41.197012Z",
     "start_time": "2025-06-28T13:31:41.190023Z"
    }
   },
   "cell_type": "code",
   "source": [
    "list = numbers.tolist()\n",
    "print(list)"
   ],
   "id": "d968b9a88f4cd489",
   "outputs": [
    {
     "name": "stdout",
     "output_type": "stream",
     "text": [
      "[1, 2, 3, 4, 5]\n"
     ]
    }
   ],
   "execution_count": 45
  },
  {
   "metadata": {},
   "cell_type": "markdown",
   "source": "🔃 `.tolist()` converts the array to a Python list",
   "id": "2a081a9434d19aa2"
  },
  {
   "metadata": {},
   "cell_type": "markdown",
   "source": [
    "### 💡 Tip:\n",
    "- Use arrays when working with many numeric values and want better **performance and memory efficiency**\n",
    "- Prefer **lists** for general-purpose containers (can hold mixed data)\n",
    "---"
   ],
   "id": "23fbdc55415c3056"
  },
  {
   "metadata": {},
   "cell_type": "markdown",
   "source": [
    "## 🧰 Python Array Methods\n",
    "\n",
    "Python's `array` module provides several useful methods to manipulate arrays.\n",
    "\n",
    "---\n",
    "\n",
    "### 📋 Commonly Used Methods\n",
    "\n",
    "| Method           | Description                                      | Example                         |\n",
    "|------------------|--------------------------------------------------|---------------------------------|\n",
    "| `append(x)`      | Adds an item to the end                          | `arr.append(10)`                |\n",
    "| `insert(i, x)`   | Inserts item `x` at position `i`                 | `arr.insert(1, 99)`             |\n",
    "| `remove(x)`      | Removes the first occurrence of value `x`        | `arr.remove(5)`                 |\n",
    "| `pop()`          | Removes the last element                         | `arr.pop()`                     |\n",
    "| `index(x)`       | Returns the index of the first occurrence of `x` | `arr.index(3)`                  |\n",
    "| `reverse()`      | Reverses the order of the array (in-place)       | `arr.reverse()`                 |\n",
    "| `buffer_info()`  | Returns memory address and length as tuple       | `arr.buffer_info()`             |\n",
    "| `count(x)`       | Counts the number of occurrences of `x`          | `arr.count(2)`                  |\n",
    "| `extend(iterable)` | Adds items from an iterable to the end         | `arr.extend([6, 7, 8])`         |\n",
    "| `tolist()`       | Converts the array to a regular Python list      | `arr.tolist()`                  |\n",
    "| `fromlist(list)` | Adds items from a list                           | `arr.fromlist([9, 10])`         |\n"
   ],
   "id": "878f36ad3110fe74"
  },
  {
   "metadata": {
    "ExecuteTime": {
     "end_time": "2025-06-28T13:35:18.313632Z",
     "start_time": "2025-06-28T13:35:18.299692Z"
    }
   },
   "cell_type": "code",
   "source": [
    "from array import array\n",
    "\n",
    "arr = array('i', [1, 2, 3])\n",
    "arr.append(4)\n",
    "arr.insert(1, 100)\n",
    "arr.remove(2)\n",
    "arr.reverse()\n",
    "\n",
    "print(arr.tolist())"
   ],
   "id": "28b5534f1b740d2e",
   "outputs": [
    {
     "name": "stdout",
     "output_type": "stream",
     "text": [
      "[4, 3, 100, 1]\n"
     ]
    }
   ],
   "execution_count": 47
  },
  {
   "metadata": {},
   "cell_type": "markdown",
   "source": [
    "### 💡 Tip:\n",
    "- Arrays are more **memory efficient** than lists when working with large datasets of the same type.\n",
    "- Use `tolist()` when you need to convert for general-purpose use.\n",
    "---"
   ],
   "id": "3d77dee92e36534b"
  }
 ],
 "metadata": {
  "kernelspec": {
   "display_name": "Python 3",
   "language": "python",
   "name": "python3"
  },
  "language_info": {
   "codemirror_mode": {
    "name": "ipython",
    "version": 2
   },
   "file_extension": ".py",
   "mimetype": "text/x-python",
   "name": "python",
   "nbconvert_exporter": "python",
   "pygments_lexer": "ipython2",
   "version": "2.7.6"
  }
 },
 "nbformat": 4,
 "nbformat_minor": 5
}

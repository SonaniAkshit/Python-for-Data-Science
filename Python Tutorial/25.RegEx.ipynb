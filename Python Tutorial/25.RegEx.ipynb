{
 "cells": [
  {
   "cell_type": "markdown",
   "id": "54ea3814394c4650",
   "metadata": {},
   "source": [
    "# 🔍 Python RegEx (Regular Expressions)\n",
    "\n",
    "**Regular Expressions** (RegEx) are used to match patterns in text (strings).\n",
    "\n",
    "Python provides the built-in `re` module for working with RegEx.\n",
    "\n",
    "---\n",
    "\n",
    "### 📦 1. RegEx Module in Python\n",
    "\n",
    "To use RegEx in Python, import the built-in `re` module:\n",
    "\n"
   ]
  },
  {
   "cell_type": "code",
   "execution_count": 3,
   "id": "851324ed24fb0979",
   "metadata": {
    "ExecuteTime": {
     "end_time": "2025-07-01T05:51:37.378755Z",
     "start_time": "2025-07-01T05:51:37.371755Z"
    }
   },
   "outputs": [],
   "source": [
    "import re"
   ]
  },
  {
   "cell_type": "markdown",
   "id": "de519b1225de36b2",
   "metadata": {},
   "source": [
    "### 🧠 2. What is RegEx?\n",
    "Regular Expressions (RegEx) are patterns used to match strings or parts of strings.\n",
    "Useful for searching, extracting, replacing, or validating text.\n",
    "\n",
    "### 🧰 3. RegEx Functions in Python\n",
    "\n",
    "| Function       | Description                           |\n",
    "| -------------- | ------------------------------------- |\n",
    "| `re.search()`  | Returns the first match               |\n",
    "| `re.findall()` | Returns a list of all matches         |\n",
    "| `re.match()`   | Matches the pattern only at the start |\n",
    "| `re.sub()`     | Replaces a pattern with a string      |\n",
    "| `re.split()`   | Splits string at each match           |\n"
   ]
  },
  {
   "cell_type": "code",
   "execution_count": 4,
   "id": "99442fa37f6b2fbb",
   "metadata": {
    "ExecuteTime": {
     "end_time": "2025-07-01T06:08:35.619540Z",
     "start_time": "2025-07-01T06:08:35.614690Z"
    }
   },
   "outputs": [],
   "source": [
    "text = \"Python is easy. Python is powerful.\""
   ]
  },
  {
   "cell_type": "markdown",
   "id": "7eab26ba22e3f50d",
   "metadata": {},
   "source": [
    "#### 1️⃣ `re.search()` – First Match"
   ]
  },
  {
   "cell_type": "code",
   "execution_count": 5,
   "id": "613a4089c1ac4c8c",
   "metadata": {
    "ExecuteTime": {
     "end_time": "2025-07-01T06:08:33.895834Z",
     "start_time": "2025-07-01T06:08:33.887884Z"
    }
   },
   "outputs": [
    {
     "name": "stdout",
     "output_type": "stream",
     "text": [
      "<re.Match object; span=(10, 14), match='easy'>\n"
     ]
    }
   ],
   "source": [
    "print(re.search(\"easy\", text))"
   ]
  },
  {
   "cell_type": "code",
   "execution_count": 6,
   "id": "58d2f52db18bcb6e",
   "metadata": {
    "ExecuteTime": {
     "end_time": "2025-07-01T06:08:31.687963Z",
     "start_time": "2025-07-01T06:08:31.680431Z"
    }
   },
   "outputs": [
    {
     "name": "stdout",
     "output_type": "stream",
     "text": [
      "rain\n"
     ]
    }
   ],
   "source": [
    "string = \"The rain in Spain\"\n",
    "result = re.search(\"rain\", string)\n",
    "\n",
    "print(result.group())"
   ]
  },
  {
   "cell_type": "markdown",
   "id": "e9d8b149e72c77b8",
   "metadata": {},
   "source": [
    "#### 2️⃣ `re.findall()` – All Matches"
   ]
  },
  {
   "cell_type": "code",
   "execution_count": 7,
   "id": "23eedc371f159b1f",
   "metadata": {
    "ExecuteTime": {
     "end_time": "2025-07-01T05:56:00.384173Z",
     "start_time": "2025-07-01T05:56:00.378546Z"
    }
   },
   "outputs": [
    {
     "name": "stdout",
     "output_type": "stream",
     "text": [
      "['Python', 'Python']\n"
     ]
    }
   ],
   "source": [
    "print(re.findall(\"Python\", text))"
   ]
  },
  {
   "cell_type": "code",
   "execution_count": 8,
   "id": "ee2d27649989ef2c",
   "metadata": {
    "ExecuteTime": {
     "end_time": "2025-07-01T06:08:47.799965Z",
     "start_time": "2025-07-01T06:08:47.792837Z"
    }
   },
   "outputs": [
    {
     "name": "stdout",
     "output_type": "stream",
     "text": [
      "['ai', 'ai']\n"
     ]
    }
   ],
   "source": [
    "string = \"The rain in Spain\"\n",
    "matches = re.findall(\"ai\", string)\n",
    "\n",
    "print(matches)"
   ]
  },
  {
   "cell_type": "markdown",
   "id": "e75ca717f9faa0d6",
   "metadata": {},
   "source": [
    "#### 3️⃣ `re.match()` – Match from Beginning"
   ]
  },
  {
   "cell_type": "code",
   "execution_count": 9,
   "id": "a0e948661c06cccf",
   "metadata": {
    "ExecuteTime": {
     "end_time": "2025-07-01T06:07:09.801147Z",
     "start_time": "2025-07-01T06:07:09.793630Z"
    }
   },
   "outputs": [
    {
     "name": "stdout",
     "output_type": "stream",
     "text": [
      "<re.Match object; span=(0, 6), match='Python'>\n"
     ]
    }
   ],
   "source": [
    "print(re.match(\"Python\",text))"
   ]
  },
  {
   "cell_type": "code",
   "execution_count": 10,
   "id": "dfbc1db4c41a9569",
   "metadata": {
    "ExecuteTime": {
     "end_time": "2025-07-01T06:09:10.770755Z",
     "start_time": "2025-07-01T06:09:10.760485Z"
    }
   },
   "outputs": [
    {
     "name": "stdout",
     "output_type": "stream",
     "text": [
      "The\n"
     ]
    }
   ],
   "source": [
    "string = \"The rain in Spain\"\n",
    "\n",
    "result = re.match(\"The\", string)\n",
    "print(result.group())"
   ]
  },
  {
   "cell_type": "markdown",
   "id": "37592457dce628cf",
   "metadata": {},
   "source": [
    "#### 4️⃣ `re.sub()` – Replace Match"
   ]
  },
  {
   "cell_type": "code",
   "execution_count": 11,
   "id": "8a3c4004daa532e7",
   "metadata": {
    "ExecuteTime": {
     "end_time": "2025-07-01T06:00:41.389329Z",
     "start_time": "2025-07-01T06:00:41.383196Z"
    }
   },
   "outputs": [
    {
     "name": "stdout",
     "output_type": "stream",
     "text": [
      "Java is easy. Java is powerful.\n"
     ]
    }
   ],
   "source": [
    "print(re.sub(\"Python\", \"Java\", text))"
   ]
  },
  {
   "cell_type": "code",
   "execution_count": 12,
   "id": "2b753aad44f520b",
   "metadata": {
    "ExecuteTime": {
     "end_time": "2025-07-01T06:01:54.539798Z",
     "start_time": "2025-07-01T06:01:54.532557Z"
    }
   },
   "outputs": [
    {
     "name": "stdout",
     "output_type": "stream",
     "text": [
      "['Python is easy. Python is powerful.']\n"
     ]
    }
   ],
   "source": [
    "print(re.split(\" =,\", text))"
   ]
  },
  {
   "cell_type": "code",
   "execution_count": 13,
   "id": "dc060a5fd72e0ed4",
   "metadata": {
    "ExecuteTime": {
     "end_time": "2025-07-01T06:11:15.856844Z",
     "start_time": "2025-07-01T06:11:15.849550Z"
    }
   },
   "outputs": [
    {
     "name": "stdout",
     "output_type": "stream",
     "text": [
      "Today is DD/MM/YYYY\n"
     ]
    }
   ],
   "source": [
    "string = \"Today is 25/06/2025\"\n",
    "new_text = re.sub(r\"\\d{2}/\\d{2}/\\d{4}\", \"DD/MM/YYYY\", string)\n",
    "\n",
    "print(new_text)\n"
   ]
  },
  {
   "cell_type": "markdown",
   "id": "7f471e0ff70b71ae",
   "metadata": {},
   "source": [
    "#### 5️⃣ `re.split()` – Split by Pattern"
   ]
  },
  {
   "cell_type": "code",
   "execution_count": 14,
   "id": "22c5df19c7d48df1",
   "metadata": {
    "ExecuteTime": {
     "end_time": "2025-07-01T06:03:22.973947Z",
     "start_time": "2025-07-01T06:03:22.966891Z"
    }
   },
   "outputs": [
    {
     "name": "stdout",
     "output_type": "stream",
     "text": [
      "['Python is easy', ' Python is powerful', '']\n"
     ]
    },
    {
     "name": "stderr",
     "output_type": "stream",
     "text": [
      "<>:1: SyntaxWarning: invalid escape sequence '\\.'\n",
      "<>:1: SyntaxWarning: invalid escape sequence '\\.'\n",
      "C:\\Users\\Admin\\AppData\\Local\\Temp\\ipykernel_5572\\1608842911.py:1: SyntaxWarning: invalid escape sequence '\\.'\n",
      "  print(re.split(\"\\.\", text))\n"
     ]
    }
   ],
   "source": [
    "print(re.split(\"\\.\", text))"
   ]
  },
  {
   "cell_type": "code",
   "execution_count": 15,
   "id": "425e445af6560570",
   "metadata": {
    "ExecuteTime": {
     "end_time": "2025-07-01T06:03:20.569022Z",
     "start_time": "2025-07-01T06:03:20.561025Z"
    }
   },
   "outputs": [
    {
     "name": "stdout",
     "output_type": "stream",
     "text": [
      "['Python is easy', ' Python is powerful', '']\n"
     ]
    }
   ],
   "source": [
    "print(re.split(r\"\\.\", text))"
   ]
  },
  {
   "cell_type": "code",
   "execution_count": 16,
   "id": "36e38da3ae7eea6",
   "metadata": {
    "ExecuteTime": {
     "end_time": "2025-07-01T06:11:31.612846Z",
     "start_time": "2025-07-01T06:11:31.604040Z"
    }
   },
   "outputs": [
    {
     "name": "stdout",
     "output_type": "stream",
     "text": [
      "['apple', 'banana', 'grape', 'orange']\n"
     ]
    }
   ],
   "source": [
    "string = \"apple,banana;grape|orange\"\n",
    "parts = re.split(r\"[;,|]\", string)\n",
    "\n",
    "print(parts)  # ['apple', 'banana', 'grape', 'orange']\n"
   ]
  },
  {
   "cell_type": "markdown",
   "id": "689c817bc0a8dcd1",
   "metadata": {},
   "source": [
    "Use **raw strings** `r\"pattern\"` to avoid escaping backslashes.\n",
    "\n",
    "### 🔒 Match Object Methods"
   ]
  },
  {
   "cell_type": "code",
   "execution_count": 17,
   "id": "8f803f84d0f20f05",
   "metadata": {
    "ExecuteTime": {
     "end_time": "2025-07-01T06:12:19.304549Z",
     "start_time": "2025-07-01T06:12:19.296479Z"
    }
   },
   "outputs": [
    {
     "name": "stdout",
     "output_type": "stream",
     "text": [
      "4\n",
      "8\n",
      "(4, 8)\n"
     ]
    }
   ],
   "source": [
    "match = re.search(\"rain\", \"The rain in Spain\")\n",
    "if match:\n",
    "    print(match.start())   # Index where match starts\n",
    "    print(match.end())     # Index where match ends\n",
    "    print(match.span())    # Tuple (start, end)\n"
   ]
  },
  {
   "cell_type": "markdown",
   "id": "b5bf985a2f7bf38",
   "metadata": {},
   "source": [
    "### 🔣 4. Metacharacters\n",
    "\n",
    "| Metacharacter | Meaning                      |    |\n",
    "| ------------- | ---------------------------- | -- |\n",
    "| `.`           | Any character except newline |    |\n",
    "| `^`           | Starts with                  |    |\n",
    "| `$`           | Ends with                    |    |\n",
    "| `*`           | 0 or more                    |    |\n",
    "| `+`           | 1 or more                    |    |\n",
    "| `?`           | 0 or 1                       |    |\n",
    "| `{n}`         | Exactly n times              |    |\n",
    "| `[]`          | Set of characters            |    |\n",
    "| `\\`            | `\\`                           | OR |\n",
    "| `()`          | Grouping                     |    |\n"
   ]
  }
 ],
 "metadata": {
  "kernelspec": {
   "display_name": "Python 3",
   "language": "python",
   "name": "python3"
  },
  "language_info": {
   "codemirror_mode": {
    "name": "ipython",
    "version": 3
   },
   "file_extension": ".py",
   "mimetype": "text/x-python",
   "name": "python",
   "nbconvert_exporter": "python",
   "pygments_lexer": "ipython3",
   "version": "3.12.5"
  }
 },
 "nbformat": 4,
 "nbformat_minor": 5
}

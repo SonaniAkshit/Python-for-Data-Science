{
 "cells": [
  {
   "metadata": {},
   "cell_type": "markdown",
   "source": [
    "# 🔂 Python For Loops\n",
    "\n",
    "A `for` loop is used to **iterate** over a sequence like a list, tuple, string, or range.\n",
    "\n",
    "---\n",
    "\n",
    "### 1️⃣ Loop Through a List\n",
    "\n",
    "\n"
   ],
   "id": "bee604bb828692e2"
  },
  {
   "metadata": {
    "ExecuteTime": {
     "end_time": "2025-06-28T05:54:46.232046Z",
     "start_time": "2025-06-28T05:54:46.226792Z"
    }
   },
   "cell_type": "code",
   "source": "fruits = ['apple','banana', 'orange', 'strawberry', 'banana']",
   "id": "fedbec1df1749676",
   "outputs": [],
   "execution_count": 15
  },
  {
   "metadata": {
    "ExecuteTime": {
     "end_time": "2025-06-28T05:54:49.413598Z",
     "start_time": "2025-06-28T05:54:49.408184Z"
    }
   },
   "cell_type": "code",
   "source": [
    "for fruit in fruits:\n",
    "    print(fruit)"
   ],
   "id": "4c09f8643f15f36e",
   "outputs": [
    {
     "name": "stdout",
     "output_type": "stream",
     "text": [
      "apple\n",
      "banana\n",
      "orange\n",
      "strawberry\n",
      "banana\n"
     ]
    }
   ],
   "execution_count": 16
  },
  {
   "metadata": {},
   "cell_type": "markdown",
   "source": [
    "🍎 Iterates through each item in the list\n",
    "\n",
    "### 2️⃣ Loop Through a String"
   ],
   "id": "4f8db5703659bf0c"
  },
  {
   "metadata": {
    "ExecuteTime": {
     "end_time": "2025-06-28T05:23:08.991489Z",
     "start_time": "2025-06-28T05:23:08.984721Z"
    }
   },
   "cell_type": "code",
   "source": [
    "for char in 'hello':\n",
    "    print(char)"
   ],
   "id": "62dcad315c0d96c",
   "outputs": [
    {
     "name": "stdout",
     "output_type": "stream",
     "text": [
      "h\n",
      "e\n",
      "l\n",
      "l\n",
      "o\n"
     ]
    }
   ],
   "execution_count": 6
  },
  {
   "metadata": {},
   "cell_type": "markdown",
   "source": [
    "🔠 Loops through each character in the string\n",
    "\n",
    "### 3️⃣ Loop Using `range()`"
   ],
   "id": "d978a49610a29e23"
  },
  {
   "metadata": {
    "ExecuteTime": {
     "end_time": "2025-06-28T05:27:47.465277Z",
     "start_time": "2025-06-28T05:27:47.457278Z"
    }
   },
   "cell_type": "code",
   "source": [
    "for i in range(5):\n",
    "    print(i)"
   ],
   "id": "45805365f0ad2fe1",
   "outputs": [
    {
     "name": "stdout",
     "output_type": "stream",
     "text": [
      "0\n",
      "1\n",
      "2\n",
      "3\n",
      "4\n"
     ]
    }
   ],
   "execution_count": 7
  },
  {
   "metadata": {},
   "cell_type": "markdown",
   "source": [
    "🔢 Outputs: `0 1 2 3 4`\n",
    "\n",
    "### 4️⃣ Using `range(start, stop, step)`"
   ],
   "id": "d2ec56ca7dddeda8"
  },
  {
   "metadata": {
    "ExecuteTime": {
     "end_time": "2025-06-28T05:50:26.396659Z",
     "start_time": "2025-06-28T05:50:26.390783Z"
    }
   },
   "cell_type": "code",
   "source": [
    "for i in range(2,10,2):\n",
    "    print(i)"
   ],
   "id": "d90af57a12aebd49",
   "outputs": [
    {
     "name": "stdout",
     "output_type": "stream",
     "text": [
      "2\n",
      "4\n",
      "6\n",
      "8\n"
     ]
    }
   ],
   "execution_count": 11
  },
  {
   "metadata": {},
   "cell_type": "markdown",
   "source": [
    "🧭 Outputs: `1 3 5 7 9` (step by 2)\n",
    "\n",
    "### 5️⃣ Using `else` with `for` Loop"
   ],
   "id": "cadeff4069af7bcc"
  },
  {
   "metadata": {
    "ExecuteTime": {
     "end_time": "2025-06-28T05:51:48.765506Z",
     "start_time": "2025-06-28T05:51:48.759184Z"
    }
   },
   "cell_type": "code",
   "source": [
    "for i in range(3):\n",
    "    print(i)\n",
    "else:\n",
    "    print(\"Loop Complete\")"
   ],
   "id": "de134c9c45e48fd0",
   "outputs": [
    {
     "name": "stdout",
     "output_type": "stream",
     "text": [
      "0\n",
      "1\n",
      "2\n",
      "Loop Complete\n"
     ]
    }
   ],
   "execution_count": 12
  },
  {
   "metadata": {},
   "cell_type": "markdown",
   "source": [
    "🧩 The `else` block runs after the loop ends normally\n",
    "\n",
    "### 6️⃣ Using `break` to Exit Early"
   ],
   "id": "88a8da16b5fe137f"
  },
  {
   "metadata": {
    "ExecuteTime": {
     "end_time": "2025-06-28T05:54:53.455835Z",
     "start_time": "2025-06-28T05:54:53.447809Z"
    }
   },
   "cell_type": "code",
   "source": [
    "for fruit in fruits:\n",
    "    if fruit == 'banana':\n",
    "        break\n",
    "    print(fruit)"
   ],
   "id": "266c85ca02d2f1be",
   "outputs": [
    {
     "name": "stdout",
     "output_type": "stream",
     "text": [
      "apple\n"
     ]
    }
   ],
   "execution_count": 17
  },
  {
   "metadata": {},
   "cell_type": "markdown",
   "source": [
    "❌ Stops when it hits `\"banana\"`\n",
    "\n",
    "### 7️⃣ Using `continue` to Skip"
   ],
   "id": "f269160262bb134f"
  },
  {
   "metadata": {
    "ExecuteTime": {
     "end_time": "2025-06-28T05:55:02.729389Z",
     "start_time": "2025-06-28T05:55:02.722362Z"
    }
   },
   "cell_type": "code",
   "source": [
    "for fruit in fruits:\n",
    "    if fruit == 'banana':\n",
    "        continue\n",
    "    print(fruit)"
   ],
   "id": "48c6923f107bf7e4",
   "outputs": [
    {
     "name": "stdout",
     "output_type": "stream",
     "text": [
      "apple\n",
      "orange\n",
      "strawberry\n"
     ]
    }
   ],
   "execution_count": 19
  },
  {
   "metadata": {},
   "cell_type": "markdown",
   "source": [
    "⏭️ Skips `\"banana\"` and continues\n",
    "\n",
    "### 8️⃣ Nested `for` Loops"
   ],
   "id": "c726cd7ad5769906"
  },
  {
   "metadata": {
    "ExecuteTime": {
     "end_time": "2025-06-28T05:56:10.310256Z",
     "start_time": "2025-06-28T05:56:10.304642Z"
    }
   },
   "cell_type": "code",
   "source": [
    "for i in range(2):\n",
    "    for j in range(2):\n",
    "        print(i, j)"
   ],
   "id": "1dc59f48e892563c",
   "outputs": [
    {
     "name": "stdout",
     "output_type": "stream",
     "text": [
      "0 0\n",
      "0 1\n",
      "1 0\n",
      "1 1\n"
     ]
    }
   ],
   "execution_count": 20
  },
  {
   "metadata": {},
   "cell_type": "markdown",
   "source": [
    "🔁 Useful for grids, matrices, or combinations\n",
    "\n",
    "### 💡 Tip:\n",
    "- Use `range(len(list))` to loop with **indexes**\n",
    "- Use `enumerate()` to get **index and value:**\n",
    "---"
   ],
   "id": "4f2742f09e361a20"
  }
 ],
 "metadata": {
  "kernelspec": {
   "display_name": "Python 3",
   "language": "python",
   "name": "python3"
  },
  "language_info": {
   "codemirror_mode": {
    "name": "ipython",
    "version": 2
   },
   "file_extension": ".py",
   "mimetype": "text/x-python",
   "name": "python",
   "nbconvert_exporter": "python",
   "pygments_lexer": "ipython2",
   "version": "2.7.6"
  }
 },
 "nbformat": 4,
 "nbformat_minor": 5
}

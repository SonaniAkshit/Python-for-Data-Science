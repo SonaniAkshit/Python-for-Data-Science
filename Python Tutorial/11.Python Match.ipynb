{
 "cells": [
  {
   "metadata": {},
   "cell_type": "markdown",
   "source": [
    "# 🎯 Python `match` Statement (Pattern Matching)\n",
    "\n",
    "Python introduced `match...case` in **version 3.10** to simplify checking multiple values.\n",
    "\n",
    "The `match` statement is used to perform different actions based on different conditions.\n",
    "\n",
    "#### The Python Match Statement\n",
    "Instead of writing many `if..else` statements, you can use the `match` statement.\n",
    "\n",
    "The `match` statement selects one of many code blocks to be executed.\n",
    "\n",
    "---\n",
    "\n",
    "### 1️⃣ Basic Example\n"
   ],
   "id": "c07d9314cb7363f0"
  },
  {
   "metadata": {
    "ExecuteTime": {
     "end_time": "2025-06-28T04:43:20.936399Z",
     "start_time": "2025-06-28T04:43:14.423627Z"
    }
   },
   "cell_type": "code",
   "source": [
    "from unittest import case\n",
    "\n",
    "command = input(\"Enter any key to continue(eg.start,stop,etc...): \")\n",
    "\n",
    "match command:\n",
    "    case 'start':\n",
    "        print(\"Starting....\")\n",
    "    case 'stop':\n",
    "        print(\"Stopping....\")\n",
    "    case _:\n",
    "        print(\"Unknown command\")"
   ],
   "id": "e7dd96a6394e74e8",
   "outputs": [
    {
     "name": "stdout",
     "output_type": "stream",
     "text": [
      "Starting....\n"
     ]
    }
   ],
   "execution_count": 4
  },
  {
   "metadata": {},
   "cell_type": "markdown",
   "source": [
    "🧭 The `_` case is like a default (matches anything)\n",
    "\n",
    "### 2️⃣ Match with Multiple Values"
   ],
   "id": "eac2b05826716c8d"
  },
  {
   "metadata": {
    "ExecuteTime": {
     "end_time": "2025-06-28T04:47:52.470616Z",
     "start_time": "2025-06-28T04:47:52.454844Z"
    }
   },
   "cell_type": "code",
   "source": [
    "day = 'sunday'\n",
    "\n",
    "match day:\n",
    "    case 'sunday' | 'saturday':\n",
    "         print(\"Weekend 🎉\")\n",
    "    case 'monday':\n",
    "        print(\"Start of the week 😴\")\n",
    "    case 'monday' | 'tuesday' | 'wednesday' | 'thursday' | 'friday' :\n",
    "        print(\"Weekday 💼\")\n",
    "    case _:\n",
    "        print(\"Unknown day\")"
   ],
   "id": "78fbce66f39f5ce1",
   "outputs": [
    {
     "name": "stdout",
     "output_type": "stream",
     "text": [
      "Weekend 🎉\n"
     ]
    }
   ],
   "execution_count": 5
  },
  {
   "metadata": {},
   "cell_type": "markdown",
   "source": [
    "\n",
    "🔗 Use `|` (pipe) for multiple matching values\n",
    "\n",
    "### 3️⃣ Match with Variables (Using Patterns)"
   ],
   "id": "6c5193125275f386"
  },
  {
   "metadata": {
    "ExecuteTime": {
     "end_time": "2025-06-28T04:49:46.352786Z",
     "start_time": "2025-06-28T04:49:46.340068Z"
    }
   },
   "cell_type": "code",
   "source": [
    "point = (1, 2)\n",
    "\n",
    "match point:\n",
    "    case (0, 0):\n",
    "        print(\"Origin\")\n",
    "    case (x, 0):\n",
    "        print(f\"X-axis at {x}\")\n",
    "    case (0, y):\n",
    "        print(f\"Y-axis at {y}\")\n",
    "    case (x, y):\n",
    "        print(f\"Point at x={x}, y={y}\")\n"
   ],
   "id": "b144ce769cfb46d2",
   "outputs": [
    {
     "name": "stdout",
     "output_type": "stream",
     "text": [
      "Point at x=1, y=2\n"
     ]
    }
   ],
   "execution_count": 7
  },
  {
   "metadata": {},
   "cell_type": "markdown",
   "source": [
    "📍 Destructuring and pattern matching in one!\n",
    "\n",
    "### 4️⃣ Match with Conditions (`if` Guard)"
   ],
   "id": "abb3569730c9b57d"
  },
  {
   "metadata": {
    "ExecuteTime": {
     "end_time": "2025-06-28T04:52:15.247838Z",
     "start_time": "2025-06-28T04:52:15.239880Z"
    }
   },
   "cell_type": "code",
   "source": [
    "number = 14\n",
    "\n",
    "match number:\n",
    "    case x if x % 2 == 0:\n",
    "        print(\"Even Number\")\n",
    "    case x:\n",
    "        print(\"Odd Number\")"
   ],
   "id": "6aea550173415111",
   "outputs": [
    {
     "name": "stdout",
     "output_type": "stream",
     "text": [
      "Even Number\n"
     ]
    }
   ],
   "execution_count": 9
  },
  {
   "metadata": {},
   "cell_type": "markdown",
   "source": [
    "🧠 Add conditions using `if` guards in a `case`\n",
    "\n",
    "### 💡 Tip:\n",
    "- `match` works well with strings, integers, tuples, and more\n",
    "- Use `_` for a **default catch-all case**\n",
    "- Use pattern matching to **destructure** complex data\n",
    "---"
   ],
   "id": "a08c19c2e0ddd6c1"
  }
 ],
 "metadata": {
  "kernelspec": {
   "display_name": "Python 3",
   "language": "python",
   "name": "python3"
  },
  "language_info": {
   "codemirror_mode": {
    "name": "ipython",
    "version": 2
   },
   "file_extension": ".py",
   "mimetype": "text/x-python",
   "name": "python",
   "nbconvert_exporter": "python",
   "pygments_lexer": "ipython2",
   "version": "2.7.6"
  }
 },
 "nbformat": 4,
 "nbformat_minor": 5
}

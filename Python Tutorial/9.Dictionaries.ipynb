{
 "cells": [
  {
   "metadata": {},
   "cell_type": "markdown",
   "source": [
    "# 📖 Python Dictionaries\n",
    "\n",
    "A **dictionary** in Python is a collection of:\n",
    "\n",
    "- **Key-value pairs** 🔑➡️📦\n",
    "- **Ordered** (as of Python 3.7+) ✅\n",
    "- **Changeable** ✅\n",
    "- **No duplicate keys allowed** 🚫\n",
    "\n",
    "Dictionaries are written using curly braces `{}` with keys and values separated by a colon `:`.\n",
    "\n",
    "---\n",
    "\n",
    "### 1️⃣ Create a Dictionary\n",
    "<img src=\"https://media2.giphy.com/media/QssGEmpkyEOhBCb7e1/giphy.gif?cid=ecf05e47a0n3gi1bfqntqmob8g9aid1oyj2wr3ds3mg700bl&rid=giphy.gif\" width=\"22px\" align=\"top\"/> **Code**\n"
   ],
   "id": "ac3cb7d6074abf93"
  },
  {
   "metadata": {
    "ExecuteTime": {
     "end_time": "2025-06-27T06:11:03.942657Z",
     "start_time": "2025-06-27T06:11:03.936155Z"
    }
   },
   "cell_type": "code",
   "source": [
    "from numpy.testing.print_coercion_tables import print_coercion_table\n",
    "\n",
    "person = {\n",
    "    \"name\" : \"akshit\",\n",
    "    \"age\" : 22,\n",
    "    \"city\" : \"Ahmedabad\"\n",
    "}"
   ],
   "id": "be056678305bdad3",
   "outputs": [],
   "execution_count": 2
  },
  {
   "metadata": {},
   "cell_type": "markdown",
   "source": [
    "📦 Each item is a `key: value` pair\n",
    "\n",
    "---\n",
    "### 2️⃣ Dictionary Length\n",
    "<img src=\"https://media2.giphy.com/media/QssGEmpkyEOhBCb7e1/giphy.gif?cid=ecf05e47a0n3gi1bfqntqmob8g9aid1oyj2wr3ds3mg700bl&rid=giphy.gif\" width=\"22px\" align=\"top\"/> **Code**"
   ],
   "id": "4bc1bed9ca4cb530"
  },
  {
   "metadata": {
    "ExecuteTime": {
     "end_time": "2025-06-27T06:13:28.349982Z",
     "start_time": "2025-06-27T06:13:28.337171Z"
    }
   },
   "cell_type": "code",
   "source": "len(person)",
   "id": "8a3c282ee96e3601",
   "outputs": [
    {
     "data": {
      "text/plain": [
       "3"
      ]
     },
     "execution_count": 3,
     "metadata": {},
     "output_type": "execute_result"
    }
   ],
   "execution_count": 3
  },
  {
   "metadata": {},
   "cell_type": "markdown",
   "source": [
    "📏 Returns the number of key-value pairs\n",
    "\n",
    "---\n",
    "### 3️⃣ `type()`.\n",
    "<img src=\"https://media2.giphy.com/media/QssGEmpkyEOhBCb7e1/giphy.gif?cid=ecf05e47a0n3gi1bfqntqmob8g9aid1oyj2wr3ds3mg700bl&rid=giphy.gif\" width=\"22px\" align=\"top\"/> **Code**"
   ],
   "id": "9371629cff5ac6d9"
  },
  {
   "metadata": {
    "ExecuteTime": {
     "end_time": "2025-06-27T06:14:50.373061Z",
     "start_time": "2025-06-27T06:14:50.364007Z"
    }
   },
   "cell_type": "code",
   "source": "type(person)",
   "id": "8d4a85520fbcce75",
   "outputs": [
    {
     "data": {
      "text/plain": [
       "dict"
      ]
     },
     "execution_count": 4,
     "metadata": {},
     "output_type": "execute_result"
    }
   ],
   "execution_count": 4
  },
  {
   "metadata": {},
   "cell_type": "markdown",
   "source": [
    "dictionaries are defined as objects with the data type `<class 'dict'>`\n",
    "\n",
    "---\n",
    "### 4️⃣ `dict()` Constructor.\n",
    "<img src=\"https://media2.giphy.com/media/QssGEmpkyEOhBCb7e1/giphy.gif?cid=ecf05e47a0n3gi1bfqntqmob8g9aid1oyj2wr3ds3mg700bl&rid=giphy.gif\" width=\"22px\" align=\"top\"/> **Code**"
   ],
   "id": "60672f785e2765a2"
  },
  {
   "metadata": {
    "ExecuteTime": {
     "end_time": "2025-06-27T06:18:58.231219Z",
     "start_time": "2025-06-27T06:18:58.220112Z"
    }
   },
   "cell_type": "code",
   "source": [
    "Dictionary = dict(name ='akshit', age = 22, city ='Ahmedabad')\n",
    "Dictionary"
   ],
   "id": "de277d7266934a9b",
   "outputs": [
    {
     "data": {
      "text/plain": [
       "{'name': 'akshit', 'age': 22, 'city': 'Ahmedabad'}"
      ]
     },
     "execution_count": 7,
     "metadata": {},
     "output_type": "execute_result"
    }
   ],
   "execution_count": 7
  },
  {
   "metadata": {},
   "cell_type": "markdown",
   "source": [
    "It is also possible to use the `dict()` constructor to make a dictionary.\n",
    "\n",
    "---\n",
    "\n",
    "## 🛠️ Python - Different Ways to Create Dictionary\n",
    "\n",
    "In Python, there are multiple ways to create dictionaries (key-value pairs). Here's a handy guide:\n",
    "\n",
    "---\n",
    "\n",
    "### 1️⃣ Using Curly Braces `{}`\n",
    "<img src=\"https://media2.giphy.com/media/QssGEmpkyEOhBCb7e1/giphy.gif?cid=ecf05e47a0n3gi1bfqntqmob8g9aid1oyj2wr3ds3mg700bl&rid=giphy.gif\" width=\"22px\" align=\"top\"/> **Code**"
   ],
   "id": "ae8a9d293232c22"
  },
  {
   "metadata": {
    "ExecuteTime": {
     "end_time": "2025-06-27T06:24:55.003724Z",
     "start_time": "2025-06-27T06:24:54.985871Z"
    }
   },
   "cell_type": "code",
   "source": [
    "person = {\"name\" : \"akshit\", \"age\" : 22, \"city\" : \"Ahmedabad\"}\n",
    "person"
   ],
   "id": "b6e7e592e7bedcec",
   "outputs": [
    {
     "data": {
      "text/plain": [
       "{'name': 'akshit', 'age': 22, 'city': 'Ahmedabad'}"
      ]
     },
     "execution_count": 11,
     "metadata": {},
     "output_type": "execute_result"
    }
   ],
   "execution_count": 11
  },
  {
   "metadata": {},
   "cell_type": "markdown",
   "source": [
    "✅ Most common and readable way\n",
    "\n",
    "---\n",
    "### 2️⃣ Using the `dict()` Constructor\n",
    "<img src=\"https://media2.giphy.com/media/QssGEmpkyEOhBCb7e1/giphy.gif?cid=ecf05e47a0n3gi1bfqntqmob8g9aid1oyj2wr3ds3mg700bl&rid=giphy.gif\" width=\"22px\" align=\"top\"/> **Code**\n"
   ],
   "id": "79392e2e8dd8ca20"
  },
  {
   "metadata": {
    "ExecuteTime": {
     "end_time": "2025-06-27T06:24:59.898272Z",
     "start_time": "2025-06-27T06:24:59.888092Z"
    }
   },
   "cell_type": "code",
   "source": [
    "person = dict(name=\"akshit\", age = 22, city = \"Ahmedabad\")\n",
    "person"
   ],
   "id": "be0f67ca3e9fcf8c",
   "outputs": [
    {
     "data": {
      "text/plain": [
       "{'name': 'akshit', 'age': 22, 'city': 'Ahmedabad'}"
      ]
     },
     "execution_count": 12,
     "metadata": {},
     "output_type": "execute_result"
    }
   ],
   "execution_count": 12
  },
  {
   "metadata": {},
   "cell_type": "markdown",
   "source": [
    "🧱 Keys must be valid identifiers (no spaces or special characters)\n",
    "\n",
    "---\n",
    "### 3️⃣ From List of Tuples\n",
    "<img src=\"https://media2.giphy.com/media/QssGEmpkyEOhBCb7e1/giphy.gif?cid=ecf05e47a0n3gi1bfqntqmob8g9aid1oyj2wr3ds3mg700bl&rid=giphy.gif\" width=\"22px\" align=\"top\"/> **Code**"
   ],
   "id": "e8f5487e1f0608da"
  },
  {
   "metadata": {
    "ExecuteTime": {
     "end_time": "2025-06-27T06:27:55.666577Z",
     "start_time": "2025-06-27T06:27:55.652519Z"
    }
   },
   "cell_type": "code",
   "source": [
    "items = [('name','akshit'),('age',22),('city','Ahmedabad')]\n",
    "person = dict(items)\n",
    "person"
   ],
   "id": "9f27661cceac8026",
   "outputs": [
    {
     "data": {
      "text/plain": [
       "{'name': 'akshit', 'age': 22, 'city': 'Ahmedabad'}"
      ]
     },
     "execution_count": 15,
     "metadata": {},
     "output_type": "execute_result"
    }
   ],
   "execution_count": 15
  },
  {
   "metadata": {},
   "cell_type": "markdown",
   "source": [
    "📦 Ideal for converting key-value pairs from external sources\n",
    "\n",
    "---\n",
    "### 4️⃣ From Zipping Two Lists\n",
    "<img src=\"https://media2.giphy.com/media/QssGEmpkyEOhBCb7e1/giphy.gif?cid=ecf05e47a0n3gi1bfqntqmob8g9aid1oyj2wr3ds3mg700bl&rid=giphy.gif\" width=\"22px\" align=\"top\"/> **Code**"
   ],
   "id": "9ce1533fa6d231c3"
  },
  {
   "metadata": {
    "ExecuteTime": {
     "end_time": "2025-06-27T06:30:00.919038Z",
     "start_time": "2025-06-27T06:30:00.907031Z"
    }
   },
   "cell_type": "code",
   "source": [
    "keys = ['name','age','city']\n",
    "values = ['akshit',22,'Ahmedabad']\n",
    "person = dict(zip(keys,values))\n",
    "person"
   ],
   "id": "25f2e1e157bbf1b",
   "outputs": [
    {
     "data": {
      "text/plain": [
       "{'name': 'akshit', 'age': 22, 'city': 'Ahmedabad'}"
      ]
     },
     "execution_count": 16,
     "metadata": {},
     "output_type": "execute_result"
    }
   ],
   "execution_count": 16
  },
  {
   "metadata": {},
   "cell_type": "markdown",
   "source": [
    "🔗 Combines keys and values into a dictionary\n",
    "\n",
    "---\n",
    "### 5️⃣ Using Dictionary Comprehension\n",
    "<img src=\"https://media2.giphy.com/media/QssGEmpkyEOhBCb7e1/giphy.gif?cid=ecf05e47a0n3gi1bfqntqmob8g9aid1oyj2wr3ds3mg700bl&rid=giphy.gif\" width=\"22px\" align=\"top\"/> **Code**"
   ],
   "id": "cb0ff9a516378345"
  },
  {
   "metadata": {
    "ExecuteTime": {
     "end_time": "2025-06-27T06:32:07.185126Z",
     "start_time": "2025-06-27T06:32:07.169358Z"
    }
   },
   "cell_type": "code",
   "source": [
    "squares = {x: x**2 for x in range(1,6)}\n",
    "squares"
   ],
   "id": "c3946a693c64cbd8",
   "outputs": [
    {
     "data": {
      "text/plain": [
       "{1: 1, 2: 4, 3: 9, 4: 16, 5: 25}"
      ]
     },
     "execution_count": 17,
     "metadata": {},
     "output_type": "execute_result"
    }
   ],
   "execution_count": 17
  },
  {
   "metadata": {},
   "cell_type": "markdown",
   "source": [
    "🧠 Efficient way to build dictionaries dynamically\n",
    "\n",
    "---\n",
    "### 6️⃣ From Keyword Arguments with `**kwargs`\n",
    "<img src=\"https://media2.giphy.com/media/QssGEmpkyEOhBCb7e1/giphy.gif?cid=ecf05e47a0n3gi1bfqntqmob8g9aid1oyj2wr3ds3mg700bl&rid=giphy.gif\" width=\"22px\" align=\"top\"/> **Code**"
   ],
   "id": "3e94330b161eb099"
  },
  {
   "metadata": {
    "ExecuteTime": {
     "end_time": "2025-06-27T06:35:30.562866Z",
     "start_time": "2025-06-27T06:35:30.553451Z"
    }
   },
   "cell_type": "code",
   "source": [
    "def person(**kwargs):\n",
    "    return kwargs\n",
    "person(name = 'akshit',age = 22,city = 'Ahmedabad')"
   ],
   "id": "3c29ee7d0822cb57",
   "outputs": [
    {
     "data": {
      "text/plain": [
       "{'name': 'akshit', 'age': 22, 'city': 'Ahmedabad'}"
      ]
     },
     "execution_count": 19,
     "metadata": {},
     "output_type": "execute_result"
    }
   ],
   "execution_count": 19
  },
  {
   "metadata": {},
   "cell_type": "markdown",
   "source": [
    "🌟 Used mostly inside functions to capture named arguments\n",
    "\n",
    "---\n",
    "\n",
    "### 7️⃣ Empty Dictionary\n",
    "<img src=\"https://media2.giphy.com/media/QssGEmpkyEOhBCb7e1/giphy.gif?cid=ecf05e47a0n3gi1bfqntqmob8g9aid1oyj2wr3ds3mg700bl&rid=giphy.gif\" width=\"22px\" align=\"top\"/> **Code**"
   ],
   "id": "911695dc21978c6e"
  },
  {
   "metadata": {
    "ExecuteTime": {
     "end_time": "2025-06-27T06:37:00.709688Z",
     "start_time": "2025-06-27T06:37:00.697186Z"
    }
   },
   "cell_type": "code",
   "source": [
    "empty_dict = {}\n",
    "print(empty_dict)\n",
    "empty_dict = dict()\n",
    "print(empty_dict)"
   ],
   "id": "eca4574c322e2c6b",
   "outputs": [
    {
     "name": "stdout",
     "output_type": "stream",
     "text": [
      "{}\n",
      "{}\n"
     ]
    }
   ],
   "execution_count": 21
  },
  {
   "metadata": {},
   "cell_type": "markdown",
   "source": [
    "📭 Start empty and fill later\n",
    "### 💡 Tip:\n",
    "- Use the method that fits your **data source** and **readability**\n",
    "- All keys in dictionaries must be **unique** and **immutable**\n",
    "---"
   ],
   "id": "ba306dfa8eb8db55"
  },
  {
   "metadata": {},
   "cell_type": "markdown",
   "source": [
    "## 🔍 Python - Access Dictionary Items\n",
    "\n",
    "You can access values in a dictionary using their **keys**.\n",
    "\n",
    "---\n",
    "### 1️⃣ Access Using Square Brackets `[]`\n",
    "<img src=\"https://media2.giphy.com/media/QssGEmpkyEOhBCb7e1/giphy.gif?cid=ecf05e47a0n3gi1bfqntqmob8g9aid1oyj2wr3ds3mg700bl&rid=giphy.gif\" width=\"22px\" align=\"top\"/> **Code**"
   ],
   "id": "fb4b48ff9058b6a4"
  },
  {
   "metadata": {
    "ExecuteTime": {
     "end_time": "2025-06-27T07:04:10.226666Z",
     "start_time": "2025-06-27T07:04:10.208694Z"
    }
   },
   "cell_type": "code",
   "source": [
    "person = {\n",
    "    'name' : 'akshit',\n",
    "    'age' : 22,\n",
    "    'city' : 'Ahmedabad'\n",
    "}\n",
    "print(person[\"name\"])\n",
    "print(person[\"age\"])\n",
    "print(person[\"city\"])"
   ],
   "id": "bb2f938197e75434",
   "outputs": [
    {
     "name": "stdout",
     "output_type": "stream",
     "text": [
      "akshit\n",
      "22\n",
      "Ahmedabad\n"
     ]
    }
   ],
   "execution_count": 24
  },
  {
   "metadata": {
    "ExecuteTime": {
     "end_time": "2025-06-27T07:04:40.265936Z",
     "start_time": "2025-06-27T07:04:38.758500Z"
    }
   },
   "cell_type": "code",
   "source": "print(person[\"address\"])",
   "id": "4e11728e5c9ca371",
   "outputs": [
    {
     "ename": "KeyError",
     "evalue": "'address'",
     "output_type": "error",
     "traceback": [
      "\u001B[1;31m---------------------------------------------------------------------------\u001B[0m",
      "\u001B[1;31mKeyError\u001B[0m                                  Traceback (most recent call last)",
      "Cell \u001B[1;32mIn[25], line 1\u001B[0m\n\u001B[1;32m----> 1\u001B[0m \u001B[38;5;28mprint\u001B[39m(\u001B[43mperson\u001B[49m\u001B[43m[\u001B[49m\u001B[38;5;124;43m\"\u001B[39;49m\u001B[38;5;124;43maddress\u001B[39;49m\u001B[38;5;124;43m\"\u001B[39;49m\u001B[43m]\u001B[49m)\n",
      "\u001B[1;31mKeyError\u001B[0m: 'address'"
     ]
    }
   ],
   "execution_count": 25
  },
  {
   "metadata": {},
   "cell_type": "markdown",
   "source": [
    "🔑 Access by key directly\n",
    "\n",
    "⚠️ Raises `KeyError` if the key doesn't exist\n",
    "\n",
    "---\n",
    "### 2️⃣ Access Using `.get()` Method\n",
    "<img src=\"https://media2.giphy.com/media/QssGEmpkyEOhBCb7e1/giphy.gif?cid=ecf05e47a0n3gi1bfqntqmob8g9aid1oyj2wr3ds3mg700bl&rid=giphy.gif\" width=\"22px\" align=\"top\"/> **Code**"
   ],
   "id": "168b23e7a6dabc2"
  },
  {
   "metadata": {
    "ExecuteTime": {
     "end_time": "2025-06-27T07:06:59.723841Z",
     "start_time": "2025-06-27T07:06:59.716206Z"
    }
   },
   "cell_type": "code",
   "source": [
    "person = {\n",
    "    'name' : 'akshit',\n",
    "    'age' : 22,\n",
    "    'city' : 'Ahmedabad'\n",
    "}\n",
    "print(person.get(\"name\"))\n",
    "print(person.get(\"age\"))\n",
    "print(person.get(\"city\"))"
   ],
   "id": "5bfb8543f96a90fd",
   "outputs": [
    {
     "name": "stdout",
     "output_type": "stream",
     "text": [
      "akshit\n",
      "22\n",
      "Ahmedabad\n"
     ]
    }
   ],
   "execution_count": 27
  },
  {
   "metadata": {
    "ExecuteTime": {
     "end_time": "2025-06-27T07:08:13.676349Z",
     "start_time": "2025-06-27T07:08:13.667457Z"
    }
   },
   "cell_type": "code",
   "source": "print(person.get(\"address\"))",
   "id": "a8085c358ccf5205",
   "outputs": [
    {
     "name": "stdout",
     "output_type": "stream",
     "text": [
      "None\n"
     ]
    }
   ],
   "execution_count": 34
  },
  {
   "metadata": {
    "ExecuteTime": {
     "end_time": "2025-06-27T07:08:39.308280Z",
     "start_time": "2025-06-27T07:08:39.299770Z"
    }
   },
   "cell_type": "code",
   "source": "print(person.get(\"address\",\"Not Found\"))",
   "id": "9a760633fa1ed3f0",
   "outputs": [
    {
     "name": "stdout",
     "output_type": "stream",
     "text": [
      "Not Found\n"
     ]
    }
   ],
   "execution_count": 35
  },
  {
   "metadata": {},
   "cell_type": "markdown",
   "source": [
    "✅ Safe way to access keys that might not exist\n",
    "\n",
    "---\n",
    "### 3️⃣ Get All Keys, Values, and Items\n",
    "<img src=\"https://media2.giphy.com/media/QssGEmpkyEOhBCb7e1/giphy.gif?cid=ecf05e47a0n3gi1bfqntqmob8g9aid1oyj2wr3ds3mg700bl&rid=giphy.gif\" width=\"22px\" align=\"top\"/> **Code**"
   ],
   "id": "c9b25752296aae40"
  },
  {
   "metadata": {
    "ExecuteTime": {
     "end_time": "2025-06-27T07:09:38.432720Z",
     "start_time": "2025-06-27T07:09:38.423592Z"
    }
   },
   "cell_type": "code",
   "source": [
    "person = {\n",
    "    'name' : 'akshit',\n",
    "    'age' : 22,\n",
    "    'city' : 'Ahmedabad'\n",
    "}"
   ],
   "id": "833f943735cc32a8",
   "outputs": [],
   "execution_count": 36
  },
  {
   "metadata": {
    "ExecuteTime": {
     "end_time": "2025-06-27T07:09:56.912749Z",
     "start_time": "2025-06-27T07:09:56.904285Z"
    }
   },
   "cell_type": "code",
   "source": "print(person.keys())",
   "id": "b5420459fc0c2506",
   "outputs": [
    {
     "name": "stdout",
     "output_type": "stream",
     "text": [
      "dict_keys(['name', 'age', 'city'])\n"
     ]
    }
   ],
   "execution_count": 38
  },
  {
   "metadata": {
    "ExecuteTime": {
     "end_time": "2025-06-27T07:10:07.430821Z",
     "start_time": "2025-06-27T07:10:07.424528Z"
    }
   },
   "cell_type": "code",
   "source": "print(person.values())",
   "id": "c2d44a23edfbff37",
   "outputs": [
    {
     "name": "stdout",
     "output_type": "stream",
     "text": [
      "dict_values(['akshit', 22, 'Ahmedabad'])\n"
     ]
    }
   ],
   "execution_count": 39
  },
  {
   "metadata": {
    "ExecuteTime": {
     "end_time": "2025-06-27T07:10:16.328010Z",
     "start_time": "2025-06-27T07:10:16.320031Z"
    }
   },
   "cell_type": "code",
   "source": "print(person.items())",
   "id": "1cd7f41367fa12b7",
   "outputs": [
    {
     "name": "stdout",
     "output_type": "stream",
     "text": [
      "dict_items([('name', 'akshit'), ('age', 22), ('city', 'Ahmedabad')])\n"
     ]
    }
   ],
   "execution_count": 40
  },
  {
   "metadata": {},
   "cell_type": "markdown",
   "source": [
    "📋 Returns views of the dictionary that you can All Keys, Values, and Items\n",
    "\n",
    "---\n",
    "### 4️⃣ Loop Through Dictionary\n",
    "<img src=\"https://media2.giphy.com/media/QssGEmpkyEOhBCb7e1/giphy.gif?cid=ecf05e47a0n3gi1bfqntqmob8g9aid1oyj2wr3ds3mg700bl&rid=giphy.gif\" width=\"22px\" align=\"top\"/> **Code**"
   ],
   "id": "e2e09ab7253471bc"
  },
  {
   "metadata": {
    "ExecuteTime": {
     "end_time": "2025-06-27T07:12:46.458707Z",
     "start_time": "2025-06-27T07:12:46.452651Z"
    }
   },
   "cell_type": "code",
   "source": [
    "person = {\n",
    "    'name' : 'akshit',\n",
    "    'age' : 22,\n",
    "    'city' : 'Ahmedabad'\n",
    "}"
   ],
   "id": "c741a9546f707474",
   "outputs": [],
   "execution_count": 42
  },
  {
   "metadata": {
    "ExecuteTime": {
     "end_time": "2025-06-27T07:13:53.085707Z",
     "start_time": "2025-06-27T07:13:53.076214Z"
    }
   },
   "cell_type": "code",
   "source": [
    "for key in person:\n",
    "    print(f\"{key}: {person[key]}\")"
   ],
   "id": "cf0f42c02154836f",
   "outputs": [
    {
     "name": "stdout",
     "output_type": "stream",
     "text": [
      "name: akshit\n",
      "age: 22\n",
      "city: Ahmedabad\n"
     ]
    }
   ],
   "execution_count": 47
  },
  {
   "metadata": {},
   "cell_type": "markdown",
   "source": "🌀 Loop through keys and access each value",
   "id": "d9782f0fb812f048"
  },
  {
   "metadata": {
    "ExecuteTime": {
     "end_time": "2025-06-27T07:14:24.744426Z",
     "start_time": "2025-06-27T07:14:24.736239Z"
    }
   },
   "cell_type": "code",
   "source": [
    "for key,value in person.items():\n",
    "    print(f\"{key}: {value}\")"
   ],
   "id": "9b00da1058faf953",
   "outputs": [
    {
     "name": "stdout",
     "output_type": "stream",
     "text": [
      "name: akshit\n",
      "age: 22\n",
      "city: Ahmedabad\n"
     ]
    }
   ],
   "execution_count": 48
  },
  {
   "metadata": {},
   "cell_type": "markdown",
   "source": [
    "📌 Loop through key-value pairs directly\n",
    "\n",
    "### 💡 Tip:\n",
    "- Use `.get()` to avoid errors when unsure a key exists\n",
    "- Use `.items()` to iterate over both key and value pairs\n",
    "---"
   ],
   "id": "45e4e2f74887b17c"
  },
  {
   "metadata": {},
   "cell_type": "code",
   "outputs": [],
   "execution_count": null,
   "source": "",
   "id": "142062abe5c33fdc"
  }
 ],
 "metadata": {
  "kernelspec": {
   "display_name": "Python 3",
   "language": "python",
   "name": "python3"
  },
  "language_info": {
   "codemirror_mode": {
    "name": "ipython",
    "version": 2
   },
   "file_extension": ".py",
   "mimetype": "text/x-python",
   "name": "python",
   "nbconvert_exporter": "python",
   "pygments_lexer": "ipython2",
   "version": "2.7.6"
  }
 },
 "nbformat": 4,
 "nbformat_minor": 5
}

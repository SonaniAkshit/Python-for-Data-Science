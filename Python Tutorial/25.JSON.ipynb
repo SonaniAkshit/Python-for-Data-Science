{
 "cells": [
  {
   "metadata": {},
   "cell_type": "markdown",
   "source": [
    "# 📄 Python JSON\n",
    "\n",
    "**JSON (JavaScript Object Notation)** is a popular format for storing and exchanging data, especially in web APIs.\n",
    "\n",
    "Python provides a built-in module called `json` to work with JSON data.\n",
    "\n",
    "---\n",
    "\n",
    "### 🔹 Importing the Module\n"
   ],
   "id": "f21ff1e80703175c"
  },
  {
   "metadata": {
    "ExecuteTime": {
     "end_time": "2025-07-01T05:19:29.973008Z",
     "start_time": "2025-07-01T05:19:29.966903Z"
    }
   },
   "cell_type": "code",
   "source": "import json",
   "id": "8350945391fea985",
   "outputs": [],
   "execution_count": 3
  },
  {
   "metadata": {},
   "cell_type": "markdown",
   "source": [
    "## 🔁 Converting Between Python and JSON\n",
    "### 1️⃣ Python ➡️ JSON (`json.dumps()`)"
   ],
   "id": "cc13c7431dc49ff"
  },
  {
   "metadata": {
    "ExecuteTime": {
     "end_time": "2025-07-01T05:19:32.109708Z",
     "start_time": "2025-07-01T05:19:32.103001Z"
    }
   },
   "cell_type": "code",
   "source": [
    "data = {\n",
    "    'name':'Akshit',\n",
    "    'age':22,\n",
    "    'is_student':True\n",
    "}"
   ],
   "id": "388a94f7f285cb50",
   "outputs": [],
   "execution_count": 4
  },
  {
   "metadata": {
    "ExecuteTime": {
     "end_time": "2025-07-01T05:19:33.386010Z",
     "start_time": "2025-07-01T05:19:33.378895Z"
    }
   },
   "cell_type": "code",
   "source": [
    "json_string = json.dumps(data)\n",
    "print(json_string)"
   ],
   "id": "6b6fa9762953b3e7",
   "outputs": [
    {
     "name": "stdout",
     "output_type": "stream",
     "text": [
      "{\"name\": \"Akshit\", \"age\": 22, \"is_student\": true}\n"
     ]
    }
   ],
   "execution_count": 5
  },
  {
   "metadata": {},
   "cell_type": "markdown",
   "source": [
    "✅ Converts Python dictionary to a JSON string\n",
    "\n",
    "### 2️⃣ JSON ➡️ Python (`json.loads()`)"
   ],
   "id": "1b952e757fb4ca8a"
  },
  {
   "metadata": {
    "ExecuteTime": {
     "end_time": "2025-07-01T05:21:41.549636Z",
     "start_time": "2025-07-01T05:21:41.544989Z"
    }
   },
   "cell_type": "code",
   "source": [
    "json_string = '{\"name\":\"Akshit\",\"age\":22,\"is_student\":true}'\n",
    "data = json.loads(json_string)"
   ],
   "id": "f4ad0386d7b5af7b",
   "outputs": [],
   "execution_count": 8
  },
  {
   "metadata": {
    "ExecuteTime": {
     "end_time": "2025-07-01T05:21:45.288015Z",
     "start_time": "2025-07-01T05:21:45.281888Z"
    }
   },
   "cell_type": "code",
   "source": "print(data)",
   "id": "ddc54d2db86edcdf",
   "outputs": [
    {
     "name": "stdout",
     "output_type": "stream",
     "text": [
      "{'name': 'Akshit', 'age': 22, 'is_student': True}\n"
     ]
    }
   ],
   "execution_count": 9
  },
  {
   "metadata": {
    "ExecuteTime": {
     "end_time": "2025-07-01T05:21:48.837032Z",
     "start_time": "2025-07-01T05:21:48.829090Z"
    }
   },
   "cell_type": "code",
   "source": "print(data['name'])",
   "id": "a92363adeee2acf8",
   "outputs": [
    {
     "name": "stdout",
     "output_type": "stream",
     "text": [
      "Akshit\n"
     ]
    }
   ],
   "execution_count": 10
  },
  {
   "metadata": {},
   "cell_type": "markdown",
   "source": [
    "✅ Converts JSON string to a Python dictionary\n",
    "\n",
    "### 3️⃣ Write JSON to File (`json.dump()`)"
   ],
   "id": "5ea5fe091c8931bc"
  },
  {
   "metadata": {
    "ExecuteTime": {
     "end_time": "2025-07-01T05:23:31.668884Z",
     "start_time": "2025-07-01T05:23:31.659110Z"
    }
   },
   "cell_type": "code",
   "source": [
    "data = {'name':'Akshit','age':22,'is_student':True}\n",
    "\n",
    "with open('data.json','w') as file:\n",
    "    json.dump(data,file)"
   ],
   "id": "b93079c1a7c51ea6",
   "outputs": [],
   "execution_count": 11
  },
  {
   "metadata": {},
   "cell_type": "markdown",
   "source": "### 4️⃣ Read JSON from File (`json.load()`)",
   "id": "4b6cae9772bb65a0"
  },
  {
   "metadata": {
    "ExecuteTime": {
     "end_time": "2025-07-01T05:24:56.741273Z",
     "start_time": "2025-07-01T05:24:56.735623Z"
    }
   },
   "cell_type": "code",
   "source": [
    "with open('data.json','r') as file:\n",
    "    data = json.load(file)"
   ],
   "id": "a50eb2d658739493",
   "outputs": [],
   "execution_count": 12
  },
  {
   "metadata": {
    "ExecuteTime": {
     "end_time": "2025-07-01T05:25:04.025500Z",
     "start_time": "2025-07-01T05:25:04.018736Z"
    }
   },
   "cell_type": "code",
   "source": "print(data)",
   "id": "e6be8f8c239149f0",
   "outputs": [
    {
     "name": "stdout",
     "output_type": "stream",
     "text": [
      "{'name': 'Akshit', 'age': 22, 'is_student': True}\n"
     ]
    }
   ],
   "execution_count": 13
  },
  {
   "metadata": {},
   "cell_type": "markdown",
   "source": [
    "### 🧾 JSON Supported Data Types\n",
    "\n",
    "| Python          | JSON   |\n",
    "| --------------- | ------ |\n",
    "| `dict`          | object |\n",
    "| `list`, `tuple` | array  |\n",
    "| `str`           | string |\n",
    "| `int`, `float`  | number |\n",
    "| `True`          | true   |\n",
    "| `False`         | false  |\n",
    "| `None`          | null   |\n",
    "\n",
    "### 🎨 Formatting JSON Output"
   ],
   "id": "b88ed6472752bdfe"
  },
  {
   "metadata": {
    "ExecuteTime": {
     "end_time": "2025-07-01T05:26:17.594539Z",
     "start_time": "2025-07-01T05:26:17.587263Z"
    }
   },
   "cell_type": "code",
   "source": "print(json.dumps(data, indent=4))        # Pretty print",
   "id": "5184a3fa09b70c30",
   "outputs": [
    {
     "name": "stdout",
     "output_type": "stream",
     "text": [
      "{\n",
      "    \"name\": \"Akshit\",\n",
      "    \"age\": 22,\n",
      "    \"is_student\": true\n",
      "}\n"
     ]
    }
   ],
   "execution_count": 15
  },
  {
   "metadata": {
    "ExecuteTime": {
     "end_time": "2025-07-01T05:26:19.175387Z",
     "start_time": "2025-07-01T05:26:19.168026Z"
    }
   },
   "cell_type": "code",
   "source": "print(json.dumps(data, separators=(\",\", \": \")))  # Custom separators",
   "id": "4a5ac1ef06f7f91d",
   "outputs": [
    {
     "name": "stdout",
     "output_type": "stream",
     "text": [
      "{\"name\": \"Akshit\",\"age\": 22,\"is_student\": true}\n"
     ]
    }
   ],
   "execution_count": 16
  },
  {
   "metadata": {},
   "cell_type": "markdown",
   "source": [
    "### 💡 Tip:\n",
    "- Use `json.load()` / `json.dump()` for files\n",
    "- Use `json.loads()` / `json.dumps()` for strings\n",
    "\n",
    "### 📦 Use Cases\n",
    "- Exchanging data with APIs 🌐\n",
    "- Configuration files ⚙️\n",
    "- Storing structured data locally 🗂️"
   ],
   "id": "95a8470777968762"
  }
 ],
 "metadata": {
  "kernelspec": {
   "display_name": "Python 3",
   "language": "python",
   "name": "python3"
  },
  "language_info": {
   "codemirror_mode": {
    "name": "ipython",
    "version": 2
   },
   "file_extension": ".py",
   "mimetype": "text/x-python",
   "name": "python",
   "nbconvert_exporter": "python",
   "pygments_lexer": "ipython2",
   "version": "2.7.6"
  }
 },
 "nbformat": 4,
 "nbformat_minor": 5
}

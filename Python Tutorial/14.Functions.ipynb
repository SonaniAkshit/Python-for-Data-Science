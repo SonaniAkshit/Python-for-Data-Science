{
 "cells": [
  {
   "metadata": {},
   "cell_type": "markdown",
   "source": [
    "# 🧪 Python Functions\n",
    "\n",
    "Functions in Python are **blocks of reusable code** that perform a specific task.\n",
    "\n",
    "A function is a block of code which only runs when it is called.\n",
    "\n",
    "You can pass data, known as parameters, into a function.\n",
    "\n",
    "A function can return data as a result.\n",
    "\n",
    "---\n",
    "\n",
    "### 1️⃣ Defining a Function"
   ],
   "id": "c58ad1752a5ee1ee"
  },
  {
   "metadata": {
    "ExecuteTime": {
     "end_time": "2025-06-28T11:54:19.748446Z",
     "start_time": "2025-06-28T11:54:19.742222Z"
    }
   },
   "cell_type": "code",
   "source": [
    "def greet():\n",
    "    print(\"Hello World!\")"
   ],
   "id": "54f386b7b500fd23",
   "outputs": [],
   "execution_count": 3
  },
  {
   "metadata": {},
   "cell_type": "markdown",
   "source": [
    "✅ `def` keyword defines a function\n",
    "\n",
    "🧠 No code runs until you call it\n",
    "\n",
    "---\n",
    "### 2️⃣ Calling a Function"
   ],
   "id": "676734f9bd1502d2"
  },
  {
   "metadata": {
    "ExecuteTime": {
     "end_time": "2025-06-28T11:54:53.361499Z",
     "start_time": "2025-06-28T11:54:53.355152Z"
    }
   },
   "cell_type": "code",
   "source": "greet()",
   "id": "2f8a7cbacd6208fc",
   "outputs": [
    {
     "name": "stdout",
     "output_type": "stream",
     "text": [
      "Hello World!\n"
     ]
    }
   ],
   "execution_count": 4
  },
  {
   "metadata": {},
   "cell_type": "markdown",
   "source": [
    "📞 Just use the function name followed by parentheses `()`\n",
    "\n",
    "---\n",
    "\n",
    "### 3️⃣ Function with Parameters"
   ],
   "id": "8375112a2390c4f4"
  },
  {
   "metadata": {
    "ExecuteTime": {
     "end_time": "2025-06-28T11:56:14.186522Z",
     "start_time": "2025-06-28T11:56:14.179952Z"
    }
   },
   "cell_type": "code",
   "source": [
    "def greet(name):\n",
    "    print(f\"Hello {name}!\")"
   ],
   "id": "9c53e7176716ab80",
   "outputs": [],
   "execution_count": 5
  },
  {
   "metadata": {},
   "cell_type": "markdown",
   "source": "🧾 Parameters let you pass values",
   "id": "844ac1e209fc84e7"
  },
  {
   "metadata": {
    "ExecuteTime": {
     "end_time": "2025-06-28T11:56:29.347951Z",
     "start_time": "2025-06-28T11:56:29.337514Z"
    }
   },
   "cell_type": "code",
   "source": "greet(\"Akshit\")",
   "id": "3cbedefe15713971",
   "outputs": [
    {
     "name": "stdout",
     "output_type": "stream",
     "text": [
      "Hello Akshit!\n"
     ]
    }
   ],
   "execution_count": 6
  },
  {
   "metadata": {},
   "cell_type": "markdown",
   "source": [
    "---\n",
    "### 4️⃣ Function with Default Parameters"
   ],
   "id": "f8c972f9c57cf5e"
  },
  {
   "metadata": {
    "ExecuteTime": {
     "end_time": "2025-06-28T11:57:41.462164Z",
     "start_time": "2025-06-28T11:57:41.454348Z"
    }
   },
   "cell_type": "code",
   "source": [
    "def greet(name='Akshit'):\n",
    "    print(f\"Hello {name}!\")"
   ],
   "id": "12d0f8b7713319ac",
   "outputs": [],
   "execution_count": 9
  },
  {
   "metadata": {
    "ExecuteTime": {
     "end_time": "2025-06-28T11:57:42.390288Z",
     "start_time": "2025-06-28T11:57:42.382450Z"
    }
   },
   "cell_type": "code",
   "source": "greet()",
   "id": "3cd5ad5e1893f343",
   "outputs": [
    {
     "name": "stdout",
     "output_type": "stream",
     "text": [
      "Hello Akshit!\n"
     ]
    }
   ],
   "execution_count": 10
  },
  {
   "metadata": {},
   "cell_type": "markdown",
   "source": [
    "🌟 Uses default if no argument is passed\n",
    "\n",
    "---\n",
    "### 5️⃣ Function with Return Value"
   ],
   "id": "bdce7e3ebf267501"
  },
  {
   "metadata": {
    "ExecuteTime": {
     "end_time": "2025-06-28T11:58:22.915111Z",
     "start_time": "2025-06-28T11:58:22.909004Z"
    }
   },
   "cell_type": "code",
   "source": [
    "def add(a,b):\n",
    "    return a+b"
   ],
   "id": "48f4ff7bb894759f",
   "outputs": [],
   "execution_count": 11
  },
  {
   "metadata": {},
   "cell_type": "markdown",
   "source": "🔁 Use return to send back a result",
   "id": "eac8eca5d07531c7"
  },
  {
   "metadata": {
    "ExecuteTime": {
     "end_time": "2025-06-28T11:58:44.718790Z",
     "start_time": "2025-06-28T11:58:44.712506Z"
    }
   },
   "cell_type": "code",
   "source": [
    "result = add(1,2)\n",
    "print(result)"
   ],
   "id": "602b9f2f8f0cce8b",
   "outputs": [
    {
     "name": "stdout",
     "output_type": "stream",
     "text": [
      "3\n"
     ]
    }
   ],
   "execution_count": 12
  },
  {
   "metadata": {},
   "cell_type": "markdown",
   "source": [
    "---\n",
    "### 6️⃣ Arbitrary Arguments (`*args`)"
   ],
   "id": "ebf59fd2bad695ee"
  },
  {
   "metadata": {
    "ExecuteTime": {
     "end_time": "2025-06-28T12:01:56.039782Z",
     "start_time": "2025-06-28T12:01:56.033582Z"
    }
   },
   "cell_type": "code",
   "source": [
    "def total(*numbers):\n",
    "    return sum(numbers)"
   ],
   "id": "c9617d4d696be4e",
   "outputs": [],
   "execution_count": 13
  },
  {
   "metadata": {
    "ExecuteTime": {
     "end_time": "2025-06-28T12:12:09.357378Z",
     "start_time": "2025-06-28T12:12:09.349158Z"
    }
   },
   "cell_type": "code",
   "source": "print(total(1,2,3,4,5))",
   "id": "9c0ae74c0070206a",
   "outputs": [
    {
     "name": "stdout",
     "output_type": "stream",
     "text": [
      "15\n"
     ]
    }
   ],
   "execution_count": 26
  },
  {
   "metadata": {},
   "cell_type": "markdown",
   "source": [
    "📦 Accepts **any number of positional arguments** as a tuple\n",
    "\n",
    "---\n",
    "### 7️⃣ Keyword Arguments (`**kwargs`)"
   ],
   "id": "8719c58e012aa2d3"
  },
  {
   "metadata": {
    "ExecuteTime": {
     "end_time": "2025-06-28T12:04:34.340148Z",
     "start_time": "2025-06-28T12:04:34.334213Z"
    }
   },
   "cell_type": "code",
   "source": [
    "def profile(**info):\n",
    "    print(info)"
   ],
   "id": "5a6efdf07a82305f",
   "outputs": [],
   "execution_count": 15
  },
  {
   "metadata": {
    "ExecuteTime": {
     "end_time": "2025-06-28T12:12:39.829849Z",
     "start_time": "2025-06-28T12:12:39.823617Z"
    }
   },
   "cell_type": "code",
   "source": "profile(name='Akshit',age=22)",
   "id": "739bef2ca16beeaf",
   "outputs": [
    {
     "name": "stdout",
     "output_type": "stream",
     "text": [
      "{'name': 'Akshit', 'age': 22}\n"
     ]
    }
   ],
   "execution_count": 28
  },
  {
   "metadata": {},
   "cell_type": "markdown",
   "source": [
    "🧰 Accepts any number of keyword arguments as a dictionary\n",
    "\n",
    "---\n",
    "### 8️⃣ Docstrings (Function Documentation)"
   ],
   "id": "8ee050242b0726a4"
  },
  {
   "metadata": {
    "ExecuteTime": {
     "end_time": "2025-06-28T12:06:38.147189Z",
     "start_time": "2025-06-28T12:06:38.140967Z"
    }
   },
   "cell_type": "code",
   "source": [
    "def greet():\n",
    "    \"\"\"This function is print greeting.\"\"\"\n",
    "    print(\"Hello!\")"
   ],
   "id": "f011ae783fe5e838",
   "outputs": [],
   "execution_count": 17
  },
  {
   "metadata": {
    "ExecuteTime": {
     "end_time": "2025-06-28T12:07:46.551712Z",
     "start_time": "2025-06-28T12:07:46.541819Z"
    }
   },
   "cell_type": "code",
   "source": "greet()",
   "id": "21c30ac154391f81",
   "outputs": [
    {
     "name": "stdout",
     "output_type": "stream",
     "text": [
      "Hello!\n"
     ]
    }
   ],
   "execution_count": 21
  },
  {
   "metadata": {},
   "cell_type": "markdown",
   "source": "📘 Docstrings are enclosed in triple quotes and show up in `help()`",
   "id": "908eea952c8f7c29"
  },
  {
   "metadata": {
    "ExecuteTime": {
     "end_time": "2025-06-28T12:09:44.695571Z",
     "start_time": "2025-06-28T12:09:44.678838Z"
    }
   },
   "cell_type": "code",
   "source": "help(greet)",
   "id": "10d81991178efc7a",
   "outputs": [
    {
     "name": "stdout",
     "output_type": "stream",
     "text": [
      "Help on function greet in module __main__:\n",
      "\n",
      "greet()\n",
      "    This function is print greeting.\n",
      "\n"
     ]
    }
   ],
   "execution_count": 23
  },
  {
   "metadata": {},
   "cell_type": "markdown",
   "source": [
    "### 💡 Tip:\n",
    "- Keep functions short and focused\n",
    "- Use descriptive names\n",
    "- Use `return` to make functions reusable\n",
    "---"
   ],
   "id": "16b4a9ed632714e1"
  }
 ],
 "metadata": {
  "kernelspec": {
   "display_name": "Python 3",
   "language": "python",
   "name": "python3"
  },
  "language_info": {
   "codemirror_mode": {
    "name": "ipython",
    "version": 2
   },
   "file_extension": ".py",
   "mimetype": "text/x-python",
   "name": "python",
   "nbconvert_exporter": "python",
   "pygments_lexer": "ipython2",
   "version": "2.7.6"
  }
 },
 "nbformat": 4,
 "nbformat_minor": 5
}

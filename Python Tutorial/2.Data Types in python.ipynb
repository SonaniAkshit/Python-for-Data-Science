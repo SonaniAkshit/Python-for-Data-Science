{
 "cells": [
  {
   "metadata": {},
   "cell_type": "markdown",
   "source": [
    "<h1 style=\"color:skyblue\"> What are Data Types ❓ </h1>\n",
    "\n",
    "- Data types are the things we store in Variables, and it defines what data type variables are.\n",
    "- Python has built-in data types for different kinds of data."
   ],
   "id": "fa6fd9257b2255ce"
  },
  {
   "metadata": {},
   "cell_type": "markdown",
   "source": [
    "<h1 style=\"color:red\">🔢 Numbers </h1>\n",
    "\n",
    "- <h4 style=\"color:yellow\">Integer</h4>\n",
    "    All the numbers excluding decimal places and fraction.\n",
    "- <h4 style=\"color:yellow\">Float</h4>\n",
    "    All the decimal numbers and fraction values are Float.\n",
    "- <h4 style=\"color:yellow\">Complex</h4>\n",
    "     Numbers with real and imaginary parts are complex."
   ],
   "id": "57280aca7458adfc"
  },
  {
   "metadata": {
    "ExecuteTime": {
     "end_time": "2025-06-12T04:22:38.219673Z",
     "start_time": "2025-06-12T04:22:38.208596Z"
    }
   },
   "cell_type": "code",
   "source": [
    "age = 21 # integer\n",
    "marks = 87/2 # float\n",
    "per = 89.7 # float\n",
    "com = 67j # complex\n",
    "\n",
    "print(type(age))\n",
    "print(type(marks))\n",
    "print(type(per))\n",
    "print(type(com))"
   ],
   "id": "86ed10a8179f9de9",
   "outputs": [
    {
     "name": "stdout",
     "output_type": "stream",
     "text": [
      "<class 'int'>\n",
      "<class 'float'>\n",
      "<class 'float'>\n",
      "<class 'complex'>\n"
     ]
    }
   ],
   "execution_count": 3
  },
  {
   "metadata": {},
   "cell_type": "markdown",
   "source": [
    "<h1 style=\"color:red\">🔠 Strings </h1>\n",
    "\n",
    "- This is used to store anything in python, literally anything that are available on your keyboard.You have to use quotes to store anything and, it will be considered as string. You can use double Quotes `(\"\")` or single quotes `('')` to store both works same."
   ],
   "id": "8e79cd57bed1f96e"
  },
  {
   "metadata": {
    "ExecuteTime": {
     "end_time": "2025-06-12T04:26:46.921682Z",
     "start_time": "2025-06-12T04:26:46.913483Z"
    }
   },
   "cell_type": "code",
   "source": [
    "string = \"Happy Coding\"\n",
    "print(string)\n",
    "print(type(string))"
   ],
   "id": "5e534c5bc0115b52",
   "outputs": [
    {
     "name": "stdout",
     "output_type": "stream",
     "text": [
      "Happy Coding\n",
      "<class 'str'>\n"
     ]
    }
   ],
   "execution_count": 6
  },
  {
   "metadata": {},
   "cell_type": "markdown",
   "source": [
    "<h1 style=\"color:red\">🅾️ Boolean </h1>\n",
    "\n",
    "- There's nothing much to say this is the data type which will and always give the result of `True` and `False`.\n",
    "- `T` and `F` always capital in boolean data type"
   ],
   "id": "92d1bfdf59c4e214"
  },
  {
   "metadata": {
    "ExecuteTime": {
     "end_time": "2025-06-12T04:30:25.059937Z",
     "start_time": "2025-06-12T04:30:25.051553Z"
    }
   },
   "cell_type": "code",
   "source": [
    "positive = True\n",
    "negative = False\n",
    "\n",
    "print(type(positive))\n",
    "print(type(negative))\n",
    "\n",
    "print(positive)\n",
    "print(negative)"
   ],
   "id": "bce2d44121cdbfc",
   "outputs": [
    {
     "name": "stdout",
     "output_type": "stream",
     "text": [
      "<class 'bool'>\n",
      "<class 'bool'>\n",
      "True\n",
      "False\n"
     ]
    }
   ],
   "execution_count": 10
  }
 ],
 "metadata": {
  "kernelspec": {
   "display_name": "Python 3",
   "language": "python",
   "name": "python3"
  },
  "language_info": {
   "codemirror_mode": {
    "name": "ipython",
    "version": 2
   },
   "file_extension": ".py",
   "mimetype": "text/x-python",
   "name": "python",
   "nbconvert_exporter": "python",
   "pygments_lexer": "ipython2",
   "version": "2.7.6"
  }
 },
 "nbformat": 4,
 "nbformat_minor": 5
}

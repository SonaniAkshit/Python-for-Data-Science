{
 "cells": [
  {
   "metadata": {},
   "cell_type": "markdown",
   "source": [
    "# 🧱 Python OOP (Object-Oriented Programming)\n",
    "\n",
    "Object-Oriented Programming allows you to structure code using **classes** and **objects**.\n",
    "\n",
    "---\n",
    "\n",
    "### 🔤 Key Concepts in OOP\n",
    "\n",
    "- **Class**: A blueprint for creating objects\n",
    "- **Object**: An instance of a class\n",
    "- **Constructor (`__init__`)**: Initializes the object\n",
    "- **Self**: Refers to the current instance\n",
    "- **Methods**: Functions defined inside a class\n",
    "- **Attributes**: Variables associated with an object\n",
    "\n",
    "---\n",
    "\n",
    "### 1️⃣ Define a Class\n",
    "\n"
   ],
   "id": "1ba92bf5ca2cf74f"
  },
  {
   "metadata": {
    "ExecuteTime": {
     "end_time": "2025-06-28T13:44:08.030009Z",
     "start_time": "2025-06-28T13:44:08.018702Z"
    }
   },
   "cell_type": "code",
   "source": [
    "class Person:\n",
    "    def __init__(self, name, age):\n",
    "        self.name = name\n",
    "        self.age = age"
   ],
   "id": "f1b138d12f3df0bb",
   "outputs": [],
   "execution_count": 1
  },
  {
   "metadata": {},
   "cell_type": "markdown",
   "source": [
    "🧠 `__init__()` is the constructor — called automatically when you create an object\n",
    "\n",
    "---\n",
    "### 2️⃣ Create an Object"
   ],
   "id": "6a8358dc0d613ec4"
  },
  {
   "metadata": {
    "ExecuteTime": {
     "end_time": "2025-06-28T13:45:57.516756Z",
     "start_time": "2025-06-28T13:45:57.501947Z"
    }
   },
   "cell_type": "code",
   "source": [
    "p1 = Person(\"Akshit\",22)\n",
    "print(p1.name)\n",
    "print(p1.age)"
   ],
   "id": "b8c013ee6c974d45",
   "outputs": [
    {
     "name": "stdout",
     "output_type": "stream",
     "text": [
      "Akshit\n",
      "22\n"
     ]
    }
   ],
   "execution_count": 5
  },
  {
   "metadata": {},
   "cell_type": "markdown",
   "source": [
    "🔸 Use `.`dot notation to access attributes\n",
    "\n",
    "---\n",
    "### 3️⃣ Add a Method"
   ],
   "id": "ff65db8cfb786a46"
  },
  {
   "metadata": {
    "ExecuteTime": {
     "end_time": "2025-06-28T13:54:28.352898Z",
     "start_time": "2025-06-28T13:54:28.345160Z"
    }
   },
   "cell_type": "code",
   "source": [
    "class Person:\n",
    "    def __init__(self, name):\n",
    "        self.name = name\n",
    "\n",
    "    def greet(self):\n",
    "        print(f\"hello, my name is {self.name}\")"
   ],
   "id": "11ca12116744b334",
   "outputs": [],
   "execution_count": 8
  },
  {
   "metadata": {
    "ExecuteTime": {
     "end_time": "2025-06-28T13:58:47.894454Z",
     "start_time": "2025-06-28T13:58:47.880973Z"
    }
   },
   "cell_type": "code",
   "source": [
    "p = Person(\"Akshit\")\n",
    "p.greet()"
   ],
   "id": "fb17c46d4ad125c",
   "outputs": [
    {
     "name": "stdout",
     "output_type": "stream",
     "text": [
      "hello, my name is Akshit\n"
     ]
    }
   ],
   "execution_count": 14
  },
  {
   "metadata": {},
   "cell_type": "markdown",
   "source": [
    "🗣️ Define behavior using methods\n",
    "\n",
    "---\n",
    "### 4️⃣ Modify Object Properties"
   ],
   "id": "2109f742da845901"
  },
  {
   "metadata": {
    "ExecuteTime": {
     "end_time": "2025-06-28T13:59:26.226164Z",
     "start_time": "2025-06-28T13:59:26.218827Z"
    }
   },
   "cell_type": "code",
   "source": [
    "p.name = 'john'\n",
    "p.greet()"
   ],
   "id": "2de788f70eec5449",
   "outputs": [
    {
     "name": "stdout",
     "output_type": "stream",
     "text": [
      "hello, my name is john\n"
     ]
    }
   ],
   "execution_count": 22
  },
  {
   "metadata": {},
   "cell_type": "markdown",
   "source": [
    "✏️ You can update attributes after creation\n",
    "\n",
    "---\n",
    "### 5️⃣ Delete Object or Property"
   ],
   "id": "18cceafa91901bb1"
  },
  {
   "metadata": {
    "ExecuteTime": {
     "end_time": "2025-06-28T13:59:28.258777Z",
     "start_time": "2025-06-28T13:59:28.252456Z"
    }
   },
   "cell_type": "code",
   "source": "del p.name",
   "id": "b695de889fd36f2",
   "outputs": [],
   "execution_count": 23
  },
  {
   "metadata": {
    "ExecuteTime": {
     "end_time": "2025-06-28T14:04:26.167994Z",
     "start_time": "2025-06-28T14:04:26.141500Z"
    }
   },
   "cell_type": "code",
   "source": "p.greet()",
   "id": "15374daa40a71290",
   "outputs": [
    {
     "ename": "AttributeError",
     "evalue": "'Person' object has no attribute 'greet'",
     "output_type": "error",
     "traceback": [
      "\u001B[1;31m---------------------------------------------------------------------------\u001B[0m",
      "\u001B[1;31mAttributeError\u001B[0m                            Traceback (most recent call last)",
      "Cell \u001B[1;32mIn[32], line 1\u001B[0m\n\u001B[1;32m----> 1\u001B[0m \u001B[43mp\u001B[49m\u001B[38;5;241;43m.\u001B[39;49m\u001B[43mgreet\u001B[49m()\n",
      "\u001B[1;31mAttributeError\u001B[0m: 'Person' object has no attribute 'greet'"
     ]
    }
   ],
   "execution_count": 32
  },
  {
   "metadata": {
    "ExecuteTime": {
     "end_time": "2025-06-28T14:04:34.063670Z",
     "start_time": "2025-06-28T14:04:34.057302Z"
    }
   },
   "cell_type": "code",
   "source": "del p",
   "id": "5ca93696fa6793b2",
   "outputs": [],
   "execution_count": 33
  },
  {
   "metadata": {
    "ExecuteTime": {
     "end_time": "2025-06-28T14:04:49.523239Z",
     "start_time": "2025-06-28T14:04:49.491332Z"
    }
   },
   "cell_type": "code",
   "source": "print(p.name)",
   "id": "22b9297a41efc1fb",
   "outputs": [
    {
     "ename": "NameError",
     "evalue": "name 'p' is not defined",
     "output_type": "error",
     "traceback": [
      "\u001B[1;31m---------------------------------------------------------------------------\u001B[0m",
      "\u001B[1;31mNameError\u001B[0m                                 Traceback (most recent call last)",
      "Cell \u001B[1;32mIn[34], line 1\u001B[0m\n\u001B[1;32m----> 1\u001B[0m \u001B[38;5;28mprint\u001B[39m(\u001B[43mp\u001B[49m\u001B[38;5;241m.\u001B[39mname)\n",
      "\u001B[1;31mNameError\u001B[0m: name 'p' is not defined"
     ]
    }
   ],
   "execution_count": 34
  },
  {
   "metadata": {},
   "cell_type": "markdown",
   "source": [
    "🗑️ Use `del` to remove attributes or instances\n",
    "\n",
    "---\n",
    "### 6️⃣ Class vs Instance Attributes\n"
   ],
   "id": "e08454ba3a09a722"
  },
  {
   "metadata": {
    "ExecuteTime": {
     "end_time": "2025-06-28T14:01:08.098186Z",
     "start_time": "2025-06-28T14:01:08.092162Z"
    }
   },
   "cell_type": "code",
   "source": [
    "class Person:\n",
    "    species = \"Human\"\n",
    "\n",
    "    def __init__(self, name):\n",
    "        self.name = name"
   ],
   "id": "e9cc7f32cfae5861",
   "outputs": [],
   "execution_count": 25
  },
  {
   "metadata": {
    "ExecuteTime": {
     "end_time": "2025-06-28T14:02:47.388023Z",
     "start_time": "2025-06-28T14:02:47.378939Z"
    }
   },
   "cell_type": "code",
   "source": [
    "p = Person(\"john\")\n",
    "print(f\"{p.name} is {p.species}.\")"
   ],
   "id": "2ac41c3febd1f024",
   "outputs": [
    {
     "name": "stdout",
     "output_type": "stream",
     "text": [
      "john is Human.\n"
     ]
    }
   ],
   "execution_count": 31
  },
  {
   "metadata": {},
   "cell_type": "markdown",
   "source": [
    "🌍 All objects share class attributes\n",
    "\n",
    "👤 Each object has its own instance attributes"
   ],
   "id": "749e6203c5442d24"
  },
  {
   "metadata": {},
   "cell_type": "markdown",
   "source": [
    "---\n",
    "### 🔁 Inheritance\n",
    "Inheritance lets you **reuse code** from a parent class in child classes."
   ],
   "id": "b6ff77556e06a1c3"
  },
  {
   "metadata": {
    "ExecuteTime": {
     "end_time": "2025-06-28T14:11:08.754598Z",
     "start_time": "2025-06-28T14:11:08.745860Z"
    }
   },
   "cell_type": "code",
   "source": [
    "class Animal:\n",
    "    def speak(self):\n",
    "        print(\"Animal speaks\")\n",
    "class Dog(Animal):\n",
    "    def bark(self):\n",
    "        print(\"Dog barks\")"
   ],
   "id": "c5f4b63a82155db2",
   "outputs": [],
   "execution_count": 35
  },
  {
   "metadata": {
    "ExecuteTime": {
     "end_time": "2025-06-28T14:11:48.185088Z",
     "start_time": "2025-06-28T14:11:48.173422Z"
    }
   },
   "cell_type": "code",
   "source": [
    "d = Dog()\n",
    "d.speak() # Inherited\n",
    "d.bark()  # Own method"
   ],
   "id": "47bd8d09834340",
   "outputs": [
    {
     "name": "stdout",
     "output_type": "stream",
     "text": [
      "Animal speaks\n",
      "Dog barks\n"
     ]
    }
   ],
   "execution_count": 37
  },
  {
   "metadata": {},
   "cell_type": "markdown",
   "source": [
    "🧬 **Child class inherits** properties and methods of the parent\n",
    "\n",
    "👨‍👦 Supports code reuse and hierarchy\n",
    "\n",
    "---\n",
    "### 🛡️ Encapsulation\n",
    "Encapsulation **hides internal data** using private attributes and methods."
   ],
   "id": "40899682c93d536c"
  },
  {
   "metadata": {
    "ExecuteTime": {
     "end_time": "2025-06-28T14:15:18.984706Z",
     "start_time": "2025-06-28T14:15:18.974682Z"
    }
   },
   "cell_type": "code",
   "source": [
    "class BankAccount:\n",
    "    def __init__(self):\n",
    "        self.__balance = 0 #private attribute\n",
    "    def deposit(self, amount):\n",
    "        self.__balance += amount\n",
    "    def get_balance(self):\n",
    "        return self.__balance"
   ],
   "id": "4a3a996c1a7dedc2",
   "outputs": [],
   "execution_count": 38
  },
  {
   "metadata": {
    "ExecuteTime": {
     "end_time": "2025-06-28T14:16:26.790347Z",
     "start_time": "2025-06-28T14:16:26.776170Z"
    }
   },
   "cell_type": "code",
   "source": [
    "account = BankAccount()\n",
    "account.deposit(1000)\n",
    "print(account.get_balance())"
   ],
   "id": "aac0b218616c8720",
   "outputs": [
    {
     "name": "stdout",
     "output_type": "stream",
     "text": [
      "1000\n"
     ]
    }
   ],
   "execution_count": 39
  },
  {
   "metadata": {},
   "cell_type": "markdown",
   "source": [
    "🔒 `__balance` is private (name mangled)\n",
    "\n",
    "🧰 Only accessible via **public methods**\n",
    "\n",
    "> ✅ Use encapsulation to protect your data from direct external access."
   ],
   "id": "b2474f9a3a469583"
  },
  {
   "metadata": {
    "ExecuteTime": {
     "end_time": "2025-06-30T05:05:17.436870Z",
     "start_time": "2025-06-30T05:05:17.428927Z"
    }
   },
   "cell_type": "code",
   "source": [
    "class Demo:\n",
    "    def __init__(self):\n",
    "        self.public_var = \"I am Public ✅\"\n",
    "        self._protected_var = \"I am Protected 🛡️\"\n",
    "        self.__private_var = \"I am Private 🔒\"\n",
    "\n",
    "    def show_vars(self):\n",
    "        print(\"Inside class:\")\n",
    "        print(self.public_var)\n",
    "        print(self._protected_var)\n",
    "        print(self.__private_var)\n"
   ],
   "id": "b10d32457d18fdfd",
   "outputs": [],
   "execution_count": 3
  },
  {
   "metadata": {
    "ExecuteTime": {
     "end_time": "2025-06-30T05:05:19.357808Z",
     "start_time": "2025-06-30T05:05:19.349062Z"
    }
   },
   "cell_type": "code",
   "source": [
    "# create object\n",
    "obj = Demo()\n",
    "\n",
    "print(\"Outside class:\")\n",
    "print(obj.public_var)          # ✅ OK\n",
    "print(obj._protected_var)      # ⚠️ Allowed, but not recommended\n",
    "# print(obj.__private_var)     # ❌ ERROR: AttributeError\n",
    "\n",
    "# Accessing private var using name mangling\n",
    "print(obj._Demo__private_var)  # ✅ OK, but discouraged\n"
   ],
   "id": "bd78cfae455da419",
   "outputs": [
    {
     "name": "stdout",
     "output_type": "stream",
     "text": [
      "Outside class:\n",
      "I am Public ✅\n",
      "I am Protected 🛡️\n",
      "I am Private 🔒\n"
     ]
    }
   ],
   "execution_count": 4
  },
  {
   "metadata": {},
   "cell_type": "markdown",
   "source": [
    "| Modifier  | Syntax       | Access Level            | Can Access From              |\n",
    "| --------- | ------------ | ----------------------- | ---------------------------- |\n",
    "| Public    | `self.var`   | No restrictions         | Everywhere ✅                 |\n",
    "| Protected | `self._var`  | Conventionally internal | Same class and subclasses 🟡 |\n",
    "| Private   | `self.__var` | Name mangled            | Only inside the class 🔒     |\n",
    "\n",
    "### 💡 Note:\n",
    "- Python uses name mangling for private: `__var` becomes `_ClassName__var`.\n",
    "- Protection is by convention, not strict enforcement (unlike Java/C++).\n",
    "---\n",
    "### 🔄 Polymorphism\n",
    "Polymorphism allows **different classes to use the same method name** with different behavior."
   ],
   "id": "cba3a5984e91b8be"
  },
  {
   "metadata": {
    "ExecuteTime": {
     "end_time": "2025-06-28T14:22:45.482690Z",
     "start_time": "2025-06-28T14:22:45.476308Z"
    }
   },
   "cell_type": "code",
   "source": [
    "class Bird:\n",
    "    def sound(self):\n",
    "        print(\"Bird sounds\")\n",
    "\n",
    "class Cat:\n",
    "    def sound(self):\n",
    "        print(\"Cat sounds\")"
   ],
   "id": "f25dd6c6286fda94",
   "outputs": [],
   "execution_count": 43
  },
  {
   "metadata": {
    "ExecuteTime": {
     "end_time": "2025-06-28T14:23:19.072891Z",
     "start_time": "2025-06-28T14:23:19.065055Z"
    }
   },
   "cell_type": "code",
   "source": [
    "for animal in (Bird(), Cat()):\n",
    "    animal.sound()"
   ],
   "id": "8e7ba9d4010ea6c4",
   "outputs": [
    {
     "name": "stdout",
     "output_type": "stream",
     "text": [
      "Bird sounds\n",
      "Cat sounds\n"
     ]
    }
   ],
   "execution_count": 44
  },
  {
   "metadata": {},
   "cell_type": "markdown",
   "source": [
    "🧠 Same method name `sound()` behaves differently depending on the object\n",
    "\n",
    "> 🎭 Polymorphism = \"Many forms\" — great for interchangeable code\n",
    "\n",
    "---\n",
    "### 📚 Class Methods & Static Methods\n",
    "🧪 `@classmethod`\n",
    "\n",
    "Works with the class, not the instance. First argument is `cls`."
   ],
   "id": "eb44f94405d527a"
  },
  {
   "metadata": {
    "ExecuteTime": {
     "end_time": "2025-06-28T14:26:31.868427Z",
     "start_time": "2025-06-28T14:26:31.861127Z"
    }
   },
   "cell_type": "code",
   "source": [
    "class MyClass:\n",
    "    count = 0\n",
    "\n",
    "    @classmethod\n",
    "    def increment(cls):\n",
    "        cls.count += 1"
   ],
   "id": "6e10f267b4553aa9",
   "outputs": [],
   "execution_count": 52
  },
  {
   "metadata": {
    "ExecuteTime": {
     "end_time": "2025-06-28T14:26:33.667755Z",
     "start_time": "2025-06-28T14:26:33.661419Z"
    }
   },
   "cell_type": "code",
   "source": [
    "cls = MyClass()\n",
    "print(cls.count)"
   ],
   "id": "aefee28d867408fb",
   "outputs": [
    {
     "name": "stdout",
     "output_type": "stream",
     "text": [
      "0\n"
     ]
    }
   ],
   "execution_count": 53
  },
  {
   "metadata": {},
   "cell_type": "markdown",
   "source": [
    "📦 Useful when you want to modify class state\n",
    "\n",
    "### 🧊 `@staticmethod`\n",
    "Doesn’t access class or instance. Utility method in a class."
   ],
   "id": "9de8821131f0f5f2"
  },
  {
   "metadata": {
    "ExecuteTime": {
     "end_time": "2025-06-28T14:27:44.573966Z",
     "start_time": "2025-06-28T14:27:44.557995Z"
    }
   },
   "cell_type": "code",
   "source": [
    "class Math:\n",
    "    @staticmethod\n",
    "    def add(x,y):\n",
    "        return x+y"
   ],
   "id": "3960232f5a8a567b",
   "outputs": [],
   "execution_count": 54
  },
  {
   "metadata": {
    "ExecuteTime": {
     "end_time": "2025-06-28T14:28:17.621567Z",
     "start_time": "2025-06-28T14:28:17.613122Z"
    }
   },
   "cell_type": "code",
   "source": [
    "cls = Math()\n",
    "cls.add(2,4)"
   ],
   "id": "5dd9ac3b87aae25a",
   "outputs": [
    {
     "data": {
      "text/plain": [
       "6"
      ]
     },
     "execution_count": 56,
     "metadata": {},
     "output_type": "execute_result"
    }
   ],
   "execution_count": 56
  },
  {
   "metadata": {},
   "cell_type": "markdown",
   "source": [
    "⚙️ No `self` or `cls` needed\n",
    "\n",
    "✅ Used for **helper logic** inside a class\n",
    "\n",
    "### 💡 Summary Table\n",
    "| Feature         | Keyword         | Accesses `self` | Accesses `cls` | Use Case                        |\n",
    "| --------------- | --------------- | --------------- | -------------- | ------------------------------- |\n",
    "| Instance Method | *(default)*     | ✅ Yes           | ❌ No           | Regular behavior per object     |\n",
    "| Class Method    | `@classmethod`  | ❌ No            | ✅ Yes          | Change or read class-level data |\n",
    "| Static Method   | `@staticmethod` | ❌ No            | ❌ No           | Utility/helper function         |\n",
    "\n",
    "---\n",
    "\n",
    "### 🧰 Abstract Class & Method with abc Module\n",
    "#### 🎭 What is Abstraction?\n",
    "**Abstraction** means showing **only essential features** and **hiding the internal details**.\n",
    "\n",
    "In Python, we achieve abstraction using:\n",
    "\n",
    "- Abstract Classes\n",
    "- Abstract Methods\n",
    "> ✅ Use abstraction when you want to define a template for other classes to follow."
   ],
   "id": "318b2ed1e527c2fa"
  },
  {
   "metadata": {
    "ExecuteTime": {
     "end_time": "2025-06-28T14:35:45.556994Z",
     "start_time": "2025-06-28T14:35:45.543404Z"
    }
   },
   "cell_type": "code",
   "source": [
    "from abc import ABC, abstractmethod\n",
    "\n",
    "# Abstract Class\n",
    "class Animal(ABC):\n",
    "\n",
    "    @abstractmethod\n",
    "    def sound(self):\n",
    "        pass  # abstract method has no body\n",
    "\n",
    "# Concrete Class\n",
    "class Dog(Animal):\n",
    "    def sound(self):\n",
    "        return \"Bark\"\n",
    "\n",
    "class Cat(Animal):\n",
    "    def sound(self):\n",
    "        return \"Meow\"\n"
   ],
   "id": "85f567d27f9787f7",
   "outputs": [],
   "execution_count": 57
  },
  {
   "metadata": {
    "ExecuteTime": {
     "end_time": "2025-06-28T14:36:06.086394Z",
     "start_time": "2025-06-28T14:36:06.076348Z"
    }
   },
   "cell_type": "code",
   "source": [
    "dog = Dog()\n",
    "cat = Cat()\n",
    "\n",
    "print(dog.sound())  # Output: Bark\n",
    "print(cat.sound())  # Output: Meow\n"
   ],
   "id": "879387d7def866f0",
   "outputs": [
    {
     "name": "stdout",
     "output_type": "stream",
     "text": [
      "Bark\n",
      "Meow\n"
     ]
    }
   ],
   "execution_count": 58
  },
  {
   "metadata": {
    "ExecuteTime": {
     "end_time": "2025-06-28T14:36:15.175860Z",
     "start_time": "2025-06-28T14:36:15.119664Z"
    }
   },
   "cell_type": "code",
   "source": "a = Animal()  # ❌ This will raise TypeError",
   "id": "bb9a5beaf335b356",
   "outputs": [
    {
     "ename": "TypeError",
     "evalue": "Can't instantiate abstract class Animal without an implementation for abstract method 'sound'",
     "output_type": "error",
     "traceback": [
      "\u001B[1;31m---------------------------------------------------------------------------\u001B[0m",
      "\u001B[1;31mTypeError\u001B[0m                                 Traceback (most recent call last)",
      "Cell \u001B[1;32mIn[60], line 1\u001B[0m\n\u001B[1;32m----> 1\u001B[0m a \u001B[38;5;241m=\u001B[39m \u001B[43mAnimal\u001B[49m\u001B[43m(\u001B[49m\u001B[43m)\u001B[49m  \u001B[38;5;66;03m# ❌ This will raise TypeError\u001B[39;00m\n",
      "\u001B[1;31mTypeError\u001B[0m: Can't instantiate abstract class Animal without an implementation for abstract method 'sound'"
     ]
    }
   ],
   "execution_count": 60
  },
  {
   "metadata": {},
   "cell_type": "markdown",
   "source": [
    "#### ✅ Why Use Abstraction?\n",
    "- Forces subclasses to implement required methods\n",
    "- Provides a common interface for all derived classes\n",
    "- Helps in designing cleaner and maintainable code\n",
    "\n",
    "#### 📌 Summary\n",
    "| Concept            | Python Syntax                         |\n",
    "| ------------------ | ------------------------------------- |\n",
    "| Abstract class     | `class MyClass(ABC):`                 |\n",
    "| Abstract method    | `@abstractmethod` decorator           |\n",
    "| Cannot instantiate | `Animal()` will raise an error        |\n",
    "| Must override      | Subclasses must implement all methods |\n",
    "\n",
    "### 💡 OOP Advantages:\n",
    "- Makes code **reusable** with inheritance\n",
    "- Allows **encapsulation** of data and behavior\n",
    "- Supports **polymorphism** and **abstraction**\n",
    "---\n"
   ],
   "id": "a33e112768761b92"
  }
 ],
 "metadata": {
  "kernelspec": {
   "display_name": "Python 3",
   "language": "python",
   "name": "python3"
  },
  "language_info": {
   "codemirror_mode": {
    "name": "ipython",
    "version": 2
   },
   "file_extension": ".py",
   "mimetype": "text/x-python",
   "name": "python",
   "nbconvert_exporter": "python",
   "pygments_lexer": "ipython2",
   "version": "2.7.6"
  }
 },
 "nbformat": 4,
 "nbformat_minor": 5
}

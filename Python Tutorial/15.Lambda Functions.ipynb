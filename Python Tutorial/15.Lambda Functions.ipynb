{
 "cells": [
  {
   "metadata": {},
   "cell_type": "markdown",
   "source": [
    "# ⚡ Python Lambda Functions\n",
    "\n",
    "A **lambda function** is a small, anonymous function in Python.\n",
    "\n",
    "It can have any number of arguments but only **one expression**.\n",
    "\n",
    "---\n",
    "\n",
    "### 1️⃣ Basic Syntax\n"
   ],
   "id": "1bd49c658ab02ea2"
  },
  {
   "metadata": {
    "ExecuteTime": {
     "end_time": "2025-06-28T12:46:01.202994Z",
     "start_time": "2025-06-28T12:46:01.193250Z"
    }
   },
   "cell_type": "code",
   "source": "lambda arguments: expresion",
   "id": "37c824f7751ced8",
   "outputs": [
    {
     "data": {
      "text/plain": [
       "<function __main__.<lambda>(arguments)>"
      ]
     },
     "execution_count": 3,
     "metadata": {},
     "output_type": "execute_result"
    }
   ],
   "execution_count": 3
  },
  {
   "metadata": {
    "ExecuteTime": {
     "end_time": "2025-06-28T12:46:33.981965Z",
     "start_time": "2025-06-28T12:46:33.961535Z"
    }
   },
   "cell_type": "code",
   "source": "lambda arguments: print(arguments)",
   "id": "699a8f9b68084e7e",
   "outputs": [
    {
     "data": {
      "text/plain": [
       "<function __main__.<lambda>(arguments)>"
      ]
     },
     "execution_count": 6,
     "metadata": {},
     "output_type": "execute_result"
    }
   ],
   "execution_count": 6
  },
  {
   "metadata": {},
   "cell_type": "markdown",
   "source": [
    "🧠 Similar to a regular function but more concise\n",
    "\n",
    "---\n",
    "### 2️⃣ Simple Example\n",
    "\n"
   ],
   "id": "a32c7c0a5ad8ca69"
  },
  {
   "metadata": {
    "ExecuteTime": {
     "end_time": "2025-06-28T12:47:56.289686Z",
     "start_time": "2025-06-28T12:47:56.282503Z"
    }
   },
   "cell_type": "code",
   "source": [
    "add = lambda x, y: x + y\n",
    "print(add(5,10))"
   ],
   "id": "a6167c93dd593b31",
   "outputs": [
    {
     "name": "stdout",
     "output_type": "stream",
     "text": [
      "15\n"
     ]
    }
   ],
   "execution_count": 9
  },
  {
   "metadata": {},
   "cell_type": "markdown",
   "source": "➕ Works like:",
   "id": "2ffb00ec3fffcf6f"
  },
  {
   "metadata": {
    "ExecuteTime": {
     "end_time": "2025-06-28T12:48:33.354718Z",
     "start_time": "2025-06-28T12:48:33.348963Z"
    }
   },
   "cell_type": "code",
   "source": [
    "def add(x, y):\n",
    "    return x + y"
   ],
   "id": "9cf07c4e5301da46",
   "outputs": [],
   "execution_count": 11
  },
  {
   "metadata": {
    "ExecuteTime": {
     "end_time": "2025-06-28T12:48:43.173596Z",
     "start_time": "2025-06-28T12:48:43.164054Z"
    }
   },
   "cell_type": "code",
   "source": "add(5,10)",
   "id": "e18e8eb7384e1505",
   "outputs": [
    {
     "data": {
      "text/plain": [
       "15"
      ]
     },
     "execution_count": 12,
     "metadata": {},
     "output_type": "execute_result"
    }
   ],
   "execution_count": 12
  },
  {
   "metadata": {},
   "cell_type": "markdown",
   "source": [
    "---\n",
    "### 3️⃣ Lambda with One Argument"
   ],
   "id": "f8d8e7403a2368b9"
  },
  {
   "metadata": {
    "ExecuteTime": {
     "end_time": "2025-06-28T12:49:55.637683Z",
     "start_time": "2025-06-28T12:49:55.630766Z"
    }
   },
   "cell_type": "code",
   "source": [
    "square = lambda x: x * x\n",
    "print(square(5))"
   ],
   "id": "9b18c5ab563acc74",
   "outputs": [
    {
     "name": "stdout",
     "output_type": "stream",
     "text": [
      "25\n"
     ]
    }
   ],
   "execution_count": 13
  },
  {
   "metadata": {},
   "cell_type": "markdown",
   "source": [
    "🔢 Useful for short, single-purpose functions\n",
    "\n",
    "---\n",
    "### 4️⃣ Lambda with No Argument"
   ],
   "id": "45ba05b8ce8a46c8"
  },
  {
   "metadata": {
    "ExecuteTime": {
     "end_time": "2025-06-28T12:51:07.225569Z",
     "start_time": "2025-06-28T12:51:07.216274Z"
    }
   },
   "cell_type": "code",
   "source": [
    "greet = lambda : \"hello\"\n",
    "print(greet())"
   ],
   "id": "ef693269d6c20c83",
   "outputs": [
    {
     "name": "stdout",
     "output_type": "stream",
     "text": [
      "hello\n"
     ]
    }
   ],
   "execution_count": 15
  },
  {
   "metadata": {},
   "cell_type": "markdown",
   "source": [
    "👋 No parameters — just return something\n",
    "\n",
    "---\n",
    "### 5️⃣ Lambda in `map()`, `filter()`, `sorted()`"
   ],
   "id": "761657a7e39efa07"
  },
  {
   "metadata": {
    "ExecuteTime": {
     "end_time": "2025-06-28T12:55:14.856196Z",
     "start_time": "2025-06-28T12:55:14.848979Z"
    }
   },
   "cell_type": "code",
   "source": [
    "numbers = [1,2,3,4,5]\n",
    "\n",
    "square = list(map(lambda x: x ** 2, numbers))\n",
    "print(square)"
   ],
   "id": "1b1235389dfb212d",
   "outputs": [
    {
     "name": "stdout",
     "output_type": "stream",
     "text": [
      "[1, 4, 9, 16, 25]\n"
     ]
    }
   ],
   "execution_count": 17
  },
  {
   "metadata": {},
   "cell_type": "markdown",
   "source": "🔁 Works great for one-line operations in `map()` and `filter()`",
   "id": "43b9a865b04d722c"
  },
  {
   "metadata": {
    "ExecuteTime": {
     "end_time": "2025-06-28T12:56:15.508991Z",
     "start_time": "2025-06-28T12:56:15.502554Z"
    }
   },
   "cell_type": "code",
   "source": [
    "evens = list(filter(lambda x: x % 2 == 0, numbers))\n",
    "print(evens)"
   ],
   "id": "1e3f5d48e9c725",
   "outputs": [
    {
     "name": "stdout",
     "output_type": "stream",
     "text": [
      "[2, 4]\n"
     ]
    }
   ],
   "execution_count": 18
  },
  {
   "metadata": {
    "ExecuteTime": {
     "end_time": "2025-06-28T12:58:34.114368Z",
     "start_time": "2025-06-28T12:58:34.108331Z"
    }
   },
   "cell_type": "code",
   "source": [
    "points = [(1,2),(3,1),(5,0)]\n",
    "points.sort(key=lambda x: x[1])\n",
    "print(points)"
   ],
   "id": "ef77e30185f1c633",
   "outputs": [
    {
     "name": "stdout",
     "output_type": "stream",
     "text": [
      "[(5, 0), (3, 1), (1, 2)]\n"
     ]
    }
   ],
   "execution_count": 23
  },
  {
   "metadata": {},
   "cell_type": "markdown",
   "source": [
    "📊 Very handy for sorting by custom rules\n",
    "\n",
    "### 💡 Tip:\n",
    "- Use `lambda` for quick, throwaway functions\n",
    "- Don’t overuse it — use `def` for complex logic\n",
    "---"
   ],
   "id": "4178da6500e9b628"
  }
 ],
 "metadata": {
  "kernelspec": {
   "display_name": "Python 3",
   "language": "python",
   "name": "python3"
  },
  "language_info": {
   "codemirror_mode": {
    "name": "ipython",
    "version": 2
   },
   "file_extension": ".py",
   "mimetype": "text/x-python",
   "name": "python",
   "nbconvert_exporter": "python",
   "pygments_lexer": "ipython2",
   "version": "2.7.6"
  }
 },
 "nbformat": 4,
 "nbformat_minor": 5
}

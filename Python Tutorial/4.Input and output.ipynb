{
 "cells": [
  {
   "metadata": {},
   "cell_type": "markdown",
   "source": [
    "<h1 style=\"color:red\">⭕ Output</h1>\n",
    "\n",
    "You probably know till now, how to provide the output of the code you have written and that is with `print()` function\n",
    "\n",
    "There is no other functions to provide the result on the terminal we just have to use `print()` function.\n",
    "\n",
    "Now when providing the output we can use variables in print statement using a formatted string as shown in the below example."
   ],
   "id": "b47a0478c0c4e558"
  },
  {
   "metadata": {
    "ExecuteTime": {
     "end_time": "2025-06-13T13:25:29.740833Z",
     "start_time": "2025-06-13T13:25:21.395519Z"
    }
   },
   "cell_type": "code",
   "source": [
    "name = input(\"Enter your name:\")\n",
    "\n",
    "print(f\"Hello, {name} ! Welcome to Python Programing\")"
   ],
   "id": "5b26b3d0ca01fdac",
   "outputs": [
    {
     "name": "stdout",
     "output_type": "stream",
     "text": [
      "Hello, akshit ! Welcome to Python Programing\n"
     ]
    }
   ],
   "execution_count": 1
  },
  {
   "metadata": {},
   "cell_type": "markdown",
   "source": [
    "<h1 style=\"color:red\">ℹ️ Input</h1>\n",
    "\n",
    "But the main question is how to ask user for some information.\n",
    "\n",
    "For example there is a user and you want to ask the age of that user, how can you do so, it’s easy using `input()`.\n",
    "\n",
    "Now the default data type of input is always string reason is simple you can store anything in string.\n",
    "\n",
    "You have to manually convert the data type of input statements.\n",
    "\n",
    "<h1 style=\"color:red\">❔Questions</h1>\n",
    "\n",
    "- Accept numbers from a user\n",
    "- Accept age from the user and print it."
   ],
   "id": "4a1270cf85aa74f8"
  },
  {
   "metadata": {
    "ExecuteTime": {
     "end_time": "2025-06-13T13:44:07.280205Z",
     "start_time": "2025-06-13T13:43:55.462521Z"
    }
   },
   "cell_type": "code",
   "source": [
    "name = input(\"Enter any name:\")\n",
    "print(f\"Your number is {name}\")\n",
    "\n",
    "age = int(input(\"Enter your age:\"))\n",
    "print(f\"Your age is {age}\")"
   ],
   "id": "4144cdadd7043cef",
   "outputs": [
    {
     "name": "stdout",
     "output_type": "stream",
     "text": [
      "Your number is akshit\n",
      "Your age is 21\n"
     ]
    }
   ],
   "execution_count": 3
  }
 ],
 "metadata": {
  "kernelspec": {
   "display_name": "Python 3",
   "language": "python",
   "name": "python3"
  },
  "language_info": {
   "codemirror_mode": {
    "name": "ipython",
    "version": 2
   },
   "file_extension": ".py",
   "mimetype": "text/x-python",
   "name": "python",
   "nbconvert_exporter": "python",
   "pygments_lexer": "ipython2",
   "version": "2.7.6"
  }
 },
 "nbformat": 4,
 "nbformat_minor": 5
}

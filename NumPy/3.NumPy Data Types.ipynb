{
 "cells": [
  {
   "cell_type": "markdown",
   "id": "2ee3c267-c926-4406-9c65-c1a5c313d514",
   "metadata": {},
   "source": [
    "# NumPy Data Types\n",
    "\n",
    "A data type is a way to specify the type of data that will be stored in an array.\n",
    "\n",
    "### NumPy Data Types\n",
    "NumPy offers a wider range of numerical data types than what is available in Python. Here's the list of most commonly used numeric data types in NumPy:\n",
    "\n",
    "1. `int8`, `int16`, `int32`, `int64` - signed integer types with different bit sizes\n",
    "2. `uint8`, `uint16`, `uint32`, `uint64` - unsigned integer types with different bit sizes\n",
    "3. `float32`, `float64` - floating-point types with different precision levels\n",
    "4. `complex64`, `complex128` - complex number types with different precision levels\n",
    "\n",
    "### 1.Check Data Type of a NumPy Array\n",
    "\n",
    "To check the data type of a NumPy array, we can use the `dtype` attribute. For example,"
   ]
  },
  {
   "cell_type": "code",
   "execution_count": 1,
   "id": "b4d387bb-7fb1-4c76-b4eb-d496fcc1cd01",
   "metadata": {},
   "outputs": [],
   "source": [
    "import numpy as np"
   ]
  },
  {
   "cell_type": "code",
   "execution_count": 17,
   "id": "87420ca7-4146-410f-83fc-ac7dcb044e9d",
   "metadata": {},
   "outputs": [
    {
     "data": {
      "text/plain": [
       "dtype('int64')"
      ]
     },
     "execution_count": 17,
     "metadata": {},
     "output_type": "execute_result"
    }
   ],
   "source": [
    "array = np.array([1,2,3,4,5])\n",
    "array.dtype"
   ]
  },
  {
   "cell_type": "code",
   "execution_count": 18,
   "id": "a66a92d5-c815-4ca9-ab17-18c43bafaba9",
   "metadata": {},
   "outputs": [
    {
     "name": "stdout",
     "output_type": "stream",
     "text": [
      "Int Array: [1 2 3 4 5], DataType: int64\n",
      "Float Array: [1.2 2.3 3.4 4.5 5.5], DataType: float64\n",
      "Complax Array: [1.+2.j 2.+3.j 3.+4.j], DataType: complex128\n"
     ]
    }
   ],
   "source": [
    "int_array = np.array([1,2,3,4,5])\n",
    "float_array = np.array([1.2,2.3,3.4,4.5,5.5])\n",
    "complex_array = np.array([1+2j,2+3j,3+4j])\n",
    "\n",
    "print(f\"Int Array: {int_array}, DataType: {int_array.dtype}\")\n",
    "print(f\"Float Array: {float_array}, DataType: {float_array.dtype}\")\n",
    "print(f\"Complax Array: {complex_array}, DataType: {complex_array.dtype}\")"
   ]
  },
  {
   "cell_type": "markdown",
   "id": "8ec070e9-ff1b-47f0-865d-e2e55b996f84",
   "metadata": {},
   "source": [
    "### 2.Creating NumPy Arrays With a Defined Data Type"
   ]
  },
  {
   "cell_type": "code",
   "execution_count": 23,
   "id": "29bfe040-df63-42f4-ae57-6c137392c914",
   "metadata": {},
   "outputs": [
    {
     "name": "stdout",
     "output_type": "stream",
     "text": [
      "[1 2 3 4]\n"
     ]
    },
    {
     "data": {
      "text/plain": [
       "dtype('int8')"
      ]
     },
     "execution_count": 23,
     "metadata": {},
     "output_type": "execute_result"
    }
   ],
   "source": [
    "array = np.array([1,2,3,4],dtype='int8')\n",
    "print(array)\n",
    "array.dtype"
   ]
  },
  {
   "cell_type": "code",
   "execution_count": 24,
   "id": "9a1ac53c-1ec0-4b23-a7a7-dc02567d36a8",
   "metadata": {},
   "outputs": [
    {
     "name": "stdout",
     "output_type": "stream",
     "text": [
      "[1 3 7] int8\n",
      "[2 4 6] uint16\n",
      "[1.2 2.3 3.4] float32\n",
      "[1.+2.j 2.+3.j 3.+4.j] complex64\n"
     ]
    }
   ],
   "source": [
    "array1 = np.array([1, 3, 7], dtype='int8')\n",
    "array2 = np.array([2, 4, 6], dtype='uint16')\n",
    "array3 = np.array([1.2, 2.3, 3.4], dtype='float32')\n",
    "array4 = np.array([1+2j, 2+3j, 3+4j], dtype='complex64')\n",
    "\n",
    "print(array1, array1.dtype)\n",
    "print(array2, array2.dtype)\n",
    "print(array3, array3.dtype)\n",
    "print(array4, array4.dtype)"
   ]
  },
  {
   "cell_type": "markdown",
   "id": "0e15a1ab-7ebc-4dae-97d1-04bb454450e0",
   "metadata": {},
   "source": [
    "### 3.NumPy Type Conversion"
   ]
  },
  {
   "cell_type": "code",
   "execution_count": null,
   "id": "7c67154d-a6c4-4a66-a34a-641bde4710a7",
   "metadata": {},
   "outputs": [],
   "source": [
    "int_array = ([1,2,3,4])\n",
    "float_array = int_array.astype()"
   ]
  }
 ],
 "metadata": {
  "kernelspec": {
   "display_name": "Python 3 (ipykernel)",
   "language": "python",
   "name": "python3"
  },
  "language_info": {
   "codemirror_mode": {
    "name": "ipython",
    "version": 3
   },
   "file_extension": ".py",
   "mimetype": "text/x-python",
   "name": "python",
   "nbconvert_exporter": "python",
   "pygments_lexer": "ipython3",
   "version": "3.12.5"
  }
 },
 "nbformat": 4,
 "nbformat_minor": 5
}

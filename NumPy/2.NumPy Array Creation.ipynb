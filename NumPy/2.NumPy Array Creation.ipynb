{
 "cells": [
  {
   "cell_type": "markdown",
   "id": "1ea85411-eb70-460d-9ff4-de246c9dbe22",
   "metadata": {},
   "source": [
    "# NumPy Array Creation\n",
    "\n",
    "An array allows us to store a collection of multiple values in a single data structure.\n",
    "\n",
    "The NumPy array is similar to a list, but with added benefits such as being faster and more memory efficient.\n",
    "\n",
    "Numpy library provides various methods to work with data. To leverage all those features, we first need to create numpy arrays.\n",
    "\n",
    "There are multiple techniques to generate arrays in NumPy, and we will explore each of them below.\n",
    "\n",
    "## 1.Create Array Using Python List"
   ]
  },
  {
   "cell_type": "code",
   "execution_count": 14,
   "id": "b6f8fa71-230d-49ea-9c34-52c367338ed8",
   "metadata": {},
   "outputs": [],
   "source": [
    "import numpy as np"
   ]
  },
  {
   "cell_type": "code",
   "execution_count": 15,
   "id": "535684ac-f4d5-4dcd-81c0-12a745e7ec25",
   "metadata": {},
   "outputs": [
    {
     "data": {
      "text/plain": [
       "array([1, 3, 5, 7, 9])"
      ]
     },
     "execution_count": 15,
     "metadata": {},
     "output_type": "execute_result"
    }
   ],
   "source": [
    "array = np.array([1,3,5,7,9])\n",
    "array"
   ]
  },
  {
   "cell_type": "code",
   "execution_count": 16,
   "id": "0157d3d4-a0ed-443a-9890-261a1ca45204",
   "metadata": {},
   "outputs": [
    {
     "data": {
      "text/plain": [
       "array([ 2,  4,  6,  8, 10])"
      ]
     },
     "execution_count": 16,
     "metadata": {},
     "output_type": "execute_result"
    }
   ],
   "source": [
    "list = [2,4,6,8,10]\n",
    "array = np.array(list)\n",
    "array"
   ]
  },
  {
   "cell_type": "markdown",
   "id": "684264a5-c369-4f2d-9246-98d1384dbc5f",
   "metadata": {},
   "source": [
    "## 2.Create an Array Using `np.zeros()`\n",
    "***Docstring:***\n",
    "```python\n",
    "zeros(shape, dtype=float, order='C', *, like=None)\n",
    "\n",
    "Return a new array of given shape and type, filled with zeros.\n",
    "\n",
    "Parameters\n",
    "----------\n",
    "shape : int or tuple of ints\n",
    "    Shape of the new array, e.g., ``(2, 3)`` or ``2``.\n",
    "dtype : data-type, optional\n",
    "    The desired data-type for the array, e.g., `numpy.int8`.  Default is\n",
    "    `numpy.float64`.\n",
    "order : {'C', 'F'}, optional, default: 'C'\n",
    "    Whether to store multi-dimensional data in row-major\n",
    "    (C-style) or column-major (Fortran-style) order in\n",
    "    memory.\n",
    "like : array_like, optional\n",
    "    Reference object to allow the creation of arrays which are not\n",
    "    NumPy arrays. If an array-like passed in as ``like`` supports\n",
    "    the ``__array_function__`` protocol, the result will be defined\n",
    "    by it. In this case, it ensures the creation of an array object\n",
    "    compatible with that passed in via this argument.\n",
    "        \n",
    "Examples\n",
    "--------\n",
    "```"
   ]
  },
  {
   "cell_type": "code",
   "execution_count": 57,
   "id": "cdf1ee4e-ebda-4516-a26b-52ca500095a0",
   "metadata": {},
   "outputs": [
    {
     "data": {
      "text/plain": [
       "array([0., 0., 0., 0., 0.])"
      ]
     },
     "execution_count": 57,
     "metadata": {},
     "output_type": "execute_result"
    }
   ],
   "source": [
    "array = np.zeros(5)\n",
    "array"
   ]
  },
  {
   "cell_type": "code",
   "execution_count": 58,
   "id": "7c974f6e-ac59-4b83-8ab4-af95ee93025b",
   "metadata": {},
   "outputs": [
    {
     "data": {
      "text/plain": [
       "array([0, 0, 0, 0, 0])"
      ]
     },
     "execution_count": 58,
     "metadata": {},
     "output_type": "execute_result"
    }
   ],
   "source": [
    "array = np.zeros((5,),dtype=int)\n",
    "array"
   ]
  },
  {
   "cell_type": "code",
   "execution_count": 59,
   "id": "e05747c6-748b-4da5-aa35-b64bb4bec63c",
   "metadata": {},
   "outputs": [
    {
     "data": {
      "text/plain": [
       "array([[0.],\n",
       "       [0.]])"
      ]
     },
     "execution_count": 59,
     "metadata": {},
     "output_type": "execute_result"
    }
   ],
   "source": [
    "array = np.zeros((2,1))\n",
    "array"
   ]
  },
  {
   "cell_type": "code",
   "execution_count": 60,
   "id": "6f0b488c-b189-4a08-bce1-284854882213",
   "metadata": {},
   "outputs": [
    {
     "data": {
      "text/plain": [
       "array([[0., 0.],\n",
       "       [0., 0.]])"
      ]
     },
     "execution_count": 60,
     "metadata": {},
     "output_type": "execute_result"
    }
   ],
   "source": [
    "array = np.zeros((2,2))\n",
    "array"
   ]
  },
  {
   "cell_type": "code",
   "execution_count": 61,
   "id": "f6dfa570-b606-415a-ae33-0f89f2342f41",
   "metadata": {},
   "outputs": [
    {
     "data": {
      "text/plain": [
       "array([(0, 0), (0, 0), (0, 0), (0, 0)], dtype=[('x', '<i4'), ('y', '<i4')])"
      ]
     },
     "execution_count": 61,
     "metadata": {},
     "output_type": "execute_result"
    }
   ],
   "source": [
    "array = np.zeros((4,),dtype=[('x','i4'),('y','i4')])\n",
    "array"
   ]
  },
  {
   "cell_type": "code",
   "execution_count": 62,
   "id": "525a61ca-c77d-4dd5-885e-ce04d15066b6",
   "metadata": {},
   "outputs": [
    {
     "data": {
      "text/plain": [
       "array([0, 0, 0, 0, 0])"
      ]
     },
     "execution_count": 62,
     "metadata": {},
     "output_type": "execute_result"
    }
   ],
   "source": [
    "array = np.zeros(5, dtype=int, order='C', like=None)\n",
    "array"
   ]
  },
  {
   "cell_type": "code",
   "execution_count": 63,
   "id": "3d60b240-b8d0-49b8-9718-9b3433a14cf8",
   "metadata": {},
   "outputs": [
    {
     "data": {
      "text/plain": [
       "array([[0, 0, 0, 0, 0],\n",
       "       [0, 0, 0, 0, 0],\n",
       "       [0, 0, 0, 0, 0],\n",
       "       [0, 0, 0, 0, 0],\n",
       "       [0, 0, 0, 0, 0]])"
      ]
     },
     "execution_count": 63,
     "metadata": {},
     "output_type": "execute_result"
    }
   ],
   "source": [
    "array = np.zeros((5,5),dtype=int)\n",
    "array"
   ]
  },
  {
   "cell_type": "code",
   "execution_count": 64,
   "id": "be703025-7585-46d0-a43d-bbd25cbc1c33",
   "metadata": {},
   "outputs": [
    {
     "data": {
      "text/plain": [
       "array([[0., 0., 0., 0., 0.],\n",
       "       [0., 0., 0., 0., 0.]])"
      ]
     },
     "execution_count": 64,
     "metadata": {},
     "output_type": "execute_result"
    }
   ],
   "source": [
    "array = np.zeros((2,5))\n",
    "array"
   ]
  },
  {
   "cell_type": "markdown",
   "id": "988975e3-8104-4fe6-bf04-30157b2b43a7",
   "metadata": {},
   "source": [
    "---\n",
    "\n",
    "#### Here are **5 beginner-friendly exercises** focused only on `np.zeros()` from NumPy:\n",
    "\n",
    "### ✅ **Exercise 1: Create a 1D Zero Array**\n",
    "\n",
    "**Task:**\n",
    "Create a NumPy array of 10 zeros.\n",
    "\n",
    "**Expected Output:**\n",
    "\n",
    "```c\n",
    "[0. 0. 0. 0. 0. 0. 0. 0. 0. 0.]\n",
    "\n",
    "```"
   ]
  },
  {
   "cell_type": "code",
   "execution_count": 54,
   "id": "ed55149a-11bc-4b9c-9e95-1ddcd3cbfa19",
   "metadata": {},
   "outputs": [
    {
     "name": "stdout",
     "output_type": "stream",
     "text": [
      "[0. 0. 0. 0. 0. 0. 0. 0. 0. 0.]\n"
     ]
    }
   ],
   "source": [
    "array = np.zeros((10))\n",
    "print(array)"
   ]
  },
  {
   "cell_type": "markdown",
   "id": "e0cb6c7b-3f36-4bec-9b3e-3a57cafbef27",
   "metadata": {},
   "source": [
    "### ✅ **Exercise 2: Create a 2D Matrix of Zeros**\n",
    "\n",
    "**Task:**\n",
    "Create a 3x4 matrix filled with zeros.\n",
    "\n",
    "**Expected Output:**\n",
    "\n",
    "```c\n",
    "[[0. 0. 0. 0.]\n",
    " [0. 0. 0. 0.]\n",
    " [0. 0. 0. 0.]]\n",
    "```"
   ]
  },
  {
   "cell_type": "code",
   "execution_count": 55,
   "id": "b91ca4ac-945e-4cca-aa6d-6a0ceda8443a",
   "metadata": {},
   "outputs": [
    {
     "name": "stdout",
     "output_type": "stream",
     "text": [
      "[[0. 0. 0. 0.]\n",
      " [0. 0. 0. 0.]\n",
      " [0. 0. 0. 0.]]\n"
     ]
    }
   ],
   "source": [
    "array = np.zeros((3,4))\n",
    "print(array)"
   ]
  },
  {
   "cell_type": "markdown",
   "id": "ffa23771-d5ab-4ac4-b9a5-d7045fa5daf0",
   "metadata": {},
   "source": [
    "### ✅ **Exercise 3: Create a Zero Array with Integer Type**\n",
    "\n",
    "**Task:**\n",
    "Create a 5x5 array of zeros with integer type (`dtype=int`).\n",
    "\n",
    "**Expected Output:**\n",
    "\n",
    "```c\n",
    "[[0 0 0 0 0]\n",
    " [0 0 0 0 0]\n",
    " [0 0 0 0 0]\n",
    " [0 0 0 0 0]\n",
    " [0 0 0 0 0]]\n",
    "```"
   ]
  },
  {
   "cell_type": "code",
   "execution_count": 56,
   "id": "45a1be4a-594e-48ee-a2c3-63cbe149c4c2",
   "metadata": {},
   "outputs": [
    {
     "name": "stdout",
     "output_type": "stream",
     "text": [
      "[[0 0 0 0 0]\n",
      " [0 0 0 0 0]\n",
      " [0 0 0 0 0]\n",
      " [0 0 0 0 0]\n",
      " [0 0 0 0 0]]\n"
     ]
    }
   ],
   "source": [
    "array = np.zeros((5,5),dtype=int)\n",
    "print(array)"
   ]
  },
  {
   "cell_type": "markdown",
   "id": "4d9c7357-46cd-400c-9cfc-3c2cf3f2069f",
   "metadata": {},
   "source": [
    "### ✅ **Exercise 4: Create a Zeros Array and Replace Some Values**\n",
    "\n",
    "**Task:**\n",
    "Create a 1D array of 8 zeros and replace the first 3 values with 1s.\n",
    "\n",
    "**Expected Output:**\n",
    "\n",
    "```c\n",
    "[1. 1. 1. 0. 0. 0. 0. 0.]\n",
    "```\n"
   ]
  },
  {
   "cell_type": "code",
   "execution_count": 65,
   "id": "a5a6d666-4c91-4869-a7e7-64fe716db32f",
   "metadata": {},
   "outputs": [
    {
     "name": "stdout",
     "output_type": "stream",
     "text": [
      "[1. 1. 1. 0. 0. 0. 0. 0.]\n"
     ]
    }
   ],
   "source": [
    "array = np.zeros(8)\n",
    "array[:3]=1\n",
    "print(array)"
   ]
  },
  {
   "cell_type": "markdown",
   "id": "14979261-aa70-4cce-8f77-5eab8a6edafe",
   "metadata": {},
   "source": [
    "### ✅ **Exercise 5: Create a 3D Zeros Array**\n",
    "\n",
    "**Task:**\n",
    "Create a 3D array of shape (2, 3, 4) filled with zeros.\n",
    "\n",
    "**Expected Output:**\n",
    "A 3D array like:\n",
    "\n",
    "```c\n",
    "[[[0. 0. 0. 0.]\n",
    "  [0. 0. 0. 0.]\n",
    "  [0. 0. 0. 0.]]\n",
    " \n",
    " [[0. 0. 0. 0.]\n",
    "  [0. 0. 0. 0.]\n",
    "  [0. 0. 0. 0.]]]\n",
    "```\n"
   ]
  },
  {
   "cell_type": "code",
   "execution_count": 68,
   "id": "138e3177-5d09-4d1f-9e54-6920f7c9320b",
   "metadata": {},
   "outputs": [
    {
     "name": "stdout",
     "output_type": "stream",
     "text": [
      "[[[0. 0. 0. 0.]\n",
      "  [0. 0. 0. 0.]\n",
      "  [0. 0. 0. 0.]]\n",
      "\n",
      " [[0. 0. 0. 0.]\n",
      "  [0. 0. 0. 0.]\n",
      "  [0. 0. 0. 0.]]]\n"
     ]
    }
   ],
   "source": [
    "array = np.zeros((2,3,4))\n",
    "print(array)"
   ]
  },
  {
   "cell_type": "markdown",
   "id": "e1a73e51-13a1-4f3f-ad62-39bd093a8c7b",
   "metadata": {},
   "source": [
    "## 3.Create an Array With `np.arange()`"
   ]
  },
  {
   "cell_type": "code",
   "execution_count": null,
   "id": "69b9ec86-93da-4601-8442-6e09da851047",
   "metadata": {},
   "outputs": [],
   "source": [
    "array = np.arange"
   ]
  }
 ],
 "metadata": {
  "kernelspec": {
   "display_name": "Python 3 (ipykernel)",
   "language": "python",
   "name": "python3"
  },
  "language_info": {
   "codemirror_mode": {
    "name": "ipython",
    "version": 3
   },
   "file_extension": ".py",
   "mimetype": "text/x-python",
   "name": "python",
   "nbconvert_exporter": "python",
   "pygments_lexer": "ipython3",
   "version": "3.12.5"
  }
 },
 "nbformat": 4,
 "nbformat_minor": 5
}

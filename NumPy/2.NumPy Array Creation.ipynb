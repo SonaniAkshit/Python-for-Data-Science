{
 "cells": [
  {
   "cell_type": "markdown",
   "id": "1ea85411-eb70-460d-9ff4-de246c9dbe22",
   "metadata": {},
   "source": [
    "# NumPy Array Creation\n",
    "\n",
    "An array allows us to store a collection of multiple values in a single data structure.\n",
    "\n",
    "The NumPy array is similar to a list, but with added benefits such as being faster and more memory efficient.\n",
    "\n",
    "Numpy library provides various methods to work with data. To leverage all those features, we first need to create numpy arrays.\n",
    "\n",
    "There are multiple techniques to generate arrays in NumPy, and we will explore each of them below.\n",
    "\n",
    "## 1.Create Array Using Python List"
   ]
  },
  {
   "cell_type": "code",
   "execution_count": 1,
   "id": "b6f8fa71-230d-49ea-9c34-52c367338ed8",
   "metadata": {},
   "outputs": [],
   "source": [
    "import numpy as np"
   ]
  },
  {
   "cell_type": "code",
   "execution_count": 3,
   "id": "535684ac-f4d5-4dcd-81c0-12a745e7ec25",
   "metadata": {},
   "outputs": [
    {
     "data": {
      "text/plain": [
       "array([1, 3, 5, 7, 9])"
      ]
     },
     "execution_count": 3,
     "metadata": {},
     "output_type": "execute_result"
    }
   ],
   "source": [
    "array = np.array([1,3,5,7,9])\n",
    "array"
   ]
  },
  {
   "cell_type": "code",
   "execution_count": 4,
   "id": "0157d3d4-a0ed-443a-9890-261a1ca45204",
   "metadata": {},
   "outputs": [
    {
     "data": {
      "text/plain": [
       "array([ 2,  4,  6,  8, 10])"
      ]
     },
     "execution_count": 4,
     "metadata": {},
     "output_type": "execute_result"
    }
   ],
   "source": [
    "list = [2,4,6,8,10]\n",
    "array = np.array(list)\n",
    "array"
   ]
  },
  {
   "cell_type": "markdown",
   "id": "684264a5-c369-4f2d-9246-98d1384dbc5f",
   "metadata": {},
   "source": [
    "## 2.Create an Array Using `np.zeros()`\n",
    "***Syntax:***\n",
    "```python\n",
    "zeros(shape, dtype=float, order='C', *, like=None)\n",
    "```"
   ]
  },
  {
   "cell_type": "code",
   "execution_count": 5,
   "id": "cdf1ee4e-ebda-4516-a26b-52ca500095a0",
   "metadata": {},
   "outputs": [
    {
     "data": {
      "text/plain": [
       "array([0., 0., 0., 0., 0.])"
      ]
     },
     "execution_count": 5,
     "metadata": {},
     "output_type": "execute_result"
    }
   ],
   "source": [
    "array = np.zeros(5)\n",
    "array"
   ]
  },
  {
   "cell_type": "code",
   "execution_count": 6,
   "id": "7c974f6e-ac59-4b83-8ab4-af95ee93025b",
   "metadata": {},
   "outputs": [
    {
     "data": {
      "text/plain": [
       "array([0, 0, 0, 0, 0])"
      ]
     },
     "execution_count": 6,
     "metadata": {},
     "output_type": "execute_result"
    }
   ],
   "source": [
    "array = np.zeros((5,),dtype=int)\n",
    "array"
   ]
  },
  {
   "cell_type": "code",
   "execution_count": 7,
   "id": "e05747c6-748b-4da5-aa35-b64bb4bec63c",
   "metadata": {},
   "outputs": [
    {
     "data": {
      "text/plain": [
       "array([[0.],\n",
       "       [0.]])"
      ]
     },
     "execution_count": 7,
     "metadata": {},
     "output_type": "execute_result"
    }
   ],
   "source": [
    "array = np.zeros((2,1))\n",
    "array"
   ]
  },
  {
   "cell_type": "code",
   "execution_count": 8,
   "id": "6f0b488c-b189-4a08-bce1-284854882213",
   "metadata": {},
   "outputs": [
    {
     "data": {
      "text/plain": [
       "array([[0., 0.],\n",
       "       [0., 0.]])"
      ]
     },
     "execution_count": 8,
     "metadata": {},
     "output_type": "execute_result"
    }
   ],
   "source": [
    "array = np.zeros((2,2))\n",
    "array"
   ]
  },
  {
   "cell_type": "code",
   "execution_count": 9,
   "id": "f6dfa570-b606-415a-ae33-0f89f2342f41",
   "metadata": {},
   "outputs": [
    {
     "data": {
      "text/plain": [
       "array([(0, 0), (0, 0), (0, 0), (0, 0)], dtype=[('x', '<i4'), ('y', '<i4')])"
      ]
     },
     "execution_count": 9,
     "metadata": {},
     "output_type": "execute_result"
    }
   ],
   "source": [
    "array = np.zeros((4,),dtype=[('x','i4'),('y','i4')])\n",
    "array"
   ]
  },
  {
   "cell_type": "code",
   "execution_count": 10,
   "id": "525a61ca-c77d-4dd5-885e-ce04d15066b6",
   "metadata": {},
   "outputs": [
    {
     "data": {
      "text/plain": [
       "array([0, 0, 0, 0, 0])"
      ]
     },
     "execution_count": 10,
     "metadata": {},
     "output_type": "execute_result"
    }
   ],
   "source": [
    "array = np.zeros(5, dtype=int, order='C', like=None)\n",
    "array"
   ]
  },
  {
   "cell_type": "code",
   "execution_count": 11,
   "id": "3d60b240-b8d0-49b8-9718-9b3433a14cf8",
   "metadata": {},
   "outputs": [
    {
     "data": {
      "text/plain": [
       "array([[0, 0, 0, 0, 0],\n",
       "       [0, 0, 0, 0, 0],\n",
       "       [0, 0, 0, 0, 0],\n",
       "       [0, 0, 0, 0, 0],\n",
       "       [0, 0, 0, 0, 0]])"
      ]
     },
     "execution_count": 11,
     "metadata": {},
     "output_type": "execute_result"
    }
   ],
   "source": [
    "array = np.zeros((5,5),dtype=int)\n",
    "array"
   ]
  },
  {
   "cell_type": "code",
   "execution_count": 12,
   "id": "be703025-7585-46d0-a43d-bbd25cbc1c33",
   "metadata": {},
   "outputs": [
    {
     "data": {
      "text/plain": [
       "array([[0., 0., 0., 0., 0.],\n",
       "       [0., 0., 0., 0., 0.]])"
      ]
     },
     "execution_count": 12,
     "metadata": {},
     "output_type": "execute_result"
    }
   ],
   "source": [
    "array = np.zeros((2,5))\n",
    "array"
   ]
  },
  {
   "cell_type": "markdown",
   "id": "988975e3-8104-4fe6-bf04-30157b2b43a7",
   "metadata": {},
   "source": [
    "---\n",
    "\n",
    "#### Here are **5 beginner-friendly exercises** focused only on `np.zeros()` from NumPy:\n",
    "\n",
    "### ✅ **Exercise 1: Create a 1D Zero Array**\n",
    "\n",
    "**Task:**\n",
    "Create a NumPy array of 10 zeros.\n",
    "\n",
    "**Expected Output:**\n",
    "\n",
    "```c\n",
    "[0. 0. 0. 0. 0. 0. 0. 0. 0. 0.]\n",
    "\n",
    "```"
   ]
  },
  {
   "cell_type": "code",
   "execution_count": 13,
   "id": "ed55149a-11bc-4b9c-9e95-1ddcd3cbfa19",
   "metadata": {},
   "outputs": [
    {
     "name": "stdout",
     "output_type": "stream",
     "text": [
      "[0. 0. 0. 0. 0. 0. 0. 0. 0. 0.]\n"
     ]
    }
   ],
   "source": [
    "array = np.zeros((10))\n",
    "print(array)"
   ]
  },
  {
   "cell_type": "markdown",
   "id": "e0cb6c7b-3f36-4bec-9b3e-3a57cafbef27",
   "metadata": {},
   "source": [
    "### ✅ **Exercise 2: Create a 2D Matrix of Zeros**\n",
    "\n",
    "**Task:**\n",
    "Create a 3x4 matrix filled with zeros.\n",
    "\n",
    "**Expected Output:**\n",
    "\n",
    "```c\n",
    "[[0. 0. 0. 0.]\n",
    " [0. 0. 0. 0.]\n",
    " [0. 0. 0. 0.]]\n",
    "```"
   ]
  },
  {
   "cell_type": "code",
   "execution_count": 14,
   "id": "b91ca4ac-945e-4cca-aa6d-6a0ceda8443a",
   "metadata": {},
   "outputs": [
    {
     "name": "stdout",
     "output_type": "stream",
     "text": [
      "[[0. 0. 0. 0.]\n",
      " [0. 0. 0. 0.]\n",
      " [0. 0. 0. 0.]]\n"
     ]
    }
   ],
   "source": [
    "array = np.zeros((3,4))\n",
    "print(array)"
   ]
  },
  {
   "cell_type": "markdown",
   "id": "ffa23771-d5ab-4ac4-b9a5-d7045fa5daf0",
   "metadata": {},
   "source": [
    "### ✅ **Exercise 3: Create a Zero Array with Integer Type**\n",
    "\n",
    "**Task:**\n",
    "Create a 5x5 array of zeros with integer type (`dtype=int`).\n",
    "\n",
    "**Expected Output:**\n",
    "\n",
    "```c\n",
    "[[0 0 0 0 0]\n",
    " [0 0 0 0 0]\n",
    " [0 0 0 0 0]\n",
    " [0 0 0 0 0]\n",
    " [0 0 0 0 0]]\n",
    "```"
   ]
  },
  {
   "cell_type": "code",
   "execution_count": 15,
   "id": "45a1be4a-594e-48ee-a2c3-63cbe149c4c2",
   "metadata": {},
   "outputs": [
    {
     "name": "stdout",
     "output_type": "stream",
     "text": [
      "[[0 0 0 0 0]\n",
      " [0 0 0 0 0]\n",
      " [0 0 0 0 0]\n",
      " [0 0 0 0 0]\n",
      " [0 0 0 0 0]]\n"
     ]
    }
   ],
   "source": [
    "array = np.zeros((5,5),dtype=int)\n",
    "print(array)"
   ]
  },
  {
   "cell_type": "markdown",
   "id": "4d9c7357-46cd-400c-9cfc-3c2cf3f2069f",
   "metadata": {},
   "source": [
    "### ✅ **Exercise 4: Create a Zeros Array and Replace Some Values**\n",
    "\n",
    "**Task:**\n",
    "Create a 1D array of 8 zeros and replace the first 3 values with 1s.\n",
    "\n",
    "**Expected Output:**\n",
    "\n",
    "```c\n",
    "[1. 1. 1. 0. 0. 0. 0. 0.]\n",
    "```\n"
   ]
  },
  {
   "cell_type": "code",
   "execution_count": 30,
   "id": "a5a6d666-4c91-4869-a7e7-64fe716db32f",
   "metadata": {},
   "outputs": [
    {
     "name": "stdout",
     "output_type": "stream",
     "text": [
      "[1. 1. 1. 0. 0. 0. 0. 0.]\n"
     ]
    }
   ],
   "source": [
    "array = np.zeros(8)\n",
    "array[:3]=1\n",
    "print(array)"
   ]
  },
  {
   "cell_type": "markdown",
   "id": "14979261-aa70-4cce-8f77-5eab8a6edafe",
   "metadata": {},
   "source": [
    "### ✅ **Exercise 5: Create a 3D Zeros Array**\n",
    "\n",
    "**Task:**\n",
    "Create a 3D array of shape (2, 3, 4) filled with zeros.\n",
    "\n",
    "**Expected Output:**\n",
    "A 3D array like:\n",
    "\n",
    "```c\n",
    "[[[0. 0. 0. 0.]\n",
    "  [0. 0. 0. 0.]\n",
    "  [0. 0. 0. 0.]]\n",
    " \n",
    " [[0. 0. 0. 0.]\n",
    "  [0. 0. 0. 0.]\n",
    "  [0. 0. 0. 0.]]]\n",
    "```\n"
   ]
  },
  {
   "cell_type": "code",
   "execution_count": 17,
   "id": "138e3177-5d09-4d1f-9e54-6920f7c9320b",
   "metadata": {},
   "outputs": [
    {
     "name": "stdout",
     "output_type": "stream",
     "text": [
      "[[[0. 0. 0. 0.]\n",
      "  [0. 0. 0. 0.]\n",
      "  [0. 0. 0. 0.]]\n",
      "\n",
      " [[0. 0. 0. 0.]\n",
      "  [0. 0. 0. 0.]\n",
      "  [0. 0. 0. 0.]]]\n"
     ]
    }
   ],
   "source": [
    "array = np.zeros((2,3,4))\n",
    "print(array)"
   ]
  },
  {
   "cell_type": "markdown",
   "id": "e1a73e51-13a1-4f3f-ad62-39bd093a8c7b",
   "metadata": {},
   "source": [
    "## 3.Create an Array With `np.arange()`\n",
    "***Syntax:***\n",
    "```python\n",
    "arange([start, stop, step,], dtype=None, *, device=None, like=None)\n",
    "```"
   ]
  },
  {
   "cell_type": "code",
   "execution_count": 50,
   "id": "69b9ec86-93da-4601-8442-6e09da851047",
   "metadata": {},
   "outputs": [
    {
     "data": {
      "text/plain": [
       "array([0, 1, 2])"
      ]
     },
     "execution_count": 50,
     "metadata": {},
     "output_type": "execute_result"
    }
   ],
   "source": [
    "array = np.arange(3) #int\n",
    "array"
   ]
  },
  {
   "cell_type": "code",
   "execution_count": 51,
   "id": "106e4c18-8c71-4ac0-bbfb-86805b4a5d84",
   "metadata": {},
   "outputs": [
    {
     "data": {
      "text/plain": [
       "array([0., 1., 2.])"
      ]
     },
     "execution_count": 51,
     "metadata": {},
     "output_type": "execute_result"
    }
   ],
   "source": [
    "array = np.arange(3.0) #float\n",
    "array"
   ]
  },
  {
   "cell_type": "code",
   "execution_count": 52,
   "id": "34a14ca2-53a6-410c-9549-4d4705046fe4",
   "metadata": {},
   "outputs": [
    {
     "data": {
      "text/plain": [
       "array([3, 4, 5, 6])"
      ]
     },
     "execution_count": 52,
     "metadata": {},
     "output_type": "execute_result"
    }
   ],
   "source": [
    "array = np.arange(3,7)\n",
    "array"
   ]
  },
  {
   "cell_type": "code",
   "execution_count": 54,
   "id": "a2ae3a2f-58f6-4c18-8618-92b873b23205",
   "metadata": {},
   "outputs": [
    {
     "data": {
      "text/plain": [
       "array([3, 5])"
      ]
     },
     "execution_count": 54,
     "metadata": {},
     "output_type": "execute_result"
    }
   ],
   "source": [
    "array = np.arange(3,7,2)\n",
    "array"
   ]
  },
  {
   "cell_type": "code",
   "execution_count": 55,
   "id": "5b37c1f5-475f-4c97-88d0-af1e5d3fa2c5",
   "metadata": {},
   "outputs": [
    {
     "data": {
      "text/plain": [
       "array([0. , 0.5, 1. , 1.5, 2. , 2.5, 3. , 3.5, 4. , 4.5])"
      ]
     },
     "execution_count": 55,
     "metadata": {},
     "output_type": "execute_result"
    }
   ],
   "source": [
    "array = np.arange(0, 5, 0.5, dtype=float)\n",
    "array"
   ]
  },
  {
   "cell_type": "code",
   "execution_count": 56,
   "id": "48757432-a2bc-4b8b-a4f9-59da29d93d96",
   "metadata": {},
   "outputs": [
    {
     "data": {
      "text/plain": [
       "array([0, 0, 0, 0, 0, 0, 0, 0, 0, 0])"
      ]
     },
     "execution_count": 56,
     "metadata": {},
     "output_type": "execute_result"
    }
   ],
   "source": [
    "array = np.arange(0, 5, 0.5, dtype=int)\n",
    "array"
   ]
  },
  {
   "cell_type": "code",
   "execution_count": 58,
   "id": "39a1261c-dabf-4096-8660-140883eb1c6b",
   "metadata": {},
   "outputs": [
    {
     "data": {
      "text/plain": [
       "array([-3, -2, -2, -1, -1,  0,  0,  0,  1,  1,  2,  2])"
      ]
     },
     "execution_count": 58,
     "metadata": {},
     "output_type": "execute_result"
    }
   ],
   "source": [
    "array = np.arange(-3, 3, 0.5).astype(int)\n",
    "array"
   ]
  },
  {
   "cell_type": "code",
   "execution_count": 59,
   "id": "af00f593-ba1a-4531-9e52-31d400756f0f",
   "metadata": {},
   "outputs": [
    {
     "data": {
      "text/plain": [
       "array([-3. , -2.5, -2. , -1.5, -1. , -0.5,  0. ,  0.5,  1. ,  1.5,  2. ,\n",
       "        2.5])"
      ]
     },
     "execution_count": 59,
     "metadata": {},
     "output_type": "execute_result"
    }
   ],
   "source": [
    "array = np.arange(-3, 3, 0.5).astype(float)\n",
    "array"
   ]
  },
  {
   "cell_type": "markdown",
   "id": "f41f28d1-aa8a-4cc2-845a-2b59391bf6b9",
   "metadata": {},
   "source": [
    "---\n",
    "##### Here are **5 beginner-friendly exercises** using `np.arange()` from NumPy:\n",
    "\n",
    "### ✅ **Exercise 1: Create a Range of Numbers**\n",
    "\n",
    "**Task:**\n",
    "Create an array of numbers from 0 to 9.\n",
    "\n",
    "**Expected Output:**\n",
    "\n",
    "```c\n",
    "[0 1 2 3 4 5 6 7 8 9]\n",
    "```"
   ]
  },
  {
   "cell_type": "code",
   "execution_count": 61,
   "id": "98f73b84-5987-4cc6-b09d-efacbbed0552",
   "metadata": {},
   "outputs": [
    {
     "name": "stdout",
     "output_type": "stream",
     "text": [
      "[0 1 2 3 4 5 6 7 8 9]\n"
     ]
    }
   ],
   "source": [
    "array = np.arange(0,10)\n",
    "print(array)"
   ]
  },
  {
   "cell_type": "markdown",
   "id": "481e8eab-51e2-49c8-84bb-7a2f505c30dd",
   "metadata": {},
   "source": [
    "### ✅ **Exercise 2: Create Even Numbers Only**\n",
    "\n",
    "**Task:**\n",
    "Use `np.arange()` to generate even numbers from 0 to 20.\n",
    "\n",
    "**Expected Output:**\n",
    "\n",
    "```c\n",
    "[ 0  2  4  6  8 10 12 14 16 18]\n",
    "```"
   ]
  },
  {
   "cell_type": "code",
   "execution_count": 62,
   "id": "b26a1b6f-64a3-427a-820e-83ca1676f38e",
   "metadata": {},
   "outputs": [
    {
     "name": "stdout",
     "output_type": "stream",
     "text": [
      "[ 0  2  4  6  8 10 12 14 16 18]\n"
     ]
    }
   ],
   "source": [
    "array = np.arange(0,20,2)\n",
    "print(array)"
   ]
  },
  {
   "cell_type": "markdown",
   "id": "39c30637-868c-470f-83c2-adeec24e7bff",
   "metadata": {},
   "source": [
    "### ✅ **Exercise 3: Create Array in Reverse Order**\n",
    "\n",
    "**Task:**\n",
    "Generate an array from 10 to 1 (excluding 0), in reverse.\n",
    "\n",
    "**Expected Output:**\n",
    "\n",
    "```c\n",
    "[10  9  8  7  6  5  4  3  2  1]\n",
    "```"
   ]
  },
  {
   "cell_type": "code",
   "execution_count": 87,
   "id": "9f3ed0ae-ebf7-4298-b14e-4f118f60704b",
   "metadata": {},
   "outputs": [
    {
     "name": "stdout",
     "output_type": "stream",
     "text": [
      "[10  9  8  7  6  5  4  3  2  1]\n"
     ]
    }
   ],
   "source": [
    "array = np.arange(10,0,-1)\n",
    "print(array)"
   ]
  },
  {
   "cell_type": "markdown",
   "id": "067ca2ec-9c8d-457b-a4ae-c642c251cbbb",
   "metadata": {},
   "source": [
    "### ✅ **Exercise 4: Create Float Range**\n",
    "\n",
    "**Task:**\n",
    "Generate an array from 1 to 2 (exclusive) with a step of 0.2.\n",
    "\n",
    "**Expected Output:**\n",
    "\n",
    "```c\n",
    "[1.  1.2 1.4 1.6 1.8]\n",
    "```"
   ]
  },
  {
   "cell_type": "code",
   "execution_count": 88,
   "id": "378d0d0e-157d-4a7f-a4ef-5aa043408210",
   "metadata": {},
   "outputs": [
    {
     "name": "stdout",
     "output_type": "stream",
     "text": [
      "[1.  1.2 1.4 1.6 1.8]\n"
     ]
    }
   ],
   "source": [
    "array = np.arange(1,2,0.2)\n",
    "print(array)"
   ]
  },
  {
   "cell_type": "markdown",
   "id": "13bd88fd-5abf-43f9-8abc-e33234fffa6a",
   "metadata": {},
   "source": [
    "### ✅ **Exercise 5: Count Backward with Step**\n",
    "\n",
    "**Task:**\n",
    "Generate values from 50 to 30 (inclusive) decreasing by 5 using `np.arange()`.\n",
    "\n",
    "**Expected Output:**\n",
    "\n",
    "```c\n",
    "[50 45 40 35 30]\n",
    "```"
   ]
  },
  {
   "cell_type": "code",
   "execution_count": 91,
   "id": "a48debd0-6c74-48fe-9e4f-c7566d969a04",
   "metadata": {},
   "outputs": [
    {
     "name": "stdout",
     "output_type": "stream",
     "text": [
      "[50 45 40 35 30]\n"
     ]
    }
   ],
   "source": [
    "array = np.arange(50,25,-5)\n",
    "print(array)"
   ]
  },
  {
   "cell_type": "markdown",
   "id": "faba4402-110a-468a-ab32-eebad3891f3d",
   "metadata": {},
   "source": [
    "### ✅ **Exercise 6: Create an Array from 5 to 25 with Step 5**\n",
    "\n",
    "**Task:**\n",
    "Use `np.arange()` to create an array like:\n",
    "\n",
    "\n",
    "**Expected Output:**\n",
    "\n",
    "```c\n",
    "[5, 10, 15, 20]\n",
    "```"
   ]
  },
  {
   "cell_type": "code",
   "execution_count": 95,
   "id": "bccc54dc-356d-4534-be12-6abad5995f83",
   "metadata": {},
   "outputs": [
    {
     "name": "stdout",
     "output_type": "stream",
     "text": [
      "[ 5 10 15 20]\n"
     ]
    }
   ],
   "source": [
    "array = np.arange(5,25,5)\n",
    "print(array)"
   ]
  },
  {
   "cell_type": "markdown",
   "id": "c9ec9d67-a8eb-4dc3-8eef-4df97525fc4f",
   "metadata": {},
   "source": [
    "### ✅ **Exercise 7: Create Negative Numbers Only**\n",
    "**Task:**\n",
    "Create an array from -10 to -1 using `np.arange()`.\n",
    "\n",
    "**Expected Output:**\n",
    "\n",
    "```c\n",
    "[-10 -9 -8 -7 -6 -5 -4 -3 -2 -1]\n",
    "```\n"
   ]
  },
  {
   "cell_type": "code",
   "execution_count": 101,
   "id": "5e01e2fd-f474-434b-9f3c-39b68b395db5",
   "metadata": {},
   "outputs": [
    {
     "name": "stdout",
     "output_type": "stream",
     "text": [
      "[-10  -9  -8  -7  -6  -5  -4  -3  -2  -1]\n"
     ]
    }
   ],
   "source": [
    "array = np.arange(-10,0)\n",
    "print(array)"
   ]
  },
  {
   "cell_type": "markdown",
   "id": "54c2f648-380c-430c-92a0-7cb7d95e6fe7",
   "metadata": {},
   "source": [
    "## 4.Create an Array With `np.random.rand()`"
   ]
  },
  {
   "cell_type": "code",
   "execution_count": 17,
   "id": "c1369737-ab4f-456f-92c8-7f9747d763b6",
   "metadata": {},
   "outputs": [
    {
     "data": {
      "text/plain": [
       "array([0.30875449, 0.21648055, 0.21027831, 0.99135031, 0.71839798,\n",
       "       0.94458347])"
      ]
     },
     "execution_count": 17,
     "metadata": {},
     "output_type": "execute_result"
    }
   ],
   "source": [
    "array = np.random.rand(6)\n",
    "array"
   ]
  },
  {
   "cell_type": "code",
   "execution_count": 18,
   "id": "7dfc33b7-0c62-4b92-8b27-82c0fec69cde",
   "metadata": {},
   "outputs": [
    {
     "data": {
      "text/plain": [
       "array([[0.47690657, 0.81437519],\n",
       "       [0.1767521 , 0.04234023],\n",
       "       [0.57086101, 0.13710265],\n",
       "       [0.23595302, 0.28641689],\n",
       "       [0.97152129, 0.11320812],\n",
       "       [0.5451667 , 0.91270894]])"
      ]
     },
     "execution_count": 18,
     "metadata": {},
     "output_type": "execute_result"
    }
   ],
   "source": [
    "array = np.random.rand(6,2)\n",
    "array"
   ]
  },
  {
   "cell_type": "code",
   "execution_count": 19,
   "id": "5004e2a2-6719-4af9-bb08-229adfcb5940",
   "metadata": {},
   "outputs": [
    {
     "data": {
      "text/plain": [
       "array([[[0.36739601, 0.91548697, 0.90980559],\n",
       "        [0.37458967, 0.19081534, 0.39751931]],\n",
       "\n",
       "       [[0.19734682, 0.15932239, 0.60811238],\n",
       "        [0.31293671, 0.326279  , 0.82664145]],\n",
       "\n",
       "       [[0.08911725, 0.94779509, 0.70462159],\n",
       "        [0.47904019, 0.02518411, 0.46521766]],\n",
       "\n",
       "       [[0.48030842, 0.71372146, 0.00409802],\n",
       "        [0.13112839, 0.97461389, 0.96002253]],\n",
       "\n",
       "       [[0.4753753 , 0.41786645, 0.38829545],\n",
       "        [0.74443529, 0.17516842, 0.13845239]],\n",
       "\n",
       "       [[0.69063566, 0.49959551, 0.90353035],\n",
       "        [0.934765  , 0.77503155, 0.49883888]]])"
      ]
     },
     "execution_count": 19,
     "metadata": {},
     "output_type": "execute_result"
    }
   ],
   "source": [
    "array = np.random.rand(6,2,3)\n",
    "array"
   ]
  },
  {
   "cell_type": "markdown",
   "id": "b6436221-e95e-4414-ba78-e5b666467fd3",
   "metadata": {},
   "source": [
    "---\n",
    "#### Here are **5 beginner-friendly exercises** using `np.random.rand()` from NumPy:\n",
    "\n",
    "### ✅ **Exercise 1: Generate a 1D Array of Random Numbers**\n",
    "\n",
    "**Task:**\n",
    "Create a 1D array of 5 random numbers between 0 and 1.\n",
    "\n",
    "**Expected Output Example:**\n",
    "\n",
    "```c\n",
    "[0.634, 0.132, 0.875, 0.289, 0.457]\n",
    "```"
   ]
  },
  {
   "cell_type": "code",
   "execution_count": 26,
   "id": "66bb7cd3-487f-4fb6-845b-1e9b119dcddd",
   "metadata": {},
   "outputs": [
    {
     "name": "stdout",
     "output_type": "stream",
     "text": [
      "[0.272 0.759 0.047 0.439 0.471]\n"
     ]
    }
   ],
   "source": [
    "array = np.random.rand(5)\n",
    "round_array = np.round(array,3)\n",
    "print(round_array)"
   ]
  },
  {
   "cell_type": "markdown",
   "id": "49da578e-d588-4758-8c81-7270cd490060",
   "metadata": {},
   "source": [
    "### ✅ **Exercise 2: Create a 3x3 Matrix of Random Floats**\n",
    "\n",
    "**Task:**\n",
    "Use `np.random.rand()` to create a 3x3 matrix filled with random floats between 0 and 1.\n",
    "\n",
    "**Expected Output Example:**\n",
    "\n",
    "```c\n",
    "[[0.1, 0.6, 0.4],\n",
    " [0.8, 0.3, 0.7],\n",
    " [0.9, 0.2, 0.5]]\n",
    "```"
   ]
  },
  {
   "cell_type": "code",
   "execution_count": 32,
   "id": "d3095cd9-f80f-46ae-8d6c-399c9edfcb3d",
   "metadata": {},
   "outputs": [
    {
     "name": "stdout",
     "output_type": "stream",
     "text": [
      "[[0.3 0.1 0.7]\n",
      " [0.9 0.4 0.2]\n",
      " [0.3 0.3 0.3]]\n"
     ]
    }
   ],
   "source": [
    "array = np.random.rand(3,3)\n",
    "round_array = np.round(array,1)\n",
    "print(round_array)"
   ]
  },
  {
   "cell_type": "markdown",
   "id": "eb41ae6b-4c61-48af-9622-46831dc60ab8",
   "metadata": {},
   "source": [
    "### ✅ **Exercise 3: Find the Max and Min Values**\n",
    "\n",
    "**Task:**\n",
    "Generate an array of 10 random values using `np.random.rand()`. Then find the maximum and minimum values from the array.\n"
   ]
  },
  {
   "cell_type": "code",
   "execution_count": 40,
   "id": "fac9daf1-fef2-47cc-81e4-e10288c6102f",
   "metadata": {},
   "outputs": [
    {
     "name": "stdout",
     "output_type": "stream",
     "text": [
      "Random Array: [0.904 0.388 0.311 0.369 0.596 0.702 0.789 0.273 0.033 0.831]\n",
      "Maximum Value: 0.904\n",
      "Minimum Value: 0.033\n"
     ]
    }
   ],
   "source": [
    "array = np.random.rand(10)\n",
    "print(f\"Random Array: {np.round(array,3)}\")\n",
    "\n",
    "max = np.max(array)\n",
    "min = np.min(array)\n",
    "\n",
    "print(f\"Maximum Value: {np.round(max,3)}\")\n",
    "print(f\"Minimum Value: {np.round(min,3)}\")"
   ]
  },
  {
   "cell_type": "markdown",
   "id": "c7bbcc22-cef5-48bd-b465-3f7c31efadc1",
   "metadata": {},
   "source": [
    "### ✅ **Exercise 4: Check Values Greater Than 0.5**\n",
    "\n",
    "**Task:**\n",
    "Create an array of 6 random floats using `np.random.rand()`, and print a Boolean array where values greater than 0.5 are marked `True`.\n",
    "\n",
    "**Expected Output Example:**\n",
    "\n",
    "```c\n",
    "[0.3, 0.8, 0.5, 0.9, 0.2, 0.7]\n",
    "[False, True, False, True, False, True]\n",
    "```"
   ]
  },
  {
   "cell_type": "code",
   "execution_count": 49,
   "id": "344d4056-db39-4ce1-a84f-3d66598f6f8c",
   "metadata": {},
   "outputs": [
    {
     "name": "stdout",
     "output_type": "stream",
     "text": [
      "Random Aarry: [0.3 0.4 0.6 0.  0.7 1. ]\n",
      "Greter then 0.5: [False False  True False  True  True]\n"
     ]
    }
   ],
   "source": [
    "array = np.random.rand(6)\n",
    "round_array = np.round(array,1)\n",
    "print(f\"Random Aarry: {round_array}\")\n",
    "bool_array = round_array > 0.5\n",
    "print(f\"Greter then 0.5: {bool_array}\")"
   ]
  },
  {
   "cell_type": "markdown",
   "id": "9eeb6878-3cef-489f-accf-00b1e2ea0c2e",
   "metadata": {},
   "source": [
    "\n",
    "### ✅ **Exercise 5: Reshape Random Values**\n",
    "\n",
    "**Task:**\n",
    "Create a flat array of 12 random floats and reshape it into a 4x3 matrix.\n",
    "\n",
    "**Hint:**\n",
    "\n",
    "```c\n",
    "array.reshape(4, 3)\n",
    "```\n"
   ]
  },
  {
   "cell_type": "code",
   "execution_count": 54,
   "id": "935f5091-74da-464f-9237-0dbfc04ccedb",
   "metadata": {},
   "outputs": [
    {
     "name": "stdout",
     "output_type": "stream",
     "text": [
      "[[0.46 0.26 0.58]\n",
      " [0.9  0.21 0.53]\n",
      " [0.97 0.93 0.5 ]\n",
      " [0.33 0.99 0.17]]\n"
     ]
    }
   ],
   "source": [
    "array = np.random.rand(12)\n",
    "\n",
    "matrix = array.reshape(4,3)\n",
    "\n",
    "print(f\"{np.round(matrix,2)}\")"
   ]
  },
  {
   "cell_type": "markdown",
   "id": "23cae1cb-4952-42a8-95d1-0852ad361ca8",
   "metadata": {},
   "source": [
    "## 5.Create an Empty NumPy Array\n",
    "***Syntax:***\n",
    "```python\n",
    "empty(shape, dtype=float, order='C', *, device=None, like=None)\n",
    "```\n",
    "Return a new array of given shape and type, without initializing entries.\n"
   ]
  },
  {
   "cell_type": "code",
   "execution_count": 59,
   "id": "ef825ca2-f0fb-483b-beb5-552d281dae5c",
   "metadata": {},
   "outputs": [
    {
     "data": {
      "text/plain": [
       "array([0.7, 0.7, 0.1, 0.4])"
      ]
     },
     "execution_count": 59,
     "metadata": {},
     "output_type": "execute_result"
    }
   ],
   "source": [
    "array = np.empty(4)\n",
    "array"
   ]
  },
  {
   "cell_type": "code",
   "execution_count": 60,
   "id": "6a008c65-3db0-42e8-8988-caa887ddab9a",
   "metadata": {},
   "outputs": [
    {
     "data": {
      "text/plain": [
       "array([[0.7, 0.7],\n",
       "       [0.1, 0.4]])"
      ]
     },
     "execution_count": 60,
     "metadata": {},
     "output_type": "execute_result"
    }
   ],
   "source": [
    "array = np.empty([2,2])\n",
    "array"
   ]
  },
  {
   "cell_type": "code",
   "execution_count": 61,
   "id": "981a2cfd-c5e3-4ec4-a5e7-12e305399fba",
   "metadata": {},
   "outputs": [
    {
     "data": {
      "text/plain": [
       "array([[4604480259023595110, 4604480259023595110],\n",
       "       [4591870180066957722, 4600877379321698714]])"
      ]
     },
     "execution_count": 61,
     "metadata": {},
     "output_type": "execute_result"
    }
   ],
   "source": [
    "array = np.empty([2,2],dtype=int)\n",
    "array"
   ]
  }
 ],
 "metadata": {
  "kernelspec": {
   "display_name": "Python 3 (ipykernel)",
   "language": "python",
   "name": "python3"
  },
  "language_info": {
   "codemirror_mode": {
    "name": "ipython",
    "version": 3
   },
   "file_extension": ".py",
   "mimetype": "text/x-python",
   "name": "python",
   "nbconvert_exporter": "python",
   "pygments_lexer": "ipython3",
   "version": "3.12.5"
  }
 },
 "nbformat": 4,
 "nbformat_minor": 5
}

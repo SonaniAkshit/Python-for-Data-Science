{
 "cells": [
  {
   "cell_type": "markdown",
   "id": "959d3259-ebb1-4db8-bb2f-cf9eb93fed5b",
   "metadata": {},
   "source": [
    "# Numpy Array Indexing\n",
    "In NumPy, each element in an array is associated with a number. The number is known as an array index.\n",
    "\n",
    "Let's see an example to demonstrate NumPy array indexing.\n",
    "\n",
    "![Array Indexing in NumPy](img/numpy-array-index.png)\n",
    "\n",
    "In the above array, 5 is the 3rd element. However, its index is 2.\n",
    "\n",
    "This is because the array indexing starts from 0, that is, the first element of the array has index 0, the second element has index 1, and so on.\n",
    "\n",
    "Now, we'll see how we can access individual items from the array using the index number.\n",
    "\n",
    "---\n",
    "### Access Array Elements Using Index\n",
    "We can use indices to access individual elements of a NumPy array.\n",
    "\n",
    "Suppose we have a NumPy array:"
   ]
  },
  {
   "cell_type": "code",
   "execution_count": 1,
   "id": "eb4cedec-898b-4bce-a40c-3302b294c752",
   "metadata": {},
   "outputs": [],
   "source": [
    "import numpy as np"
   ]
  },
  {
   "cell_type": "code",
   "execution_count": 2,
   "id": "4eb98a0d-1325-4176-8e8c-da5ea4a6bc71",
   "metadata": {},
   "outputs": [],
   "source": [
    "array = np.array([1,3,5,7,9])"
   ]
  },
  {
   "cell_type": "code",
   "execution_count": 7,
   "id": "eb9aaff8-5d4e-4ab6-be80-b914b8b147c2",
   "metadata": {},
   "outputs": [
    {
     "name": "stdout",
     "output_type": "stream",
     "text": [
      "1\n"
     ]
    }
   ],
   "source": [
    "print(array[0])"
   ]
  },
  {
   "cell_type": "code",
   "execution_count": 8,
   "id": "fa10d315-d2d9-4a80-bb20-146defb150a5",
   "metadata": {},
   "outputs": [
    {
     "name": "stdout",
     "output_type": "stream",
     "text": [
      "5\n"
     ]
    }
   ],
   "source": [
    "print(array[2])"
   ]
  },
  {
   "cell_type": "code",
   "execution_count": 9,
   "id": "28c101f7-e17a-486b-8a08-e7b260a4e007",
   "metadata": {},
   "outputs": [
    {
     "name": "stdout",
     "output_type": "stream",
     "text": [
      "9\n"
     ]
    }
   ],
   "source": [
    "print(array[4])"
   ]
  },
  {
   "cell_type": "markdown",
   "id": "f44fd46d-ba99-4229-9d8b-e921c9d5b90c",
   "metadata": {},
   "source": [
    "---\n",
    "### Modify Array Elements Using Index\n",
    "We can use indices to change the value of an element in a NumPy array."
   ]
  },
  {
   "cell_type": "code",
   "execution_count": 10,
   "id": "758d045e-c6ec-4b31-b7d7-a36ec1f68916",
   "metadata": {},
   "outputs": [
    {
     "name": "stdout",
     "output_type": "stream",
     "text": [
      "[1 3 5 7 9]\n"
     ]
    }
   ],
   "source": [
    "print(array)"
   ]
  },
  {
   "cell_type": "code",
   "execution_count": 11,
   "id": "36060301-43fc-4b09-98cb-55b8a28953e3",
   "metadata": {},
   "outputs": [],
   "source": [
    "array[0] = 20\n",
    "array[2] = 50\n",
    "array[4] = 80"
   ]
  },
  {
   "cell_type": "code",
   "execution_count": 12,
   "id": "7e994ab1-0651-4286-b0bc-fb5e5f1d8f97",
   "metadata": {},
   "outputs": [
    {
     "name": "stdout",
     "output_type": "stream",
     "text": [
      "[20  3 50  7 80]\n"
     ]
    }
   ],
   "source": [
    "print(array)"
   ]
  },
  {
   "cell_type": "markdown",
   "id": "b013effe-a414-4ccf-ae86-fdfebac877ab",
   "metadata": {},
   "source": [
    "---\n",
    "### NumPy Negative Array Indexing\n",
    "NumPy allows negative indexing for its array. The index of -1 refers to the last item, -2 to the second last item and so on.\n",
    "\n",
    "![NumPy Array Negative Indexing](img/numpy-array-negative-index.png)\n"
   ]
  },
  {
   "cell_type": "code",
   "execution_count": 14,
   "id": "14426caa-11ca-484d-b985-68505fb1443b",
   "metadata": {},
   "outputs": [],
   "source": [
    "array = np.array([1,3,5,7,9])"
   ]
  },
  {
   "cell_type": "code",
   "execution_count": 15,
   "id": "29b6c1a5-9bea-4008-8ac3-65e891741880",
   "metadata": {},
   "outputs": [
    {
     "name": "stdout",
     "output_type": "stream",
     "text": [
      "[1 3 5 7 9]\n"
     ]
    }
   ],
   "source": [
    "print(array)"
   ]
  },
  {
   "cell_type": "code",
   "execution_count": 17,
   "id": "c204638b-e98a-4c95-b02b-062e3669e9fb",
   "metadata": {},
   "outputs": [
    {
     "name": "stdout",
     "output_type": "stream",
     "text": [
      "9\n",
      "7\n",
      "5\n",
      "3\n",
      "1\n"
     ]
    }
   ],
   "source": [
    "print(array[-1])\n",
    "print(array[-2])\n",
    "print(array[-3])\n",
    "print(array[-4])\n",
    "print(array[-5])"
   ]
  },
  {
   "cell_type": "markdown",
   "id": "9a1d5c5f-25e9-4d64-9c1b-0fd1c0c8d05d",
   "metadata": {},
   "source": [
    "---\n",
    "### Modify Array Elements Using Negative Indexing\n",
    "Similar to regular indexing, we can also modify array elements using negative indexing. "
   ]
  },
  {
   "cell_type": "code",
   "execution_count": 18,
   "id": "67f2f9b9-245b-47e6-ae75-f6579a99f2e8",
   "metadata": {},
   "outputs": [
    {
     "name": "stdout",
     "output_type": "stream",
     "text": [
      "[1 3 5 7 9]\n"
     ]
    }
   ],
   "source": [
    "print(array)"
   ]
  },
  {
   "cell_type": "code",
   "execution_count": 19,
   "id": "9b216af6-84af-4782-9943-9990bbcac3c7",
   "metadata": {},
   "outputs": [],
   "source": [
    "array[-1] = 90\n",
    "array[-2] = 70\n",
    "array[-3] = 50\n",
    "array[-4] = 30\n",
    "array[-5] = 10"
   ]
  },
  {
   "cell_type": "code",
   "execution_count": 21,
   "id": "25fcffa1-2cac-46da-8494-90a11b0aad3f",
   "metadata": {},
   "outputs": [
    {
     "name": "stdout",
     "output_type": "stream",
     "text": [
      "[10 30 50 70 90]\n"
     ]
    }
   ],
   "source": [
    "print(array) # modified array"
   ]
  },
  {
   "cell_type": "markdown",
   "id": "39ebc9ae-0c68-48ee-8e3b-97123868d14e",
   "metadata": {},
   "source": [
    "### 2-D NumPy Array Indexing\n",
    "Array indexing in NumPy allows us to access and manipulate elements in a 2-D array.\n",
    "\n",
    "To access an element of array, we need to specify the row index and column index of the element."
   ]
  },
  {
   "cell_type": "code",
   "execution_count": 47,
   "id": "0b487258-b5ec-4e79-b953-55649f769477",
   "metadata": {},
   "outputs": [
    {
     "name": "stdout",
     "output_type": "stream",
     "text": [
      "[[22 43 44]\n",
      " [46 76 23]\n",
      " [32 53 12]]\n"
     ]
    }
   ],
   "source": [
    "array = np.array([[22,43,44],\n",
    "                 [46,76,23],\n",
    "                 [32,53,12]])\n",
    "print(array)"
   ]
  },
  {
   "cell_type": "code",
   "execution_count": 48,
   "id": "dba17f17-e7c0-4f33-b52b-361fd20a87a7",
   "metadata": {},
   "outputs": [
    {
     "name": "stdout",
     "output_type": "stream",
     "text": [
      "22\n",
      "43\n",
      "44\n"
     ]
    }
   ],
   "source": [
    "print(array[0][0])\n",
    "print(array[0][1])\n",
    "print(array[0][2])"
   ]
  },
  {
   "cell_type": "code",
   "execution_count": 49,
   "id": "4cf37600-fc9b-41c2-99c3-9f5bb3472423",
   "metadata": {},
   "outputs": [
    {
     "name": "stdout",
     "output_type": "stream",
     "text": [
      "46\n",
      "76\n",
      "23\n"
     ]
    }
   ],
   "source": [
    "print(array[1][0])\n",
    "print(array[1][1])\n",
    "print(array[1][2])"
   ]
  },
  {
   "cell_type": "code",
   "execution_count": 50,
   "id": "a38ff869-1b9e-4440-9829-8de8a2bed2f1",
   "metadata": {},
   "outputs": [
    {
     "name": "stdout",
     "output_type": "stream",
     "text": [
      "32\n",
      "53\n",
      "12\n"
     ]
    }
   ],
   "source": [
    "print(array[2][0])\n",
    "print(array[2][1])\n",
    "print(array[2][2])"
   ]
  },
  {
   "cell_type": "markdown",
   "id": "fde01540-d442-4f78-9d4e-4e9389c52d5d",
   "metadata": {},
   "source": [
    "### Access Row or Column of 2D Array Using Indexing\n",
    "In NumPy, we can access specific rows or columns of a 2-D array using array indexing.\n"
   ]
  },
  {
   "cell_type": "code",
   "execution_count": 51,
   "id": "182f5f06-c9a6-49ea-9c71-ae67612824d1",
   "metadata": {},
   "outputs": [
    {
     "name": "stdout",
     "output_type": "stream",
     "text": [
      "[[22 43 44]\n",
      " [46 76 23]\n",
      " [32 53 12]]\n"
     ]
    }
   ],
   "source": [
    "array = np.array([[22,43,44],\n",
    "                 [46,76,23],\n",
    "                 [32,53,12]])\n",
    "print(array)"
   ]
  },
  {
   "cell_type": "code",
   "execution_count": 56,
   "id": "62bfd77e-3b17-4602-b1cc-7e3a18d9337d",
   "metadata": {},
   "outputs": [
    {
     "name": "stdout",
     "output_type": "stream",
     "text": [
      "[22 43 44]\n",
      "[46 76 23]\n",
      "[[22 43 44]\n",
      " [46 76 23]\n",
      " [32 53 12]]\n"
     ]
    }
   ],
   "source": [
    "print(array[:][0])\n",
    "print(array[1][:])\n",
    "print(array[:][:])"
   ]
  },
  {
   "cell_type": "markdown",
   "id": "751a8dfc-c3e2-4988-82e8-94e2bb1d5334",
   "metadata": {},
   "source": [
    "### 3-D NumPy Array Indexing\n",
    "We can also access elements in higher dimensional arrays.\n",
    "\n",
    "To access an element of a 3D array, we use three indices separated by commas.\n",
    "\n",
    "- The **first index** refers to the slice\n",
    "- The **second index** refers to the row\n",
    "- The **third index** refers to the column.\n",
    "> **Note:** In 3D arrays, slice is a 2D array that is obtained by taking a subset of the elements in one of the dimensions."
   ]
  },
  {
   "cell_type": "code",
   "execution_count": 65,
   "id": "6bb048e7-b35e-458f-8a60-bc2ef363ede3",
   "metadata": {},
   "outputs": [
    {
     "name": "stdout",
     "output_type": "stream",
     "text": [
      "[[[12 23 34]\n",
      "  [45 56 67]\n",
      "  [78 89 90]]\n",
      "\n",
      " [[21 32 43]\n",
      "  [54 65 76]\n",
      "  [87 98 91]]]\n"
     ]
    }
   ],
   "source": [
    "array = np.array([[[12,23,34],\n",
    "          [45,56,67],\n",
    "          [78,89,90]],\n",
    "                  \n",
    "         [[21,32,43],\n",
    "          [54,65,76],\n",
    "          [87,98,91]]])\n",
    "\n",
    "print(array)"
   ]
  },
  {
   "cell_type": "code",
   "execution_count": 77,
   "id": "09f663dc-fab4-44da-a372-d077abc985e2",
   "metadata": {},
   "outputs": [
    {
     "name": "stdout",
     "output_type": "stream",
     "text": [
      "12\n"
     ]
    }
   ],
   "source": [
    "print(array[0,0,0]) # first element of first matrix"
   ]
  },
  {
   "cell_type": "code",
   "execution_count": 79,
   "id": "ab60c1af-88a7-46e2-977d-bc58e93b5d27",
   "metadata": {},
   "outputs": [
    {
     "name": "stdout",
     "output_type": "stream",
     "text": [
      "91\n"
     ]
    }
   ],
   "source": [
    "print(array[1,2,2])"
   ]
  },
  {
   "cell_type": "code",
   "execution_count": null,
   "id": "92e1aa39-d7a9-4318-a6f1-e516edd19db0",
   "metadata": {},
   "outputs": [],
   "source": []
  }
 ],
 "metadata": {
  "kernelspec": {
   "display_name": "Python 3 (ipykernel)",
   "language": "python",
   "name": "python3"
  },
  "language_info": {
   "codemirror_mode": {
    "name": "ipython",
    "version": 3
   },
   "file_extension": ".py",
   "mimetype": "text/x-python",
   "name": "python",
   "nbconvert_exporter": "python",
   "pygments_lexer": "ipython3",
   "version": "3.12.5"
  }
 },
 "nbformat": 4,
 "nbformat_minor": 5
}

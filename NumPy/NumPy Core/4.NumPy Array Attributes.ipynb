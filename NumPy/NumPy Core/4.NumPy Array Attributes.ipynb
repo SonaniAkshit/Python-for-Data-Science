{
 "cells": [
  {
   "cell_type": "markdown",
   "id": "03f0d697-5069-4ee2-b20e-d50c815170d9",
   "metadata": {},
   "source": [
    "# NumPy Array Attributes\n",
    "In NumPy, attributes are properties of NumPy arrays that provide information about the array's shape, size, data type, dimension, and so on.\n",
    "\n",
    "For example, to get the dimension of an array, we can use the `ndim` attribute.\n",
    "\n",
    "Here are some of the commonly used NumPy attributes:\n",
    "\n",
    "| **Attribute** | **Description** |\n",
    "|---------------|------------------|\n",
    "| `ndim`        | Returns number of dimensions of the array |\n",
    "| `size`        | Returns number of elements in the array |\n",
    "| `dtype`       | Returns data type of elements in the array |\n",
    "| `shape`       | Returns the size of the array in each dimension |\n",
    "| `itemsize`    | Returns the size (in bytes) of each element in the array |\n",
    "| `data`        | Returns the buffer containing actual elements of the array in memory |\n"
   ]
  },
  {
   "cell_type": "code",
   "execution_count": 1,
   "id": "f3b0d431-8b56-4b68-9a5c-cfc8e31695c3",
   "metadata": {},
   "outputs": [],
   "source": [
    "import numpy as np"
   ]
  },
  {
   "cell_type": "markdown",
   "id": "19771206-65e3-44e1-9b5a-c7bad7fa9c8a",
   "metadata": {},
   "source": [
    "---\n",
    "### ✅ **1. `array.ndim`** → Number of dimensions\n",
    "\n",
    "The `ndim` attribute returns the number of dimensions in the numpy array."
   ]
  },
  {
   "cell_type": "code",
   "execution_count": 6,
   "id": "44a50d6c-e99f-4bc7-b8e2-9e3d8375a692",
   "metadata": {},
   "outputs": [
    {
     "name": "stdout",
     "output_type": "stream",
     "text": [
      "[[1 2 3]\n",
      " [4 5 6]]\n",
      "Number of Dimensions: 2\n"
     ]
    }
   ],
   "source": [
    "array = np.array([[1,2,3],[4,5,6]])\n",
    "print(array)\n",
    "print(f\"Number of Dimensions: {array.ndim}\")"
   ]
  },
  {
   "cell_type": "markdown",
   "id": "5366f141-4480-4961-b36c-6cbe29d0fb25",
   "metadata": {},
   "source": [
    "---\n",
    "### ✅ **2. `array.shape`** → Tuple representing array dimensions\n",
    "\n",
    "In NumPy, the `shape` attribute returns a tuple of integers that gives the size of the array in each dimension."
   ]
  },
  {
   "cell_type": "code",
   "execution_count": 14,
   "id": "195068e9-22b1-47e2-8dc3-39993873dd93",
   "metadata": {},
   "outputs": [
    {
     "name": "stdout",
     "output_type": "stream",
     "text": [
      "[[1 2 3]\n",
      " [4 5 6]]\n",
      "size of the array in each dimension: (2, 3)\n"
     ]
    }
   ],
   "source": [
    "array = np.array([[1,2,3],[4,5,6]])\n",
    "print(array)\n",
    "print(f\"size of the array in each dimension: {array.shape}\")"
   ]
  },
  {
   "cell_type": "markdown",
   "id": "d35cb05d-741d-4f41-af7d-a2c4d07e5181",
   "metadata": {},
   "source": [
    "---\n",
    "### ✅ **3. `array.size`** → Total number of elements\n",
    "\n",
    "The `size` attribute returns the total number of elements in the given array."
   ]
  },
  {
   "cell_type": "code",
   "execution_count": 17,
   "id": "2c1dc524-9d1b-4c7d-b6f4-6d5f060a1fd7",
   "metadata": {},
   "outputs": [
    {
     "name": "stdout",
     "output_type": "stream",
     "text": [
      "[[1 3 4]\n",
      " [7 2 5]]\n",
      "number of elements in the given array: 6\n"
     ]
    }
   ],
   "source": [
    "array = np.array([[1,3,4],[7,2,5]])\n",
    "print(array)\n",
    "print(f\"number of elements in the given array: {array.size}\")"
   ]
  },
  {
   "cell_type": "markdown",
   "id": "af01d126-fd4f-4ac7-8544-7fd7ed80b982",
   "metadata": {},
   "source": [
    "### ✅ **4. `array.dtype`** → Data type of elements\n",
    "We can use the `dtype` attribute to check the datatype of a NumPy array."
   ]
  },
  {
   "cell_type": "code",
   "execution_count": 20,
   "id": "7df8a06c-536d-4aeb-851a-85676f138c5d",
   "metadata": {},
   "outputs": [
    {
     "name": "stdout",
     "output_type": "stream",
     "text": [
      "[[2 6 3]\n",
      " [9 5 3]]\n",
      "datatype of a NumPy array: int64\n"
     ]
    }
   ],
   "source": [
    "array = np.array([[2,6,3],[9,5,3]])\n",
    "print(array)\n",
    "print(f\"datatype of a NumPy array: {array.dtype}\")"
   ]
  },
  {
   "cell_type": "markdown",
   "id": "ee695ef7-b4c6-42ed-b342-2a765ba63477",
   "metadata": {},
   "source": [
    "### ✅ **5. `array.itemsize`** → Size (in bytes) of each element\n",
    "In NumPy, the `itemsize` attribute determines size (in bytes) of each element in the array. "
   ]
  },
  {
   "cell_type": "code",
   "execution_count": 25,
   "id": "b0b2865a-9e35-49c1-80cd-36832766d594",
   "metadata": {},
   "outputs": [
    {
     "name": "stdout",
     "output_type": "stream",
     "text": [
      "[78 54 23 45]\n",
      "size (in bytes) of each element in the array: 8\n"
     ]
    }
   ],
   "source": [
    "array = np.array([78,54,23,45])\n",
    "print(array)\n",
    "print(f\"size (in bytes) of each element in the array: {array.itemsize}\")"
   ]
  },
  {
   "cell_type": "markdown",
   "id": "4b013706-c0b3-4338-a6fc-f7a768750d88",
   "metadata": {},
   "source": [
    "---\n",
    "\n",
    "### ✅ **6. `array.nbytes`** → Total memory (in bytes) consumed\n"
   ]
  },
  {
   "cell_type": "code",
   "execution_count": 26,
   "id": "96cc0f4b-d18d-4ec2-9d04-3dc7416b0cf8",
   "metadata": {},
   "outputs": [
    {
     "name": "stdout",
     "output_type": "stream",
     "text": [
      "[45 34 23 12]\n",
      "Total memory (in bytes) consumed: 32\n"
     ]
    }
   ],
   "source": [
    "array = np.array([45,34,23,12])\n",
    "print(array)\n",
    "print(f\"Total memory (in bytes) consumed: {array.nbytes}\")"
   ]
  },
  {
   "cell_type": "markdown",
   "id": "609e7409-65b3-4dd3-99f6-280de621a37f",
   "metadata": {},
   "source": [
    "---\n",
    "\n",
    "### ✅ **7. `array.T`** → Transpose of array\n"
   ]
  },
  {
   "cell_type": "code",
   "execution_count": 34,
   "id": "a1a6827f-dcb0-4a6a-a3d2-322f22f1bf49",
   "metadata": {},
   "outputs": [
    {
     "name": "stdout",
     "output_type": "stream",
     "text": [
      "[[43 23 65 78]\n",
      " [32 67 54 12]]\n",
      "Transpose of array:\n",
      "[[43 32]\n",
      " [23 67]\n",
      " [65 54]\n",
      " [78 12]]\n"
     ]
    }
   ],
   "source": [
    "array = np.array([[43,23,65,78],[32,67,54,12]])\n",
    "print(array)\n",
    "print(f\"Transpose of array:\")\n",
    "print(array.T)"
   ]
  },
  {
   "cell_type": "markdown",
   "id": "8c9d31e0-9f57-41aa-bdf5-278815aff694",
   "metadata": {},
   "source": [
    "---\n",
    "\n",
    "### ✅ **8. `array.data`** → returns the buffer containing actual elements of the array in memory\n"
   ]
  },
  {
   "cell_type": "code",
   "execution_count": 38,
   "id": "4e9a50e9-2cb8-445f-9a20-2b89e7fb7f61",
   "metadata": {},
   "outputs": [
    {
     "name": "stdout",
     "output_type": "stream",
     "text": [
      "[[2 6 4]\n",
      " [4 2 6]]\n",
      "<memory at 0x0000026D429ED7D0>\n"
     ]
    }
   ],
   "source": [
    "array = np.array([[2,6,4],[4,2,6]])\n",
    "print(array)\n",
    "print(array.data)"
   ]
  }
 ],
 "metadata": {
  "kernelspec": {
   "display_name": "Python 3 (ipykernel)",
   "language": "python",
   "name": "python3"
  },
  "language_info": {
   "codemirror_mode": {
    "name": "ipython",
    "version": 3
   },
   "file_extension": ".py",
   "mimetype": "text/x-python",
   "name": "python",
   "nbconvert_exporter": "python",
   "pygments_lexer": "ipython3",
   "version": "3.12.5"
  }
 },
 "nbformat": 4,
 "nbformat_minor": 5
}

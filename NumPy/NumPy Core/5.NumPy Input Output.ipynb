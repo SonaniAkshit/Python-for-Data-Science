{
 "cells": [
  {
   "cell_type": "markdown",
   "id": "f377140b-233e-4e82-9425-b933966891a7",
   "metadata": {},
   "source": [
    "# NumPy Input Output\n",
    "NumPy offers input/output (I/O) functions for loading and saving data to and from files.\n",
    "\n",
    "Input/output functions support a variety of file formats, including binary and text formats.\n",
    "\n",
    "- The binary format is designed for efficient storage and retrieval of large arrays.\n",
    "- The text format is more human-readable and can be easily edited in a text editor.\n",
    "\n",
    "#### ✅ NumPy Input/Output Functions Table\n",
    "| **Function**           | **Description**                                   | **Example / Output**                                   |\n",
    "|------------------------|---------------------------------------------------|---------------------------------------------------------|\n",
    "| `np.save()`            | Saves a NumPy array to a `.npy` binary file       | `np.save('data.npy', arr)` → Creates `data.npy`         |\n",
    "| `np.load()`            | Loads a `.npy` file back into a NumPy array       | `np.load('data.npy')` → Returns the saved array         |\n",
    "| `np.savetxt()`         | Saves array to a text file (e.g., CSV or TXT)     | `np.savetxt('data.txt', arr)` → Creates plain text file |\n",
    "| `np.loadtxt()`         | Loads data from a text file into NumPy array      | `np.loadtxt('data.txt')` → Returns the loaded array     |\n",
    "| `np.genfromtxt()`      | Loads data from text file with missing values     | Handles NaNs: `np.genfromtxt('data.csv', delimiter=',')`|\n",
    "| `np.fromfile()`        | Reads data from a binary or text file             | `np.fromfile('data.bin', dtype=float)`                  |\n",
    "| `np.tofile()`          | Writes array to a binary or text file             | `arr.tofile('data.bin')`                                |\n"
   ]
  },
  {
   "cell_type": "code",
   "execution_count": 1,
   "id": "88665374-6608-4ee6-ac73-a6cf6394c227",
   "metadata": {},
   "outputs": [],
   "source": [
    "import numpy as np"
   ]
  },
  {
   "cell_type": "markdown",
   "id": "c08c52c2-27d9-4027-8b48-f260a41faef2",
   "metadata": {},
   "source": [
    "---\n",
    "\n",
    "### ✅ 1. `np.save()`\n",
    "\n",
    "**Save array to `.npy` binary file**\n",
    "\n",
    "Here’s a full explanation of the **`np.save()`** function in NumPy — including its signature, parameters, and example use cases:\n",
    "\n",
    "Used to **save a NumPy array to a `.npy` binary file** — much faster and more compact than saving to a text file.\n",
    "\n",
    "\n",
    "### 🔧 **Signature:**\n",
    "\n",
    "```python\n",
    "np.save(file, arr, allow_pickle=True, fix_imports=<no value>)\n",
    "```\n",
    "\n",
    "## 🔍 **Explanation of Parameters:**\n",
    "\n",
    "| **Parameter**  | **Type**                      | **Description**                                                                                                                  |\n",
    "| -------------- | ----------------------------- | -------------------------------------------------------------------------------------------------------------------------------- |\n",
    "| `file`         | str or file object            | Filename or path where array is saved (e.g. `'data.npy'`). Extension `.npy` is added automatically if not given.                 |\n",
    "| `arr`          | ndarray                       | The NumPy array to be saved                                                                                                      |\n",
    "| `allow_pickle` | bool (default=True)           | If True, allows saving object arrays using Python pickles. If False, raises error for object data (e.g. strings, custom objects) |\n",
    "| `fix_imports`  | bool (default=True if needed) | Used only in Python 2/3 compatibility when using pickle. Usually not needed by users today                                       |\n",
    "\n",
    "## 📦 **Binary Format (.npy):**\n",
    "\n",
    "* Compact, fast, and keeps the data type and shape.\n",
    "* Can store any NumPy array (1D, 2D, structured, complex).\n",
    "\n",
    "You **must keep `allow_pickle=True`** if saving or loading object data like:\n",
    "\n",
    "* Strings\n",
    "* Lists inside arrays\n",
    "* Custom Python objects"
   ]
  },
  {
   "cell_type": "code",
   "execution_count": 21,
   "id": "e04fb028-94fd-4a96-94eb-e32c745fd4db",
   "metadata": {},
   "outputs": [],
   "source": [
    "arr = np.array([1, 2, 3, 4, 5])\n",
    "np.save('my_array.npy', arr)"
   ]
  },
  {
   "cell_type": "markdown",
   "id": "b408b9ea-1b9d-4616-bed2-d29997217345",
   "metadata": {},
   "source": [
    "📝 Creates a binary file named **`my_array.npy`**.\n",
    "\n",
    "---\n",
    "\n",
    "### ✅ 2. `np.load()`\n",
    "\n",
    "**Load array back from `.npy` file**"
   ]
  },
  {
   "cell_type": "code",
   "execution_count": 22,
   "id": "b46f8f0c-d63e-4918-8d06-af0c5b8cba1b",
   "metadata": {},
   "outputs": [
    {
     "name": "stdout",
     "output_type": "stream",
     "text": [
      "[1 2 3 4 5]\n"
     ]
    }
   ],
   "source": [
    "loade_array = np.load('my_array.npy')\n",
    "print(loade_array)"
   ]
  },
  {
   "cell_type": "markdown",
   "id": "ae3d8f23-5557-4256-85ae-57cb1e933511",
   "metadata": {},
   "source": [
    "---\n",
    "\n",
    "## 3. `np.savetxt()` — **Function to Save NumPy Arrays to a Text File**\n",
    "\n",
    "### 🔧 **Function Signature:**\n",
    "\n",
    "```python\n",
    "np.savetxt(\n",
    "    fname,\n",
    "    X,\n",
    "    fmt='%.18e',\n",
    "    delimiter=' ',\n",
    "    newline='\\n',\n",
    "    header='',\n",
    "    footer='',\n",
    "    comments='# ',\n",
    "    encoding=None,\n",
    ")\n",
    "```\n",
    "\n",
    "Here’s a complete explanation of the **`np.savetxt()` function signature**, its parameters, meaning, and usage — clearly laid out for beginners.\n",
    "\n",
    "---\n",
    "\n",
    "## 🔍 Explanation of Parameters:\n",
    "\n",
    "| **Parameter** | **Meaning**                         | **Use / Example**                                                                  |\n",
    "| ------------- | ----------------------------------- | ---------------------------------------------------------------------------------- |\n",
    "| `fname`       | Filename or file handle             | `'data.txt'` or `'data.csv'` or an open file object                                |\n",
    "| `X`           | Array to save                       | Can be 1D or 2D NumPy array                                                        |\n",
    "| `fmt`         | Format of each element              | `'%.2f'` (float), `'%d'` (int), `'%s'` (string) <br> Example: `fmt='%s'` for names |\n",
    "| `delimiter`   | Separator between columns           | `' '` (default), `','` for CSV, `'\\t'` for TSV                                     |\n",
    "| `newline`     | String to end each line             | Default is `'\\n'`, can be `'\\r\\n'` for Windows                                     |\n",
    "| `header`      | Text to write at the top of file    | Example: `header='Index,Name'`                                                     |\n",
    "| `footer`      | Text to write at the bottom of file | Example: `footer='-- End of file --'`                                              |\n",
    "| `comments`    | Prefix for header/footer lines      | Default is `'# '`. Use `comments=''` to remove the hash                            |\n",
    "| `encoding`    | File encoding (Python 3 only)       | `'utf-8'` (default), `'ascii'`, etc. For non-ASCII characters                      |\n",
    "\n",
    "---\n",
    "\n",
    "## 💡 Examples:\n",
    "\n",
    "### ➤ Save numbers with 2 decimal places:\n",
    "\n",
    "```python\n",
    "np.savetxt('data.txt', arr, fmt='%.2f')\n",
    "```\n",
    "\n",
    "### ➤ Save with comma delimiter (CSV format):\n",
    "\n",
    "```python\n",
    "np.savetxt('data.csv', arr, delimiter=',', fmt='%d')\n",
    "```\n",
    "\n",
    "### ➤ Save names with a header and no comment symbol:\n",
    "\n",
    "```python\n",
    "np.savetxt('students.csv', names, fmt='%s', header='Name', comments='', delimiter=',')\n",
    "```\n",
    "\n",
    "---\n",
    "\n",
    "## 📌 Notes:\n",
    "\n",
    "* `np.savetxt()` is mainly for saving **text files** (not binary).\n",
    "* For more complex files (like Excel), use **Pandas** or other libraries.\n",
    "* For saving and loading large structured arrays, use `np.save()` / `np.load()`."
   ]
  },
  {
   "cell_type": "code",
   "execution_count": 27,
   "id": "b9f3c764-e6a0-4161-97b3-3540166e080f",
   "metadata": {},
   "outputs": [],
   "source": [
    "array = np.array([[2,5,4],[8,5,8]])\n",
    "np.savetxt('number.csv',array,fmt='%d',header='Numbers')"
   ]
  },
  {
   "cell_type": "code",
   "execution_count": 24,
   "id": "d60f9ad5-96da-4b22-b537-69b628325f4f",
   "metadata": {},
   "outputs": [],
   "source": [
    "names = np.array(['akshit', 'hardik', 'sunny'])\n",
    "index = np.arange(len(names))\n",
    "data = np.column_stack((index, names))\n",
    "np.savetxt('Studentdata.csv', data, fmt='%s', header='Index,Student Name', comments='', delimiter=',')"
   ]
  },
  {
   "cell_type": "code",
   "execution_count": 25,
   "id": "d915af5f-320a-4141-907d-977655cacee3",
   "metadata": {},
   "outputs": [],
   "source": [
    "array = np.array([[1,5,7],[9,5,3]])\n",
    "np.savetxt('data.txt',array,fmt='%d')"
   ]
  },
  {
   "cell_type": "markdown",
   "id": "b77eb48c-97d1-489a-8f8e-9e4e88750cc7",
   "metadata": {},
   "source": [
    "---\n",
    "\n",
    "### ✅ 4. `np.loadtxt()`\n",
    "\n",
    "**Load array from a text file**"
   ]
  },
  {
   "cell_type": "code",
   "execution_count": 29,
   "id": "bc75708c-0c75-4e29-a086-a70d7722dc9f",
   "metadata": {},
   "outputs": [
    {
     "name": "stdout",
     "output_type": "stream",
     "text": [
      "[[2 5 4]\n",
      " [8 5 8]]\n"
     ]
    }
   ],
   "source": [
    "load_csv = np.loadtxt('number.csv',dtype=int)\n",
    "print(load_csv)"
   ]
  },
  {
   "cell_type": "code",
   "execution_count": 33,
   "id": "0719ee9a-447b-46c4-8d4b-02ffb2c76e0b",
   "metadata": {},
   "outputs": [
    {
     "name": "stdout",
     "output_type": "stream",
     "text": [
      "[['0' 'akshit']\n",
      " ['1' 'hardik']\n",
      " ['2' 'sunny']]\n"
     ]
    }
   ],
   "source": [
    "load_csv = np.loadtxt('Studentdata.csv', dtype=str, delimiter=',', skiprows=1) # Use skiprows=1 to skip the first line (header)\n",
    "print(load_csv)"
   ]
  },
  {
   "cell_type": "code",
   "execution_count": 35,
   "id": "ab76a239-207d-410d-9213-e43425cbe3b2",
   "metadata": {},
   "outputs": [
    {
     "name": "stdout",
     "output_type": "stream",
     "text": [
      "[[1 5 7]\n",
      " [9 5 3]]\n"
     ]
    }
   ],
   "source": [
    "load_txt = np.loadtxt('data.txt',dtype=int)\n",
    "print(load_txt)"
   ]
  },
  {
   "cell_type": "markdown",
   "id": "3d3ccec7-9c99-4f2e-a000-36abcdbb1cd3",
   "metadata": {},
   "source": [
    "---\n",
    "\n",
    "### ✅ 5. `np.genfromtxt()`\n",
    "\n",
    "**Load from text with missing values**\n"
   ]
  },
  {
   "cell_type": "code",
   "execution_count": 59,
   "id": "f6e65b79-459a-4d13-bbf8-ed473a8e4f33",
   "metadata": {},
   "outputs": [],
   "source": [
    "array = np.array([[1,3,np.nan],[1,np.nan,3],[5,6,7]],dtype=object)\n",
    "np.savetxt('data_with_missing.txt',array) # save the data"
   ]
  },
  {
   "cell_type": "code",
   "execution_count": 60,
   "id": "0dea92b7-2c9b-4b99-93f6-559abf54d834",
   "metadata": {},
   "outputs": [
    {
     "name": "stdout",
     "output_type": "stream",
     "text": [
      "[[ 1.  3. nan]\n",
      " [ 1. nan  3.]]\n"
     ]
    }
   ],
   "source": [
    "array = np.genfromtxt('data_with_missing.csv',defaultfmt=',') #Load from csv with missing values\n",
    "print(array)"
   ]
  },
  {
   "cell_type": "code",
   "execution_count": 61,
   "id": "366eafb2-dcad-4e25-a8a0-7d51d00d9e54",
   "metadata": {},
   "outputs": [
    {
     "name": "stdout",
     "output_type": "stream",
     "text": [
      "[[ 1.  3. nan]\n",
      " [ 1. nan  3.]\n",
      " [ 5.  6.  7.]]\n"
     ]
    }
   ],
   "source": [
    "array = np.genfromtxt('data_with_missing.txt',defaultfmt=',') #Load from txt with missing values\n",
    "print(array)"
   ]
  },
  {
   "cell_type": "markdown",
   "id": "df99a55c-ab2b-4a33-8563-03a7f144a945",
   "metadata": {},
   "source": [
    "---\n",
    "### ✅ 6. `np.tofile()`\n",
    "\n",
    "**Write array to binary file**\n"
   ]
  },
  {
   "cell_type": "code",
   "execution_count": 68,
   "id": "6adfca91-b0ab-4d59-a832-ab399e0d4478",
   "metadata": {},
   "outputs": [],
   "source": [
    "array = np.array([[100,200,300]],dtype=int)\n",
    "array.tofile('binary_data.bin')"
   ]
  },
  {
   "cell_type": "markdown",
   "id": "119e5649-8cb4-4470-8952-569e68186744",
   "metadata": {},
   "source": [
    "\n",
    "📝 Creates **`binary_data.bin`** (not human-readable, used for raw storage).\n",
    "\n",
    "---\n",
    "\n",
    "### ✅ 7. `np.fromfile()`\n",
    "\n",
    "**Read array from binary file**\n"
   ]
  },
  {
   "cell_type": "code",
   "execution_count": 69,
   "id": "d2da7d79-efe7-44f8-8b4a-ed913e9417d5",
   "metadata": {},
   "outputs": [
    {
     "name": "stdout",
     "output_type": "stream",
     "text": [
      "[100 200 300]\n"
     ]
    }
   ],
   "source": [
    "array_loaded = np.fromfile('binary_data.bin',dtype=int)\n",
    "print(array_loaded)"
   ]
  }
 ],
 "metadata": {
  "kernelspec": {
   "display_name": "Python 3 (ipykernel)",
   "language": "python",
   "name": "python3"
  },
  "language_info": {
   "codemirror_mode": {
    "name": "ipython",
    "version": 3
   },
   "file_extension": ".py",
   "mimetype": "text/x-python",
   "name": "python",
   "nbconvert_exporter": "python",
   "pygments_lexer": "ipython3",
   "version": "3.12.5"
  }
 },
 "nbformat": 4,
 "nbformat_minor": 5
}

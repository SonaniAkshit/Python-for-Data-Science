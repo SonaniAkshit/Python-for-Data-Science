{
 "cells": [
  {
   "cell_type": "markdown",
   "id": "f64a4e77-67f5-44d1-b38a-953a9eaba6ef",
   "metadata": {},
   "source": [
    "# Introduction to NumPy\n",
    "\n",
    "NumPy is a Python library created in **2005** that performs numerical calculations. It is generally used for working with arrays.\n",
    "\n",
    "NumPy also includes a wide range of mathematical functions, such as **linear algebra**, **Fourier transforms**, and **random number generation**, which can be applied to arrays.\n",
    "\n",
    "## What is NumPy Used for?\n",
    "NumPy is an important library generally used for:\n",
    "\n",
    "- Machine Learning\n",
    "- Data Science\n",
    "- Image and Signal Processing\n",
    "- Scientific Computing\n",
    "- Quantum Computing\n",
    "\n",
    "## Why Use NumPy?\n",
    "Some of the major reasons why we should use NumPy are:\n",
    "\n",
    "###### 1. Faster Execution\n",
    "\n",
    "In Python, we use lists to work with arrays. But when it comes to large array operations, Python lists are not optimized enough.\n",
    "\n",
    "Numpy arrays are optimized for complex mathematical and statistical operations. Operations on **NumPy are up to 50x faster** than iterating over native Python lists using loops.\n",
    "\n",
    "Here're some of the reasons why NumPy is so fast:\n",
    "\n",
    "- Uses specialized data structures called numpy arrays.\n",
    "- Created using high-performance languages like C and C++.\n",
    "\n",
    "###### 2. Used with Various Libraries\n",
    "NumPy is heavily used with various libraries like **Pandas**, **Scipy**, **scikit-learn**, etc.\n",
    "\n",
    "## Import NumPy in Python\n",
    "We can import NumPy in Python using the `import` statement."
   ]
  },
  {
   "cell_type": "code",
   "execution_count": 2,
   "id": "aaa9c8c9-7865-4822-a5f2-1a953afc09fb",
   "metadata": {},
   "outputs": [],
   "source": [
    "import numpy"
   ]
  },
  {
   "cell_type": "code",
   "execution_count": 3,
   "id": "adf00eaa-7f10-4c8f-a4c7-b780f0c1640d",
   "metadata": {},
   "outputs": [],
   "source": [
    "import numpy as np "
   ]
  },
  {
   "cell_type": "markdown",
   "id": "90d88dd0-387b-42e8-ab86-d13645e297ab",
   "metadata": {},
   "source": [
    "The code above imports the `numpy` library in our program as an alias `np`.\n",
    "\n",
    "After this import statement, we can use NumPy functions and objects by calling them with `np`."
   ]
  },
  {
   "cell_type": "code",
   "execution_count": null,
   "id": "8065f0fc-758e-4ece-8722-05ba63f85962",
   "metadata": {},
   "outputs": [],
   "source": []
  }
 ],
 "metadata": {
  "kernelspec": {
   "display_name": "Python 3 (ipykernel)",
   "language": "python",
   "name": "python3"
  },
  "language_info": {
   "codemirror_mode": {
    "name": "ipython",
    "version": 3
   },
   "file_extension": ".py",
   "mimetype": "text/x-python",
   "name": "python",
   "nbconvert_exporter": "python",
   "pygments_lexer": "ipython3",
   "version": "3.12.5"
  }
 },
 "nbformat": 4,
 "nbformat_minor": 5
}

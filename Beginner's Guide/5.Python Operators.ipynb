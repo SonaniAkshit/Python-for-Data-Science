{
 "cells": [
  {
   "metadata": {},
   "cell_type": "markdown",
   "source": [
    "# 🐍 Python Operators\n",
    "\n",
    "Operators are symbols that perform operations on variables and values,\n",
    "Python divides the operators into the following groups:\n",
    "\n",
    "- ➕ Arithmetic operators\n",
    "- 📝 Assignment operators\n",
    "- 🧮 Comparison operators\n",
    "- 🔗 Logical operators\n",
    "- 🆔 Identity operators\n",
    "- 🔍 Membership operators\n",
    "- 🧠 Bitwise operators\n",
    "\n",
    "---\n",
    "\n",
    "## ➕ Arithmetic Operators\n",
    "\n",
    "Arithmetic operators are used with numeric values to perform common mathematical operations:\n",
    "\n",
    "| Operator | Name            | Example   |\n",
    "|----------|-----------------|-----------|\n",
    "| `+`      | ➕ Addition        | `x + y`   |\n",
    "| `-`      | ➖ Subtraction     | `x - y`   |\n",
    "| `*`      | ✖️ Multiplication  | `x * y`   |\n",
    "| `/`      | ➗ Division        | `x / y`   |\n",
    "| `%`      | 🧮 Modulus         | `x % y`   |\n",
    "| `**`     | 🧠 Exponentiation  | `x ** y`  |\n",
    "| `//`     | 🔽 Floor Division  | `x // y`  |\n",
    "\n",
    "---"
   ],
   "id": "30391cfd47a5a31f"
  },
  {
   "metadata": {
    "ExecuteTime": {
     "end_time": "2025-06-25T07:12:51.432495Z",
     "start_time": "2025-06-25T07:12:51.418197Z"
    }
   },
   "cell_type": "code",
   "source": [
    "x = 10\n",
    "y = 20\n",
    "\n",
    "print(f\"Addition of {x}+{y}={x+y}\")\n",
    "print(f\"Subtraction of {x}-{y}={x-y}\")\n",
    "print(f\"Multiplication of {x}*{y}={x*y}\")\n",
    "print(f\"division of {x}/{y}={x/y}\")\n",
    "print(f\"Modulus of {x}%{y}={x%y}\")\n",
    "print(f\"Exponentiation of {x}**{y}={x**y}\")\n",
    "print(f\"Floor Division of {x}//{y}={x//y}\")"
   ],
   "id": "308cb49d3c6c5d0a",
   "outputs": [
    {
     "name": "stdout",
     "output_type": "stream",
     "text": [
      "Addition of 10+20=30\n",
      "Subtraction of 10-20=-10\n",
      "Multiplication of 10*20=200\n",
      "division of 10/20=0.5\n",
      "Modulus of 10%20=10\n",
      "Exponentiation of 10**20=100000000000000000000\n",
      "Floor Division of 10//20=0\n"
     ]
    }
   ],
   "execution_count": 8
  },
  {
   "metadata": {},
   "cell_type": "markdown",
   "source": [
    "## 📝 Assignment Operators\n",
    "\n",
    "Assignment operators are used to assign values to variables:\n",
    "\n",
    "| Operator | Example         | Same As         |\n",
    "|----------|-----------------|-----------------|\n",
    "| `=`      | `x = 5`         | `x = 5`         |\n",
    "| `+=`     | `x += 3`        | `x = x + 3`     |\n",
    "| `-=`     | `x -= 3`        | `x = x - 3`     |\n",
    "| `*=`     | `x *= 3`        | `x = x * 3`     |\n",
    "| `/=`     | `x /= 3`        | `x = x / 3`     |\n",
    "| `%=`     | `x %= 3`        | `x = x % 3`     |\n",
    "| `//=`    | `x //= 3`       | `x = x // 3`    |\n",
    "| `**=`    | `x **= 3`       | `x = x ** 3`    |\n",
    "| `&=`     | `x &= 3`        | `x = x & 3`     |\n",
    "| `^=`     | `x ^= 3`        | `x = x ^ 3`     |\n",
    "| `>>=`    | `x >>= 3`       | `x = x >> 3`    |\n",
    "| `<<=`    | `x <<= 3`       | `x = x << 3`    |\n",
    "| `:=`     | `print(x := 3)` | `x = 3; print(x)` |\n",
    "\n",
    "---"
   ],
   "id": "1c2d0e445bcb2f63"
  },
  {
   "metadata": {},
   "cell_type": "markdown",
   "source": [
    "\n",
    "## 🧮 Comparison Operators\n",
    "\n",
    "Comparison operators are used to compare two values:\n",
    "\n",
    "| Operator | Name                        | Example    |\n",
    "|----------|-----------------------------|------------|\n",
    "| `==`     | ✅ Equal                       | `x == y`   |\n",
    "| `!=`     | ❌ Not equal                   | `x != y`   |\n",
    "| `>`      | ➕ Greater than                | `x > y`    |\n",
    "| `<`      | ➖ Less than                   | `x < y`    |\n",
    "| `>=`     | 🔼 Greater than or equal to    | `x >= y`   |\n",
    "| `<=`     | 🔽 Less than or equal to       | `x <= y`   |\n",
    "\n",
    "---"
   ],
   "id": "2ee0a499e5a1504d"
  },
  {
   "metadata": {
    "ExecuteTime": {
     "end_time": "2025-06-25T07:26:53.715731Z",
     "start_time": "2025-06-25T07:26:53.706085Z"
    }
   },
   "cell_type": "code",
   "source": [
    "x = 10\n",
    "y = 10\n",
    "\n",
    "print(f\"x={x}\")\n",
    "print(f\"y={y}\")\n",
    "print()\n",
    "print(f\"x==y: {x==y}\")\n",
    "print(f\"x!=y: {x!=y}\")\n",
    "print(f\"x>y: {x>y}\")\n",
    "print(f\"x<y: {x<y}\")\n",
    "print(f\"x>=y: {x>=y}\")\n",
    "print(f\"x<=y: {x<=y}\")"
   ],
   "id": "ad7494aed8acc049",
   "outputs": [
    {
     "name": "stdout",
     "output_type": "stream",
     "text": [
      "x=10\n",
      "y=10\n",
      "\n",
      "x==y: True\n",
      "x!=y: False\n",
      "x>y: False\n",
      "x<y: False\n",
      "x>=y: True\n",
      "x<=y: True\n"
     ]
    }
   ],
   "execution_count": 27
  },
  {
   "metadata": {},
   "cell_type": "markdown",
   "source": [
    "## 🔗 Logical Operators\n",
    "\n",
    "Logical operators are used to combine conditional statements:\n",
    "\n",
    "| Operator | Description                                 | Example                 |\n",
    "|----------|---------------------------------------------|-------------------------|\n",
    "| `and`    | ✅ True if both statements are true          | `x < 5 and y < 10`      |\n",
    "| `or`     | ✅ True if at least one statement is true    | `x < 5 or y < 4`        |\n",
    "| `not`    | 🔄 Reverses the result                       | `not(x < 5 and y < 10)` |\n",
    "\n",
    "Here’s a clear and simple **truth table** for Python's three logical operators: `and`, `or`, and `not`.\n",
    "\n",
    "---\n",
    "\n",
    "## 🔢 Truth Tables for Logical Operators\n",
    "\n",
    "### ✅ `and` Operator\n",
    "\n",
    "| A     | B     | A and B |\n",
    "| ----- | ----- | ------- |\n",
    "| True  | True  | True    |\n",
    "| True  | False | False   |\n",
    "| False | True  | False   |\n",
    "| False | False | False   |\n",
    "\n",
    "---\n",
    "\n",
    "### ✅ `or` Operator\n",
    "\n",
    "| A     | B     | A or B |\n",
    "| ----- | ----- | ------ |\n",
    "| True  | True  | True   |\n",
    "| True  | False | True   |\n",
    "| False | True  | True   |\n",
    "| False | False | False  |\n",
    "\n",
    "---\n",
    "\n",
    "### 🔄 `not` Operator\n",
    "\n",
    "| A     | not A |\n",
    "| ----- | ----- |\n",
    "| True  | False |\n",
    "| False | True  |\n",
    "\n",
    "---\n"
   ],
   "id": "d3495136ea25b3ff"
  },
  {
   "metadata": {
    "ExecuteTime": {
     "end_time": "2025-06-25T07:44:26.937727Z",
     "start_time": "2025-06-25T07:44:26.925446Z"
    }
   },
   "cell_type": "code",
   "source": [
    "x = 7\n",
    "y = 12\n",
    "\n",
    "print(f\"x = {x}, y = {y}\")\n",
    "print()\n",
    "# AND Operator ✅ (True if both are True)\n",
    "print(\"AND Example:\")\n",
    "print(f\"(x > 5 and y > 10): {x > 5 and y > 10}\")  # True and True = True\n",
    "print(f\"(x < 5 and y > 10): {x < 5 and y > 10}\")  # False and True = False\n",
    "print()\n",
    "\n",
    "# OR Operator ✅ (True if at least one is True)\n",
    "print(\"OR Example:\")\n",
    "print(f\"(x < 5 or y > 10): {x < 5 or y > 10}\")    # False or True = True\n",
    "print(f\"(x < 5 or y < 10): {x < 5 or y < 10}\")    # False or False = False\n",
    "print()\n",
    "\n",
    "# NOT Operator 🔄 (Reverses the result)\n",
    "print(\"NOT Example:\")\n",
    "print(f\"not(x > 5 and y > 10): {not(x > 5 and y > 10)}\")  # not(True) = False\n",
    "print(f\"not(x < 5 or y < 10): {not(x < 5 or y < 10)}\")    # not(False) =\" True\n"
   ],
   "id": "d25336269f3ab191",
   "outputs": [
    {
     "name": "stdout",
     "output_type": "stream",
     "text": [
      "x = 7, y = 12\n",
      "\n",
      "AND Example:\n",
      "(x > 5 and y > 10): True\n",
      "(x < 5 and y > 10): False\n",
      "\n",
      "OR Example:\n",
      "(x < 5 or y > 10): True\n",
      "(x < 5 or y < 10): False\n",
      "\n",
      "NOT Example:\n",
      "not(x > 5 and y > 10): False\n",
      "not(x < 5 or y < 10): True\n"
     ]
    }
   ],
   "execution_count": 36
  },
  {
   "metadata": {},
   "cell_type": "code",
   "outputs": [],
   "execution_count": null,
   "source": "",
   "id": "d21a44823b2ee056"
  }
 ],
 "metadata": {
  "kernelspec": {
   "display_name": "Python 3",
   "language": "python",
   "name": "python3"
  },
  "language_info": {
   "codemirror_mode": {
    "name": "ipython",
    "version": 2
   },
   "file_extension": ".py",
   "mimetype": "text/x-python",
   "name": "python",
   "nbconvert_exporter": "python",
   "pygments_lexer": "ipython2",
   "version": "2.7.6"
  }
 },
 "nbformat": 4,
 "nbformat_minor": 5
}

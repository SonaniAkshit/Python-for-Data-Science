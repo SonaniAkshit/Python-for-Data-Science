{
 "cells": [
  {
   "metadata": {},
   "cell_type": "markdown",
   "source": [
    "# 🔁 Python Sets\n",
    "\n",
    "A **set** is a collection that is:\n",
    "\n",
    "- **Unordered** ❌\n",
    "- **Unchangeable (items can't be changed, but can be added/removed)** 🔄\n",
    "- **Unindexed** ❌\n",
    "- **No duplicate values allowed** 🚫\n",
    "\n",
    "\n",
    "⚠️ Sets automatically ignore duplicate values\n",
    "\n",
    "Sets are written with curly braces `{}`.\n",
    "\n",
    "---\n",
    "\n",
    "### 1️⃣ Create a Set\n",
    "<img src=\"https://media2.giphy.com/media/QssGEmpkyEOhBCb7e1/giphy.gif?cid=ecf05e47a0n3gi1bfqntqmob8g9aid1oyj2wr3ds3mg700bl&rid=giphy.gif\" width=\"22px\" align=\"top\"/> **Code**"
   ],
   "id": "3630c8c992c96ad5"
  },
  {
   "metadata": {
    "ExecuteTime": {
     "end_time": "2025-06-26T12:10:01.245057Z",
     "start_time": "2025-06-26T12:10:01.236824Z"
    }
   },
   "cell_type": "code",
   "source": [
    "fruits = {'apple','banana','orange','strawberry'}\n",
    "fruits"
   ],
   "id": "48bc89d632f1a76d",
   "outputs": [
    {
     "data": {
      "text/plain": [
       "{'apple', 'banana', 'orange', 'strawberry'}"
      ]
     },
     "execution_count": 4,
     "metadata": {},
     "output_type": "execute_result"
    }
   ],
   "execution_count": 4
  },
  {
   "metadata": {},
   "cell_type": "markdown",
   "source": [
    "📦 Set created with unique items\n",
    "\n",
    "---\n",
    "### 2️⃣ No Duplicates Allowed\n",
    "<img src=\"https://media2.giphy.com/media/QssGEmpkyEOhBCb7e1/giphy.gif?cid=ecf05e47a0n3gi1bfqntqmob8g9aid1oyj2wr3ds3mg700bl&rid=giphy.gif\" width=\"22px\" align=\"top\"/> **Code**"
   ],
   "id": "da9251e6bdea38a8"
  },
  {
   "metadata": {
    "ExecuteTime": {
     "end_time": "2025-06-26T12:11:36.230475Z",
     "start_time": "2025-06-26T12:11:36.209986Z"
    }
   },
   "cell_type": "code",
   "source": [
    "fruits = {'apple','banana','orange','apple'}\n",
    "fruits"
   ],
   "id": "78b9dca74e161f6",
   "outputs": [
    {
     "data": {
      "text/plain": [
       "{'apple', 'banana', 'orange'}"
      ]
     },
     "execution_count": 5,
     "metadata": {},
     "output_type": "execute_result"
    }
   ],
   "execution_count": 5
  },
  {
   "metadata": {},
   "cell_type": "markdown",
   "source": [
    "🚫 Duplicate values are **automatically removed**\n",
    "\n",
    "---\n",
    "### 3️⃣ Check If Item Exists\n",
    "<img src=\"https://media2.giphy.com/media/QssGEmpkyEOhBCb7e1/giphy.gif?cid=ecf05e47a0n3gi1bfqntqmob8g9aid1oyj2wr3ds3mg700bl&rid=giphy.gif\" width=\"22px\" align=\"top\"/> **Code**"
   ],
   "id": "c9da77f62b014f54"
  },
  {
   "metadata": {
    "ExecuteTime": {
     "end_time": "2025-06-26T12:15:29.573577Z",
     "start_time": "2025-06-26T12:15:29.565485Z"
    }
   },
   "cell_type": "code",
   "source": [
    "fruits = {'apple','banana','orange','strawberry'}\n",
    "if 'banana' in fruits:\n",
    "    print(\"Yes! 'banana' in the set!\")"
   ],
   "id": "33a37558c67d215a",
   "outputs": [
    {
     "name": "stdout",
     "output_type": "stream",
     "text": [
      "Yes! 'banana' in the set!\n"
     ]
    }
   ],
   "execution_count": 7
  },
  {
   "metadata": {},
   "cell_type": "markdown",
   "source": [
    "🔍 Membership test with `in`\n",
    "\n",
    "---\n",
    "### 4️⃣ Loop Through a Set\n",
    "<img src=\"https://media2.giphy.com/media/QssGEmpkyEOhBCb7e1/giphy.gif?cid=ecf05e47a0n3gi1bfqntqmob8g9aid1oyj2wr3ds3mg700bl&rid=giphy.gif\" width=\"22px\" align=\"top\"/> **Code**"
   ],
   "id": "b79aa37d1d7c7db4"
  },
  {
   "metadata": {
    "ExecuteTime": {
     "end_time": "2025-06-26T12:16:43.235708Z",
     "start_time": "2025-06-26T12:16:43.227100Z"
    }
   },
   "cell_type": "code",
   "source": [
    "fruits = {'apple','banana','orange','strawberry'}\n",
    "for fruit in fruits:\n",
    "    print(fruit)"
   ],
   "id": "1baeb64e1d6e5d5b",
   "outputs": [
    {
     "name": "stdout",
     "output_type": "stream",
     "text": [
      "apple\n",
      "banana\n",
      "orange\n",
      "strawberry\n"
     ]
    }
   ],
   "execution_count": 8
  },
  {
   "metadata": {},
   "cell_type": "markdown",
   "source": [
    "🔁 Order is not guaranteed\n",
    "\n",
    "---\n",
    "### 5️⃣ Set Length\n",
    "<img src=\"https://media2.giphy.com/media/QssGEmpkyEOhBCb7e1/giphy.gif?cid=ecf05e47a0n3gi1bfqntqmob8g9aid1oyj2wr3ds3mg700bl&rid=giphy.gif\" width=\"22px\" align=\"top\"/> **Code**"
   ],
   "id": "aeb981f212c9e9"
  },
  {
   "metadata": {
    "ExecuteTime": {
     "end_time": "2025-06-26T12:24:58.106716Z",
     "start_time": "2025-06-26T12:24:58.090025Z"
    }
   },
   "cell_type": "code",
   "source": [
    "fruits = {'apple','banana','orange','strawberry'}\n",
    "len(fruits)"
   ],
   "id": "c941f2f4f3912816",
   "outputs": [
    {
     "data": {
      "text/plain": [
       "4"
      ]
     },
     "execution_count": 9,
     "metadata": {},
     "output_type": "execute_result"
    }
   ],
   "execution_count": 9
  },
  {
   "metadata": {},
   "cell_type": "markdown",
   "source": [
    "📏 Use len() to count elements\n",
    "\n",
    "---\n",
    "### 6️⃣ Set Items - Data Types\n",
    "<img src=\"https://media2.giphy.com/media/QssGEmpkyEOhBCb7e1/giphy.gif?cid=ecf05e47a0n3gi1bfqntqmob8g9aid1oyj2wr3ds3mg700bl&rid=giphy.gif\" width=\"22px\" align=\"top\"/> **Code**"
   ],
   "id": "67f2d5c8a52f3be0"
  },
  {
   "metadata": {
    "ExecuteTime": {
     "end_time": "2025-06-26T12:26:53.514641Z",
     "start_time": "2025-06-26T12:26:53.498550Z"
    }
   },
   "cell_type": "code",
   "source": [
    "strings = {'apple','banana','orange','strawberry'}\n",
    "strings"
   ],
   "id": "e57fb44fb715bf1a",
   "outputs": [
    {
     "data": {
      "text/plain": [
       "{'apple', 'banana', 'orange', 'strawberry'}"
      ]
     },
     "execution_count": 12,
     "metadata": {},
     "output_type": "execute_result"
    }
   ],
   "execution_count": 12
  },
  {
   "metadata": {
    "ExecuteTime": {
     "end_time": "2025-06-26T12:28:15.550110Z",
     "start_time": "2025-06-26T12:28:15.538743Z"
    }
   },
   "cell_type": "code",
   "source": [
    "numbers = {1,2,3,4,5}\n",
    "numbers"
   ],
   "id": "9bcf0313bea06a94",
   "outputs": [
    {
     "data": {
      "text/plain": [
       "{1, 2, 3, 4, 5}"
      ]
     },
     "execution_count": 18,
     "metadata": {},
     "output_type": "execute_result"
    }
   ],
   "execution_count": 18
  },
  {
   "metadata": {
    "ExecuteTime": {
     "end_time": "2025-06-26T12:27:38.702751Z",
     "start_time": "2025-06-26T12:27:38.692290Z"
    }
   },
   "cell_type": "code",
   "source": [
    "booleans = {True,False}\n",
    "booleans"
   ],
   "id": "188a78244e50c0e0",
   "outputs": [
    {
     "data": {
      "text/plain": [
       "{False, True}"
      ]
     },
     "execution_count": 14,
     "metadata": {},
     "output_type": "execute_result"
    }
   ],
   "execution_count": 14
  },
  {
   "metadata": {
    "ExecuteTime": {
     "end_time": "2025-06-26T12:30:59.169206Z",
     "start_time": "2025-06-26T12:30:59.159389Z"
    }
   },
   "cell_type": "code",
   "source": [
    "mix_set={'apple',True,4,0}\n",
    "mix_set"
   ],
   "id": "b81b35f268d80abe",
   "outputs": [
    {
     "data": {
      "text/plain": [
       "{0, 4, True, 'apple'}"
      ]
     },
     "execution_count": 23,
     "metadata": {},
     "output_type": "execute_result"
    }
   ],
   "execution_count": 23
  },
  {
   "metadata": {},
   "cell_type": "markdown",
   "source": [
    "---\n",
    "### 7️⃣ Automatically Sorted\n",
    "\n",
    "Sets automatically sort values\n",
    "\n",
    "<img src=\"https://media2.giphy.com/media/QssGEmpkyEOhBCb7e1/giphy.gif?cid=ecf05e47a0n3gi1bfqntqmob8g9aid1oyj2wr3ds3mg700bl&rid=giphy.gif\" width=\"22px\" align=\"top\"/> **Code**"
   ],
   "id": "e5c7cc73d91e6e92"
  },
  {
   "metadata": {
    "ExecuteTime": {
     "end_time": "2025-06-26T12:33:55.622590Z",
     "start_time": "2025-06-26T12:33:55.610154Z"
    }
   },
   "cell_type": "code",
   "source": [
    "numbers = {2,4,6,8,10,1,3,5,7,9}\n",
    "numbers"
   ],
   "id": "150d71ee95f9d14f",
   "outputs": [
    {
     "data": {
      "text/plain": [
       "{1, 2, 3, 4, 5, 6, 7, 8, 9, 10}"
      ]
     },
     "execution_count": 25,
     "metadata": {},
     "output_type": "execute_result"
    }
   ],
   "execution_count": 25
  },
  {
   "metadata": {
    "ExecuteTime": {
     "end_time": "2025-06-26T12:34:11.821701Z",
     "start_time": "2025-06-26T12:34:11.811557Z"
    }
   },
   "cell_type": "code",
   "source": [
    "booleans = {True,False}\n",
    "booleans"
   ],
   "id": "e7c38ca13e2a520d",
   "outputs": [
    {
     "data": {
      "text/plain": [
       "{False, True}"
      ]
     },
     "execution_count": 27,
     "metadata": {},
     "output_type": "execute_result"
    }
   ],
   "execution_count": 27
  },
  {
   "metadata": {
    "ExecuteTime": {
     "end_time": "2025-06-26T12:36:01.980063Z",
     "start_time": "2025-06-26T12:36:01.968251Z"
    }
   },
   "cell_type": "code",
   "source": [
    "vowels = {'u','i','e','o','a'}\n",
    "vowels"
   ],
   "id": "7d9b05ac7f9a07e8",
   "outputs": [
    {
     "data": {
      "text/plain": [
       "{'a', 'e', 'i', 'o', 'u'}"
      ]
     },
     "execution_count": 31,
     "metadata": {},
     "output_type": "execute_result"
    }
   ],
   "execution_count": 31
  },
  {
   "metadata": {},
   "cell_type": "markdown",
   "source": [
    "### 💡 Tip:\n",
    "- Sets are great for **fast membership testing** and **removing duplicates**\n",
    "- For mathematical operations like union, intersection, difference, sets are super handy!\n",
    "---"
   ],
   "id": "2f9fa1a9f29504c9"
  },
  {
   "metadata": {},
   "cell_type": "markdown",
   "source": [
    "## ➕ Python - Add Set Items\n",
    "\n",
    "You can add items to a set using the `add()` method (for one item) or `update()` method (for multiple items).\n",
    "\n",
    "---\n",
    "### 1️⃣ Add One Item with `add()`\n",
    "<img src=\"https://media2.giphy.com/media/QssGEmpkyEOhBCb7e1/giphy.gif?cid=ecf05e47a0n3gi1bfqntqmob8g9aid1oyj2wr3ds3mg700bl&rid=giphy.gif\" width=\"22px\" align=\"top\"/> **Code**"
   ],
   "id": "18afc3529e3783ba"
  },
  {
   "metadata": {
    "ExecuteTime": {
     "end_time": "2025-06-26T12:40:39.718586Z",
     "start_time": "2025-06-26T12:40:39.707215Z"
    }
   },
   "cell_type": "code",
   "source": [
    "fruits = {'apple','banana'}\n",
    "fruits.add(\"cherry\")\n",
    "fruits"
   ],
   "id": "5994982c4bea71ff",
   "outputs": [
    {
     "data": {
      "text/plain": [
       "{'apple', 'banana', 'cherry'}"
      ]
     },
     "execution_count": 32,
     "metadata": {},
     "output_type": "execute_result"
    }
   ],
   "execution_count": 32
  },
  {
   "metadata": {},
   "cell_type": "markdown",
   "source": [
    "📦 ➕ Adds \"cherry\" to the set\n",
    "\n",
    "---\n",
    "### 2️⃣ Add Multiple Items with `update()`\n",
    "<img src=\"https://media2.giphy.com/media/QssGEmpkyEOhBCb7e1/giphy.gif?cid=ecf05e47a0n3gi1bfqntqmob8g9aid1oyj2wr3ds3mg700bl&rid=giphy.gif\" width=\"22px\" align=\"top\"/> **Code**"
   ],
   "id": "6cfbd061351b82f5"
  },
  {
   "metadata": {
    "ExecuteTime": {
     "end_time": "2025-06-26T12:42:34.437806Z",
     "start_time": "2025-06-26T12:42:34.424127Z"
    }
   },
   "cell_type": "code",
   "source": [
    "fruits = {'apple','banana'}\n",
    "fruits.update([\"cherry\",\"kiwi\"])\n",
    "fruits"
   ],
   "id": "4c3ddd4da61946e5",
   "outputs": [
    {
     "data": {
      "text/plain": [
       "{'apple', 'banana', 'cherry', 'kiwi'}"
      ]
     },
     "execution_count": 35,
     "metadata": {},
     "output_type": "execute_result"
    }
   ],
   "execution_count": 35
  },
  {
   "metadata": {},
   "cell_type": "markdown",
   "source": [
    "\n",
    "🔗 Adds multiple values from a list (or any iterable)\n",
    "\n",
    "---\n",
    "### 3️⃣ Add Elements from Another Set\n",
    "<img src=\"https://media2.giphy.com/media/QssGEmpkyEOhBCb7e1/giphy.gif?cid=ecf05e47a0n3gi1bfqntqmob8g9aid1oyj2wr3ds3mg700bl&rid=giphy.gif\" width=\"22px\" align=\"top\"/> **Code**\n"
   ],
   "id": "e188a8aed72d4e2e"
  },
  {
   "metadata": {
    "ExecuteTime": {
     "end_time": "2025-06-26T12:44:22.581783Z",
     "start_time": "2025-06-26T12:44:22.570698Z"
    }
   },
   "cell_type": "code",
   "source": [
    "set1 = {'k','l','o'}\n",
    "set2 = {'a','e','i'}\n",
    "set1.update(set2)\n",
    "set1"
   ],
   "id": "a4be6ff0781597c3",
   "outputs": [
    {
     "data": {
      "text/plain": [
       "{'a', 'e', 'i', 'k', 'l', 'o'}"
      ]
     },
     "execution_count": 37,
     "metadata": {},
     "output_type": "execute_result"
    }
   ],
   "execution_count": 37
  },
  {
   "metadata": {},
   "cell_type": "markdown",
   "source": [
    "🧩 Combine sets using `update()`\n",
    "\n",
    "### 💡 Tip:\n",
    "- `add()` ➜ use for a single element\n",
    "- `update()` ➜ use for multiple elements or merging iterables\n",
    "---\n",
    "## 🗑️ Python - Remove Set Items\n",
    "\n",
    "Python provides multiple ways to remove items from a set. Each behaves a little differently.\n",
    "\n",
    "---\n",
    "\n",
    "### 1️⃣ `remove()` — Raises Error if Item Not Found\n",
    "<img src=\"https://media2.giphy.com/media/QssGEmpkyEOhBCb7e1/giphy.gif?cid=ecf05e47a0n3gi1bfqntqmob8g9aid1oyj2wr3ds3mg700bl&rid=giphy.gif\" width=\"22px\" align=\"top\"/> **Code**\n"
   ],
   "id": "e66a027805b97379"
  },
  {
   "metadata": {
    "ExecuteTime": {
     "end_time": "2025-06-26T12:48:25.144606Z",
     "start_time": "2025-06-26T12:48:25.121241Z"
    }
   },
   "cell_type": "code",
   "source": [
    "fruits = {'apple','banana','orange','strawberry'}\n",
    "fruits.remove(\"banana\")\n",
    "fruits"
   ],
   "id": "d05833506201ab08",
   "outputs": [
    {
     "data": {
      "text/plain": [
       "{'apple', 'orange', 'strawberry'}"
      ]
     },
     "execution_count": 38,
     "metadata": {},
     "output_type": "execute_result"
    }
   ],
   "execution_count": 38
  },
  {
   "metadata": {
    "ExecuteTime": {
     "end_time": "2025-06-26T12:48:59.888747Z",
     "start_time": "2025-06-26T12:48:59.637890Z"
    }
   },
   "cell_type": "code",
   "source": [
    "fruits.remove(\"kiwi\")\n",
    "fruits"
   ],
   "id": "d378966d8d38af6",
   "outputs": [
    {
     "ename": "KeyError",
     "evalue": "'kiwi'",
     "output_type": "error",
     "traceback": [
      "\u001B[1;31m---------------------------------------------------------------------------\u001B[0m",
      "\u001B[1;31mKeyError\u001B[0m                                  Traceback (most recent call last)",
      "Cell \u001B[1;32mIn[39], line 1\u001B[0m\n\u001B[1;32m----> 1\u001B[0m \u001B[43mfruits\u001B[49m\u001B[38;5;241;43m.\u001B[39;49m\u001B[43mremove\u001B[49m\u001B[43m(\u001B[49m\u001B[38;5;124;43m\"\u001B[39;49m\u001B[38;5;124;43mkiwi\u001B[39;49m\u001B[38;5;124;43m\"\u001B[39;49m\u001B[43m)\u001B[49m\n\u001B[0;32m      2\u001B[0m fruits\n",
      "\u001B[1;31mKeyError\u001B[0m: 'kiwi'"
     ]
    }
   ],
   "execution_count": 39
  },
  {
   "metadata": {},
   "cell_type": "markdown",
   "source": [
    "⚠️ \"kiwi\" doesn’t exist, get an error\n",
    "\n",
    "---\n",
    "### 2️⃣ `discard()` — No Error if Item Not Found\n",
    "<img src=\"https://media2.giphy.com/media/QssGEmpkyEOhBCb7e1/giphy.gif?cid=ecf05e47a0n3gi1bfqntqmob8g9aid1oyj2wr3ds3mg700bl&rid=giphy.gif\" width=\"22px\" align=\"top\"/> **Code**\n"
   ],
   "id": "beae41b08f15bf90"
  },
  {
   "metadata": {
    "ExecuteTime": {
     "end_time": "2025-06-26T12:51:06.958296Z",
     "start_time": "2025-06-26T12:51:06.942545Z"
    }
   },
   "cell_type": "code",
   "source": [
    "fruits = {'apple','banana','cherry','orange','strawberry'}\n",
    "fruits.discard(\"banana\")\n",
    "fruits"
   ],
   "id": "87c8fc9c9d31c7ff",
   "outputs": [
    {
     "data": {
      "text/plain": [
       "{'apple', 'cherry', 'orange', 'strawberry'}"
      ]
     },
     "execution_count": 40,
     "metadata": {},
     "output_type": "execute_result"
    }
   ],
   "execution_count": 40
  },
  {
   "metadata": {
    "ExecuteTime": {
     "end_time": "2025-06-26T12:51:22.339085Z",
     "start_time": "2025-06-26T12:51:22.330081Z"
    }
   },
   "cell_type": "code",
   "source": [
    "fruits.discard(\"kiwi\")\n",
    "fruits"
   ],
   "id": "c513382acca3a1a",
   "outputs": [
    {
     "data": {
      "text/plain": [
       "{'apple', 'cherry', 'orange', 'strawberry'}"
      ]
     },
     "execution_count": 41,
     "metadata": {},
     "output_type": "execute_result"
    }
   ],
   "execution_count": 41
  },
  {
   "metadata": {},
   "cell_type": "markdown",
   "source": [
    "✅ Safe to use when you're not sure the item exists\n",
    "\n",
    "---\n",
    "### 3️⃣ `pop()` — Removes a Random Item\n",
    "<img src=\"https://media2.giphy.com/media/QssGEmpkyEOhBCb7e1/giphy.gif?cid=ecf05e47a0n3gi1bfqntqmob8g9aid1oyj2wr3ds3mg700bl&rid=giphy.gif\" width=\"22px\" align=\"top\"/> **Code**"
   ],
   "id": "7f52447edca0d822"
  },
  {
   "metadata": {
    "ExecuteTime": {
     "end_time": "2025-06-26T12:53:44.364909Z",
     "start_time": "2025-06-26T12:53:44.353651Z"
    }
   },
   "cell_type": "code",
   "source": [
    "fruits = {'orange','apple','chery','banana'}\n",
    "fruits.pop()\n",
    "fruits"
   ],
   "id": "a87be3a4b7a60504",
   "outputs": [
    {
     "data": {
      "text/plain": [
       "{'banana', 'chery', 'orange'}"
      ]
     },
     "execution_count": 42,
     "metadata": {},
     "output_type": "execute_result"
    }
   ],
   "execution_count": 42
  },
  {
   "metadata": {},
   "cell_type": "markdown",
   "source": [
    "🎲 Since sets are unordered, `pop()` removes an arbitrary item\n",
    "\n",
    "---\n",
    "### 4️⃣ `clear()` — Empties the Set\n",
    "<img src=\"https://media2.giphy.com/media/QssGEmpkyEOhBCb7e1/giphy.gif?cid=ecf05e47a0n3gi1bfqntqmob8g9aid1oyj2wr3ds3mg700bl&rid=giphy.gif\" width=\"22px\" align=\"top\"/> **Code**"
   ],
   "id": "342ec28d5c5e56b7"
  },
  {
   "metadata": {
    "ExecuteTime": {
     "end_time": "2025-06-26T12:55:30.899865Z",
     "start_time": "2025-06-26T12:55:30.887726Z"
    }
   },
   "cell_type": "code",
   "source": [
    "fruits = {'apple','banana','orange','strawberry'}\n",
    "fruits.clear()\n",
    "fruits"
   ],
   "id": "139a9fbe4da11977",
   "outputs": [
    {
     "data": {
      "text/plain": [
       "set()"
      ]
     },
     "execution_count": 43,
     "metadata": {},
     "output_type": "execute_result"
    }
   ],
   "execution_count": 43
  },
  {
   "metadata": {},
   "cell_type": "markdown",
   "source": [
    "🧹 Removes all items from the set\n",
    "\n",
    "---\n",
    "### 5️⃣ `del` — Deletes the Entire Set"
   ],
   "id": "34652993d4e62d4a"
  },
  {
   "metadata": {
    "ExecuteTime": {
     "end_time": "2025-06-26T12:57:04.618944Z",
     "start_time": "2025-06-26T12:57:04.576224Z"
    }
   },
   "cell_type": "code",
   "source": [
    "fruits = {'apple','banana','cherry','orange','strawberry'}\n",
    "del fruits\n",
    "fruits # ❌ This will raise an error"
   ],
   "id": "3cfebf1ab33bac6b",
   "outputs": [
    {
     "ename": "NameError",
     "evalue": "name 'fruits' is not defined",
     "output_type": "error",
     "traceback": [
      "\u001B[1;31m---------------------------------------------------------------------------\u001B[0m",
      "\u001B[1;31mNameError\u001B[0m                                 Traceback (most recent call last)",
      "Cell \u001B[1;32mIn[45], line 3\u001B[0m\n\u001B[0;32m      1\u001B[0m fruits \u001B[38;5;241m=\u001B[39m {\u001B[38;5;124m'\u001B[39m\u001B[38;5;124mapple\u001B[39m\u001B[38;5;124m'\u001B[39m,\u001B[38;5;124m'\u001B[39m\u001B[38;5;124mbanana\u001B[39m\u001B[38;5;124m'\u001B[39m,\u001B[38;5;124m'\u001B[39m\u001B[38;5;124mcherry\u001B[39m\u001B[38;5;124m'\u001B[39m,\u001B[38;5;124m'\u001B[39m\u001B[38;5;124morange\u001B[39m\u001B[38;5;124m'\u001B[39m,\u001B[38;5;124m'\u001B[39m\u001B[38;5;124mstrawberry\u001B[39m\u001B[38;5;124m'\u001B[39m}\n\u001B[0;32m      2\u001B[0m \u001B[38;5;28;01mdel\u001B[39;00m fruits\n\u001B[1;32m----> 3\u001B[0m \u001B[43mfruits\u001B[49m \u001B[38;5;66;03m# ❌ This will raise an error\u001B[39;00m\n",
      "\u001B[1;31mNameError\u001B[0m: name 'fruits' is not defined"
     ]
    }
   ],
   "execution_count": 45
  },
  {
   "metadata": {},
   "cell_type": "markdown",
   "source": [
    "🗑️ Completely deletes the set from memory\n",
    "\n",
    "### 💡 Tip:\n",
    "- Use `discard()` when unsure if the item exists\n",
    "- Use `clear()` to empty a set safely\n",
    "- Avoid `del` unless you really want to destroy the set object\n",
    "---"
   ],
   "id": "306c364b2e7ae5e5"
  },
  {
   "metadata": {},
   "cell_type": "markdown",
   "source": [
    "## 🔁 Python - Loop Sets\n",
    "\n",
    "Since sets are **iterable**, you can loop through them using a `for` loop — just like with lists or tuples.\n",
    "\n",
    "---\n",
    "\n",
    "### 1️⃣ Loop Through a Set\n",
    "<img src=\"https://media2.giphy.com/media/QssGEmpkyEOhBCb7e1/giphy.gif?cid=ecf05e47a0n3gi1bfqntqmob8g9aid1oyj2wr3ds3mg700bl&rid=giphy.gif\" width=\"22px\" align=\"top\"/> **Code**"
   ],
   "id": "c1a2cd56537e0286"
  },
  {
   "metadata": {
    "ExecuteTime": {
     "end_time": "2025-06-26T13:42:41.477104Z",
     "start_time": "2025-06-26T13:42:41.415516Z"
    }
   },
   "cell_type": "code",
   "source": [
    "fruits = {'apple','banana','orange','strawberry'}\n",
    "for fruit in fruits:\n",
    "    print(fruit)"
   ],
   "id": "f2f41377404878b8",
   "outputs": [
    {
     "name": "stdout",
     "output_type": "stream",
     "text": [
      "apple\n",
      "banana\n",
      "orange\n",
      "strawberry\n"
     ]
    }
   ],
   "execution_count": 46
  },
  {
   "metadata": {},
   "cell_type": "markdown",
   "source": [
    "📦 Prints each item (in random order, since sets are unordered)\n",
    "\n",
    "---\n",
    "### 2️⃣ Example with Conditional Check\n",
    "<img src=\"https://media2.giphy.com/media/QssGEmpkyEOhBCb7e1/giphy.gif?cid=ecf05e47a0n3gi1bfqntqmob8g9aid1oyj2wr3ds3mg700bl&rid=giphy.gif\" width=\"22px\" align=\"top\"/> **Code**"
   ],
   "id": "56a99b757441a22d"
  },
  {
   "metadata": {
    "ExecuteTime": {
     "end_time": "2025-06-26T13:45:13.555861Z",
     "start_time": "2025-06-26T13:45:13.548564Z"
    }
   },
   "cell_type": "code",
   "source": [
    "fruits = {'apple','banana','orange','strawberry'}\n",
    "for fruit in fruits:\n",
    "    if fruit.startswith('s'):\n",
    "        print(fruit.upper())"
   ],
   "id": "1ce1099de292aff2",
   "outputs": [
    {
     "name": "stdout",
     "output_type": "stream",
     "text": [
      "STRAWBERRY\n"
     ]
    }
   ],
   "execution_count": 49
  },
  {
   "metadata": {},
   "cell_type": "markdown",
   "source": [
    "🔎 Useful when filtering or modifying output\n",
    "\n",
    "### 💡 Tip:\n",
    "Use loops with sets when:\n",
    "\n",
    "- You need to process each unique item 🔄\n",
    "- You don’t care about order ✅\n",
    "---"
   ],
   "id": "804595729831455a"
  },
  {
   "metadata": {},
   "cell_type": "markdown",
   "source": [
    "## 🧮 Python - Join & Compare Sets\n",
    "\n",
    "Python sets support powerful methods for combining and comparing data.\n",
    "\n",
    "---\n",
    "### 🔗 `union()` – Combine All Items (No Duplicates)\n",
    "<img src=\"https://media2.giphy.com/media/QssGEmpkyEOhBCb7e1/giphy.gif?cid=ecf05e47a0n3gi1bfqntqmob8g9aid1oyj2wr3ds3mg700bl&rid=giphy.gif\" width=\"22px\" align=\"top\"/> **Code**"
   ],
   "id": "f9cf7fce5562c53c"
  },
  {
   "metadata": {
    "ExecuteTime": {
     "end_time": "2025-06-27T05:34:22.933316Z",
     "start_time": "2025-06-27T05:34:22.911380Z"
    }
   },
   "cell_type": "code",
   "source": [
    "a = {'apple','banana','cherry'}\n",
    "b = {'banana','cherry','mango'}\n",
    "a.union(b)"
   ],
   "id": "da7c3a847b6caea8",
   "outputs": [
    {
     "data": {
      "text/plain": [
       "{'apple', 'banana', 'cherry', 'mango'}"
      ]
     },
     "execution_count": 14,
     "metadata": {},
     "output_type": "execute_result"
    }
   ],
   "execution_count": 14
  },
  {
   "metadata": {},
   "cell_type": "markdown",
   "source": [
    "➕ Returns a new set with **all unique items** from both sets.\n",
    "\n",
    "---\n",
    "### 🔄 `update()` – Merge Into the First Set\n",
    "<img src=\"https://media2.giphy.com/media/QssGEmpkyEOhBCb7e1/giphy.gif?cid=ecf05e47a0n3gi1bfqntqmob8g9aid1oyj2wr3ds3mg700bl&rid=giphy.gif\" width=\"22px\" align=\"top\"/> **Code**"
   ],
   "id": "ce85e98bd0720853"
  },
  {
   "metadata": {
    "ExecuteTime": {
     "end_time": "2025-06-27T05:34:33.296433Z",
     "start_time": "2025-06-27T05:34:33.277547Z"
    }
   },
   "cell_type": "code",
   "source": [
    "a = {'apple','banana','cherry'}\n",
    "b = {'banana','cherry','mango'}\n",
    "a.update(b)\n",
    "a"
   ],
   "id": "376c8f21c0a6ca61",
   "outputs": [
    {
     "data": {
      "text/plain": [
       "{'apple', 'banana', 'cherry', 'mango'}"
      ]
     },
     "execution_count": 15,
     "metadata": {},
     "output_type": "execute_result"
    }
   ],
   "execution_count": 15
  },
  {
   "metadata": {},
   "cell_type": "markdown",
   "source": [
    "🛠️ Modifies `a` in place with all items from `b`.\n",
    "\n",
    "---\n",
    "### 🤝 `intersection()` – Keep Only Common Items\n",
    "<img src=\"https://media2.giphy.com/media/QssGEmpkyEOhBCb7e1/giphy.gif?cid=ecf05e47a0n3gi1bfqntqmob8g9aid1oyj2wr3ds3mg700bl&rid=giphy.gif\" width=\"22px\" align=\"top\"/> **Code**"
   ],
   "id": "70b0a50cb2f70a7c"
  },
  {
   "metadata": {
    "ExecuteTime": {
     "end_time": "2025-06-27T05:23:03.711690Z",
     "start_time": "2025-06-27T05:23:03.703583Z"
    }
   },
   "cell_type": "code",
   "source": [
    "a = {'apple','banana','cherry'}\n",
    "b = {'banana','cherry','mango'}\n",
    "a.intersection(b)\n"
   ],
   "id": "25873568f3184545",
   "outputs": [
    {
     "data": {
      "text/plain": [
       "{'banana', 'cherry'}"
      ]
     },
     "execution_count": 7,
     "metadata": {},
     "output_type": "execute_result"
    }
   ],
   "execution_count": 7
  },
  {
   "metadata": {},
   "cell_type": "markdown",
   "source": [
    "✅ Keeps only the **duplicates** (common items).\n",
    "\n",
    "---\n",
    "### 📌 `intersection_update()` – Update With Common Items Only\n",
    "<img src=\"https://media2.giphy.com/media/QssGEmpkyEOhBCb7e1/giphy.gif?cid=ecf05e47a0n3gi1bfqntqmob8g9aid1oyj2wr3ds3mg700bl&rid=giphy.gif\" width=\"22px\" align=\"top\"/> **Code**"
   ],
   "id": "a5ef7969bce2cbc5"
  },
  {
   "metadata": {
    "ExecuteTime": {
     "end_time": "2025-06-27T05:34:40.280602Z",
     "start_time": "2025-06-27T05:34:40.273367Z"
    }
   },
   "cell_type": "code",
   "source": [
    "a = {'apple','banana','cherry'}\n",
    "b = {'banana','cherry','mango'}\n",
    "a.intersection_update(b)\n",
    "a"
   ],
   "id": "69f990ca8afbe9e",
   "outputs": [
    {
     "data": {
      "text/plain": [
       "{'banana', 'cherry'}"
      ]
     },
     "execution_count": 16,
     "metadata": {},
     "output_type": "execute_result"
    }
   ],
   "execution_count": 16
  },
  {
   "metadata": {},
   "cell_type": "markdown",
   "source": [
    "🧽 Keeps only **shared items** in `a`, modifies in place.\n",
    "\n",
    "---\n",
    "### ➖ `difference()` – Items Only in First Set\n",
    "<img src=\"https://media2.giphy.com/media/QssGEmpkyEOhBCb7e1/giphy.gif?cid=ecf05e47a0n3gi1bfqntqmob8g9aid1oyj2wr3ds3mg700bl&rid=giphy.gif\" width=\"22px\" align=\"top\"/> **Code**"
   ],
   "id": "daa04ad3a18d8e89"
  },
  {
   "metadata": {
    "ExecuteTime": {
     "end_time": "2025-06-27T05:24:22.340308Z",
     "start_time": "2025-06-27T05:24:22.327807Z"
    }
   },
   "cell_type": "code",
   "source": [
    "a = {'apple','banana','cherry'}\n",
    "b = {'banana','cherry','mango'}\n",
    "a.difference(b)"
   ],
   "id": "2aefc80a34adff76",
   "outputs": [
    {
     "data": {
      "text/plain": [
       "{'apple'}"
      ]
     },
     "execution_count": 8,
     "metadata": {},
     "output_type": "execute_result"
    }
   ],
   "execution_count": 8
  },
  {
   "metadata": {},
   "cell_type": "markdown",
   "source": [
    "🧮 Keeps items only in `a`, **not in** `b`.\n",
    "\n",
    "---\n",
    "### 🧹 `difference_update()` – Remove Items in Other Set\n",
    "<img src=\"https://media2.giphy.com/media/QssGEmpkyEOhBCb7e1/giphy.gif?cid=ecf05e47a0n3gi1bfqntqmob8g9aid1oyj2wr3ds3mg700bl&rid=giphy.gif\" width=\"22px\" align=\"top\"/> **Code**"
   ],
   "id": "474a525fd8cc4185"
  },
  {
   "metadata": {
    "ExecuteTime": {
     "end_time": "2025-06-27T05:25:50.648051Z",
     "start_time": "2025-06-27T05:25:50.639216Z"
    }
   },
   "cell_type": "code",
   "source": [
    "a = {'apple','banana','cherry'}\n",
    "b = {'banana','cherry','mango'}\n",
    "a.difference_update(b)\n",
    "a"
   ],
   "id": "c43f50957fbd2cff",
   "outputs": [
    {
     "data": {
      "text/plain": [
       "{'apple'}"
      ]
     },
     "execution_count": 10,
     "metadata": {},
     "output_type": "execute_result"
    }
   ],
   "execution_count": 10
  },
  {
   "metadata": {},
   "cell_type": "markdown",
   "source": [
    "🔧 Modifies `a` to remove all items **also in** `b`.\n",
    "\n",
    "---\n",
    "### 🔀 `symmetric_difference()` – All Items Except Duplicates\n",
    "<img src=\"https://media2.giphy.com/media/QssGEmpkyEOhBCb7e1/giphy.gif?cid=ecf05e47a0n3gi1bfqntqmob8g9aid1oyj2wr3ds3mg700bl&rid=giphy.gif\" width=\"22px\" align=\"top\"/> **Code**"
   ],
   "id": "bc9dbbd58499b971"
  },
  {
   "metadata": {
    "ExecuteTime": {
     "end_time": "2025-06-27T05:28:28.980364Z",
     "start_time": "2025-06-27T05:28:28.972036Z"
    }
   },
   "cell_type": "code",
   "source": [
    "a = {'apple','banana','cherry'}\n",
    "b = {'banana','cherry','mango'}\n",
    "a.symmetric_difference(b)\n"
   ],
   "id": "9ff23fc7c7dabbd5",
   "outputs": [
    {
     "data": {
      "text/plain": [
       "{'apple', 'mango'}"
      ]
     },
     "execution_count": 12,
     "metadata": {},
     "output_type": "execute_result"
    }
   ],
   "execution_count": 12
  },
  {
   "metadata": {},
   "cell_type": "markdown",
   "source": [
    "♻️ Returns a new set with items that are **not in both sets**.\n",
    "\n",
    "---\n",
    "### 🧽 `symmetric_difference_update()` – Remove Duplicates, Keep Rest\n",
    "<img src=\"https://media2.giphy.com/media/QssGEmpkyEOhBCb7e1/giphy.gif?cid=ecf05e47a0n3gi1bfqntqmob8g9aid1oyj2wr3ds3mg700bl&rid=giphy.gif\" width=\"22px\" align=\"top\"/> **Code**"
   ],
   "id": "4aa308db6f6bf88e"
  },
  {
   "metadata": {
    "ExecuteTime": {
     "end_time": "2025-06-27T05:30:31.555893Z",
     "start_time": "2025-06-27T05:30:31.546945Z"
    }
   },
   "cell_type": "code",
   "source": [
    "a = {'apple','banana','cherry'}\n",
    "b = {'banana','cherry','mango'}\n",
    "a.symmetric_difference_update(b)\n",
    "a"
   ],
   "id": "7ea7158f9f19aac",
   "outputs": [
    {
     "data": {
      "text/plain": [
       "{'apple', 'mango'}"
      ]
     },
     "execution_count": 13,
     "metadata": {},
     "output_type": "execute_result"
    }
   ],
   "execution_count": 13
  },
  {
   "metadata": {},
   "cell_type": "markdown",
   "source": [
    "⚡ Modifies a with items that are in either set, but **not both**.\n",
    "\n",
    "### 🧠 Summary Table\n",
    "\n",
    "| Method                          | Keeps             | Modifies Original? |\n",
    "| ------------------------------- | ----------------- | ------------------ |\n",
    "| `union()`                       | All               | ❌ No               |\n",
    "| `update()`                      | All               | ✅ Yes              |\n",
    "| `intersection()`                | Duplicates only   | ❌ No               |\n",
    "| `intersection_update()`         | Duplicates only   | ✅ Yes              |\n",
    "| `difference()`                  | Unique in first   | ❌ No               |\n",
    "| `difference_update()`           | Unique in first   | ✅ Yes              |\n",
    "| `symmetric_difference()`        | All EXCEPT shared | ❌ No               |\n",
    "| `symmetric_difference_update()` | All EXCEPT shared | ✅ Yes              |\n",
    "\n",
    "### 💡 Tip:\n",
    "- Use non-`_update` methods when you want a new set\n",
    "- Use `_update` versions to modify in place\n",
    "---"
   ],
   "id": "c0dced82b8fc58eb"
  },
  {
   "metadata": {},
   "cell_type": "code",
   "outputs": [],
   "execution_count": null,
   "source": "",
   "id": "9e349972fd52d208"
  }
 ],
 "metadata": {
  "kernelspec": {
   "display_name": "Python 3",
   "language": "python",
   "name": "python3"
  },
  "language_info": {
   "codemirror_mode": {
    "name": "ipython",
    "version": 2
   },
   "file_extension": ".py",
   "mimetype": "text/x-python",
   "name": "python",
   "nbconvert_exporter": "python",
   "pygments_lexer": "ipython2",
   "version": "2.7.6"
  }
 },
 "nbformat": 4,
 "nbformat_minor": 5
}

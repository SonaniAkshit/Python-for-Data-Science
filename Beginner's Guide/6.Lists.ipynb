{
 "cells": [
  {
   "metadata": {},
   "cell_type": "markdown",
   "source": [
    "# 📋 Python Lists\n",
    "\n",
    "## List\n",
    "Lists are used to store multiple items in a single variable.\n",
    "\n",
    "Lists are one of 4 built-in data types in Python used to store collections of data, the other 3 are Tuple, Set, and Dictionary, all with different qualities and usage.\n",
    "\n",
    "Lists are created using square brackets:\n",
    "\n",
    "<img src=\"https://media2.giphy.com/media/QssGEmpkyEOhBCb7e1/giphy.gif?cid=ecf05e47a0n3gi1bfqntqmob8g9aid1oyj2wr3ds3mg700bl&rid=giphy.gif\" width=\"22px\" align=\"top\"/> **Code**"
   ],
   "id": "eb6ea3d4c807afc1"
  },
  {
   "metadata": {
    "ExecuteTime": {
     "end_time": "2025-06-25T08:30:44.425609Z",
     "start_time": "2025-06-25T08:30:44.416611Z"
    }
   },
   "cell_type": "code",
   "source": [
    "from operator import index\n",
    "\n",
    "mylist = ['apple','banana','orange']\n",
    "print(mylist)"
   ],
   "id": "507e5904e8f23f38",
   "outputs": [
    {
     "name": "stdout",
     "output_type": "stream",
     "text": [
      "['apple', 'banana', 'orange']\n"
     ]
    }
   ],
   "execution_count": 10
  },
  {
   "metadata": {},
   "cell_type": "markdown",
   "source": [
    "### List Items\n",
    "List items are ordered, changeable, and allow duplicate values.\n",
    "\n",
    "List items are indexed, the first item has index `[0]`, the second item has index `[1]` etc.\n",
    "\n",
    "### Ordered\n",
    "When we say that lists are ordered, it means that the items have a defined order, and that order will not change.\n",
    "\n",
    "If you add new items to a list, the new items will be placed at the end of the list.\n",
    "\n",
    "> **Note:** There are some list methods that will change the order, but in general: the order of the items will not change.\n",
    "\n",
    "### Changeable\n",
    "The list is changeable, meaning that we can change, add, and remove items in a list after it has been created.\n",
    "\n",
    "### Allow Duplicates\n",
    "Since lists are indexed, lists can have items with the same value:\n",
    "\n",
    "<img src=\"https://media2.giphy.com/media/QssGEmpkyEOhBCb7e1/giphy.gif?cid=ecf05e47a0n3gi1bfqntqmob8g9aid1oyj2wr3ds3mg700bl&rid=giphy.gif\" width=\"22px\" align=\"top\"/> **Code**"
   ],
   "id": "4f42b25b1e946bc8"
  },
  {
   "metadata": {
    "ExecuteTime": {
     "end_time": "2025-06-25T08:31:02.182586Z",
     "start_time": "2025-06-25T08:31:02.175490Z"
    }
   },
   "cell_type": "code",
   "source": [
    "list = [\"apple\", \"banana\", \"cherry\", \"apple\", \"cherry\"]\n",
    "print(list)"
   ],
   "id": "63b1e95628b9777c",
   "outputs": [
    {
     "name": "stdout",
     "output_type": "stream",
     "text": [
      "['apple', 'banana', 'cherry', 'apple', 'cherry']\n"
     ]
    }
   ],
   "execution_count": 11
  },
  {
   "metadata": {},
   "cell_type": "markdown",
   "source": [
    "### List Length\n",
    "To determine how many items a list has, use the len() function:\n",
    "\n",
    "<img src=\"https://media2.giphy.com/media/QssGEmpkyEOhBCb7e1/giphy.gif?cid=ecf05e47a0n3gi1bfqntqmob8g9aid1oyj2wr3ds3mg700bl&rid=giphy.gif\" width=\"22px\" align=\"top\"/> **Code**"
   ],
   "id": "d69f62b9bf491fdf"
  },
  {
   "metadata": {
    "ExecuteTime": {
     "end_time": "2025-06-25T08:33:33.834396Z",
     "start_time": "2025-06-25T08:33:33.818447Z"
    }
   },
   "cell_type": "code",
   "source": [
    "print(len(mylist))\n",
    "print(len(list))"
   ],
   "id": "442cbcaf62177ecf",
   "outputs": [
    {
     "name": "stdout",
     "output_type": "stream",
     "text": [
      "3\n",
      "5\n"
     ]
    }
   ],
   "execution_count": 12
  },
  {
   "metadata": {},
   "cell_type": "markdown",
   "source": [
    "### List Items - Data Types\n",
    "List items can be of any data type:\n",
    "\n",
    "<img src=\"https://media2.giphy.com/media/QssGEmpkyEOhBCb7e1/giphy.gif?cid=ecf05e47a0n3gi1bfqntqmob8g9aid1oyj2wr3ds3mg700bl&rid=giphy.gif\" width=\"22px\" align=\"top\"/> **Code**"
   ],
   "id": "cb435b6ff7d53664"
  },
  {
   "metadata": {
    "ExecuteTime": {
     "end_time": "2025-06-25T08:34:29.506977Z",
     "start_time": "2025-06-25T08:34:29.497519Z"
    }
   },
   "cell_type": "code",
   "source": [
    "list1 = [\"apple\", \"banana\", \"cherry\"]\n",
    "list2 = [1, 5, 7, 9, 3]\n",
    "list3 = [True, False, False]"
   ],
   "id": "6527e9e8e15e6bda",
   "outputs": [],
   "execution_count": 13
  },
  {
   "metadata": {},
   "cell_type": "markdown",
   "source": "A list can contain different data types:",
   "id": "4e489eb5798ade2"
  },
  {
   "metadata": {
    "ExecuteTime": {
     "end_time": "2025-06-25T08:34:55.053513Z",
     "start_time": "2025-06-25T08:34:55.045848Z"
    }
   },
   "cell_type": "code",
   "source": "list1 = [\"abc\", 34, True, 40, \"male\"]\n",
   "id": "47e0f49ab348ab57",
   "outputs": [],
   "execution_count": 14
  },
  {
   "metadata": {},
   "cell_type": "markdown",
   "source": [
    "### type()\n",
    "From Python's perspective, lists are defined as objects with the data type 'list':\n",
    "\n",
    "<img src=\"https://media2.giphy.com/media/QssGEmpkyEOhBCb7e1/giphy.gif?cid=ecf05e47a0n3gi1bfqntqmob8g9aid1oyj2wr3ds3mg700bl&rid=giphy.gif\" width=\"22px\" align=\"top\"/> **Code**"
   ],
   "id": "5b36bfbac3eca8ed"
  },
  {
   "metadata": {
    "ExecuteTime": {
     "end_time": "2025-06-25T08:35:47.031347Z",
     "start_time": "2025-06-25T08:35:47.016445Z"
    }
   },
   "cell_type": "code",
   "source": "type(list1)",
   "id": "2017fa88b9e70a5e",
   "outputs": [
    {
     "data": {
      "text/plain": [
       "list"
      ]
     },
     "execution_count": 15,
     "metadata": {},
     "output_type": "execute_result"
    }
   ],
   "execution_count": 15
  },
  {
   "metadata": {
    "ExecuteTime": {
     "end_time": "2025-06-25T08:36:09.090050Z",
     "start_time": "2025-06-25T08:36:09.079070Z"
    }
   },
   "cell_type": "code",
   "source": "print(type(list1))",
   "id": "4debc42e3c96cc69",
   "outputs": [
    {
     "name": "stdout",
     "output_type": "stream",
     "text": [
      "<class 'list'>\n"
     ]
    }
   ],
   "execution_count": 17
  },
  {
   "metadata": {},
   "cell_type": "markdown",
   "source": [
    "### Python Collections (Arrays)\n",
    "There are four collection data types in the Python programming language:\n",
    "\n",
    "- **List** is a collection which is ordered and changeable. Allows duplicate members.\n",
    "- **Tuple** is a collection which is ordered and unchangeable. Allows duplicate members.\n",
    "- **Set** is a collection which is unordered, unchangeable*, and unindexed. No duplicate members.\n",
    "- **Dictionary** is a collection which is ordered** and changeable. No duplicate members."
   ],
   "id": "fad938ecac7148ec"
  },
  {
   "metadata": {},
   "cell_type": "markdown",
   "source": [
    "---\n",
    "\n",
    "## 📚 Access List Items in Python\n",
    "\n",
    "You can access items in a list by referring to their index number, enclosed in square brackets `[]`.\n",
    "\n",
    "### 🧠 Indexing Rules\n",
    "\n",
    "| Type          | Description                       | Example    |\n",
    "| ------------- | --------------------------------- | ---------- |\n",
    "| `my_list[0]`  | 📍 First item (index starts at 0) | `\"apple\"`  |\n",
    "| `my_list[1]`  | 📍 Second item                    | `\"banana\"` |\n",
    "| `my_list[-1]` | 🔚 Last item                      | `\"cherry\"` |\n",
    "| `my_list[-2]` | 🔙 Second last item               | `\"banana\"` |\n",
    "\n",
    "---\n",
    "<img src=\"https://media2.giphy.com/media/QssGEmpkyEOhBCb7e1/giphy.gif?cid=ecf05e47a0n3gi1bfqntqmob8g9aid1oyj2wr3ds3mg700bl&rid=giphy.gif\" width=\"22px\" align=\"top\"/> **Code**\n"
   ],
   "id": "b57f0438baa27729"
  },
  {
   "metadata": {
    "ExecuteTime": {
     "end_time": "2025-06-25T09:23:56.114287Z",
     "start_time": "2025-06-25T09:23:56.104065Z"
    }
   },
   "cell_type": "code",
   "source": [
    "my_list=['apple','banana','cherry','banana']\n",
    "print(my_list)\n",
    "print()\n",
    "print(\"List positive indexing:\")\n",
    "print(my_list[0])\n",
    "print(my_list[1])\n",
    "print(my_list[2])\n",
    "print(my_list[3])\n",
    "print()\n",
    "print(\"List negative indexing:\")\n",
    "print(my_list[-1])\n",
    "print(my_list[-2])\n",
    "print(my_list[-3])\n",
    "print(my_list[-4])\n"
   ],
   "id": "4dd8782d944ee1ee",
   "outputs": [
    {
     "name": "stdout",
     "output_type": "stream",
     "text": [
      "['apple', 'banana', 'cherry', 'banana']\n",
      "\n",
      "List positive indexing:\n",
      "apple\n",
      "banana\n",
      "cherry\n",
      "banana\n",
      "\n",
      "List negative indexing:\n",
      "banana\n",
      "cherry\n",
      "banana\n",
      "apple\n"
     ]
    }
   ],
   "execution_count": 11
  },
  {
   "metadata": {},
   "cell_type": "markdown",
   "source": [
    "---\n",
    "\n",
    "## ✏️ Python - Change List Items\n",
    "### 🔄 Modify a Single Item\n",
    "You can change the value of a specific item by referring to its **index number**.\n",
    "\n",
    "---\n",
    "<img src=\"https://media2.giphy.com/media/QssGEmpkyEOhBCb7e1/giphy.gif?cid=ecf05e47a0n3gi1bfqntqmob8g9aid1oyj2wr3ds3mg700bl&rid=giphy.gif\" width=\"22px\" align=\"top\"/> **Code**"
   ],
   "id": "1fdc5fd9d5954ea4"
  },
  {
   "metadata": {
    "ExecuteTime": {
     "end_time": "2025-06-25T09:29:51.157505Z",
     "start_time": "2025-06-25T09:29:51.148017Z"
    }
   },
   "cell_type": "code",
   "source": [
    "fruits = ['apple','banana','orange']\n",
    "fruits[1] = \"mengo\"\n",
    "fruits # print"
   ],
   "id": "af63968524ec5fc9",
   "outputs": [
    {
     "data": {
      "text/plain": [
       "['apple', 'mengo', 'orange']"
      ]
     },
     "execution_count": 14,
     "metadata": {},
     "output_type": "execute_result"
    }
   ],
   "execution_count": 14
  },
  {
   "metadata": {},
   "cell_type": "markdown",
   "source": [
    "---\n",
    "\n",
    "### 🔁 Change a Range of Items\n",
    "You can also update multiple items at once by specifying a **range of indexes**:\n",
    "\n",
    "---\n",
    "<img src=\"https://media2.giphy.com/media/QssGEmpkyEOhBCb7e1/giphy.gif?cid=ecf05e47a0n3gi1bfqntqmob8g9aid1oyj2wr3ds3mg700bl&rid=giphy.gif\" width=\"22px\" align=\"top\"/> **Code**"
   ],
   "id": "e41b62be4c4a9e7a"
  },
  {
   "metadata": {
    "ExecuteTime": {
     "end_time": "2025-06-25T09:34:04.075559Z",
     "start_time": "2025-06-25T09:34:04.065333Z"
    }
   },
   "cell_type": "code",
   "source": [
    "fruits = ['apple','banana','orange','cherry']\n",
    "fruits[1:3] = ['mengo','kiwi']\n",
    "fruits # print"
   ],
   "id": "8e95aee895b67825",
   "outputs": [
    {
     "data": {
      "text/plain": [
       "['apple', 'mengo', 'kiwi', 'cherry']"
      ]
     },
     "execution_count": 19,
     "metadata": {},
     "output_type": "execute_result"
    }
   ],
   "execution_count": 19
  },
  {
   "metadata": {},
   "cell_type": "markdown",
   "source": [
    "---\n",
    "\n",
    "### 🔄 Replace with More or Fewer Items\n",
    "You can even **replace a range** with a different number of items:\n",
    "\n",
    "---\n",
    "<img src=\"https://media2.giphy.com/media/QssGEmpkyEOhBCb7e1/giphy.gif?cid=ecf05e47a0n3gi1bfqntqmob8g9aid1oyj2wr3ds3mg700bl&rid=giphy.gif\" width=\"22px\" align=\"top\"/> **Code**"
   ],
   "id": "bc6269e8f3cfd872"
  },
  {
   "metadata": {
    "ExecuteTime": {
     "end_time": "2025-06-25T09:36:22.813926Z",
     "start_time": "2025-06-25T09:36:22.804351Z"
    }
   },
   "cell_type": "code",
   "source": [
    "fruits = ['apple','banana','orange']\n",
    "fruits[1:2] = ['kiwi','pineapple']\n",
    "fruits # print"
   ],
   "id": "5d91209093bc3500",
   "outputs": [
    {
     "data": {
      "text/plain": [
       "['apple', 'kiwi', 'pineapple', 'orange']"
      ]
     },
     "execution_count": 21,
     "metadata": {},
     "output_type": "execute_result"
    }
   ],
   "execution_count": 21
  },
  {
   "metadata": {},
   "cell_type": "code",
   "outputs": [],
   "execution_count": null,
   "source": "",
   "id": "7a2dd430e051c676"
  }
 ],
 "metadata": {
  "kernelspec": {
   "display_name": "Python 3",
   "language": "python",
   "name": "python3"
  },
  "language_info": {
   "codemirror_mode": {
    "name": "ipython",
    "version": 2
   },
   "file_extension": ".py",
   "mimetype": "text/x-python",
   "name": "python",
   "nbconvert_exporter": "python",
   "pygments_lexer": "ipython2",
   "version": "2.7.6"
  }
 },
 "nbformat": 4,
 "nbformat_minor": 5
}

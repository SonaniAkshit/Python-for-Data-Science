{
 "cells": [
  {
   "metadata": {},
   "cell_type": "markdown",
   "source": [
    "# 📋 Python Lists\n",
    "---\n",
    "## List\n",
    "Lists are used to store multiple items in a single variable.\n",
    "\n",
    "Lists are one of 4 built-in data types in Python used to store collections of data, the other 3 are Tuple, Set, and Dictionary, all with different qualities and usage.\n",
    "\n",
    "Lists are created using square brackets:\n",
    "\n",
    "<img src=\"https://media2.giphy.com/media/QssGEmpkyEOhBCb7e1/giphy.gif?cid=ecf05e47a0n3gi1bfqntqmob8g9aid1oyj2wr3ds3mg700bl&rid=giphy.gif\" width=\"22px\" align=\"top\"/> **Code**"
   ],
   "id": "eb6ea3d4c807afc1"
  },
  {
   "metadata": {
    "ExecuteTime": {
     "end_time": "2025-06-25T08:30:44.425609Z",
     "start_time": "2025-06-25T08:30:44.416611Z"
    }
   },
   "cell_type": "code",
   "source": [
    "from operator import index\n",
    "\n",
    "mylist = ['apple','banana','orange']\n",
    "print(mylist)"
   ],
   "id": "507e5904e8f23f38",
   "outputs": [
    {
     "name": "stdout",
     "output_type": "stream",
     "text": [
      "['apple', 'banana', 'orange']\n"
     ]
    }
   ],
   "execution_count": 10
  },
  {
   "metadata": {},
   "cell_type": "markdown",
   "source": [
    "### List Items\n",
    "List items are ordered, changeable, and allow duplicate values.\n",
    "\n",
    "List items are indexed, the first item has index `[0]`, the second item has index `[1]` etc.\n",
    "\n",
    "### Ordered\n",
    "When we say that lists are ordered, it means that the items have a defined order, and that order will not change.\n",
    "\n",
    "If you add new items to a list, the new items will be placed at the end of the list.\n",
    "\n",
    "> **Note:** There are some list methods that will change the order, but in general: the order of the items will not change.\n",
    "\n",
    "### Changeable\n",
    "The list is changeable, meaning that we can change, add, and remove items in a list after it has been created.\n",
    "\n",
    "### Allow Duplicates\n",
    "Since lists are indexed, lists can have items with the same value:\n",
    "\n",
    "<img src=\"https://media2.giphy.com/media/QssGEmpkyEOhBCb7e1/giphy.gif?cid=ecf05e47a0n3gi1bfqntqmob8g9aid1oyj2wr3ds3mg700bl&rid=giphy.gif\" width=\"22px\" align=\"top\"/> **Code**"
   ],
   "id": "4f42b25b1e946bc8"
  },
  {
   "metadata": {
    "ExecuteTime": {
     "end_time": "2025-06-25T08:31:02.182586Z",
     "start_time": "2025-06-25T08:31:02.175490Z"
    }
   },
   "cell_type": "code",
   "source": [
    "list = [\"apple\", \"banana\", \"cherry\", \"apple\", \"cherry\"]\n",
    "print(list)"
   ],
   "id": "63b1e95628b9777c",
   "outputs": [
    {
     "name": "stdout",
     "output_type": "stream",
     "text": [
      "['apple', 'banana', 'cherry', 'apple', 'cherry']\n"
     ]
    }
   ],
   "execution_count": 11
  },
  {
   "metadata": {},
   "cell_type": "markdown",
   "source": [
    "### List Length\n",
    "To determine how many items a list has, use the len() function:\n",
    "\n",
    "<img src=\"https://media2.giphy.com/media/QssGEmpkyEOhBCb7e1/giphy.gif?cid=ecf05e47a0n3gi1bfqntqmob8g9aid1oyj2wr3ds3mg700bl&rid=giphy.gif\" width=\"22px\" align=\"top\"/> **Code**"
   ],
   "id": "d69f62b9bf491fdf"
  },
  {
   "metadata": {
    "ExecuteTime": {
     "end_time": "2025-06-25T08:33:33.834396Z",
     "start_time": "2025-06-25T08:33:33.818447Z"
    }
   },
   "cell_type": "code",
   "source": [
    "print(len(mylist))\n",
    "print(len(list))"
   ],
   "id": "442cbcaf62177ecf",
   "outputs": [
    {
     "name": "stdout",
     "output_type": "stream",
     "text": [
      "3\n",
      "5\n"
     ]
    }
   ],
   "execution_count": 12
  },
  {
   "metadata": {},
   "cell_type": "markdown",
   "source": [
    "### List Items - Data Types\n",
    "List items can be of any data type:\n",
    "\n",
    "<img src=\"https://media2.giphy.com/media/QssGEmpkyEOhBCb7e1/giphy.gif?cid=ecf05e47a0n3gi1bfqntqmob8g9aid1oyj2wr3ds3mg700bl&rid=giphy.gif\" width=\"22px\" align=\"top\"/> **Code**"
   ],
   "id": "cb435b6ff7d53664"
  },
  {
   "metadata": {
    "ExecuteTime": {
     "end_time": "2025-06-25T08:34:29.506977Z",
     "start_time": "2025-06-25T08:34:29.497519Z"
    }
   },
   "cell_type": "code",
   "source": [
    "list1 = [\"apple\", \"banana\", \"cherry\"]\n",
    "list2 = [1, 5, 7, 9, 3]\n",
    "list3 = [True, False, False]"
   ],
   "id": "6527e9e8e15e6bda",
   "outputs": [],
   "execution_count": 13
  },
  {
   "metadata": {},
   "cell_type": "markdown",
   "source": "A list can contain different data types:",
   "id": "4e489eb5798ade2"
  },
  {
   "metadata": {
    "ExecuteTime": {
     "end_time": "2025-06-25T08:34:55.053513Z",
     "start_time": "2025-06-25T08:34:55.045848Z"
    }
   },
   "cell_type": "code",
   "source": "list1 = [\"abc\", 34, True, 40, \"male\"]\n",
   "id": "47e0f49ab348ab57",
   "outputs": [],
   "execution_count": 14
  },
  {
   "metadata": {},
   "cell_type": "markdown",
   "source": [
    "### type()\n",
    "From Python's perspective, lists are defined as objects with the data type 'list':\n",
    "\n",
    "<img src=\"https://media2.giphy.com/media/QssGEmpkyEOhBCb7e1/giphy.gif?cid=ecf05e47a0n3gi1bfqntqmob8g9aid1oyj2wr3ds3mg700bl&rid=giphy.gif\" width=\"22px\" align=\"top\"/> **Code**"
   ],
   "id": "5b36bfbac3eca8ed"
  },
  {
   "metadata": {
    "ExecuteTime": {
     "end_time": "2025-06-25T08:35:47.031347Z",
     "start_time": "2025-06-25T08:35:47.016445Z"
    }
   },
   "cell_type": "code",
   "source": "type(list1)",
   "id": "2017fa88b9e70a5e",
   "outputs": [
    {
     "data": {
      "text/plain": [
       "list"
      ]
     },
     "execution_count": 15,
     "metadata": {},
     "output_type": "execute_result"
    }
   ],
   "execution_count": 15
  },
  {
   "metadata": {
    "ExecuteTime": {
     "end_time": "2025-06-25T08:36:09.090050Z",
     "start_time": "2025-06-25T08:36:09.079070Z"
    }
   },
   "cell_type": "code",
   "source": "print(type(list1))",
   "id": "4debc42e3c96cc69",
   "outputs": [
    {
     "name": "stdout",
     "output_type": "stream",
     "text": [
      "<class 'list'>\n"
     ]
    }
   ],
   "execution_count": 17
  },
  {
   "metadata": {},
   "cell_type": "markdown",
   "source": [
    "### Python Collections (Arrays)\n",
    "There are four collection data types in the Python programming language:\n",
    "\n",
    "- **List** is a collection which is ordered and changeable. Allows duplicate members.\n",
    "- **Tuple** is a collection which is ordered and unchangeable. Allows duplicate members.\n",
    "- **Set** is a collection which is unordered, unchangeable*, and unindexed. No duplicate members.\n",
    "- **Dictionary** is a collection which is ordered** and changeable. No duplicate members."
   ],
   "id": "fad938ecac7148ec"
  },
  {
   "metadata": {},
   "cell_type": "markdown",
   "source": [
    "---\n",
    "\n",
    "## 📚 Python - Access List Items\n",
    "---\n",
    "\n",
    "You can access items in a list by referring to their index number, enclosed in square brackets `[]`.\n",
    "\n",
    "### 🧠 Indexing Rules\n",
    "\n",
    "| Type          | Description                       | Example    |\n",
    "| ------------- | --------------------------------- | ---------- |\n",
    "| `my_list[0]`  | 📍 First item (index starts at 0) | `\"apple\"`  |\n",
    "| `my_list[1]`  | 📍 Second item                    | `\"banana\"` |\n",
    "| `my_list[-1]` | 🔚 Last item                      | `\"cherry\"` |\n",
    "| `my_list[-2]` | 🔙 Second last item               | `\"banana\"` |\n",
    "\n",
    "<img src=\"https://media2.giphy.com/media/QssGEmpkyEOhBCb7e1/giphy.gif?cid=ecf05e47a0n3gi1bfqntqmob8g9aid1oyj2wr3ds3mg700bl&rid=giphy.gif\" width=\"22px\" align=\"top\"/> **Code**\n"
   ],
   "id": "b57f0438baa27729"
  },
  {
   "metadata": {
    "ExecuteTime": {
     "end_time": "2025-06-25T09:23:56.114287Z",
     "start_time": "2025-06-25T09:23:56.104065Z"
    }
   },
   "cell_type": "code",
   "source": [
    "my_list=['apple','banana','cherry','banana']\n",
    "print(my_list)\n",
    "print()\n",
    "print(\"List positive indexing:\")\n",
    "print(my_list[0])\n",
    "print(my_list[1])\n",
    "print(my_list[2])\n",
    "print(my_list[3])\n",
    "print()\n",
    "print(\"List negative indexing:\")\n",
    "print(my_list[-1])\n",
    "print(my_list[-2])\n",
    "print(my_list[-3])\n",
    "print(my_list[-4])\n"
   ],
   "id": "4dd8782d944ee1ee",
   "outputs": [
    {
     "name": "stdout",
     "output_type": "stream",
     "text": [
      "['apple', 'banana', 'cherry', 'banana']\n",
      "\n",
      "List positive indexing:\n",
      "apple\n",
      "banana\n",
      "cherry\n",
      "banana\n",
      "\n",
      "List negative indexing:\n",
      "banana\n",
      "cherry\n",
      "banana\n",
      "apple\n"
     ]
    }
   ],
   "execution_count": 11
  },
  {
   "metadata": {},
   "cell_type": "markdown",
   "source": [
    "---\n",
    "\n",
    "## ✏️ Python - Change List Items\n",
    "---\n",
    "### 🔄 Modify a Single Item\n",
    "You can change the value of a specific item by referring to its **index number**.\n",
    "\n",
    "<img src=\"https://media2.giphy.com/media/QssGEmpkyEOhBCb7e1/giphy.gif?cid=ecf05e47a0n3gi1bfqntqmob8g9aid1oyj2wr3ds3mg700bl&rid=giphy.gif\" width=\"22px\" align=\"top\"/> **Code**"
   ],
   "id": "1fdc5fd9d5954ea4"
  },
  {
   "metadata": {
    "ExecuteTime": {
     "end_time": "2025-06-25T09:53:48.725447Z",
     "start_time": "2025-06-25T09:53:48.711450Z"
    }
   },
   "cell_type": "code",
   "source": [
    "fruits = ['apple','banana','orange']\n",
    "fruits[1] = \"mengo\"\n",
    "fruits # print"
   ],
   "id": "a11b99dd6fc5dc0c",
   "outputs": [
    {
     "data": {
      "text/plain": [
       "['apple', 'mengo', 'orange']"
      ]
     },
     "execution_count": 35,
     "metadata": {},
     "output_type": "execute_result"
    }
   ],
   "execution_count": 35
  },
  {
   "metadata": {},
   "cell_type": "markdown",
   "source": [
    "---\n",
    "\n",
    "### 🔁 Change a Range of Items\n",
    "You can also update multiple items at once by specifying a **range of indexes**:\n",
    "\n",
    "<img src=\"https://media2.giphy.com/media/QssGEmpkyEOhBCb7e1/giphy.gif?cid=ecf05e47a0n3gi1bfqntqmob8g9aid1oyj2wr3ds3mg700bl&rid=giphy.gif\" width=\"22px\" align=\"top\"/> **Code**"
   ],
   "id": "e41b62be4c4a9e7a"
  },
  {
   "metadata": {
    "ExecuteTime": {
     "end_time": "2025-06-25T09:34:04.075559Z",
     "start_time": "2025-06-25T09:34:04.065333Z"
    }
   },
   "cell_type": "code",
   "source": [
    "fruits = ['apple','banana','orange','cherry']\n",
    "fruits[1:3] = ['mengo','kiwi']\n",
    "fruits # print"
   ],
   "id": "8e95aee895b67825",
   "outputs": [
    {
     "data": {
      "text/plain": [
       "['apple', 'mengo', 'kiwi', 'cherry']"
      ]
     },
     "execution_count": 19,
     "metadata": {},
     "output_type": "execute_result"
    }
   ],
   "execution_count": 19
  },
  {
   "metadata": {},
   "cell_type": "markdown",
   "source": [
    "---\n",
    "\n",
    "### 🔄 Replace with More or Fewer Items\n",
    "You can even **replace a range** with a different number of items:\n",
    "\n",
    "<img src=\"https://media2.giphy.com/media/QssGEmpkyEOhBCb7e1/giphy.gif?cid=ecf05e47a0n3gi1bfqntqmob8g9aid1oyj2wr3ds3mg700bl&rid=giphy.gif\" width=\"22px\" align=\"top\"/> **Code**"
   ],
   "id": "bc6269e8f3cfd872"
  },
  {
   "metadata": {
    "ExecuteTime": {
     "end_time": "2025-06-25T09:36:22.813926Z",
     "start_time": "2025-06-25T09:36:22.804351Z"
    }
   },
   "cell_type": "code",
   "source": [
    "fruits = ['apple','banana','orange']\n",
    "fruits[1:2] = ['kiwi','pineapple']\n",
    "fruits # print"
   ],
   "id": "5d91209093bc3500",
   "outputs": [
    {
     "data": {
      "text/plain": [
       "['apple', 'kiwi', 'pineapple', 'orange']"
      ]
     },
     "execution_count": 21,
     "metadata": {},
     "output_type": "execute_result"
    }
   ],
   "execution_count": 21
  },
  {
   "metadata": {},
   "cell_type": "markdown",
   "source": [
    "---\n",
    "\n",
    "## ➕ Python - Add List Items\n",
    "\n",
    "You can add items to a list using different methods depending on your needs.\n",
    "\n",
    "---\n",
    "### 1️⃣ `append()` - Add Single Item to End\n",
    "\n",
    "<img src=\"https://media2.giphy.com/media/QssGEmpkyEOhBCb7e1/giphy.gif?cid=ecf05e47a0n3gi1bfqntqmob8g9aid1oyj2wr3ds3mg700bl&rid=giphy.gif\" width=\"22px\" align=\"top\"/> **Code**"
   ],
   "id": "7649497dad6aabe4"
  },
  {
   "metadata": {
    "ExecuteTime": {
     "end_time": "2025-06-25T09:43:21.000861Z",
     "start_time": "2025-06-25T09:43:20.985019Z"
    }
   },
   "cell_type": "code",
   "source": [
    "fruits = ['apple','kiwi']\n",
    "fruits.append('pineapple')\n",
    "fruits"
   ],
   "id": "719a6f641ff0d602",
   "outputs": [
    {
     "data": {
      "text/plain": [
       "['apple', 'kiwi', 'pineapple']"
      ]
     },
     "execution_count": 22,
     "metadata": {},
     "output_type": "execute_result"
    }
   ],
   "execution_count": 22
  },
  {
   "metadata": {},
   "cell_type": "markdown",
   "source": [
    "---\n",
    "\n",
    "### 2️⃣ `insert()` - Add Item at Specific Index\n",
    "\n",
    "<img src=\"https://media2.giphy.com/media/QssGEmpkyEOhBCb7e1/giphy.gif?cid=ecf05e47a0n3gi1bfqntqmob8g9aid1oyj2wr3ds3mg700bl&rid=giphy.gif\" width=\"22px\" align=\"top\"/> **Code**"
   ],
   "id": "88a0773ce25e8b52"
  },
  {
   "metadata": {
    "ExecuteTime": {
     "end_time": "2025-06-25T09:45:49.653865Z",
     "start_time": "2025-06-25T09:45:49.642231Z"
    }
   },
   "cell_type": "code",
   "source": [
    "fruits = ['apple','kiwi','pineapple']\n",
    "fruits.insert(0,'mengo')\n",
    "fruits"
   ],
   "id": "2842ed55408edcd9",
   "outputs": [
    {
     "data": {
      "text/plain": [
       "['mengo', 'apple', 'kiwi', 'pineapple']"
      ]
     },
     "execution_count": 25,
     "metadata": {},
     "output_type": "execute_result"
    }
   ],
   "execution_count": 25
  },
  {
   "metadata": {},
   "cell_type": "markdown",
   "source": [
    "---\n",
    "\n",
    "### 3️⃣ `extend()` - Add Items from Another List\n",
    "\n",
    "\n",
    "<img src=\"https://media2.giphy.com/media/QssGEmpkyEOhBCb7e1/giphy.gif?cid=ecf05e47a0n3gi1bfqntqmob8g9aid1oyj2wr3ds3mg700bl&rid=giphy.gif\" width=\"22px\" align=\"top\"/> **Code**"
   ],
   "id": "129024ea5c246096"
  },
  {
   "metadata": {
    "ExecuteTime": {
     "end_time": "2025-06-25T09:51:19.398285Z",
     "start_time": "2025-06-25T09:51:19.389745Z"
    }
   },
   "cell_type": "code",
   "source": [
    "fruits = ['apple','kiwi','pineapple']\n",
    "tropical = ['mengo','chery']\n",
    "fruits.extend(tropical)\n",
    "fruits"
   ],
   "id": "87ac6ef31f37e846",
   "outputs": [
    {
     "data": {
      "text/plain": [
       "['apple', 'kiwi', 'pineapple', 'mengo', 'chery']"
      ]
     },
     "execution_count": 32,
     "metadata": {},
     "output_type": "execute_result"
    }
   ],
   "execution_count": 32
  },
  {
   "metadata": {
    "ExecuteTime": {
     "end_time": "2025-06-25T09:51:21.651077Z",
     "start_time": "2025-06-25T09:51:21.641893Z"
    }
   },
   "cell_type": "code",
   "source": [
    "fruits = ['apple','kiwi','pineapple']\n",
    "tropical = ['mengo','chery']\n",
    "anothor = ['banana']\n",
    "fruits.extend(tropical)\n",
    "fruits.extend(anothor)\n",
    "fruits"
   ],
   "id": "d7353aef68fc9320",
   "outputs": [
    {
     "data": {
      "text/plain": [
       "['apple', 'kiwi', 'pineapple', 'mengo', 'chery', 'banana']"
      ]
     },
     "execution_count": 33,
     "metadata": {},
     "output_type": "execute_result"
    }
   ],
   "execution_count": 33
  },
  {
   "metadata": {
    "ExecuteTime": {
     "end_time": "2025-06-25T09:51:32.276530Z",
     "start_time": "2025-06-25T09:51:32.256776Z"
    }
   },
   "cell_type": "code",
   "source": [
    "fruits = ['apple','kiwi','pineapple']\n",
    "fruits.extend('pineapple')\n",
    "fruits"
   ],
   "id": "824f094b97b6ad1d",
   "outputs": [
    {
     "data": {
      "text/plain": [
       "['apple', 'kiwi', 'pineapple', 'p', 'i', 'n', 'e', 'a', 'p', 'p', 'l', 'e']"
      ]
     },
     "execution_count": 34,
     "metadata": {},
     "output_type": "execute_result"
    }
   ],
   "execution_count": 34
  },
  {
   "metadata": {},
   "cell_type": "markdown",
   "source": [
    "### 💡 Tip:\n",
    "- Use `append()` to add one item.\n",
    "- Use `insert()` to control where it's added.\n",
    "- Use `extend()` to merge multiple items at once.\n",
    "\n",
    "---"
   ],
   "id": "940cf3d7bfa6c34e"
  },
  {
   "metadata": {},
   "cell_type": "markdown",
   "source": [
    "## 🗑️ Python - Remove List Items\n",
    "\n",
    "You can remove items from a list using different methods depending on the use case.\n",
    "\n",
    "---\n",
    "\n",
    "### 1️⃣ `remove()` - Remove by Value\n",
    "\n",
    "<img src=\"https://media2.giphy.com/media/QssGEmpkyEOhBCb7e1/giphy.gif?cid=ecf05e47a0n3gi1bfqntqmob8g9aid1oyj2wr3ds3mg700bl&rid=giphy.gif\" width=\"22px\" align=\"top\"/> **Code**"
   ],
   "id": "e2de3197f49830bc"
  },
  {
   "metadata": {
    "ExecuteTime": {
     "end_time": "2025-06-25T10:08:30.104422Z",
     "start_time": "2025-06-25T10:08:30.089985Z"
    }
   },
   "cell_type": "code",
   "source": [
    "fruits = ['apple','kiwi','pineapple']\n",
    "fruits.remove('apple')\n",
    "fruits"
   ],
   "id": "9d30beee07db3595",
   "outputs": [
    {
     "data": {
      "text/plain": [
       "['kiwi', 'pineapple']"
      ]
     },
     "execution_count": 37,
     "metadata": {},
     "output_type": "execute_result"
    }
   ],
   "execution_count": 37
  },
  {
   "metadata": {},
   "cell_type": "markdown",
   "source": [
    "---\n",
    "\n",
    "### 2️⃣ `pop()` - Remove by Index (Default: Last Item)\n",
    "\n",
    "<img src=\"https://media2.giphy.com/media/QssGEmpkyEOhBCb7e1/giphy.gif?cid=ecf05e47a0n3gi1bfqntqmob8g9aid1oyj2wr3ds3mg700bl&rid=giphy.gif\" width=\"22px\" align=\"top\"/> **Code**"
   ],
   "id": "c11059e3383d014a"
  },
  {
   "metadata": {
    "ExecuteTime": {
     "end_time": "2025-06-25T10:09:55.948695Z",
     "start_time": "2025-06-25T10:09:55.938504Z"
    }
   },
   "cell_type": "code",
   "source": [
    "fruits = ['apple','kiwi','pineapple']\n",
    "fruits.pop()\n",
    "fruits"
   ],
   "id": "9f0cddcb65213a",
   "outputs": [
    {
     "data": {
      "text/plain": [
       "['apple', 'kiwi']"
      ]
     },
     "execution_count": 38,
     "metadata": {},
     "output_type": "execute_result"
    }
   ],
   "execution_count": 38
  },
  {
   "metadata": {
    "ExecuteTime": {
     "end_time": "2025-06-25T10:11:24.489108Z",
     "start_time": "2025-06-25T10:11:24.477771Z"
    }
   },
   "cell_type": "code",
   "source": [
    "fruits.pop(0)\n",
    "fruits"
   ],
   "id": "442ef97d31a050f2",
   "outputs": [
    {
     "data": {
      "text/plain": [
       "['kiwi']"
      ]
     },
     "execution_count": 39,
     "metadata": {},
     "output_type": "execute_result"
    }
   ],
   "execution_count": 39
  },
  {
   "metadata": {},
   "cell_type": "markdown",
   "source": [
    "---\n",
    "\n",
    "### 3️⃣ `del` - Delete by Index or Entire List\n",
    "\n",
    "<img src=\"https://media2.giphy.com/media/QssGEmpkyEOhBCb7e1/giphy.gif?cid=ecf05e47a0n3gi1bfqntqmob8g9aid1oyj2wr3ds3mg700bl&rid=giphy.gif\" width=\"22px\" align=\"top\"/> **Code**"
   ],
   "id": "e2713ff6692a0b38"
  },
  {
   "metadata": {
    "ExecuteTime": {
     "end_time": "2025-06-25T10:13:22.378848Z",
     "start_time": "2025-06-25T10:13:22.354162Z"
    }
   },
   "cell_type": "code",
   "source": [
    "fruits = ['apple','kiwi','pineapple']\n",
    "\n",
    "del fruits[0]\n",
    "fruits"
   ],
   "id": "43862a972abd7f3d",
   "outputs": [
    {
     "data": {
      "text/plain": [
       "['kiwi', 'pineapple']"
      ]
     },
     "execution_count": 41,
     "metadata": {},
     "output_type": "execute_result"
    }
   ],
   "execution_count": 41
  },
  {
   "metadata": {
    "ExecuteTime": {
     "end_time": "2025-06-25T10:14:13.806643Z",
     "start_time": "2025-06-25T10:14:13.726217Z"
    }
   },
   "cell_type": "code",
   "source": [
    "del fruits # 🗑️ Deleted the entire list (⚠️ can't access it after this)\n",
    "fruits"
   ],
   "id": "79cb2465fa2f06d8",
   "outputs": [
    {
     "ename": "NameError",
     "evalue": "name 'fruits' is not defined",
     "output_type": "error",
     "traceback": [
      "\u001B[1;31m---------------------------------------------------------------------------\u001B[0m",
      "\u001B[1;31mNameError\u001B[0m                                 Traceback (most recent call last)",
      "Cell \u001B[1;32mIn[44], line 1\u001B[0m\n\u001B[1;32m----> 1\u001B[0m \u001B[38;5;28;01mdel\u001B[39;00m \u001B[43mfruits\u001B[49m \u001B[38;5;66;03m# 🗑️ Deleted the entire list (⚠️ can't access it after this)\u001B[39;00m\n\u001B[0;32m      2\u001B[0m fruits\n",
      "\u001B[1;31mNameError\u001B[0m: name 'fruits' is not defined"
     ]
    }
   ],
   "execution_count": 44
  },
  {
   "metadata": {},
   "cell_type": "markdown",
   "source": [
    "---\n",
    "\n",
    "### 4️⃣ `clear()` - Empty the List\n",
    "\n",
    "<img src=\"https://media2.giphy.com/media/QssGEmpkyEOhBCb7e1/giphy.gif?cid=ecf05e47a0n3gi1bfqntqmob8g9aid1oyj2wr3ds3mg700bl&rid=giphy.gif\" width=\"22px\" align=\"top\"/> **Code**"
   ],
   "id": "d6b00df69f5d8f2e"
  },
  {
   "metadata": {
    "ExecuteTime": {
     "end_time": "2025-06-25T10:15:30.665741Z",
     "start_time": "2025-06-25T10:15:30.640844Z"
    }
   },
   "cell_type": "code",
   "source": [
    "fruits = ['apple','kiwi','pineapple']\n",
    "fruits.clear()\n",
    "fruits"
   ],
   "id": "8b973d6bda3d83ea",
   "outputs": [
    {
     "data": {
      "text/plain": [
       "[]"
      ]
     },
     "execution_count": 45,
     "metadata": {},
     "output_type": "execute_result"
    }
   ],
   "execution_count": 45
  },
  {
   "metadata": {},
   "cell_type": "markdown",
   "source": [
    "### 💡 Tip:\n",
    "- `remove()` deletes by value (first match only)\n",
    "- `pop()` deletes by index and returns the removed item\n",
    "- `del` removes by index or entire list\n",
    "- `clear()` wipes the list clean, keeping it defined\n",
    "\n",
    "---\n",
    "\n",
    "## 🔁 Python - Loop Through Lists\n",
    "\n",
    "You can loop through list items using different methods in Python.\n",
    "\n",
    "---\n",
    "### 1️⃣ `for` Loop\n",
    "<img src=\"https://media2.giphy.com/media/QssGEmpkyEOhBCb7e1/giphy.gif?cid=ecf05e47a0n3gi1bfqntqmob8g9aid1oyj2wr3ds3mg700bl&rid=giphy.gif\" width=\"22px\" align=\"top\"/> **Code**"
   ],
   "id": "7ba39631b4c0f975"
  },
  {
   "metadata": {
    "ExecuteTime": {
     "end_time": "2025-06-25T10:27:51.754394Z",
     "start_time": "2025-06-25T10:27:51.746238Z"
    }
   },
   "cell_type": "code",
   "source": [
    "fruits = ['🥝','🥥','🍇','🍉','🥭','🍎','🍑','🍒','🍓']\n",
    "\n",
    "for fruit in fruits:\n",
    "    print(fruit)"
   ],
   "id": "54d8c931f63cc83",
   "outputs": [
    {
     "name": "stdout",
     "output_type": "stream",
     "text": [
      "🥝\n",
      "🥥\n",
      "🍇\n",
      "🍉\n",
      "🥭\n",
      "🍎\n",
      "🍑\n",
      "🍒\n",
      "🍓\n"
     ]
    }
   ],
   "execution_count": 67
  },
  {
   "metadata": {
    "ExecuteTime": {
     "end_time": "2025-06-25T10:27:44.598101Z",
     "start_time": "2025-06-25T10:27:44.583288Z"
    }
   },
   "cell_type": "code",
   "source": [
    "fruits = ['🥝','🥥','🍇','🍉','🥭','🍎','🍑','🍒','🍓']\n",
    "\n",
    "for fruit in fruits:\n",
    "    print(fruits)"
   ],
   "id": "bfaf1b4ea82e441f",
   "outputs": [
    {
     "name": "stdout",
     "output_type": "stream",
     "text": [
      "['🥝', '🥥', '🍇', '🍉', '🥭', '🍎', '🍑', '🍒', '🍓']\n",
      "['🥝', '🥥', '🍇', '🍉', '🥭', '🍎', '🍑', '🍒', '🍓']\n",
      "['🥝', '🥥', '🍇', '🍉', '🥭', '🍎', '🍑', '🍒', '🍓']\n",
      "['🥝', '🥥', '🍇', '🍉', '🥭', '🍎', '🍑', '🍒', '🍓']\n",
      "['🥝', '🥥', '🍇', '🍉', '🥭', '🍎', '🍑', '🍒', '🍓']\n",
      "['🥝', '🥥', '🍇', '🍉', '🥭', '🍎', '🍑', '🍒', '🍓']\n",
      "['🥝', '🥥', '🍇', '🍉', '🥭', '🍎', '🍑', '🍒', '🍓']\n",
      "['🥝', '🥥', '🍇', '🍉', '🥭', '🍎', '🍑', '🍒', '🍓']\n",
      "['🥝', '🥥', '🍇', '🍉', '🥭', '🍎', '🍑', '🍒', '🍓']\n"
     ]
    }
   ],
   "execution_count": 66
  },
  {
   "metadata": {},
   "cell_type": "markdown",
   "source": [
    "---\n",
    "### 2️⃣ Loop Through Index Numbers with `range()` and `len()`\n",
    "<img src=\"https://media2.giphy.com/media/QssGEmpkyEOhBCb7e1/giphy.gif?cid=ecf05e47a0n3gi1bfqntqmob8g9aid1oyj2wr3ds3mg700bl&rid=giphy.gif\" width=\"22px\" align=\"top\"/> **Code**"
   ],
   "id": "cca2227b655a295b"
  },
  {
   "metadata": {
    "ExecuteTime": {
     "end_time": "2025-06-25T10:26:44.084886Z",
     "start_time": "2025-06-25T10:26:44.074442Z"
    }
   },
   "cell_type": "code",
   "source": [
    "fruits = ['apple','kiwi','banana','mengo']\n",
    "for i in range(len(fruits)):\n",
    "    print(fruits[i])"
   ],
   "id": "b0fc5096b90bbce7",
   "outputs": [
    {
     "name": "stdout",
     "output_type": "stream",
     "text": [
      "apple\n",
      "kiwi\n",
      "banana\n",
      "mengo\n"
     ]
    }
   ],
   "execution_count": 62
  },
  {
   "metadata": {
    "ExecuteTime": {
     "end_time": "2025-06-25T10:26:15.668356Z",
     "start_time": "2025-06-25T10:26:15.660784Z"
    }
   },
   "cell_type": "code",
   "source": [
    "fruits = ['apple','kiwi','banana','mengo']\n",
    "for i in range(len(fruits)):\n",
    "    print(i)"
   ],
   "id": "5a38bea3e3721e85",
   "outputs": [
    {
     "name": "stdout",
     "output_type": "stream",
     "text": [
      "0\n",
      "1\n",
      "2\n",
      "3\n"
     ]
    }
   ],
   "execution_count": 59
  },
  {
   "metadata": {
    "ExecuteTime": {
     "end_time": "2025-06-25T10:26:49.962164Z",
     "start_time": "2025-06-25T10:26:49.954523Z"
    }
   },
   "cell_type": "code",
   "source": [
    "fruits = ['apple','kiwi','banana','mengo']\n",
    "for i in range(len(fruits)):\n",
    "    print(i,end=': ')\n",
    "    print(fruits[i])"
   ],
   "id": "b2a96937cfadb452",
   "outputs": [
    {
     "name": "stdout",
     "output_type": "stream",
     "text": [
      "0: apple\n",
      "1: kiwi\n",
      "2: banana\n",
      "3: mengo\n"
     ]
    }
   ],
   "execution_count": 63
  },
  {
   "metadata": {},
   "cell_type": "markdown",
   "source": [
    "---\n",
    "### 3️⃣ Using `while` Loop\n",
    "<img src=\"https://media2.giphy.com/media/QssGEmpkyEOhBCb7e1/giphy.gif?cid=ecf05e47a0n3gi1bfqntqmob8g9aid1oyj2wr3ds3mg700bl&rid=giphy.gif\" width=\"22px\" align=\"top\"/> **Code**"
   ],
   "id": "9314b53526e0d67d"
  },
  {
   "metadata": {
    "ExecuteTime": {
     "end_time": "2025-06-25T10:30:43.249139Z",
     "start_time": "2025-06-25T10:30:43.241204Z"
    }
   },
   "cell_type": "code",
   "source": [
    "fruits = ['apple','kiwi','banana','mengo']\n",
    "i = 0\n",
    "while i < len(fruits):\n",
    "    print(fruits[i])\n",
    "    i += 1"
   ],
   "id": "214be891185fcd2b",
   "outputs": [
    {
     "name": "stdout",
     "output_type": "stream",
     "text": [
      "apple\n",
      "kiwi\n",
      "banana\n",
      "mengo\n"
     ]
    }
   ],
   "execution_count": 69
  },
  {
   "metadata": {
    "ExecuteTime": {
     "end_time": "2025-06-25T10:30:58.651185Z",
     "start_time": "2025-06-25T10:30:58.642012Z"
    }
   },
   "cell_type": "code",
   "source": [
    "fruits = ['apple','kiwi','banana','mengo']\n",
    "i = 0\n",
    "while i < len(fruits):\n",
    "    print(i)\n",
    "    i += 1"
   ],
   "id": "358d6d86ec0dbd7d",
   "outputs": [
    {
     "name": "stdout",
     "output_type": "stream",
     "text": [
      "0\n",
      "1\n",
      "2\n",
      "3\n"
     ]
    }
   ],
   "execution_count": 70
  },
  {
   "metadata": {
    "ExecuteTime": {
     "end_time": "2025-06-25T10:31:19.813523Z",
     "start_time": "2025-06-25T10:31:19.804739Z"
    }
   },
   "cell_type": "code",
   "source": [
    "fruits = ['apple','kiwi','banana','mengo']\n",
    "i = 0\n",
    "while i < len(fruits):\n",
    "    print(i,end=': ')\n",
    "    print(fruits[i])\n",
    "    i += 1"
   ],
   "id": "c480faa0d1318c9b",
   "outputs": [
    {
     "name": "stdout",
     "output_type": "stream",
     "text": [
      "0: apple\n",
      "1: kiwi\n",
      "2: banana\n",
      "3: mengo\n"
     ]
    }
   ],
   "execution_count": 71
  },
  {
   "metadata": {},
   "cell_type": "markdown",
   "source": [
    "---\n",
    "### 4️⃣ Loop with `enumerate()` — Get Index and Value\n",
    "\n",
    "<img src=\"https://media2.giphy.com/media/QssGEmpkyEOhBCb7e1/giphy.gif?cid=ecf05e47a0n3gi1bfqntqmob8g9aid1oyj2wr3ds3mg700bl&rid=giphy.gif\" width=\"22px\" align=\"top\"/> **Code**"
   ],
   "id": "d764e1e6950b467f"
  },
  {
   "metadata": {
    "ExecuteTime": {
     "end_time": "2025-06-25T10:33:54.733145Z",
     "start_time": "2025-06-25T10:33:54.723657Z"
    }
   },
   "cell_type": "code",
   "source": [
    "fruits = ['🥝','🥥','🍇','🍉','🥭','🍎','🍑','🍒','🍓']\n",
    "for index, fruit in enumerate(fruits):\n",
    "    print(index, fruit)"
   ],
   "id": "a8fe139db7fa7a91",
   "outputs": [
    {
     "name": "stdout",
     "output_type": "stream",
     "text": [
      "0 🥝\n",
      "1 🥥\n",
      "2 🍇\n",
      "3 🍉\n",
      "4 🥭\n",
      "5 🍎\n",
      "6 🍑\n",
      "7 🍒\n",
      "8 🍓\n"
     ]
    }
   ],
   "execution_count": 73
  },
  {
   "metadata": {},
   "cell_type": "markdown",
   "source": [
    "### 💡 Tip:\n",
    "- Use for `loop` for simple iteration ✅\n",
    "- Use `range()` when you need indexes 🔢\n",
    "- Use `enumerate()` to get both index and value 📌\n",
    "\n",
    "---"
   ],
   "id": "f79eab415f63bd09"
  }
 ],
 "metadata": {
  "kernelspec": {
   "display_name": "Python 3",
   "language": "python",
   "name": "python3"
  },
  "language_info": {
   "codemirror_mode": {
    "name": "ipython",
    "version": 2
   },
   "file_extension": ".py",
   "mimetype": "text/x-python",
   "name": "python",
   "nbconvert_exporter": "python",
   "pygments_lexer": "ipython2",
   "version": "2.7.6"
  }
 },
 "nbformat": 4,
 "nbformat_minor": 5
}

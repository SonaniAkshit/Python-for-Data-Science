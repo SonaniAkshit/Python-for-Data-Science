{
 "cells": [
  {
   "metadata": {},
   "cell_type": "markdown",
   "source": [
    "# 🔒 Python Tuples\n",
    "\n",
    "A **tuple** is a collection that is:\n",
    "- **Ordered** ✅\n",
    "- **Immutable** ❌ (cannot be changed after creation)\n",
    "- Allows **duplicate values** ✅\n",
    "\n",
    "Tuples are written with round brackets `()`.\n",
    "\n",
    "---\n",
    "### 1️⃣ Create a Tuple\n",
    "<img src=\"https://media2.giphy.com/media/QssGEmpkyEOhBCb7e1/giphy.gif?cid=ecf05e47a0n3gi1bfqntqmob8g9aid1oyj2wr3ds3mg700bl&rid=giphy.gif\" width=\"22px\" align=\"top\"/> **Code**"
   ],
   "id": "eb9bd127b12f60bd"
  },
  {
   "metadata": {
    "ExecuteTime": {
     "end_time": "2025-06-26T07:47:38.732026Z",
     "start_time": "2025-06-26T07:47:38.714230Z"
    }
   },
   "cell_type": "code",
   "source": [
    "from traceback import print_tb\n",
    "\n",
    "my_tuple = ('apple','banana','cherry')\n",
    "my_tuple"
   ],
   "id": "5a68bbd21f5a82e2",
   "outputs": [
    {
     "data": {
      "text/plain": [
       "('apple', 'banana', 'cherry')"
      ]
     },
     "execution_count": 2,
     "metadata": {},
     "output_type": "execute_result"
    }
   ],
   "execution_count": 2
  },
  {
   "metadata": {},
   "cell_type": "markdown",
   "source": [
    "📦 A simple, fixed-size collection\n",
    "\n",
    "---\n",
    "### 2️⃣ Tuple with One Item\n",
    "<img src=\"https://media2.giphy.com/media/QssGEmpkyEOhBCb7e1/giphy.gif?cid=ecf05e47a0n3gi1bfqntqmob8g9aid1oyj2wr3ds3mg700bl&rid=giphy.gif\" width=\"22px\" align=\"top\"/> **Code**\n"
   ],
   "id": "98cebba7a0a97361"
  },
  {
   "metadata": {
    "ExecuteTime": {
     "end_time": "2025-06-26T07:52:28.366506Z",
     "start_time": "2025-06-26T07:52:28.353407Z"
    }
   },
   "cell_type": "code",
   "source": [
    "single = ('apple') # NOT a tuple\n",
    "type(single)"
   ],
   "id": "e1d1163210ac76ce",
   "outputs": [
    {
     "data": {
      "text/plain": [
       "str"
      ]
     },
     "execution_count": 9,
     "metadata": {},
     "output_type": "execute_result"
    }
   ],
   "execution_count": 9
  },
  {
   "metadata": {
    "ExecuteTime": {
     "end_time": "2025-06-26T07:52:50.033300Z",
     "start_time": "2025-06-26T07:52:50.024142Z"
    }
   },
   "cell_type": "code",
   "source": [
    "single  = ('apple',) # YES it tuple\n",
    "type(single)"
   ],
   "id": "9a63ce5c319458f9",
   "outputs": [
    {
     "data": {
      "text/plain": [
       "tuple"
      ]
     },
     "execution_count": 10,
     "metadata": {},
     "output_type": "execute_result"
    }
   ],
   "execution_count": 10
  },
  {
   "metadata": {},
   "cell_type": "markdown",
   "source": [
    "⚠️ Don't forget the `,`comma! `(\"apple\")` is just a string.\n",
    "\n",
    "---\n",
    "### 3️⃣ Access Tuple Items\n",
    "<img src=\"https://media2.giphy.com/media/QssGEmpkyEOhBCb7e1/giphy.gif?cid=ecf05e47a0n3gi1bfqntqmob8g9aid1oyj2wr3ds3mg700bl&rid=giphy.gif\" width=\"22px\" align=\"top\"/> **Code**"
   ],
   "id": "e27ac27cbbc959df"
  },
  {
   "metadata": {
    "ExecuteTime": {
     "end_time": "2025-06-26T08:10:50.182490Z",
     "start_time": "2025-06-26T08:10:50.175066Z"
    }
   },
   "cell_type": "code",
   "source": "fruits = ('apple','banana','cherry')",
   "id": "87d6faf3addee6bb",
   "outputs": [],
   "execution_count": 11
  },
  {
   "metadata": {
    "ExecuteTime": {
     "end_time": "2025-06-26T08:11:27.932076Z",
     "start_time": "2025-06-26T08:11:27.923301Z"
    }
   },
   "cell_type": "code",
   "source": [
    "print(fruits[0])\n",
    "print(fruits[1])\n",
    "print(fruits[2])"
   ],
   "id": "c786b8547409f873",
   "outputs": [
    {
     "name": "stdout",
     "output_type": "stream",
     "text": [
      "apple\n",
      "banana\n",
      "cherry\n"
     ]
    }
   ],
   "execution_count": 14
  },
  {
   "metadata": {
    "ExecuteTime": {
     "end_time": "2025-06-26T08:11:33.917394Z",
     "start_time": "2025-06-26T08:11:33.882145Z"
    }
   },
   "cell_type": "code",
   "source": "print(fruits[3])",
   "id": "c103c647563e6239",
   "outputs": [
    {
     "ename": "IndexError",
     "evalue": "tuple index out of range",
     "output_type": "error",
     "traceback": [
      "\u001B[1;31m---------------------------------------------------------------------------\u001B[0m",
      "\u001B[1;31mIndexError\u001B[0m                                Traceback (most recent call last)",
      "Cell \u001B[1;32mIn[15], line 1\u001B[0m\n\u001B[1;32m----> 1\u001B[0m \u001B[38;5;28mprint\u001B[39m(\u001B[43mfruits\u001B[49m\u001B[43m[\u001B[49m\u001B[38;5;241;43m3\u001B[39;49m\u001B[43m]\u001B[49m)\n",
      "\u001B[1;31mIndexError\u001B[0m: tuple index out of range"
     ]
    }
   ],
   "execution_count": 15
  },
  {
   "metadata": {
    "ExecuteTime": {
     "end_time": "2025-06-26T08:11:57.691899Z",
     "start_time": "2025-06-26T08:11:57.684219Z"
    }
   },
   "cell_type": "code",
   "source": [
    "print(fruits[-1])\n",
    "print(fruits[-2])\n",
    "print(fruits[-3])"
   ],
   "id": "230a4805c8108fa8",
   "outputs": [
    {
     "name": "stdout",
     "output_type": "stream",
     "text": [
      "cherry\n",
      "banana\n",
      "apple\n"
     ]
    }
   ],
   "execution_count": 16
  },
  {
   "metadata": {
    "ExecuteTime": {
     "end_time": "2025-06-26T08:38:23.691866Z",
     "start_time": "2025-06-26T08:38:23.684421Z"
    }
   },
   "cell_type": "code",
   "source": [
    "print(fruits[1:3])\n",
    "print(fruits[:2])\n",
    "print(fruits[-2:])"
   ],
   "id": "7178ddee3aee0368",
   "outputs": [
    {
     "name": "stdout",
     "output_type": "stream",
     "text": [
      "('banana', 'cherry')\n",
      "('apple', 'banana')\n",
      "('banana', 'cherry')\n"
     ]
    }
   ],
   "execution_count": 32
  },
  {
   "metadata": {},
   "cell_type": "markdown",
   "source": [
    "📍 Indexing works just like lists\n",
    "\n",
    "---\n",
    "### 4️⃣ Loop Through a Tuple\n",
    "<img src=\"https://media2.giphy.com/media/QssGEmpkyEOhBCb7e1/giphy.gif?cid=ecf05e47a0n3gi1bfqntqmob8g9aid1oyj2wr3ds3mg700bl&rid=giphy.gif\" width=\"22px\" align=\"top\"/> **Code**"
   ],
   "id": "9bc25d7bd67f675c"
  },
  {
   "metadata": {
    "ExecuteTime": {
     "end_time": "2025-06-26T08:12:53.109736Z",
     "start_time": "2025-06-26T08:12:53.101927Z"
    }
   },
   "cell_type": "code",
   "source": [
    "for item in fruits:\n",
    "    print(item)"
   ],
   "id": "e5f6dbed094cfe4a",
   "outputs": [
    {
     "name": "stdout",
     "output_type": "stream",
     "text": [
      "apple\n",
      "banana\n",
      "cherry\n"
     ]
    }
   ],
   "execution_count": 17
  },
  {
   "metadata": {},
   "cell_type": "markdown",
   "source": [
    "🔁 Use `for` loop just like lists\n",
    "\n",
    "---\n",
    "### 5️⃣ Check if Item Exists\n",
    "<img src=\"https://media2.giphy.com/media/QssGEmpkyEOhBCb7e1/giphy.gif?cid=ecf05e47a0n3gi1bfqntqmob8g9aid1oyj2wr3ds3mg700bl&rid=giphy.gif\" width=\"22px\" align=\"top\"/> **Code**\n"
   ],
   "id": "805813ebe7137e98"
  },
  {
   "metadata": {
    "ExecuteTime": {
     "end_time": "2025-06-26T08:40:09.092897Z",
     "start_time": "2025-06-26T08:40:09.086224Z"
    }
   },
   "cell_type": "code",
   "source": [
    "if \"banana\" in fruits:\n",
    "    print(\"Yes! 'banana' is in the fruits tuple\")"
   ],
   "id": "3755d6c4c75edfaf",
   "outputs": [
    {
     "name": "stdout",
     "output_type": "stream",
     "text": [
      "Yes! 'banana' is in the fruits tuple\n"
     ]
    }
   ],
   "execution_count": 33
  },
  {
   "metadata": {},
   "cell_type": "markdown",
   "source": [
    "🔍 Check membership with `in`\n",
    "\n",
    "---\n",
    "### 6️⃣ Tuple Length\n",
    "<img src=\"https://media2.giphy.com/media/QssGEmpkyEOhBCb7e1/giphy.gif?cid=ecf05e47a0n3gi1bfqntqmob8g9aid1oyj2wr3ds3mg700bl&rid=giphy.gif\" width=\"22px\" align=\"top\"/> **Code**"
   ],
   "id": "ef09f0f449605a09"
  },
  {
   "metadata": {
    "ExecuteTime": {
     "end_time": "2025-06-26T08:23:52.807172Z",
     "start_time": "2025-06-26T08:23:52.797763Z"
    }
   },
   "cell_type": "code",
   "source": "print(len(fruits))",
   "id": "26396e22c4d4a326",
   "outputs": [
    {
     "name": "stdout",
     "output_type": "stream",
     "text": [
      "3\n"
     ]
    }
   ],
   "execution_count": 23
  },
  {
   "metadata": {},
   "cell_type": "markdown",
   "source": [
    "📏 Use `len()` to get tuple size\n",
    "\n",
    "---\n",
    "### 7️⃣ Tuple with Different Data Types\n",
    "<img src=\"https://media2.giphy.com/media/QssGEmpkyEOhBCb7e1/giphy.gif?cid=ecf05e47a0n3gi1bfqntqmob8g9aid1oyj2wr3ds3mg700bl&rid=giphy.gif\" width=\"22px\" align=\"top\"/> **Code**"
   ],
   "id": "46559ea8dd7aec7e"
  },
  {
   "metadata": {
    "ExecuteTime": {
     "end_time": "2025-06-26T08:26:30.757438Z",
     "start_time": "2025-06-26T08:26:30.746941Z"
    }
   },
   "cell_type": "code",
   "source": [
    "string_tuple = ('Java','Python')\n",
    "string_tuple"
   ],
   "id": "d94399d8e1608231",
   "outputs": [
    {
     "data": {
      "text/plain": [
       "('Java', 'Python')"
      ]
     },
     "execution_count": 24,
     "metadata": {},
     "output_type": "execute_result"
    }
   ],
   "execution_count": 24
  },
  {
   "metadata": {
    "ExecuteTime": {
     "end_time": "2025-06-26T08:26:53.109618Z",
     "start_time": "2025-06-26T08:26:53.101456Z"
    }
   },
   "cell_type": "code",
   "source": [
    "numeric_tuple = (1,2,3,4,5)\n",
    "numeric_tuple"
   ],
   "id": "d2bf6c31d4b209d",
   "outputs": [
    {
     "data": {
      "text/plain": [
       "(1, 2, 3, 4, 5)"
      ]
     },
     "execution_count": 25,
     "metadata": {},
     "output_type": "execute_result"
    }
   ],
   "execution_count": 25
  },
  {
   "metadata": {
    "ExecuteTime": {
     "end_time": "2025-06-26T08:28:38.641195Z",
     "start_time": "2025-06-26T08:28:38.632715Z"
    }
   },
   "cell_type": "code",
   "source": [
    "boolean_tuple = (True,False)\n",
    "boolean_tuple"
   ],
   "id": "997cac80fd312f68",
   "outputs": [
    {
     "data": {
      "text/plain": [
       "(True, False)"
      ]
     },
     "execution_count": 26,
     "metadata": {},
     "output_type": "execute_result"
    }
   ],
   "execution_count": 26
  },
  {
   "metadata": {
    "ExecuteTime": {
     "end_time": "2025-06-26T08:29:57.749133Z",
     "start_time": "2025-06-26T08:29:57.739852Z"
    }
   },
   "cell_type": "code",
   "source": [
    "mix_tuple = (\"Text\",100,True)\n",
    "mix_tuple"
   ],
   "id": "32eea2f7e54aec21",
   "outputs": [
    {
     "data": {
      "text/plain": [
       "('Text', 100, True)"
      ]
     },
     "execution_count": 28,
     "metadata": {},
     "output_type": "execute_result"
    }
   ],
   "execution_count": 28
  },
  {
   "metadata": {},
   "cell_type": "markdown",
   "source": [
    "📚 Tuples can store different data types\n",
    "\n",
    "---\n",
    "### 8️⃣ Tuple Constructor\n",
    "<img src=\"https://media2.giphy.com/media/QssGEmpkyEOhBCb7e1/giphy.gif?cid=ecf05e47a0n3gi1bfqntqmob8g9aid1oyj2wr3ds3mg700bl&rid=giphy.gif\" width=\"22px\" align=\"top\"/> **Code**"
   ],
   "id": "1c6d19b2cbce530b"
  },
  {
   "metadata": {
    "ExecuteTime": {
     "end_time": "2025-06-26T08:31:43.836847Z",
     "start_time": "2025-06-26T08:31:43.829985Z"
    }
   },
   "cell_type": "code",
   "source": [
    "tuple_from_list = tuple(['apple','banana',100,True])\n",
    "print(tuple_from_list)\n",
    "print(type(tuple_from_list))"
   ],
   "id": "941f12c30d12a810",
   "outputs": [
    {
     "name": "stdout",
     "output_type": "stream",
     "text": [
      "('apple', 'banana', 100, True)\n",
      "<class 'tuple'>\n"
     ]
    }
   ],
   "execution_count": 31
  },
  {
   "metadata": {},
   "cell_type": "markdown",
   "source": [
    "🏗️ Convert list to tuple with `tuple()`\n",
    "\n",
    "### 💡 Tip:\n",
    "- Use tuples when you want to ensure data cannot be modified (e.g., coordinates, settings, constant sets).\n",
    "- Tuples are more memory-efficient than lists.\n",
    "---\n",
    "## ✏️ Python - Update Tuples\n",
    "\n",
    "Tuples are **immutable** 🔒 — which means you **cannot change** or add/remove items after creation.\n",
    "\n",
    "But... there are some **workarounds**! ✅\n",
    "\n",
    "---\n",
    "### 1️⃣ Change Tuple Values (via List Conversion)\n",
    "<img src=\"https://media2.giphy.com/media/QssGEmpkyEOhBCb7e1/giphy.gif?cid=ecf05e47a0n3gi1bfqntqmob8g9aid1oyj2wr3ds3mg700bl&rid=giphy.gif\" width=\"22px\" align=\"top\"/> **Code**"
   ],
   "id": "f4c0648cb14ffa67"
  },
  {
   "metadata": {
    "ExecuteTime": {
     "end_time": "2025-06-26T08:46:03.904684Z",
     "start_time": "2025-06-26T08:46:03.895301Z"
    }
   },
   "cell_type": "code",
   "source": [
    "fruits = ('apple','banana','cherry')\n",
    "print(f\"Original Tuple : {fruits}\")\n",
    "temp_list = list(fruits)\n",
    "print(f\"Converted Tuple into List : {temp_list}\")\n",
    "temp_list[1] = \"blueberry\" # Update tuple via list\n",
    "fruits = tuple(temp_list)\n",
    "print(f\"Updated Tuple : {fruits}\")"
   ],
   "id": "37f68a96e1b669e3",
   "outputs": [
    {
     "name": "stdout",
     "output_type": "stream",
     "text": [
      "Original Tuple : ('apple', 'banana', 'cherry')\n",
      "Converted Tuple into List : ['apple', 'banana', 'cherry']\n",
      "Updated Tuple : ('apple', 'blueberry', 'cherry')\n"
     ]
    }
   ],
   "execution_count": 39
  },
  {
   "metadata": {},
   "cell_type": "markdown",
   "source": [
    "🔄 Convert to list ➡️ modify ➡️ convert back to tuple\n",
    "\n",
    "---\n",
    "### 2️⃣ Add Items to Tuple\n",
    "<img src=\"https://media2.giphy.com/media/QssGEmpkyEOhBCb7e1/giphy.gif?cid=ecf05e47a0n3gi1bfqntqmob8g9aid1oyj2wr3ds3mg700bl&rid=giphy.gif\" width=\"22px\" align=\"top\"/> **Code**"
   ],
   "id": "7a406e2d0013ea68"
  },
  {
   "metadata": {
    "ExecuteTime": {
     "end_time": "2025-06-26T08:48:34.335368Z",
     "start_time": "2025-06-26T08:48:34.326291Z"
    }
   },
   "cell_type": "code",
   "source": [
    "fruits = ('apple','banana','cherry')\n",
    "new_fruits = fruits + (\"mango\",)\n",
    "new_fruits"
   ],
   "id": "d0e4e82465ab411",
   "outputs": [
    {
     "data": {
      "text/plain": [
       "('apple', 'banana', 'cherry', 'mango')"
      ]
     },
     "execution_count": 40,
     "metadata": {},
     "output_type": "execute_result"
    }
   ],
   "execution_count": 40
  },
  {
   "metadata": {},
   "cell_type": "markdown",
   "source": [
    "➕ Use `+` to create a **new tuple** with additional items\n",
    "\n",
    "---\n",
    "### 3️⃣ Remove Items from Tuple\n",
    "<img src=\"https://media2.giphy.com/media/QssGEmpkyEOhBCb7e1/giphy.gif?cid=ecf05e47a0n3gi1bfqntqmob8g9aid1oyj2wr3ds3mg700bl&rid=giphy.gif\" width=\"22px\" align=\"top\"/> **Code**"
   ],
   "id": "2f828bb40bee786c"
  },
  {
   "metadata": {
    "ExecuteTime": {
     "end_time": "2025-06-26T08:50:50.496930Z",
     "start_time": "2025-06-26T08:50:50.485246Z"
    }
   },
   "cell_type": "code",
   "source": [
    "fruits = (\"apple\",\"banana\",\"cherry\")\n",
    "temp = list(fruits)\n",
    "temp.remove(\"banana\")\n",
    "fruits = tuple(temp)\n",
    "fruits"
   ],
   "id": "5c0dc3e778179227",
   "outputs": [
    {
     "data": {
      "text/plain": [
       "('apple', 'cherry')"
      ]
     },
     "execution_count": 41,
     "metadata": {},
     "output_type": "execute_result"
    }
   ],
   "execution_count": 41
  },
  {
   "metadata": {
    "ExecuteTime": {
     "end_time": "2025-06-26T08:51:42.954868Z",
     "start_time": "2025-06-26T08:51:42.934335Z"
    }
   },
   "cell_type": "code",
   "source": [
    "fruits = ('apple','banana','cherry')\n",
    "temp = list(fruits)\n",
    "temp.pop()\n",
    "fruits = tuple(temp)\n",
    "fruits"
   ],
   "id": "7a9276836e9cd4c6",
   "outputs": [
    {
     "data": {
      "text/plain": [
       "('apple', 'banana')"
      ]
     },
     "execution_count": 42,
     "metadata": {},
     "output_type": "execute_result"
    }
   ],
   "execution_count": 42
  },
  {
   "metadata": {
    "ExecuteTime": {
     "end_time": "2025-06-26T08:52:39.411589Z",
     "start_time": "2025-06-26T08:52:39.402338Z"
    }
   },
   "cell_type": "code",
   "source": [
    "fruits = ('apple','banana','cherry')\n",
    "temp = list(fruits)\n",
    "temp.clear()\n",
    "fruits = tuple(temp)\n",
    "fruits"
   ],
   "id": "ed8f955877ee1a04",
   "outputs": [
    {
     "data": {
      "text/plain": [
       "()"
      ]
     },
     "execution_count": 43,
     "metadata": {},
     "output_type": "execute_result"
    }
   ],
   "execution_count": 43
  },
  {
   "metadata": {},
   "cell_type": "markdown",
   "source": [
    "❌ Again, convert to list to remove items\n",
    "\n",
    "### 💡 Tip:\n",
    "- You can’t update tuples directly — use lists if you need a mutable collection.\n",
    "- Always convert to list if you need flexibility, then back to tuple if needed.\n",
    "---\n",
    "## 📦➡️🔓 Python - Unpack Tuples\n",
    "\n",
    "Tuple **unpacking** allows you to assign tuple values to individual variables in a single line.\n",
    "\n",
    "---\n",
    "### 1️⃣ Basic Unpacking\n",
    "<img src=\"https://media2.giphy.com/media/QssGEmpkyEOhBCb7e1/giphy.gif?cid=ecf05e47a0n3gi1bfqntqmob8g9aid1oyj2wr3ds3mg700bl&rid=giphy.gif\" width=\"22px\" align=\"top\"/> **Code**"
   ],
   "id": "6f3924fb8610603e"
  },
  {
   "metadata": {
    "ExecuteTime": {
     "end_time": "2025-06-26T08:58:14.995191Z",
     "start_time": "2025-06-26T08:58:14.983058Z"
    }
   },
   "cell_type": "code",
   "source": [
    "fruits = ('apple','banana','cherry')\n",
    "(a, b, c) = fruits\n",
    "print(a)\n",
    "print(b)\n",
    "print(c)"
   ],
   "id": "a5e3b1581e88e844",
   "outputs": [
    {
     "name": "stdout",
     "output_type": "stream",
     "text": [
      "apple\n",
      "banana\n",
      "cherry\n"
     ]
    }
   ],
   "execution_count": 45
  },
  {
   "metadata": {},
   "cell_type": "markdown",
   "source": [
    "📦 ➡️ 🍎 ➕ 🍌 ➕ 🍒\n",
    "\n",
    "---\n",
    "### 2️⃣ Unpack with Asterisk `*`\n",
    "Use `*` to grab remaining values into a list:\n",
    "\n",
    "<img src=\"https://media2.giphy.com/media/QssGEmpkyEOhBCb7e1/giphy.gif?cid=ecf05e47a0n3gi1bfqntqmob8g9aid1oyj2wr3ds3mg700bl&rid=giphy.gif\" width=\"22px\" align=\"top\"/> **Code**"
   ],
   "id": "baa87bec8a70be6"
  },
  {
   "metadata": {
    "ExecuteTime": {
     "end_time": "2025-06-26T09:00:35.580169Z",
     "start_time": "2025-06-26T09:00:35.571122Z"
    }
   },
   "cell_type": "code",
   "source": [
    "fruits = ('apple','banana','cherry','mango','orange')\n",
    "(a, *b, c) = fruits\n",
    "print(a)\n",
    "print(b)\n",
    "print(c)\n"
   ],
   "id": "517034050fad69cd",
   "outputs": [
    {
     "name": "stdout",
     "output_type": "stream",
     "text": [
      "apple\n",
      "['banana', 'cherry', 'mango']\n",
      "orange\n"
     ]
    }
   ],
   "execution_count": 46
  },
  {
   "metadata": {},
   "cell_type": "markdown",
   "source": [
    "⭐ Collect middle values into a list\n",
    "\n",
    "---\n",
    "### 3️⃣ Asterisk Anywhere (Except Alone)\n",
    "<img src=\"https://media2.giphy.com/media/QssGEmpkyEOhBCb7e1/giphy.gif?cid=ecf05e47a0n3gi1bfqntqmob8g9aid1oyj2wr3ds3mg700bl&rid=giphy.gif\" width=\"22px\" align=\"top\"/> **Code**"
   ],
   "id": "6004b88685ddfbf6"
  },
  {
   "metadata": {
    "ExecuteTime": {
     "end_time": "2025-06-26T09:02:47.227753Z",
     "start_time": "2025-06-26T09:02:47.219481Z"
    }
   },
   "cell_type": "code",
   "source": [
    "fruits = ('apple','banana','cherry','mango','orange')\n",
    "(*a,) = fruits\n",
    "print(a)"
   ],
   "id": "d91614322245d92d",
   "outputs": [
    {
     "name": "stdout",
     "output_type": "stream",
     "text": [
      "['apple', 'banana', 'cherry', 'mango', 'orange']\n"
     ]
    }
   ],
   "execution_count": 49
  },
  {
   "metadata": {
    "ExecuteTime": {
     "end_time": "2025-06-26T09:03:20.589640Z",
     "start_time": "2025-06-26T09:03:20.583113Z"
    }
   },
   "cell_type": "code",
   "source": [
    "(*a,b) = fruits\n",
    "print(a)\n",
    "print(b)"
   ],
   "id": "8b52a2fbbdf0346a",
   "outputs": [
    {
     "name": "stdout",
     "output_type": "stream",
     "text": [
      "['apple', 'banana', 'cherry', 'mango']\n",
      "orange\n"
     ]
    }
   ],
   "execution_count": 50
  },
  {
   "metadata": {
    "ExecuteTime": {
     "end_time": "2025-06-26T09:04:01.663744Z",
     "start_time": "2025-06-26T09:04:01.641389Z"
    }
   },
   "cell_type": "code",
   "source": [
    "(*a,*b) = fruits\n",
    "print(a)\n",
    "print(b)"
   ],
   "id": "2b36416becb8bafb",
   "outputs": [
    {
     "ename": "SyntaxError",
     "evalue": "multiple starred expressions in assignment (3755009800.py, line 1)",
     "output_type": "error",
     "traceback": [
      "\u001B[1;36m  Cell \u001B[1;32mIn[51], line 1\u001B[1;36m\u001B[0m\n\u001B[1;33m    (*a,*b) = fruits\u001B[0m\n\u001B[1;37m    ^\u001B[0m\n\u001B[1;31mSyntaxError\u001B[0m\u001B[1;31m:\u001B[0m multiple starred expressions in assignment\n"
     ]
    }
   ],
   "execution_count": 51
  },
  {
   "metadata": {},
   "cell_type": "markdown",
   "source": [
    "⬅️ Asterisk can be used flexibly, but only once\n",
    "\n",
    "### 💡 Tip:\n",
    "- The number of variables must match the number of tuple items unless using `*`\n",
    "- Use unpacking to write cleaner and more readable code\n",
    "---\n",
    "## 🔁 Python - Loop Tuples\n",
    "\n",
    "You can loop through tuples just like lists. Even though tuples are **immutable**, they are **iterable** ✅.\n",
    "\n",
    "---\n",
    "### 1️⃣ Loop Using `for` Loop\n",
    "<img src=\"https://media2.giphy.com/media/QssGEmpkyEOhBCb7e1/giphy.gif?cid=ecf05e47a0n3gi1bfqntqmob8g9aid1oyj2wr3ds3mg700bl&rid=giphy.gif\" width=\"22px\" align=\"top\"/> **Code**"
   ],
   "id": "ae0e667b654190e7"
  },
  {
   "metadata": {
    "ExecuteTime": {
     "end_time": "2025-06-26T09:15:04.926817Z",
     "start_time": "2025-06-26T09:15:04.917683Z"
    }
   },
   "cell_type": "code",
   "source": [
    "fruits = ('apple','banana','cherry')\n",
    "for fruit in fruits:\n",
    "    print(fruit)"
   ],
   "id": "a7d7ea212e9b93fc",
   "outputs": [
    {
     "name": "stdout",
     "output_type": "stream",
     "text": [
      "apple\n",
      "banana\n",
      "cherry\n"
     ]
    }
   ],
   "execution_count": 56
  },
  {
   "metadata": {},
   "cell_type": "markdown",
   "source": [
    "🍎\n",
    "\n",
    "🍌\n",
    "\n",
    "🍒\n",
    "\n",
    "---\n",
    "### 2️⃣ Loop Using Index (`range()` + `len()`)\n",
    "<img src=\"https://media2.giphy.com/media/QssGEmpkyEOhBCb7e1/giphy.gif?cid=ecf05e47a0n3gi1bfqntqmob8g9aid1oyj2wr3ds3mg700bl&rid=giphy.gif\" width=\"22px\" align=\"top\"/> **Code**"
   ],
   "id": "4fafbf7531f17162"
  },
  {
   "metadata": {
    "ExecuteTime": {
     "end_time": "2025-06-26T09:16:40.477191Z",
     "start_time": "2025-06-26T09:16:40.469321Z"
    }
   },
   "cell_type": "code",
   "source": "fruits = ('apple','banana','cherry')",
   "id": "ec03f24fc5edd14e",
   "outputs": [],
   "execution_count": 57
  },
  {
   "metadata": {
    "ExecuteTime": {
     "end_time": "2025-06-26T09:17:11.527911Z",
     "start_time": "2025-06-26T09:17:11.518074Z"
    }
   },
   "cell_type": "code",
   "source": [
    "for i in range(len(fruits)):\n",
    "    print(fruits[i])"
   ],
   "id": "cf9d8a964a3ae3f8",
   "outputs": [
    {
     "name": "stdout",
     "output_type": "stream",
     "text": [
      "apple\n",
      "banana\n",
      "cherry\n"
     ]
    }
   ],
   "execution_count": 58
  },
  {
   "metadata": {
    "ExecuteTime": {
     "end_time": "2025-06-26T09:34:46.884431Z",
     "start_time": "2025-06-26T09:34:46.872917Z"
    }
   },
   "cell_type": "code",
   "source": [
    "for i in range(len(fruits)):\n",
    "    print(i)"
   ],
   "id": "60d4fdd55e974dad",
   "outputs": [
    {
     "name": "stdout",
     "output_type": "stream",
     "text": [
      "0\n",
      "1\n",
      "2\n"
     ]
    }
   ],
   "execution_count": 59
  },
  {
   "metadata": {
    "ExecuteTime": {
     "end_time": "2025-06-26T09:35:22.032497Z",
     "start_time": "2025-06-26T09:35:22.026036Z"
    }
   },
   "cell_type": "code",
   "source": [
    "for i in range(len(fruits)):\n",
    "    print(i,end=\": \")\n",
    "    print(fruits[i])"
   ],
   "id": "5a41bb73fbe8ee40",
   "outputs": [
    {
     "name": "stdout",
     "output_type": "stream",
     "text": [
      "0: apple\n",
      "1: banana\n",
      "2: cherry\n"
     ]
    }
   ],
   "execution_count": 61
  },
  {
   "metadata": {},
   "cell_type": "markdown",
   "source": [
    "🔢 Useful when you need the index too\n",
    "\n",
    "---\n",
    "### 3️⃣ Loop with `enumerate()`\n",
    "<img src=\"https://media2.giphy.com/media/QssGEmpkyEOhBCb7e1/giphy.gif?cid=ecf05e47a0n3gi1bfqntqmob8g9aid1oyj2wr3ds3mg700bl&rid=giphy.gif\" width=\"22px\" align=\"top\"/> **Code**"
   ],
   "id": "51f233474fa765f5"
  },
  {
   "metadata": {
    "ExecuteTime": {
     "end_time": "2025-06-26T09:36:47.837194Z",
     "start_time": "2025-06-26T09:36:47.819840Z"
    }
   },
   "cell_type": "code",
   "source": [
    "fruits = ('apple','banana','cherry')\n",
    "for index, fruits in enumerate(fruits):\n",
    "    print(index, fruits)"
   ],
   "id": "666638ede3f6fd09",
   "outputs": [
    {
     "name": "stdout",
     "output_type": "stream",
     "text": [
      "0 apple\n",
      "1 banana\n",
      "2 cherry\n"
     ]
    }
   ],
   "execution_count": 62
  },
  {
   "metadata": {},
   "cell_type": "markdown",
   "source": [
    "📍 Get both the index and the value together\n",
    "\n",
    "### 💡 Tip:\n",
    "- Tuples support all standard loop techniques used for lists.\n",
    "- Prefer `enumerate()` when you want cleaner access to both index and value.\n",
    "---\n",
    "## 🔗 Python - Join Tuples\n",
    "\n",
    "Tuples are **immutable**, so you cannot change them, but you can **join** two or more tuples to create a new one.\n",
    "\n",
    "---\n",
    "### 1️⃣ Using `+` Operator\n",
    "<img src=\"https://media2.giphy.com/media/QssGEmpkyEOhBCb7e1/giphy.gif?cid=ecf05e47a0n3gi1bfqntqmob8g9aid1oyj2wr3ds3mg700bl&rid=giphy.gif\" width=\"22px\" align=\"top\"/> **Code**"
   ],
   "id": "f016d14f5bfe385b"
  },
  {
   "metadata": {
    "ExecuteTime": {
     "end_time": "2025-06-26T11:10:37.306672Z",
     "start_time": "2025-06-26T11:10:37.295931Z"
    }
   },
   "cell_type": "code",
   "source": [
    "tuple1 = ('apple','banana')\n",
    "tuple2 = ('cherry','orange')\n",
    "tuple3 = ('xyz','abc')\n",
    "joined = tuple1 + tuple2\n",
    "joined"
   ],
   "id": "56420191a32345f8",
   "outputs": [
    {
     "data": {
      "text/plain": [
       "('apple', 'banana', 'cherry', 'orange')"
      ]
     },
     "execution_count": 3,
     "metadata": {},
     "output_type": "execute_result"
    }
   ],
   "execution_count": 3
  },
  {
   "metadata": {},
   "cell_type": "markdown",
   "source": [
    "📦 + 📦 = 📦 Combined tuple\n",
    "\n",
    "---\n",
    "### 2️⃣ Join Multiple Tuples\n",
    "<img src=\"https://media2.giphy.com/media/QssGEmpkyEOhBCb7e1/giphy.gif?cid=ecf05e47a0n3gi1bfqntqmob8g9aid1oyj2wr3ds3mg700bl&rid=giphy.gif\" width=\"22px\" align=\"top\"/> **Code**"
   ],
   "id": "cf542b0d2013bfd"
  },
  {
   "metadata": {
    "ExecuteTime": {
     "end_time": "2025-06-26T11:11:29.073358Z",
     "start_time": "2025-06-26T11:11:29.062080Z"
    }
   },
   "cell_type": "code",
   "source": [
    "a = (\"a\",)\n",
    "b = (\"b\",)\n",
    "c = (\"c\",)\n",
    "result = a+b+c\n",
    "result"
   ],
   "id": "49d53de0d48a1410",
   "outputs": [
    {
     "data": {
      "text/plain": [
       "('a', 'b', 'c')"
      ]
     },
     "execution_count": 4,
     "metadata": {},
     "output_type": "execute_result"
    }
   ],
   "execution_count": 4
  },
  {
   "metadata": {},
   "cell_type": "markdown",
   "source": [
    "➕ Easily chain multiple tuples together\n",
    "\n",
    "---\n",
    "### 3️⃣ Repeat a Tuple with `*`\n",
    "<img src=\"https://media2.giphy.com/media/QssGEmpkyEOhBCb7e1/giphy.gif?cid=ecf05e47a0n3gi1bfqntqmob8g9aid1oyj2wr3ds3mg700bl&rid=giphy.gif\" width=\"22px\" align=\"top\"/> **Code**"
   ],
   "id": "423cd4dffb5c9a4f"
  },
  {
   "metadata": {
    "ExecuteTime": {
     "end_time": "2025-06-26T11:13:59.770400Z",
     "start_time": "2025-06-26T11:13:59.762090Z"
    }
   },
   "cell_type": "code",
   "source": [
    "fruits = ('apple','banana')\n",
    "repeated = fruits * 2\n",
    "repeated"
   ],
   "id": "a2d4d88c8adde363",
   "outputs": [
    {
     "data": {
      "text/plain": [
       "('apple', 'banana', 'apple', 'banana')"
      ]
     },
     "execution_count": 7,
     "metadata": {},
     "output_type": "execute_result"
    }
   ],
   "execution_count": 7
  },
  {
   "metadata": {},
   "cell_type": "markdown",
   "source": [
    "🔁 Repeat tuple content multiple times\n",
    "\n",
    "### 💡 Tip:\n",
    "- Joining tuples creates a new tuple — original tuples stay unchanged.\n",
    "- Use `+` for joining, and `*` for repeating.\n",
    "---\n"
   ],
   "id": "40c900ccfdf2b42a"
  },
  {
   "metadata": {},
   "cell_type": "markdown",
   "source": [
    "## 📋 Python - Tuple Methods\n",
    "\n",
    "Since tuples are **immutable**, they support **fewer methods** than lists. But there are still a couple of useful built-in methods:\n",
    "\n",
    "---\n",
    "\n",
    "| Method     | Description                                | Example                              |\n",
    "|------------|--------------------------------------------|--------------------------------------|\n",
    "| `count()`  | 🔢 Returns the number of times a value appears | `t.count(\"apple\")` → `2`             |\n",
    "| `index()`  | 🔍 Returns the index of the first match     | `t.index(\"banana\")` → `1`            |\n",
    "\n",
    "---\n",
    "\n",
    "### 1️⃣ `count()` Example\n",
    "<img src=\"https://media2.giphy.com/media/QssGEmpkyEOhBCb7e1/giphy.gif?cid=ecf05e47a0n3gi1bfqntqmob8g9aid1oyj2wr3ds3mg700bl&rid=giphy.gif\" width=\"22px\" align=\"top\"/> **Code**"
   ],
   "id": "88e297c3bfa1d981"
  },
  {
   "metadata": {
    "ExecuteTime": {
     "end_time": "2025-06-26T11:17:06.538675Z",
     "start_time": "2025-06-26T11:17:06.532493Z"
    }
   },
   "cell_type": "code",
   "source": [
    "fruits = ('apple','banana','cherry','apple')\n",
    "print(fruits.count('apple'))"
   ],
   "id": "f58e73381642cced",
   "outputs": [
    {
     "name": "stdout",
     "output_type": "stream",
     "text": [
      "2\n"
     ]
    }
   ],
   "execution_count": 8
  },
  {
   "metadata": {},
   "cell_type": "markdown",
   "source": [
    "📦 Counts how many times `\"apple\"` appears\n",
    "\n",
    "---\n",
    "### 2️⃣ `index()` Example\n",
    "<img src=\"https://media2.giphy.com/media/QssGEmpkyEOhBCb7e1/giphy.gif?cid=ecf05e47a0n3gi1bfqntqmob8g9aid1oyj2wr3ds3mg700bl&rid=giphy.gif\" width=\"22px\" align=\"top\"/> **Code**"
   ],
   "id": "5eec75ed89ded5d2"
  },
  {
   "metadata": {
    "ExecuteTime": {
     "end_time": "2025-06-26T11:18:59.261239Z",
     "start_time": "2025-06-26T11:18:59.252233Z"
    }
   },
   "cell_type": "code",
   "source": [
    "fruits = ('apple','banana','cherry')\n",
    "print(fruits.index('banana'))"
   ],
   "id": "c3d234b4a1d815fb",
   "outputs": [
    {
     "name": "stdout",
     "output_type": "stream",
     "text": [
      "1\n"
     ]
    }
   ],
   "execution_count": 9
  },
  {
   "metadata": {},
   "cell_type": "markdown",
   "source": [
    "🔢 Returns the index of `\"banana\"`\n",
    "\n",
    "### 💡 Tip:\n",
    "- Use tuples when you need **fixed, read-only** data.\n",
    "- If you need more flexible methods, consider using a list instead."
   ],
   "id": "94dbe951a4ae40b5"
  }
 ],
 "metadata": {
  "kernelspec": {
   "display_name": "Python 3",
   "language": "python",
   "name": "python3"
  },
  "language_info": {
   "codemirror_mode": {
    "name": "ipython",
    "version": 2
   },
   "file_extension": ".py",
   "mimetype": "text/x-python",
   "name": "python",
   "nbconvert_exporter": "python",
   "pygments_lexer": "ipython2",
   "version": "2.7.6"
  }
 },
 "nbformat": 4,
 "nbformat_minor": 5
}

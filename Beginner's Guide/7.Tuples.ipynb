{
 "cells": [
  {
   "metadata": {},
   "cell_type": "markdown",
   "source": [
    "# 🔒 Python Tuples\n",
    "\n",
    "A **tuple** is a collection that is:\n",
    "- **Ordered** ✅\n",
    "- **Immutable** ❌ (cannot be changed after creation)\n",
    "- Allows **duplicate values** ✅\n",
    "\n",
    "Tuples are written with round brackets `()`.\n",
    "\n",
    "---\n",
    "### 1️⃣ Create a Tuple\n",
    "<img src=\"https://media2.giphy.com/media/QssGEmpkyEOhBCb7e1/giphy.gif?cid=ecf05e47a0n3gi1bfqntqmob8g9aid1oyj2wr3ds3mg700bl&rid=giphy.gif\" width=\"22px\" align=\"top\"/> **Code**"
   ],
   "id": "eb9bd127b12f60bd"
  },
  {
   "metadata": {
    "ExecuteTime": {
     "end_time": "2025-06-26T07:47:38.732026Z",
     "start_time": "2025-06-26T07:47:38.714230Z"
    }
   },
   "cell_type": "code",
   "source": [
    "my_tuple = ('apple','banana','cherry')\n",
    "my_tuple"
   ],
   "id": "5a68bbd21f5a82e2",
   "outputs": [
    {
     "data": {
      "text/plain": [
       "('apple', 'banana', 'cherry')"
      ]
     },
     "execution_count": 2,
     "metadata": {},
     "output_type": "execute_result"
    }
   ],
   "execution_count": 2
  },
  {
   "metadata": {},
   "cell_type": "markdown",
   "source": [
    "📦 A simple, fixed-size collection\n",
    "\n",
    "---\n",
    "### 2️⃣ Tuple with One Item\n",
    "<img src=\"https://media2.giphy.com/media/QssGEmpkyEOhBCb7e1/giphy.gif?cid=ecf05e47a0n3gi1bfqntqmob8g9aid1oyj2wr3ds3mg700bl&rid=giphy.gif\" width=\"22px\" align=\"top\"/> **Code**\n"
   ],
   "id": "98cebba7a0a97361"
  },
  {
   "metadata": {
    "ExecuteTime": {
     "end_time": "2025-06-26T07:52:28.366506Z",
     "start_time": "2025-06-26T07:52:28.353407Z"
    }
   },
   "cell_type": "code",
   "source": [
    "single = ('apple') # NOT a tuple\n",
    "type(single)"
   ],
   "id": "e1d1163210ac76ce",
   "outputs": [
    {
     "data": {
      "text/plain": [
       "str"
      ]
     },
     "execution_count": 9,
     "metadata": {},
     "output_type": "execute_result"
    }
   ],
   "execution_count": 9
  },
  {
   "metadata": {
    "ExecuteTime": {
     "end_time": "2025-06-26T07:52:50.033300Z",
     "start_time": "2025-06-26T07:52:50.024142Z"
    }
   },
   "cell_type": "code",
   "source": [
    "single  = ('apple',) # YES it tuple\n",
    "type(single)"
   ],
   "id": "9a63ce5c319458f9",
   "outputs": [
    {
     "data": {
      "text/plain": [
       "tuple"
      ]
     },
     "execution_count": 10,
     "metadata": {},
     "output_type": "execute_result"
    }
   ],
   "execution_count": 10
  },
  {
   "metadata": {},
   "cell_type": "markdown",
   "source": [
    "⚠️ Don't forget the `,`comma! `(\"apple\")` is just a string.\n",
    "\n",
    "---\n",
    "### 3️⃣ Access Tuple Items\n",
    "<img src=\"https://media2.giphy.com/media/QssGEmpkyEOhBCb7e1/giphy.gif?cid=ecf05e47a0n3gi1bfqntqmob8g9aid1oyj2wr3ds3mg700bl&rid=giphy.gif\" width=\"22px\" align=\"top\"/> **Code**"
   ],
   "id": "e27ac27cbbc959df"
  },
  {
   "metadata": {
    "ExecuteTime": {
     "end_time": "2025-06-26T08:10:50.182490Z",
     "start_time": "2025-06-26T08:10:50.175066Z"
    }
   },
   "cell_type": "code",
   "source": "fruits = ('apple','banana','cherry')",
   "id": "87d6faf3addee6bb",
   "outputs": [],
   "execution_count": 11
  },
  {
   "metadata": {
    "ExecuteTime": {
     "end_time": "2025-06-26T08:11:27.932076Z",
     "start_time": "2025-06-26T08:11:27.923301Z"
    }
   },
   "cell_type": "code",
   "source": [
    "print(fruits[0])\n",
    "print(fruits[1])\n",
    "print(fruits[2])"
   ],
   "id": "c786b8547409f873",
   "outputs": [
    {
     "name": "stdout",
     "output_type": "stream",
     "text": [
      "apple\n",
      "banana\n",
      "cherry\n"
     ]
    }
   ],
   "execution_count": 14
  },
  {
   "metadata": {
    "ExecuteTime": {
     "end_time": "2025-06-26T08:11:33.917394Z",
     "start_time": "2025-06-26T08:11:33.882145Z"
    }
   },
   "cell_type": "code",
   "source": "print(fruits[3])",
   "id": "c103c647563e6239",
   "outputs": [
    {
     "ename": "IndexError",
     "evalue": "tuple index out of range",
     "output_type": "error",
     "traceback": [
      "\u001B[1;31m---------------------------------------------------------------------------\u001B[0m",
      "\u001B[1;31mIndexError\u001B[0m                                Traceback (most recent call last)",
      "Cell \u001B[1;32mIn[15], line 1\u001B[0m\n\u001B[1;32m----> 1\u001B[0m \u001B[38;5;28mprint\u001B[39m(\u001B[43mfruits\u001B[49m\u001B[43m[\u001B[49m\u001B[38;5;241;43m3\u001B[39;49m\u001B[43m]\u001B[49m)\n",
      "\u001B[1;31mIndexError\u001B[0m: tuple index out of range"
     ]
    }
   ],
   "execution_count": 15
  },
  {
   "metadata": {
    "ExecuteTime": {
     "end_time": "2025-06-26T08:11:57.691899Z",
     "start_time": "2025-06-26T08:11:57.684219Z"
    }
   },
   "cell_type": "code",
   "source": [
    "print(fruits[-1])\n",
    "print(fruits[-2])\n",
    "print(fruits[-3])"
   ],
   "id": "230a4805c8108fa8",
   "outputs": [
    {
     "name": "stdout",
     "output_type": "stream",
     "text": [
      "cherry\n",
      "banana\n",
      "apple\n"
     ]
    }
   ],
   "execution_count": 16
  },
  {
   "metadata": {},
   "cell_type": "markdown",
   "source": [
    "📍 Indexing works just like lists\n",
    "\n",
    "---\n",
    "### 4️⃣ Loop Through a Tuple\n",
    "<img src=\"https://media2.giphy.com/media/QssGEmpkyEOhBCb7e1/giphy.gif?cid=ecf05e47a0n3gi1bfqntqmob8g9aid1oyj2wr3ds3mg700bl&rid=giphy.gif\" width=\"22px\" align=\"top\"/> **Code**"
   ],
   "id": "9bc25d7bd67f675c"
  },
  {
   "metadata": {
    "ExecuteTime": {
     "end_time": "2025-06-26T08:12:53.109736Z",
     "start_time": "2025-06-26T08:12:53.101927Z"
    }
   },
   "cell_type": "code",
   "source": [
    "for item in fruits:\n",
    "    print(item)"
   ],
   "id": "e5f6dbed094cfe4a",
   "outputs": [
    {
     "name": "stdout",
     "output_type": "stream",
     "text": [
      "apple\n",
      "banana\n",
      "cherry\n"
     ]
    }
   ],
   "execution_count": 17
  },
  {
   "metadata": {},
   "cell_type": "markdown",
   "source": [
    "🔁 Use `for` loop just like lists\n",
    "\n",
    "---\n",
    "### 5️⃣ Check if Item Exists\n",
    "<img src=\"https://media2.giphy.com/media/QssGEmpkyEOhBCb7e1/giphy.gif?cid=ecf05e47a0n3gi1bfqntqmob8g9aid1oyj2wr3ds3mg700bl&rid=giphy.gif\" width=\"22px\" align=\"top\"/> **Code**\n"
   ],
   "id": "805813ebe7137e98"
  },
  {
   "metadata": {
    "ExecuteTime": {
     "end_time": "2025-06-26T08:22:54.544431Z",
     "start_time": "2025-06-26T08:22:54.536654Z"
    }
   },
   "cell_type": "code",
   "source": [
    "if \"banana\" in fruits:\n",
    "    print(\"Yes!\")"
   ],
   "id": "3755d6c4c75edfaf",
   "outputs": [
    {
     "name": "stdout",
     "output_type": "stream",
     "text": [
      "Yes!\n"
     ]
    }
   ],
   "execution_count": 22
  },
  {
   "metadata": {},
   "cell_type": "markdown",
   "source": [
    "🔍 Check membership with `in`\n",
    "\n",
    "---\n",
    "### 6️⃣ Tuple Length\n",
    "<img src=\"https://media2.giphy.com/media/QssGEmpkyEOhBCb7e1/giphy.gif?cid=ecf05e47a0n3gi1bfqntqmob8g9aid1oyj2wr3ds3mg700bl&rid=giphy.gif\" width=\"22px\" align=\"top\"/> **Code**"
   ],
   "id": "ef09f0f449605a09"
  },
  {
   "metadata": {
    "ExecuteTime": {
     "end_time": "2025-06-26T08:23:52.807172Z",
     "start_time": "2025-06-26T08:23:52.797763Z"
    }
   },
   "cell_type": "code",
   "source": "print(len(fruits))",
   "id": "26396e22c4d4a326",
   "outputs": [
    {
     "name": "stdout",
     "output_type": "stream",
     "text": [
      "3\n"
     ]
    }
   ],
   "execution_count": 23
  },
  {
   "metadata": {},
   "cell_type": "markdown",
   "source": [
    "📏 Use `len()` to get tuple size\n",
    "\n",
    "---\n",
    "### 7️⃣ Tuple with Different Data Types\n",
    "<img src=\"https://media2.giphy.com/media/QssGEmpkyEOhBCb7e1/giphy.gif?cid=ecf05e47a0n3gi1bfqntqmob8g9aid1oyj2wr3ds3mg700bl&rid=giphy.gif\" width=\"22px\" align=\"top\"/> **Code**"
   ],
   "id": "46559ea8dd7aec7e"
  },
  {
   "metadata": {
    "ExecuteTime": {
     "end_time": "2025-06-26T08:26:30.757438Z",
     "start_time": "2025-06-26T08:26:30.746941Z"
    }
   },
   "cell_type": "code",
   "source": [
    "string_tuple = ('Java','Python')\n",
    "string_tuple"
   ],
   "id": "d94399d8e1608231",
   "outputs": [
    {
     "data": {
      "text/plain": [
       "('Java', 'Python')"
      ]
     },
     "execution_count": 24,
     "metadata": {},
     "output_type": "execute_result"
    }
   ],
   "execution_count": 24
  },
  {
   "metadata": {
    "ExecuteTime": {
     "end_time": "2025-06-26T08:26:53.109618Z",
     "start_time": "2025-06-26T08:26:53.101456Z"
    }
   },
   "cell_type": "code",
   "source": [
    "numeric_tuple = (1,2,3,4,5)\n",
    "numeric_tuple"
   ],
   "id": "d2bf6c31d4b209d",
   "outputs": [
    {
     "data": {
      "text/plain": [
       "(1, 2, 3, 4, 5)"
      ]
     },
     "execution_count": 25,
     "metadata": {},
     "output_type": "execute_result"
    }
   ],
   "execution_count": 25
  },
  {
   "metadata": {
    "ExecuteTime": {
     "end_time": "2025-06-26T08:28:38.641195Z",
     "start_time": "2025-06-26T08:28:38.632715Z"
    }
   },
   "cell_type": "code",
   "source": [
    "boolean_tuple = (True,False)\n",
    "boolean_tuple"
   ],
   "id": "997cac80fd312f68",
   "outputs": [
    {
     "data": {
      "text/plain": [
       "(True, False)"
      ]
     },
     "execution_count": 26,
     "metadata": {},
     "output_type": "execute_result"
    }
   ],
   "execution_count": 26
  },
  {
   "metadata": {
    "ExecuteTime": {
     "end_time": "2025-06-26T08:29:57.749133Z",
     "start_time": "2025-06-26T08:29:57.739852Z"
    }
   },
   "cell_type": "code",
   "source": [
    "mix_tuple = (\"Text\",100,True)\n",
    "mix_tuple"
   ],
   "id": "32eea2f7e54aec21",
   "outputs": [
    {
     "data": {
      "text/plain": [
       "('Text', 100, True)"
      ]
     },
     "execution_count": 28,
     "metadata": {},
     "output_type": "execute_result"
    }
   ],
   "execution_count": 28
  },
  {
   "metadata": {},
   "cell_type": "markdown",
   "source": [
    "📚 Tuples can store different data types\n",
    "\n",
    "---\n",
    "### 8️⃣ Tuple Constructor\n",
    "<img src=\"https://media2.giphy.com/media/QssGEmpkyEOhBCb7e1/giphy.gif?cid=ecf05e47a0n3gi1bfqntqmob8g9aid1oyj2wr3ds3mg700bl&rid=giphy.gif\" width=\"22px\" align=\"top\"/> **Code**"
   ],
   "id": "1c6d19b2cbce530b"
  },
  {
   "metadata": {
    "ExecuteTime": {
     "end_time": "2025-06-26T08:31:43.836847Z",
     "start_time": "2025-06-26T08:31:43.829985Z"
    }
   },
   "cell_type": "code",
   "source": [
    "tuple_from_list = tuple(['apple','banana',100,True])\n",
    "print(tuple_from_list)\n",
    "print(type(tuple_from_list))"
   ],
   "id": "941f12c30d12a810",
   "outputs": [
    {
     "name": "stdout",
     "output_type": "stream",
     "text": [
      "('apple', 'banana', 100, True)\n",
      "<class 'tuple'>\n"
     ]
    }
   ],
   "execution_count": 31
  },
  {
   "metadata": {},
   "cell_type": "markdown",
   "source": [
    "🏗️ Convert list to tuple with `tuple()`\n",
    "\n",
    "### 💡 Tip:\n",
    "- Use tuples when you want to ensure data cannot be modified (e.g., coordinates, settings, constant sets).\n",
    "- Tuples are more memory-efficient than lists.\n",
    "---"
   ],
   "id": "f4c0648cb14ffa67"
  },
  {
   "metadata": {},
   "cell_type": "code",
   "outputs": [],
   "execution_count": null,
   "source": "",
   "id": "37f68a96e1b669e3"
  }
 ],
 "metadata": {
  "kernelspec": {
   "display_name": "Python 3",
   "language": "python",
   "name": "python3"
  },
  "language_info": {
   "codemirror_mode": {
    "name": "ipython",
    "version": 2
   },
   "file_extension": ".py",
   "mimetype": "text/x-python",
   "name": "python",
   "nbconvert_exporter": "python",
   "pygments_lexer": "ipython2",
   "version": "2.7.6"
  }
 },
 "nbformat": 4,
 "nbformat_minor": 5
}
